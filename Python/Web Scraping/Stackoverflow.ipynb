{
 "cells": [
  {
   "cell_type": "code",
   "execution_count": 1,
   "metadata": {},
   "outputs": [],
   "source": [
    "import requests\n",
    "from bs4 import BeautifulSoup"
   ]
  },
  {
   "cell_type": "code",
   "execution_count": 3,
   "metadata": {},
   "outputs": [],
   "source": [
    "# USER AGENT \n",
    "headers = {\n",
    "    \"user-agent\": \"Mozilla/5.0 (X11; Linux x86_64) AppleWebKit/537.36 (KHTML, like Gecko) Ubuntu Chromium/71.0.3578.80 Chrome/71.0.3578.80 Safari/537.36\"\n",
    "}\n",
    "\n",
    "# URL semilla\n",
    "url = 'https://stackoverflow.com/questions'"
   ]
  },
  {
   "cell_type": "code",
   "execution_count": 4,
   "metadata": {},
   "outputs": [],
   "source": [
    "# enviamos el requerimiento al servidor\n",
    "respuesta = requests.get(url, headers=headers)\n",
    "\n",
    "# Parseamos el arbol con Beautiful Soup\n",
    "soup = BeautifulSoup(respuesta.text)\n",
    "contenedor_de_preguntas = soup.find(id=\"questions\") # Ubicaremos el elemento por ID\n",
    "lista_de_preguntas = contenedor_de_preguntas.find_all('div', class_=\"question-summary\") # Encontraremos varios elementos por tag y por clase"
   ]
  },
  {
   "cell_type": "markdown",
   "metadata": {},
   "source": [
    "`Elemento por elemento`"
   ]
  },
  {
   "cell_type": "code",
   "execution_count": 8,
   "metadata": {},
   "outputs": [
    {
     "name": "stdout",
     "output_type": "stream",
     "text": [
      "Selenium distributed tracing with Jaeger and OpenTelemetry didn't work\n",
      "I followed this tutorial https://github.com/manoj9788/tracing-selenium-grid to setup Selenium Grid for a project I'm presently working on. Jaeger works fine from docker, likewise the Selenium Grid ...\n",
      "\n",
      "Custom headers are capitalised ,Angular Application in k8s\n",
      "I have deployed an angular app in k8s with nginx. I am trying to access the api from application but it is giving 400 bad request error with some custom header is should not be empty message. when I ...\n",
      "\n",
      "ERROR <Ens>ErrProductionSuspendedMismatch: Production 'Training.NewProduction\n",
      "What does this error means and to resolve it?\"ERROR ErrProductionSuspendedMismatch: Production 'Training.NewProduction'was suspended, a new production of a different name can not be started&...\n",
      "\n",
      "Inject HTML into React/Next.js Site\n",
      "I have been tasked with improving the UI/UX for an external service that runs on React (Next.js). This company says the only customization they offer is a text editor to add custom javascript, and to ...\n",
      "\n",
      "Process.Start/WaitForExit produces escape code with .NET.Sdk.Web\n",
      "I have a strange problem when using Systemd.Diagnostics.Process (on a linux system).Something outputs ansi escape sequences each time a Process is started.The sequence is <ESC>[?1h<ESC>=,...\n",
      "\n",
      "GCP Machine Images size\n",
      "I am looking to utilize GCP Machine Image for backups.  I have a PostgresSQL application and need to keep multiple disks in sync.So when reading the GDocs on Machine Image (https://cloud.google.com/...\n",
      "\n",
      "avoid passing redundant parameters\n",
      "I am using Kotlin with Spring Webflux.I have two functions which extract the some data from the request, makes the extracted data available to the upcoming function.The example contains only two ...\n",
      "\n",
      "IAR Workbench question - where to add header and c files\n",
      "I have a simple question, where do usually add header files and c files inside your IAR Workbench project, I mean what is the best location for that?How can I copy a project and make it work on ...\n",
      "\n",
      "The 50×1 vector y.d and the 50×2 matrix X.d are pre-defined in R. Let β^=(β^0β^1) how to solve this in R: X.dTX.dβ^=X.dTy.d. Solve for β^\n",
      "The 50×1 vector y.d and the 50×2 matrix X.d are pre-defined in R. Let β^=(β^0β^1)we have the following system of linear equations: X.dTX.dβ^=X.dTy.d. Solve for β^.I tried like : solve(t(X)%%t(d)%%X....\n",
      "\n",
      "como agregar una lista de Elementos en Firebase - XamarinForms\n",
      "soy nuevo en c# y me gustaría saber como puedo insertar una lista de elementos en firebase.public async Task InsertarEjemplos (MEjemplo parametros){        await Constantes.firebase            ....\n",
      "\n",
      "Move builds into a project Artifactory\n",
      "I am researching various ways to add builds to my project in artifactory. Ideally, I'd like to set up a policy to look for violations in the builds and leverage the JIRA integration to manage the ...\n",
      "\n",
      "Error when I try to run Kafka 5.5.4 and Zookeeper 5.5.4 in docker container\n",
      "I have been try to run Zookeeper and Kafka on Docker container.I got a lot of errors [error occurred during error reporting , id 0xb] and [Too many errors, abort] in my terminal. And then library ...\n",
      "\n",
      "What role does TraceIdentifer play with a W3C configured Activity (i.e Trace Context)\n",
      "This question pertains to the Trace Context W3C recommendation that has been integrated into .NET, and the role that the HttpContext.TraceIdentifier property is destined to take in the future.Is an ...\n",
      "\n",
      "How can I sequence from an array in R?\n",
      "My goal is to use sequencing to select every 5 element in each column of an array. In the array below, this would mean I would have a result array that is dim=c(2,10,1).I know that I can use seq() in ...\n",
      "\n",
      "Python Application failing in Openshift Pipeline: Terminated due to signal 9\n",
      "We have a Python application that is failing to deploy in Openshift.This is the only logs that we can gather looking at the logs in the pod.[2021-08-11 18:59:01 +0000] [2184] [INFO] Booting worker ...\n",
      "\n"
     ]
    }
   ],
   "source": [
    "for pregunta in lista_de_preguntas: # iteramos elemento por elemento\n",
    "    # Método #1: \n",
    "    texto_pregunta = pregunta.find('h3').text # Dentro de cada elemento iterado encontrar un tag\n",
    "    descripcion_pregunta = pregunta.find(class_='excerpt').text # encontramos por clase\n",
    "    descripcion_pregunta = descripcion_pregunta.replace('\\n', '').replace('\\r', '').strip() # limpiamos un poco el texto, eliminando saltos de linea\n",
    "    print(texto_pregunta)\n",
    "    print(descripcion_pregunta)\n",
    "    print()"
   ]
  },
  {
   "cell_type": "markdown",
   "metadata": {},
   "source": [
    "`Beautiful Soup`"
   ]
  },
  {
   "cell_type": "code",
   "execution_count": 9,
   "metadata": {},
   "outputs": [
    {
     "name": "stdout",
     "output_type": "stream",
     "text": [
      "Selenium distributed tracing with Jaeger and OpenTelemetry didn't work\n",
      "I followed this tutorial https://github.com/manoj9788/tracing-selenium-grid to setup Selenium Grid for a project I'm presently working on. Jaeger works fine from docker, likewise the Selenium Grid ...\n",
      "\n",
      "Custom headers are capitalised ,Angular Application in k8s\n",
      "I have deployed an angular app in k8s with nginx. I am trying to access the api from application but it is giving 400 bad request error with some custom header is should not be empty message. when I ...\n",
      "\n",
      "ERROR <Ens>ErrProductionSuspendedMismatch: Production 'Training.NewProduction\n",
      "What does this error means and to resolve it?\"ERROR ErrProductionSuspendedMismatch: Production 'Training.NewProduction'was suspended, a new production of a different name can not be started&...\n",
      "\n",
      "Inject HTML into React/Next.js Site\n",
      "I have been tasked with improving the UI/UX for an external service that runs on React (Next.js). This company says the only customization they offer is a text editor to add custom javascript, and to ...\n",
      "\n",
      "Process.Start/WaitForExit produces escape code with .NET.Sdk.Web\n",
      "I have a strange problem when using Systemd.Diagnostics.Process (on a linux system).Something outputs ansi escape sequences each time a Process is started.The sequence is <ESC>[?1h<ESC>=,...\n",
      "\n",
      "GCP Machine Images size\n",
      "I am looking to utilize GCP Machine Image for backups.  I have a PostgresSQL application and need to keep multiple disks in sync.So when reading the GDocs on Machine Image (https://cloud.google.com/...\n",
      "\n",
      "avoid passing redundant parameters\n",
      "I am using Kotlin with Spring Webflux.I have two functions which extract the some data from the request, makes the extracted data available to the upcoming function.The example contains only two ...\n",
      "\n",
      "IAR Workbench question - where to add header and c files\n",
      "I have a simple question, where do usually add header files and c files inside your IAR Workbench project, I mean what is the best location for that?How can I copy a project and make it work on ...\n",
      "\n",
      "The 50×1 vector y.d and the 50×2 matrix X.d are pre-defined in R. Let β^=(β^0β^1) how to solve this in R: X.dTX.dβ^=X.dTy.d. Solve for β^\n",
      "The 50×1 vector y.d and the 50×2 matrix X.d are pre-defined in R. Let β^=(β^0β^1)we have the following system of linear equations: X.dTX.dβ^=X.dTy.d. Solve for β^.I tried like : solve(t(X)%%t(d)%%X....\n",
      "\n",
      "como agregar una lista de Elementos en Firebase - XamarinForms\n",
      "soy nuevo en c# y me gustaría saber como puedo insertar una lista de elementos en firebase.public async Task InsertarEjemplos (MEjemplo parametros){        await Constantes.firebase            ....\n",
      "\n",
      "Move builds into a project Artifactory\n",
      "I am researching various ways to add builds to my project in artifactory. Ideally, I'd like to set up a policy to look for violations in the builds and leverage the JIRA integration to manage the ...\n",
      "\n",
      "Error when I try to run Kafka 5.5.4 and Zookeeper 5.5.4 in docker container\n",
      "I have been try to run Zookeeper and Kafka on Docker container.I got a lot of errors [error occurred during error reporting , id 0xb] and [Too many errors, abort] in my terminal. And then library ...\n",
      "\n",
      "What role does TraceIdentifer play with a W3C configured Activity (i.e Trace Context)\n",
      "This question pertains to the Trace Context W3C recommendation that has been integrated into .NET, and the role that the HttpContext.TraceIdentifier property is destined to take in the future.Is an ...\n",
      "\n",
      "How can I sequence from an array in R?\n",
      "My goal is to use sequencing to select every 5 element in each column of an array. In the array below, this would mean I would have a result array that is dim=c(2,10,1).I know that I can use seq() in ...\n",
      "\n",
      "Python Application failing in Openshift Pipeline: Terminated due to signal 9\n",
      "We have a Python application that is failing to deploy in Openshift.This is the only logs that we can gather looking at the logs in the pod.[2021-08-11 18:59:01 +0000] [2184] [INFO] Booting worker ...\n",
      "\n"
     ]
    }
   ],
   "source": [
    "for pregunta in lista_de_preguntas:\n",
    "# Método #2: BEAUTIFUL SOUP\n",
    "    contenedor_pregunta = pregunta.find('h3')\n",
    "    texto_pregunta = contenedor_pregunta.text\n",
    "    descripcion_pregunta = contenedor_pregunta.find_next_sibling('div') # encuentra el siguiente sibling que sea div\n",
    "    texto_descripcion_pregunta = descripcion_pregunta.text # obtenemos el texto\n",
    "    texto_descripcion_pregunta = texto_descripcion_pregunta.replace('\\n', '').replace('\\t', '').strip()\n",
    "    print(texto_pregunta)\n",
    "    print(texto_descripcion_pregunta)\n",
    "    print()"
   ]
  }
 ],
 "metadata": {
  "kernelspec": {
   "display_name": "Python 3",
   "language": "python",
   "name": "python3"
  },
  "language_info": {
   "codemirror_mode": {
    "name": "ipython",
    "version": 3
   },
   "file_extension": ".py",
   "mimetype": "text/x-python",
   "name": "python",
   "nbconvert_exporter": "python",
   "pygments_lexer": "ipython3",
   "version": "3.8.5"
  }
 },
 "nbformat": 4,
 "nbformat_minor": 4
}
