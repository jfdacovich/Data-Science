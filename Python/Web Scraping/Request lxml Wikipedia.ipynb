{
 "cells": [
  {
   "cell_type": "markdown",
   "metadata": {},
   "source": [
    "# Request | lxml Wikipedia"
   ]
  },
  {
   "cell_type": "code",
   "execution_count": 1,
   "metadata": {},
   "outputs": [],
   "source": [
    "import requests\n",
    "from lxml import html"
   ]
  },
  {
   "cell_type": "code",
   "execution_count": 2,
   "metadata": {},
   "outputs": [],
   "source": [
    "# USER AGENT para protegernos de baneos\n",
    "headers = {\n",
    "    \"user-agent\": \"Mozilla/5.0 (X11; Linux x86_64) AppleWebKit/537.36 (KHTML, like Gecko) Ubuntu Chromium/71.0.3578.80 Chrome/71.0.3578.80 Safari/537.36\",\n",
    "}"
   ]
  },
  {
   "cell_type": "code",
   "execution_count": 3,
   "metadata": {},
   "outputs": [],
   "source": [
    "# URL semilla\n",
    "url = 'https://www.wikipedia.org/'\n",
    "\n",
    "# Requerimiento al servidor\n",
    "respuesta = requests.get(url, headers=headers)\n",
    "\n",
    "# Parseo del arbol HTML que recibo como respuesta con lxml\n",
    "parser = html.fromstring(respuesta.text)"
   ]
  },
  {
   "cell_type": "code",
   "execution_count": 4,
   "metadata": {},
   "outputs": [
    {
     "name": "stdout",
     "output_type": "stream",
     "text": [
      "\n",
      "English\n",
      "6 326 000+ articles\n",
      "\n"
     ]
    }
   ],
   "source": [
    "# Extracción de Idioma Inglés\n",
    "ingles = parser.get_element_by_id(\"js-link-box-en\")\n",
    "print (ingles.text_content())"
   ]
  },
  {
   "cell_type": "code",
   "execution_count": 5,
   "metadata": {},
   "outputs": [
    {
     "name": "stdout",
     "output_type": "stream",
     "text": [
      "English\n"
     ]
    }
   ],
   "source": [
    "# Extracción solo del texto que contiene la palabra Inglés\n",
    "ingles = parser.xpath(\"//a[@id='js-link-box-en']/strong/text()\")\n",
    "print(ingles[0])"
   ]
  },
  {
   "cell_type": "code",
   "execution_count": 6,
   "metadata": {},
   "outputs": [
    {
     "name": "stdout",
     "output_type": "stream",
     "text": [
      "\n",
      "\n",
      "English\n",
      "6 326 000+ articles\n",
      "\n",
      "\n",
      "\n",
      "\n",
      "æ¥æ¬èª\n",
      "1 275 000+ è¨äº\n",
      "\n",
      "\n",
      "\n",
      "\n",
      "EspaÃ±ol\n",
      "1 696 000+ artÃ­culos\n",
      "\n",
      "\n",
      "\n",
      "\n",
      "Deutsch\n",
      "2 590 000+ Artikel\n",
      "\n",
      "\n",
      "\n",
      "\n",
      "Ð ÑÑÑÐºÐ¸Ð¹\n",
      "1 734 000+ ÑÑÐ°ÑÐµÐ¹\n",
      "\n",
      "\n",
      "\n",
      "\n",
      "FranÃ§ais\n",
      "2 340 000+ articles\n",
      "\n",
      "\n",
      "\n",
      "\n",
      "ä¸­æ\n",
      "1 206 000+ æ¢ç®\n",
      "\n",
      "\n",
      "\n",
      "\n",
      "Italiano\n",
      "1 701 000+ voci\n",
      "\n",
      "\n",
      "\n",
      "\n",
      "PortuguÃªs\n",
      "1 066 000+ artigos\n",
      "\n",
      "\n",
      "\n",
      "\n",
      "Polski\n",
      "1 480 000+ haseÅ\n",
      "\n",
      "\n"
     ]
    }
   ],
   "source": [
    "# Extracción de todos los idiomas por clase\n",
    "idiomas = parser.find_class('central-featured-lang')\n",
    "for idioma in idiomas:\n",
    "    print(idioma.text_content())"
   ]
  },
  {
   "cell_type": "code",
   "execution_count": 8,
   "metadata": {},
   "outputs": [
    {
     "name": "stdout",
     "output_type": "stream",
     "text": [
      "English\n",
      "æ¥æ¬èª\n",
      "EspaÃ±ol\n",
      "Deutsch\n",
      "Ð ÑÑÑÐºÐ¸Ð¹\n",
      "FranÃ§ais\n",
      "ä¸­æ\n",
      "Italiano\n",
      "PortuguÃªs\n",
      "Polski\n"
     ]
    }
   ],
   "source": [
    "# Extracción de todos los idiomar por XPATH\n",
    "idiomas = parser.xpath(\"//div[contains(@class,'central-featured-lang')]//strong/text()\")\n",
    "for idioma in idiomas:\n",
    "    print(idioma)"
   ]
  }
 ],
 "metadata": {
  "kernelspec": {
   "display_name": "Python 3",
   "language": "python",
   "name": "python3"
  },
  "language_info": {
   "codemirror_mode": {
    "name": "ipython",
    "version": 3
   },
   "file_extension": ".py",
   "mimetype": "text/x-python",
   "name": "python",
   "nbconvert_exporter": "python",
   "pygments_lexer": "ipython3",
   "version": "3.8.5"
  }
 },
 "nbformat": 4,
 "nbformat_minor": 4
}
