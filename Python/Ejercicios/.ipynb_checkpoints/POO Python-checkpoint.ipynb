{
 "cells": [
  {
   "cell_type": "markdown",
   "metadata": {},
   "source": [
    "<h1> Programación Orientada a Objetos Python </h1>"
   ]
  },
  {
   "cell_type": "markdown",
   "metadata": {},
   "source": [
    "<h2>Método Constructor</h2>\n",
    "\n",
    "- <mark>__init__()</mark>\n",
    "Es llamado cuando inicializamos un objeto de la clase"
   ]
  },
  {
   "cell_type": "code",
   "execution_count": 33,
   "metadata": {},
   "outputs": [],
   "source": [
    "class RationalNumber():\n",
    "    \n",
    "    def __init__(self, n, d=1):\n",
    "        if type(n) is int and type(d) is int:\n",
    "            self.numerator = n\n",
    "            self.denominator = d\n",
    "        else:\n",
    "            print(\"El numerador y el denominador deben ser enteros\")\n",
    "            \n",
    "    def __str__(self):\n",
    "        return (\"{} / {}\".format(self.numerator, self.denominator))\n",
    "    \n",
    "    def mathFormat(self):\n",
    "        from IPython.display import display, Latex\n",
    "        display(Latex(f\"${self.numerator}\\\\over{self.denominator}$\"))"
   ]
  },
  {
   "cell_type": "code",
   "execution_count": 34,
   "metadata": {},
   "outputs": [],
   "source": [
    "operacion = RationalNumber(16,4)"
   ]
  },
  {
   "cell_type": "code",
   "execution_count": 25,
   "metadata": {},
   "outputs": [
    {
     "name": "stdout",
     "output_type": "stream",
     "text": [
      "16 / 4\n"
     ]
    }
   ],
   "source": [
    "print(operacion)"
   ]
  },
  {
   "cell_type": "code",
   "execution_count": 5,
   "metadata": {},
   "outputs": [
    {
     "data": {
      "text/plain": [
       "16"
      ]
     },
     "execution_count": 5,
     "metadata": {},
     "output_type": "execute_result"
    }
   ],
   "source": [
    "operacion.numerator"
   ]
  },
  {
   "cell_type": "code",
   "execution_count": 6,
   "metadata": {},
   "outputs": [
    {
     "data": {
      "text/plain": [
       "4"
      ]
     },
     "execution_count": 6,
     "metadata": {},
     "output_type": "execute_result"
    }
   ],
   "source": [
    "operacion.denominator"
   ]
  },
  {
   "cell_type": "code",
   "execution_count": 35,
   "metadata": {},
   "outputs": [
    {
     "data": {
      "text/latex": [
       "$16\\over4$"
      ],
      "text/plain": [
       "<IPython.core.display.Latex object>"
      ]
     },
     "metadata": {},
     "output_type": "display_data"
    }
   ],
   "source": [
    "# En formato Latex\n",
    "operacion.mathFormat()"
   ]
  },
  {
   "cell_type": "code",
   "execution_count": 8,
   "metadata": {},
   "outputs": [],
   "source": [
    "class Book():\n",
    "    \"\"\"\n",
    "    Clase para trabajar con libros\n",
    "    \"\"\"\n",
    "    def __init__(self, title, author, electronic):\n",
    "        self.title = title\n",
    "        self.author = author\n",
    "        self.electronic = electronic"
   ]
  },
  {
   "cell_type": "code",
   "execution_count": 10,
   "metadata": {},
   "outputs": [
    {
     "name": "stdout",
     "output_type": "stream",
     "text": [
      "\n",
      "    Clase para trabajar con libros\n",
      "    \n"
     ]
    }
   ],
   "source": [
    "# Accedemos al docstring con el metodo .__doc__\n",
    "print(Book.__doc__)"
   ]
  },
  {
   "cell_type": "code",
   "execution_count": 11,
   "metadata": {},
   "outputs": [],
   "source": [
    "book1 = Book(\"El señor de los Anillos\", \"J.R.R. Tolkien\", False)"
   ]
  },
  {
   "cell_type": "code",
   "execution_count": 12,
   "metadata": {},
   "outputs": [
    {
     "data": {
      "text/plain": [
       "'El señor de los Anillos'"
      ]
     },
     "execution_count": 12,
     "metadata": {},
     "output_type": "execute_result"
    }
   ],
   "source": [
    "book1.title"
   ]
  },
  {
   "cell_type": "code",
   "execution_count": 13,
   "metadata": {},
   "outputs": [
    {
     "data": {
      "text/plain": [
       "'J.R.R. Tolkien'"
      ]
     },
     "execution_count": 13,
     "metadata": {},
     "output_type": "execute_result"
    }
   ],
   "source": [
    "book1.author"
   ]
  },
  {
   "cell_type": "code",
   "execution_count": 14,
   "metadata": {},
   "outputs": [
    {
     "data": {
      "text/plain": [
       "False"
      ]
     },
     "execution_count": 14,
     "metadata": {},
     "output_type": "execute_result"
    }
   ],
   "source": [
    "book1.electronic"
   ]
  },
  {
   "cell_type": "code",
   "execution_count": 15,
   "metadata": {},
   "outputs": [
    {
     "data": {
      "text/plain": [
       "{'title': 'El señor de los Anillos',\n",
       " 'author': 'J.R.R. Tolkien',\n",
       " 'electronic': False}"
      ]
     },
     "execution_count": 15,
     "metadata": {},
     "output_type": "execute_result"
    }
   ],
   "source": [
    "book1.__dict__"
   ]
  },
  {
   "cell_type": "code",
   "execution_count": 16,
   "metadata": {},
   "outputs": [],
   "source": [
    "# Clase valores por defecto\n",
    "class Book():\n",
    "  \"\"\"\n",
    "  Clase para trabajar con libros\n",
    "  \"\"\"\n",
    "\n",
    "  def __init__(self, title, author = \"\", electronic = False):\n",
    "    self.title = title\n",
    "    self.author = author\n",
    "    self.is_electronic = electronic"
   ]
  },
  {
   "cell_type": "code",
   "execution_count": 17,
   "metadata": {},
   "outputs": [],
   "source": [
    "book2 = Book(title = \"Las mil y una noches\")"
   ]
  },
  {
   "cell_type": "code",
   "execution_count": 18,
   "metadata": {},
   "outputs": [
    {
     "data": {
      "text/plain": [
       "'Las mil y una noches'"
      ]
     },
     "execution_count": 18,
     "metadata": {},
     "output_type": "execute_result"
    }
   ],
   "source": [
    "book2.title"
   ]
  },
  {
   "cell_type": "code",
   "execution_count": 19,
   "metadata": {},
   "outputs": [
    {
     "data": {
      "text/plain": [
       "''"
      ]
     },
     "execution_count": 19,
     "metadata": {},
     "output_type": "execute_result"
    }
   ],
   "source": [
    "book2.author"
   ]
  },
  {
   "cell_type": "code",
   "execution_count": 20,
   "metadata": {},
   "outputs": [
    {
     "data": {
      "text/plain": [
       "False"
      ]
     },
     "execution_count": 20,
     "metadata": {},
     "output_type": "execute_result"
    }
   ],
   "source": [
    "book2.is_electronic"
   ]
  },
  {
   "cell_type": "markdown",
   "metadata": {},
   "source": [
    "<h2>Método Destructor</h2>\n",
    "\n",
    "- <mark>.__del__()</mark>\n",
    "Su finalidad consiste en eliminar instancias de una clase, es decir, eliminar un objeto"
   ]
  },
  {
   "cell_type": "code",
   "execution_count": 1,
   "metadata": {},
   "outputs": [],
   "source": [
    "class Book():\n",
    "    \"\"\"Clase para trabajar con libros\"\"\"\n",
    "    def __init__(self, title, author= \"\", electronic=False):\n",
    "        self.title = title\n",
    "        self.author = author\n",
    "        self.is_electronic = electronic\n",
    "        \n",
    "    def __del__(self):\n",
    "        print(\"El Libro acaba de ser eliminado\")"
   ]
  },
  {
   "cell_type": "code",
   "execution_count": 2,
   "metadata": {},
   "outputs": [
    {
     "data": {
      "text/plain": [
       "'Lazarillo de Tormes'"
      ]
     },
     "execution_count": 2,
     "metadata": {},
     "output_type": "execute_result"
    }
   ],
   "source": [
    "book = Book(\"Lazarillo de Tormes\")\n",
    "book.title"
   ]
  },
  {
   "cell_type": "code",
   "execution_count": 3,
   "metadata": {},
   "outputs": [
    {
     "name": "stdout",
     "output_type": "stream",
     "text": [
      "El Libro acaba de ser eliminado\n"
     ]
    }
   ],
   "source": [
    "del book"
   ]
  },
  {
   "cell_type": "markdown",
   "metadata": {},
   "source": [
    "<h2>Métodos de una clase</h2>\n",
    "\n",
    "- Métodos de instancia\n",
    "- Métodos estáticos\n",
    "- Métodos de clase"
   ]
  },
  {
   "cell_type": "markdown",
   "metadata": {},
   "source": [
    "<h3>Métodos de instancia</h3>\n",
    "\n",
    "Siempre toman el parámetro `self` como primer parámetro, el mismo representa la instancia del método"
   ]
  },
  {
   "cell_type": "code",
   "execution_count": 4,
   "metadata": {},
   "outputs": [],
   "source": [
    "class Rectangle():\n",
    "    \n",
    "    def __init__(self, base=1, height=1, color= \"blue\"):\n",
    "        self.base = base\n",
    "        self.height = height\n",
    "        self.color = color\n",
    "    \n",
    "    def perimeter(self):\n",
    "        return 2 * self.base + 2 * self.height\n",
    "    \n",
    "    def area(self):\n",
    "        return self.base * self.height"
   ]
  },
  {
   "cell_type": "code",
   "execution_count": 6,
   "metadata": {},
   "outputs": [
    {
     "name": "stdout",
     "output_type": "stream",
     "text": [
      "El perímetro del rectángulo es: 14\n",
      "El área del rectángulo es: 10\n"
     ]
    }
   ],
   "source": [
    "rect1 = Rectangle(5,2,\"red\")\n",
    "print(\"El perímetro del rectángulo es: {}\".format(rect1.perimeter()))\n",
    "print(\"El área del rectángulo es: {}\".format(rect1.area()))"
   ]
  },
  {
   "cell_type": "code",
   "execution_count": 8,
   "metadata": {},
   "outputs": [
    {
     "name": "stdout",
     "output_type": "stream",
     "text": [
      "Habiando cambiado el valor de la base a 3, el perímetro es: 10\n",
      "Habiando cambiado el valor de la base a 3, el área es: 6\n"
     ]
    }
   ],
   "source": [
    "# si modificamos la base, entonces tanto el perímetro como el área cambiarán su valor:\n",
    "rect1.base = 3\n",
    "print(\"Habiando cambiado el valor de la base a 3, el perímetro es: {}\".format(rect1.perimeter()))\n",
    "print(\"Habiando cambiado el valor de la base a 3, el área es: {}\".format(rect1.area()))"
   ]
  },
  {
   "cell_type": "code",
   "execution_count": 9,
   "metadata": {},
   "outputs": [
    {
     "data": {
      "text/plain": [
       "{'base': 3, 'height': 2, 'color': 'red'}"
      ]
     },
     "execution_count": 9,
     "metadata": {},
     "output_type": "execute_result"
    }
   ],
   "source": [
    "rect1.__dict__"
   ]
  },
  {
   "cell_type": "code",
   "execution_count": 15,
   "metadata": {},
   "outputs": [],
   "source": [
    "# Añadiremos un método que nos va a devolver verdadero si la base es mayor a un valor mínimo al que llamaremos min y\n",
    "# y que por defecto valga 5:\n",
    "\n",
    "class Rectangle():\n",
    "    \n",
    "    def __init__(self, base=1, height=1, color= \"blue\"):\n",
    "        self.base = base\n",
    "        self.height = height\n",
    "        self.color = color\n",
    "    \n",
    "    def perimeter(self):\n",
    "        return 2 * self.base + 2 * self.height\n",
    "    \n",
    "    def area(self):\n",
    "        return self.base * self.height\n",
    "    \n",
    "    def is_base_big(self, min = 5):\n",
    "        if self.base > min:\n",
    "            return True\n",
    "        return False\n",
    "    # El método .__str__ es un método de instancia. Es el método que debe ser llamado cuando el objeto se representa \n",
    "    # como un string. Es decir, lo que este método devuelve es lo que se muestra cuando hacemos un print del objeto en cuestión.\n",
    "    def __str__(self):\n",
    "        return (\"Base -> {}\\nAltura -> {}\".format(self.base, self.height))"
   ]
  },
  {
   "cell_type": "code",
   "execution_count": 13,
   "metadata": {},
   "outputs": [
    {
     "data": {
      "text/plain": [
       "False"
      ]
     },
     "execution_count": 13,
     "metadata": {},
     "output_type": "execute_result"
    }
   ],
   "source": [
    "rect1 = Rectangle(3,2, \"red\")\n",
    "rect1.is_base_big()"
   ]
  },
  {
   "cell_type": "code",
   "execution_count": 14,
   "metadata": {},
   "outputs": [
    {
     "data": {
      "text/plain": [
       "True"
      ]
     },
     "execution_count": 14,
     "metadata": {},
     "output_type": "execute_result"
    }
   ],
   "source": [
    "rect2 = Rectangle(12,7)\n",
    "rect2.is_base_big(10) # aumentamos el valor mínimo a 10"
   ]
  },
  {
   "cell_type": "code",
   "execution_count": 16,
   "metadata": {},
   "outputs": [
    {
     "name": "stdout",
     "output_type": "stream",
     "text": [
      "Base -> 15\n",
      "Altura -> 9\n"
     ]
    }
   ],
   "source": [
    "rect3 = Rectangle(15,9,\"pink\")\n",
    "print(rect3)"
   ]
  },
  {
   "cell_type": "markdown",
   "metadata": {},
   "source": [
    "# Ejercicio:\n",
    " - Implementa el método de instancia .quotient() que devuelva el cociente.\n",
    " - Implementa el método de instancia .isInfinite() que devuelva si el denominador es 0 o no\n",
    " - Implementa el método de instancia .simplify() que simplifique la fracción a la fracción irreducible"
   ]
  },
  {
   "cell_type": "code",
   "execution_count": 6,
   "metadata": {},
   "outputs": [],
   "source": [
    "def bigger(a, b): \n",
    "    \"\"\"\n",
    "    Devuelve el mayor número de 2 números reales dados.\n",
    "    Args:\n",
    "        a: Número real\n",
    "        b: Número real\n",
    "    Returns:\n",
    "        Número real\n",
    "    \"\"\"\n",
    "    if a >= b: \n",
    "        return a\n",
    "    return b\n",
    "    \n",
    "\n",
    "def lower(a, b): \n",
    "    \"\"\"\n",
    "    Devuelve el menor número de 2 números reales dados.\n",
    "    Args:\n",
    "    a: Número real\n",
    "    b: Número real\n",
    "    Returns:\n",
    "    Número real\n",
    "    \"\"\"\n",
    "    if a <= b: \n",
    "        return a\n",
    "    return b\n",
    "\n",
    "def mcd(a, b): \n",
    "    \"\"\"\n",
    "    Devuelve el MCD de dos números enteros.\n",
    "    Args:\n",
    "    a: Número entero\n",
    "    b: Número entero\n",
    "     Returns:\n",
    "    max: Número entero\n",
    "    \"\"\"\n",
    "    r=0\n",
    "    max = bigger(a, b) \n",
    "    min = lower(a, b)\n",
    "    while(min > 0):\n",
    "        r = min\n",
    "        min = max % min \n",
    "        max = r\n",
    "    return max\n",
    "\n",
    "class RationalNumber():\n",
    "    \n",
    "    def __init__(self, n, d = 1):\n",
    "        if type(n) is int and type(d) is int:\n",
    "            self.numerator = n\n",
    "            self.denominator = d\n",
    "        else:\n",
    "            print(\"El numerador y el denominador deben ser números enteros\")\n",
    "            \n",
    "    def __str__(self):\n",
    "        return (\"{} / {}\".format(self.numerator, self.denominator))\n",
    "    \n",
    "    def mathFormat(self):\n",
    "        from IPython.display import display, Latex\n",
    "        display(Latex(f\"${self.numerator}\\\\over{self.denominator}$\"))\n",
    "        \n",
    "    def quotient(self):\n",
    "        return self.numerator / self. denominator\n",
    "    \n",
    "    def isInfinite(self):\n",
    "        if self.denominator == 0:\n",
    "            return True\n",
    "        return False\n",
    "    \n",
    "    def simplify(self):\n",
    "        div = mcd(self.numerator, self.denominator)\n",
    "        self.numerator = int(self.numerator / div)\n",
    "        self.denominator = int(self.denominator / div)"
   ]
  },
  {
   "cell_type": "code",
   "execution_count": 39,
   "metadata": {},
   "outputs": [],
   "source": [
    "q = RationalNumber(2, 4)"
   ]
  },
  {
   "cell_type": "code",
   "execution_count": 42,
   "metadata": {},
   "outputs": [
    {
     "data": {
      "text/latex": [
       "$2\\over4$"
      ],
      "text/plain": [
       "<IPython.core.display.Latex object>"
      ]
     },
     "metadata": {},
     "output_type": "display_data"
    }
   ],
   "source": [
    "q.mathFormat()"
   ]
  },
  {
   "cell_type": "code",
   "execution_count": 43,
   "metadata": {},
   "outputs": [
    {
     "data": {
      "text/plain": [
       "0.5"
      ]
     },
     "execution_count": 43,
     "metadata": {},
     "output_type": "execute_result"
    }
   ],
   "source": [
    "q.quotient()"
   ]
  },
  {
   "cell_type": "code",
   "execution_count": 44,
   "metadata": {},
   "outputs": [
    {
     "data": {
      "text/plain": [
       "False"
      ]
     },
     "execution_count": 44,
     "metadata": {},
     "output_type": "execute_result"
    }
   ],
   "source": [
    "q.isInfinite()"
   ]
  },
  {
   "cell_type": "code",
   "execution_count": 45,
   "metadata": {},
   "outputs": [
    {
     "data": {
      "text/latex": [
       "$1\\over2$"
      ],
      "text/plain": [
       "<IPython.core.display.Latex object>"
      ]
     },
     "metadata": {},
     "output_type": "display_data"
    }
   ],
   "source": [
    "q.simplify()\n",
    "q.mathFormat()"
   ]
  },
  {
   "cell_type": "code",
   "execution_count": 46,
   "metadata": {},
   "outputs": [
    {
     "data": {
      "text/latex": [
       "$3\\over4$"
      ],
      "text/plain": [
       "<IPython.core.display.Latex object>"
      ]
     },
     "metadata": {},
     "output_type": "display_data"
    }
   ],
   "source": [
    "p = RationalNumber(3, 4)\n",
    "p.simplify()\n",
    "p.mathFormat()"
   ]
  },
  {
   "cell_type": "markdown",
   "metadata": {},
   "source": [
    "<h3>Método estático</h3>\n",
    "\n",
    "No pasan como parámetro el argumento posicional `self`, se definen usando el decorador `@staticmethod`.\n",
    "Los decoradores nos permiten alterar el comportamiento de las funciones o clases"
   ]
  },
  {
   "cell_type": "code",
   "execution_count": 4,
   "metadata": {},
   "outputs": [],
   "source": [
    "# Creamo un método que nos indique si dos rectángulos son iguales o no\n",
    "class Rectangle():\n",
    "    \n",
    "    def __init__(self, base=1, height=1, color= \"blue\"):\n",
    "        self.base = base\n",
    "        self.height = height\n",
    "        self.color = color\n",
    "    \n",
    "    def perimeter(self):\n",
    "        return 2 * self.base + 2 * self.height\n",
    "    \n",
    "    def area(self):\n",
    "        return self.base * self.height\n",
    "    \n",
    "    def is_base_big(self, min = 5):\n",
    "        if self.base > min:\n",
    "            return True\n",
    "        return False\n",
    "                                  \n",
    "    def __str__(self):\n",
    "        return (\"Base: {}\\nAltura: {}\".format(self.base, self.height))\n",
    "                                  \n",
    "    @staticmethod\n",
    "    def are_equal_size(rect1, rect2):\n",
    "        if rect1.base == rect2.base and rect1.height == rect2.height:\n",
    "            return True\n",
    "        return False"
   ]
  },
  {
   "cell_type": "code",
   "execution_count": 5,
   "metadata": {},
   "outputs": [
    {
     "name": "stdout",
     "output_type": "stream",
     "text": [
      "Base: 7\n",
      "Altura: 5 \n",
      "\n",
      "Base: 7\n",
      "Altura: 5 \n",
      "\n",
      "True\n"
     ]
    }
   ],
   "source": [
    "rect1 = Rectangle(7, 5, \"green\")\n",
    "rect2 = Rectangle(3 + 4, 7 - 2, \"blue\")\n",
    "print(rect1, \"\\n\")\n",
    "print(rect2, \"\\n\")\n",
    "print(Rectangle.are_equal_size(rect1, rect2))"
   ]
  },
  {
   "cell_type": "markdown",
   "metadata": {},
   "source": [
    "# Ejercicio\n",
    "\n",
    "* `.sum()` dode $\\displaystyle\\frac{p_1}{q_1} + \\frac{p_2}{q_2} = \\frac{p_1q_2 + p_2q_1}{q_1 \\cdot q_2}$\n",
    "* `.subract()` dode $\\displaystyle\\frac{p_1}{q_1} - \\frac{p_2}{q_2} = \\frac{p_1q_2 - p_2q_1}{q_1 \\cdot q_2}$\n",
    "* `.product()` dode $\\displaystyle\\frac{p_1}{q_1} \\cdot \\frac{p_2}{q_2} = \\frac{p_1 \\cdot p_2}{q_1 \\cdot q_2}$\n",
    "* `.division()` dode $\\displaystyle\\frac{p_1}{q_1} \\div \\frac{p_2}{q_2} = \\frac{p_1 \\cdot q_2}{p_2 \\cdot q_1}$"
   ]
  },
  {
   "cell_type": "code",
   "execution_count": 11,
   "metadata": {},
   "outputs": [],
   "source": [
    "# Añadiremos los métodos estáticos a las funciones antes definidas\n",
    "def bigger(a, b): \n",
    "    \"\"\"\n",
    "    Devuelve el mayor número de 2 números reales dados.\n",
    "    Args:\n",
    "        a: Número real\n",
    "        b: Número real\n",
    "    Returns:\n",
    "        Número real\n",
    "    \"\"\"\n",
    "    if a >= b: \n",
    "        return a\n",
    "    return b\n",
    "    \n",
    "\n",
    "def lower(a, b): \n",
    "    \"\"\"\n",
    "    Devuelve el menor número de 2 números reales dados.\n",
    "    Args:\n",
    "    a: Número real\n",
    "    b: Número real\n",
    "    Returns:\n",
    "    Número real\n",
    "    \"\"\"\n",
    "    if a <= b: \n",
    "        return a\n",
    "    return b\n",
    "\n",
    "def mcd(a, b): \n",
    "    \"\"\"\n",
    "    Devuelve el MCD de dos números enteros.\n",
    "    Args:\n",
    "    a: Número entero\n",
    "    b: Número entero\n",
    "     Returns:\n",
    "    max: Número entero\n",
    "    \"\"\"\n",
    "    r=0\n",
    "    max = bigger(a, b) \n",
    "    min = lower(a, b)\n",
    "    while(min > 0):\n",
    "        r = min\n",
    "        min = max % min \n",
    "        max = r\n",
    "    return max\n",
    "\n",
    "def helper(n,d):\n",
    "    print (\"{} / {} = {}\".format(n, d, n/d ))\n",
    "    \n",
    "\n",
    "class RationalNumber():\n",
    "    \n",
    "    def __init__(self, n, d = 1):\n",
    "        if type(n) is int and type(d) is int:\n",
    "            self.numerator = n\n",
    "            self.denominator = d\n",
    "        else:\n",
    "            print(\"El numerador y el denominador deben ser números enteros\")\n",
    "            \n",
    "    def __str__(self):\n",
    "        return (\"{} / {}\".format(self.numerator, self.denominator))\n",
    "    \n",
    "    def mathFormat(self):\n",
    "        from IPython.display import display, Latex\n",
    "        display(Latex(f\"${self.numerator}\\\\over{self.denominator}$\"))\n",
    "        \n",
    "    def quotient(self):\n",
    "        return self.numerator / self. denominator\n",
    "    \n",
    "    def isInfinite(self):\n",
    "        if self.denominator == 0:\n",
    "            return True\n",
    "        return False\n",
    "    \n",
    "    def simplify(self):\n",
    "        div = mcd(self.numerator, self.denominator)\n",
    "        self.numerator = int(self.numerator / div)\n",
    "        self.denominator = int(self.denominator / div)\n",
    "        \n",
    "    @staticmethod\n",
    "    def sum(p,q):\n",
    "        num = p.numerator * q.denominator + q.numerator * p.denominator\n",
    "        den = p.denominator * q.denominator\n",
    "        helper(num, den)  \n",
    "    \n",
    "    @staticmethod\n",
    "    def subtract(p,q):\n",
    "        num = p.numerator * q.denominator - q.numerator * p.denominator\n",
    "        den = p.denominator * q.denominator\n",
    "        helper(num, den)  \n",
    "    \n",
    "    @staticmethod\n",
    "    def product(p,q):\n",
    "        num = p.numerator * q.numerator\n",
    "        den = p.denominator * q.denominator\n",
    "        helper(num, den)  \n",
    "    \n",
    "    @staticmethod\n",
    "    def division(p,q):\n",
    "        num = p.numerator * q.denominator\n",
    "        den = q.numerator * p.denominator\n",
    "        helper(num, den)        "
   ]
  },
  {
   "cell_type": "code",
   "execution_count": 12,
   "metadata": {},
   "outputs": [
    {
     "name": "stdout",
     "output_type": "stream",
     "text": [
      "3 / 4 = 0.75\n"
     ]
    }
   ],
   "source": [
    "p = RationalNumber(1, 2)\n",
    "q = RationalNumber(2, 3)\n",
    "RationalNumber.division(p, q)"
   ]
  },
  {
   "cell_type": "markdown",
   "metadata": {},
   "source": [
    "<h3>Métodos de clase</h3>\n",
    "\n",
    "La clase entera es pasada como primer argumento `cls` y se utiliza un decorador `@classmethod`"
   ]
  },
  {
   "cell_type": "code",
   "execution_count": 13,
   "metadata": {},
   "outputs": [],
   "source": [
    "import random"
   ]
  },
  {
   "cell_type": "code",
   "execution_count": 14,
   "metadata": {},
   "outputs": [],
   "source": [
    "# Crearemos un método que genere un rectángulo de manera aleatoria\n",
    "class Rectangle():\n",
    "    \n",
    "    def __init__(self, base=1, height=1, color= \"blue\"):\n",
    "        self.base = base\n",
    "        self.height = height\n",
    "        self.color = color\n",
    "    \n",
    "    def perimeter(self):\n",
    "        return 2 * self.base + 2 * self.height\n",
    "    \n",
    "    def area(self):\n",
    "        return self.base * self.height\n",
    "    \n",
    "    def is_base_big(self, min = 5):\n",
    "        if self.base > min:\n",
    "            return True\n",
    "        return False\n",
    "                                  \n",
    "    def __str__(self):\n",
    "        return (\"Base: {}\\nAltura: {}\".format(self.base, self.height))\n",
    "                                  \n",
    "    @staticmethod\n",
    "    def are_equal_size(rect1, rect2):\n",
    "        if rect1.base == rect2.base and rect1.height == rect2.height:\n",
    "            return True\n",
    "        return False\n",
    "    \n",
    "    @classmethod\n",
    "    def random_rectangle(cls):\n",
    "        base = random.randrange(1,10)\n",
    "        height = random.randrange(1,10)\n",
    "        return cls(base, height)"
   ]
  },
  {
   "cell_type": "code",
   "execution_count": 17,
   "metadata": {},
   "outputs": [
    {
     "name": "stdout",
     "output_type": "stream",
     "text": [
      "Base: 6\n",
      "Altura: 7\n"
     ]
    }
   ],
   "source": [
    "rect3 = Rectangle().random_rectangle()\n",
    "print(rect3)"
   ]
  },
  {
   "cell_type": "markdown",
   "metadata": {},
   "source": [
    "# Ejercicio\n",
    "\n",
    "Vamos a configurar los siguientes métodos de clase:\n",
    "\n",
    "* `.random()` que se encarga de crear un objeto aleatorio de la clase `RationalNumber`.\n",
    "* `.zero()` que se encarga de crear el objeto de la clase `RationalNumber` que tiene por numerador 0 y denominador 1.\n",
    "* `.one()` que se encarga de crear el objeto de la clase `RationalNumber` que tiene por numerador 1 y denominador 1.\n",
    "* `.fromRealNumber()` que dado un número real se encarga de buscar su expresión en racional. Por ejemplo, dado 5.4, tendremos que crear el objeto `RationalNumber` con numerador 54 y denominador 10. Investiga el método `math.modf()` para este caso."
   ]
  },
  {
   "cell_type": "code",
   "execution_count": 18,
   "metadata": {},
   "outputs": [],
   "source": [
    "# Añadiremos los métodos de clases a las funciones antes definidas\n",
    "def bigger(a, b): \n",
    "    \"\"\"\n",
    "    Devuelve el mayor número de 2 números reales dados.\n",
    "    Args:\n",
    "        a: Número real\n",
    "        b: Número real\n",
    "    Returns:\n",
    "        Número real\n",
    "    \"\"\"\n",
    "    if a >= b: \n",
    "        return a\n",
    "    return b\n",
    "    \n",
    "\n",
    "def lower(a, b): \n",
    "    \"\"\"\n",
    "    Devuelve el menor número de 2 números reales dados.\n",
    "    Args:\n",
    "    a: Número real\n",
    "    b: Número real\n",
    "    Returns:\n",
    "    Número real\n",
    "    \"\"\"\n",
    "    if a <= b: \n",
    "        return a\n",
    "    return b\n",
    "\n",
    "def mcd(a, b): \n",
    "    \"\"\"\n",
    "    Devuelve el MCD de dos números enteros.\n",
    "    Args:\n",
    "    a: Número entero\n",
    "    b: Número entero\n",
    "     Returns:\n",
    "    max: Número entero\n",
    "    \"\"\"\n",
    "    r=0\n",
    "    max = bigger(a, b) \n",
    "    min = lower(a, b)\n",
    "    while(min > 0):\n",
    "        r = min\n",
    "        min = max % min \n",
    "        max = r\n",
    "    return max\n",
    "\n",
    "def helper(n,d):\n",
    "    print (\"{} / {} = {}\".format(n, d, n/d ))\n",
    "    \n",
    "\n",
    "class RationalNumber():\n",
    "    \n",
    "    def __init__(self, n, d = 1):\n",
    "        if type(n) is int and type(d) is int:\n",
    "            self.numerator = n\n",
    "            self.denominator = d\n",
    "        else:\n",
    "            print(\"El numerador y el denominador deben ser números enteros\")\n",
    "            \n",
    "    def __str__(self):\n",
    "        return (\"{} / {}\".format(self.numerator, self.denominator))\n",
    "    \n",
    "    def mathFormat(self):\n",
    "        from IPython.display import display, Latex\n",
    "        display(Latex(f\"${self.numerator}\\\\over{self.denominator}$\"))\n",
    "        \n",
    "    def quotient(self):\n",
    "        return self.numerator / self. denominator\n",
    "    \n",
    "    def isInfinite(self):\n",
    "        if self.denominator == 0:\n",
    "            return True\n",
    "        return False\n",
    "    \n",
    "    def simplify(self):\n",
    "        div = mcd(self.numerator, self.denominator)\n",
    "        self.numerator = int(self.numerator / div)\n",
    "        self.denominator = int(self.denominator / div)\n",
    "        \n",
    "    @staticmethod\n",
    "    def sum(p,q):\n",
    "        num = p.numerator * q.denominator + q.numerator * p.denominator\n",
    "        den = p.denominator * q.denominator\n",
    "        helper(num, den)  \n",
    "    \n",
    "    @staticmethod\n",
    "    def subtract(p,q):\n",
    "        num = p.numerator * q.denominator - q.numerator * p.denominator\n",
    "        den = p.denominator * q.denominator\n",
    "        helper(num, den)  \n",
    "    \n",
    "    @staticmethod\n",
    "    def product(p,q):\n",
    "        num = p.numerator * q.numerator\n",
    "        den = p.denominator * q.denominator\n",
    "        helper(num, den)  \n",
    "    \n",
    "    @staticmethod\n",
    "    def division(p,q):\n",
    "        num = p.numerator * q.denominator\n",
    "        den = q.numerator * p.denominator\n",
    "        helper(num, den)\n",
    "    \n",
    "    @classmethod\n",
    "    def random(cls):\n",
    "        num = random.randrange(-100,100)\n",
    "        den = random.randrange(-100,100)\n",
    "        while den == 0:\n",
    "            den = random.randrange(-100,100)\n",
    "        return cls(num, den)\n",
    "    \n",
    "    @classmethod\n",
    "    def zero(cls):\n",
    "        return cls(0)\n",
    "    \n",
    "    @classmethod\n",
    "    def one(cls):\n",
    "        return cls(1)\n",
    "    \n",
    "    @classmethod\n",
    "    def fromRealNumber(cls, f):\n",
    "        import math\n",
    "        num = f\n",
    "        den = 1\n",
    "        # d representa la parte decimal e i la parte entera\n",
    "        d, i = math.modf(num)\n",
    "        while d !=0:\n",
    "            num *=10\n",
    "            den *=10\n",
    "            d,i = math.modf(num)\n",
    "        num = int(num)\n",
    "        den = int(den)\n",
    "        return cls(num, den)"
   ]
  },
  {
   "cell_type": "code",
   "execution_count": 26,
   "metadata": {},
   "outputs": [
    {
     "data": {
      "text/latex": [
       "$-92\\over31$"
      ],
      "text/plain": [
       "<IPython.core.display.Latex object>"
      ]
     },
     "metadata": {},
     "output_type": "display_data"
    }
   ],
   "source": [
    "# Creamos un número aleatorio\n",
    "p = RationalNumber.random()\n",
    "p.mathFormat()"
   ]
  },
  {
   "cell_type": "code",
   "execution_count": 27,
   "metadata": {},
   "outputs": [
    {
     "data": {
      "text/latex": [
       "$-2\\over1$"
      ],
      "text/plain": [
       "<IPython.core.display.Latex object>"
      ]
     },
     "metadata": {},
     "output_type": "display_data"
    }
   ],
   "source": [
    "# Intentamos simplificarlo\n",
    "p.simplify()\n",
    "p.mathFormat()"
   ]
  },
  {
   "cell_type": "code",
   "execution_count": 28,
   "metadata": {},
   "outputs": [
    {
     "data": {
      "text/latex": [
       "$0\\over1$"
      ],
      "text/plain": [
       "<IPython.core.display.Latex object>"
      ]
     },
     "metadata": {},
     "output_type": "display_data"
    }
   ],
   "source": [
    "zero = RationalNumber.zero()\n",
    "zero.mathFormat()"
   ]
  },
  {
   "cell_type": "code",
   "execution_count": 29,
   "metadata": {},
   "outputs": [
    {
     "data": {
      "text/latex": [
       "$1\\over1$"
      ],
      "text/plain": [
       "<IPython.core.display.Latex object>"
      ]
     },
     "metadata": {},
     "output_type": "display_data"
    }
   ],
   "source": [
    "one = RationalNumber.one()\n",
    "one.mathFormat()"
   ]
  },
  {
   "cell_type": "code",
   "execution_count": 30,
   "metadata": {},
   "outputs": [
    {
     "data": {
      "text/latex": [
       "$54\\over10$"
      ],
      "text/plain": [
       "<IPython.core.display.Latex object>"
      ]
     },
     "metadata": {},
     "output_type": "display_data"
    }
   ],
   "source": [
    "q = RationalNumber.fromRealNumber(5.4)\n",
    "q.mathFormat()"
   ]
  },
  {
   "cell_type": "markdown",
   "metadata": {},
   "source": [
    "<h2>Propiedades</h2>\n",
    "\n",
    "Para manejar los atributos de un objeto, podemos utilizar el decorador `@property` que permite a un método ser accedido como un atributo, omitiendo así el uso de paréntesis vacíos.\n",
    "\n",
    "*Observación* los paréntesis son vacíos cuando en un método no hay parámetros que indicar."
   ]
  },
  {
   "cell_type": "markdown",
   "metadata": {},
   "source": [
    "**Los métodos .perimeter() y .area() son el ejemplo perfecto para ser modificados por el decorador @property pues siempre que son llamados, nunca toman valores por parámetro**"
   ]
  },
  {
   "cell_type": "code",
   "execution_count": 32,
   "metadata": {},
   "outputs": [],
   "source": [
    "class Rectangle():\n",
    "    \n",
    "    def __init__(self, base=1, height=1, color= \"blue\"):\n",
    "        self.base = base\n",
    "        self.height = height\n",
    "        self.color = color\n",
    "    \n",
    "    @property\n",
    "    def perimeter(self):\n",
    "        return 2 * self.base + 2 * self.height\n",
    "    \n",
    "    @property\n",
    "    def area(self):\n",
    "        return self.base * self.height\n",
    "    \n",
    "    def is_base_big(self, min = 5):\n",
    "        if self.base > min:\n",
    "            return True\n",
    "        return False\n",
    "                                  \n",
    "    def __str__(self):\n",
    "        return (\"Base: {}\\nAltura: {}\".format(self.base, self.height))\n",
    "                                  \n",
    "    @staticmethod\n",
    "    def are_equal_size(rect1, rect2):\n",
    "        if rect1.base == rect2.base and rect1.height == rect2.height:\n",
    "            return True\n",
    "        return False\n",
    "    \n",
    "    @classmethod\n",
    "    def random_rectangle(cls):\n",
    "        base = random.randrange(1,10)\n",
    "        height = random.randrange(1,10)\n",
    "        return cls(base, height)"
   ]
  },
  {
   "cell_type": "code",
   "execution_count": 34,
   "metadata": {},
   "outputs": [
    {
     "name": "stdout",
     "output_type": "stream",
     "text": [
      "10\n",
      "6\n"
     ]
    }
   ],
   "source": [
    "rect4 = Rectangle(2,3,\"yellow\")\n",
    "print(rect4.perimeter)\n",
    "print(rect4.area)"
   ]
  },
  {
   "cell_type": "markdown",
   "metadata": {},
   "source": [
    "**nota:** el modificador solo nos permite acceder al método como si se tratase de un atributo. Si intentamos modificarlo como si fuera un atributo, saltará un error, ejemplo:"
   ]
  },
  {
   "cell_type": "code",
   "execution_count": 35,
   "metadata": {},
   "outputs": [
    {
     "ename": "AttributeError",
     "evalue": "can't set attribute",
     "output_type": "error",
     "traceback": [
      "\u001b[1;31m---------------------------------------------------------------------------\u001b[0m",
      "\u001b[1;31mAttributeError\u001b[0m                            Traceback (most recent call last)",
      "\u001b[1;32m<ipython-input-35-ac815ab37196>\u001b[0m in \u001b[0;36m<module>\u001b[1;34m\u001b[0m\n\u001b[1;32m----> 1\u001b[1;33m \u001b[0mrect4\u001b[0m\u001b[1;33m.\u001b[0m\u001b[0mperimeter\u001b[0m \u001b[1;33m=\u001b[0m \u001b[1;36m12\u001b[0m\u001b[1;33m\u001b[0m\u001b[1;33m\u001b[0m\u001b[0m\n\u001b[0m",
      "\u001b[1;31mAttributeError\u001b[0m: can't set attribute"
     ]
    }
   ],
   "source": [
    "rect4.perimeter = 12"
   ]
  },
  {
   "cell_type": "markdown",
   "metadata": {},
   "source": [
    "#### .setter()\n",
    "\n",
    "Los usaremos si necesitamos modificar una propiedad"
   ]
  },
  {
   "cell_type": "code",
   "execution_count": 36,
   "metadata": {},
   "outputs": [],
   "source": [
    "class Person():\n",
    "    \n",
    "# la clase Person tomará como parámetros el nombre y apellido de una persona, tiene una propiedad que \n",
    "# devuelde el nombre completo de la persona\n",
    "\n",
    "    def __init__(self, name, surname):\n",
    "        self.name = name\n",
    "        self.surname = surname\n",
    "\n",
    "    @property\n",
    "    def complete_name(self):\n",
    "        return \"{} {}\".format(self.name, self.surname)\n",
    "    \n",
    "# Al usar el método setter() somos capaces de modificaar dicha propiedad. \n",
    "\n",
    "    @complete_name.setter\n",
    "    def complete_name(self, name_surname):\n",
    "        name, surname = name_surname.split(\" \")\n",
    "        self.name = name\n",
    "        self.surname = surname"
   ]
  },
  {
   "cell_type": "code",
   "execution_count": 37,
   "metadata": {},
   "outputs": [
    {
     "data": {
      "text/plain": [
       "'Rosa Medina'"
      ]
     },
     "execution_count": 37,
     "metadata": {},
     "output_type": "execute_result"
    }
   ],
   "source": [
    "person1 = Person(\"Rosa\", \"Medina\")\n",
    "person1.complete_name"
   ]
  },
  {
   "cell_type": "code",
   "execution_count": 38,
   "metadata": {},
   "outputs": [
    {
     "data": {
      "text/plain": [
       "'Medina'"
      ]
     },
     "execution_count": 38,
     "metadata": {},
     "output_type": "execute_result"
    }
   ],
   "source": [
    "person1.complete_name = \"María Medina\"\n",
    "person1.surname"
   ]
  },
  {
   "cell_type": "markdown",
   "metadata": {},
   "source": [
    "#### .setter()\n",
    "\n",
    "Podemos usarlo para prevenir al usuario de introducir valores que no están permitidos"
   ]
  },
  {
   "cell_type": "code",
   "execution_count": 41,
   "metadata": {},
   "outputs": [],
   "source": [
    "# El diámetro de un círculo no puede ser cero o menos:\n",
    "\n",
    "class Circle():\n",
    "\n",
    "    def __init__(self, center = (0, 0), radius = 1):\n",
    "        self.center = center\n",
    "        self.radius = radius\n",
    "\n",
    "    @property\n",
    "    def diameter(self):\n",
    "        return 2 * self.radius\n",
    "\n",
    "    @diameter.setter\n",
    "    def diameter(self, value):\n",
    "        if value <= 0:\n",
    "            raise ValueError(\"El diámetro no puede ser menor o igual a 0\")\n",
    "        self.radius = value / 2"
   ]
  },
  {
   "cell_type": "code",
   "execution_count": 42,
   "metadata": {},
   "outputs": [
    {
     "ename": "ValueError",
     "evalue": "El diámetro no puede ser menor o igual a 0",
     "output_type": "error",
     "traceback": [
      "\u001b[1;31m---------------------------------------------------------------------------\u001b[0m",
      "\u001b[1;31mValueError\u001b[0m                                Traceback (most recent call last)",
      "\u001b[1;32m<ipython-input-42-c1a89db107d4>\u001b[0m in \u001b[0;36m<module>\u001b[1;34m\u001b[0m\n\u001b[0;32m      1\u001b[0m \u001b[1;31m# Probamos para que el diámetro tenga un valor negativo\u001b[0m\u001b[1;33m\u001b[0m\u001b[1;33m\u001b[0m\u001b[1;33m\u001b[0m\u001b[0m\n\u001b[0;32m      2\u001b[0m \u001b[0mcircle1\u001b[0m \u001b[1;33m=\u001b[0m \u001b[0mCircle\u001b[0m\u001b[1;33m(\u001b[0m\u001b[0mradius\u001b[0m \u001b[1;33m=\u001b[0m \u001b[1;36m2\u001b[0m\u001b[1;33m)\u001b[0m\u001b[1;33m\u001b[0m\u001b[1;33m\u001b[0m\u001b[0m\n\u001b[1;32m----> 3\u001b[1;33m \u001b[0mcircle1\u001b[0m\u001b[1;33m.\u001b[0m\u001b[0mdiameter\u001b[0m \u001b[1;33m=\u001b[0m \u001b[1;33m-\u001b[0m\u001b[1;36m2\u001b[0m\u001b[1;33m\u001b[0m\u001b[1;33m\u001b[0m\u001b[0m\n\u001b[0m",
      "\u001b[1;32m<ipython-input-41-8a602a8f0b68>\u001b[0m in \u001b[0;36mdiameter\u001b[1;34m(self, value)\u001b[0m\n\u001b[0;32m     14\u001b[0m     \u001b[1;32mdef\u001b[0m \u001b[0mdiameter\u001b[0m\u001b[1;33m(\u001b[0m\u001b[0mself\u001b[0m\u001b[1;33m,\u001b[0m \u001b[0mvalue\u001b[0m\u001b[1;33m)\u001b[0m\u001b[1;33m:\u001b[0m\u001b[1;33m\u001b[0m\u001b[1;33m\u001b[0m\u001b[0m\n\u001b[0;32m     15\u001b[0m         \u001b[1;32mif\u001b[0m \u001b[0mvalue\u001b[0m \u001b[1;33m<=\u001b[0m \u001b[1;36m0\u001b[0m\u001b[1;33m:\u001b[0m\u001b[1;33m\u001b[0m\u001b[1;33m\u001b[0m\u001b[0m\n\u001b[1;32m---> 16\u001b[1;33m             \u001b[1;32mraise\u001b[0m \u001b[0mValueError\u001b[0m\u001b[1;33m(\u001b[0m\u001b[1;34m\"El diámetro no puede ser menor o igual a 0\"\u001b[0m\u001b[1;33m)\u001b[0m\u001b[1;33m\u001b[0m\u001b[1;33m\u001b[0m\u001b[0m\n\u001b[0m\u001b[0;32m     17\u001b[0m         \u001b[0mself\u001b[0m\u001b[1;33m.\u001b[0m\u001b[0mradius\u001b[0m \u001b[1;33m=\u001b[0m \u001b[0mvalue\u001b[0m \u001b[1;33m/\u001b[0m \u001b[1;36m2\u001b[0m\u001b[1;33m\u001b[0m\u001b[1;33m\u001b[0m\u001b[0m\n",
      "\u001b[1;31mValueError\u001b[0m: El diámetro no puede ser menor o igual a 0"
     ]
    }
   ],
   "source": [
    "# Probamos para que el diámetro tenga un valor negativo\n",
    "circle1 = Circle(radius = 2)\n",
    "circle1.diameter = -2"
   ]
  },
  {
   "cell_type": "markdown",
   "metadata": {},
   "source": [
    "## Herencia de Clases\n",
    "\n",
    "**`Inheritance`**\n",
    "\n",
    "Permite a los atributos y métodos ser pasados de una clase a otra. Es útil cuando tenemos un clase que realiza todo lo que necesitamos y queremos añadir algún atributo o método adicional"
   ]
  },
  {
   "cell_type": "code",
   "execution_count": null,
   "metadata": {},
   "outputs": [],
   "source": [
    "# Tenemos dos clases, sin embargo cuando analizamos el código podemos observar que la unica diferencia en ambos códigos\n",
    "# radica en el atributo is_adult\n",
    "\n",
    "class Children():\n",
    "\n",
    "    is_adult = False\n",
    "\n",
    "    def __init__(self, name, surname, age):\n",
    "        self.name = name\n",
    "        self.surname = surname\n",
    "        self.age = age\n",
    "\n",
    "    @property\n",
    "    def complete_name(self):\n",
    "        return \"{} {}\".format(self.name, self.surname)\n",
    "\n",
    "    @complete_name.setter\n",
    "    def complete_name(self, name_surname):\n",
    "        name, surname = name_surname.split(\" \")\n",
    "        self.name = name\n",
    "        self.surname = surname\n",
    "        \n",
    "class Adult():\n",
    "\n",
    "      is_adult = True\n",
    "\n",
    "    def __init__(self, name, surname, age):\n",
    "        self.name = name\n",
    "        self.surname = surname\n",
    "        self.age = age\n",
    "\n",
    "    @property\n",
    "    def complete_name(self):\n",
    "        return \"{} {}\".format(self.name, self.surname)\n",
    "\n",
    "    @complete_name.setter\n",
    "    def complete_name(self, name_surname):\n",
    "        name, surname = name_surname.split(\" \")\n",
    "        self.name = name\n",
    "        self.surname = surname"
   ]
  },
  {
   "cell_type": "markdown",
   "metadata": {},
   "source": [
    "**`Single Inheritance`**\n",
    "\n",
    "Implica crear clases hijos que heredan atributos y métodos de una sola clase padre."
   ]
  },
  {
   "cell_type": "code",
   "execution_count": 3,
   "metadata": {},
   "outputs": [],
   "source": [
    "# Tomaremos las dos clases que definimos anteriormente y las partes comunes las tendremos en la clase Persom\n",
    "\n",
    "class Person(object):\n",
    "    \n",
    "    def __init__(self, name, surname, age):\n",
    "        self.name = name\n",
    "        self.surname = surname\n",
    "        self.age = age\n",
    "        \n",
    "    @property\n",
    "    def complete_name(self):\n",
    "        return \" {} {}\".format(self.name, self.surname)\n",
    "    \n",
    "    @complete_name.setter\n",
    "    def complete_name(self, name_surname):\n",
    "        name, surname = name_surname.split(\" \")\n",
    "        self.name = name\n",
    "        self.surname = surname\n",
    "        \n",
    "# A partir de este momento las clases children y Adult pueden ser creadas como hijos de la clase padre Person\n",
    "\n",
    "class Children(Person):\n",
    "    is_adult = False\n",
    "    \n",
    "class Adult(Person):\n",
    "    is_adult = True"
   ]
  },
  {
   "cell_type": "code",
   "execution_count": 4,
   "metadata": {},
   "outputs": [
    {
     "data": {
      "text/plain": [
       "'Juan'"
      ]
     },
     "execution_count": 4,
     "metadata": {},
     "output_type": "execute_result"
    }
   ],
   "source": [
    "child = Children(\"Juan\", \"Sanchez\", 6)\n",
    "child.name"
   ]
  },
  {
   "cell_type": "markdown",
   "metadata": {},
   "source": [
    "***Importante:*** existe la posibilidad de heredar de una clase ya existente en Python, por ejemplo:"
   ]
  },
  {
   "cell_type": "code",
   "execution_count": 5,
   "metadata": {},
   "outputs": [],
   "source": [
    "class MyInt(int):\n",
    "    def is_divisible_by(self, divisor):\n",
    "        return self % divisor == 0"
   ]
  },
  {
   "cell_type": "code",
   "execution_count": 7,
   "metadata": {},
   "outputs": [
    {
     "data": {
      "text/plain": [
       "True"
      ]
     },
     "execution_count": 7,
     "metadata": {},
     "output_type": "execute_result"
    }
   ],
   "source": [
    "n = MyInt(27)\n",
    "n.is_divisible_by(9)"
   ]
  },
  {
   "cell_type": "markdown",
   "metadata": {},
   "source": [
    "**`Sobreescribiendo métodos`**\n",
    "\n",
    "Al trabajar con herencia de clases, podesmo extender el comportamiento de clases más generales modificando algunos atributos o métodos heredados de la clase padre"
   ]
  },
  {
   "cell_type": "code",
   "execution_count": 8,
   "metadata": {},
   "outputs": [],
   "source": [
    "# Volvemos a la clase Person\n",
    "class Person(object):\n",
    "    \n",
    "\n",
    "    def __init__(self, name, surname, age):\n",
    "        self.name = name\n",
    "        self.surname = surname\n",
    "        self.age = age\n",
    "\n",
    "    @property\n",
    "    def complete_name(self):\n",
    "        return \"{} {}\".format(self.name, self.surname)\n",
    "\n",
    "    @complete_name.setter\n",
    "    def complete_name(self, name_surname):\n",
    "        name, surname = name_surname.split(\" \")\n",
    "        self.name = name\n",
    "        self.surname = surname\n",
    "        \n",
    "# Existe la posibilidad de que al introducir el nombre completo, esta persona tenga un segundo nombre, por lo que\n",
    "# podemos crear una clase que se denomine \"SecondNamePerson\"\n",
    "\n",
    "class SecondNamePerson(Person):\n",
    "    @property\n",
    "    def complete_name(self):\n",
    "        return \"{} {}\".format(self.name, self.surname)\n",
    "   \n",
    "    @complete_name.setter\n",
    "    def complete_name(self, names_surname):\n",
    "        names = names_surname.split(\" \")\n",
    "        self.surname = names[-1]\n",
    "        if len(names) > 2:\n",
    "            self.name = \" \".join(names[:(len(names)-1)])\n",
    "        elif len(names) == 2:\n",
    "            self.name = names[0]"
   ]
  },
  {
   "cell_type": "code",
   "execution_count": 9,
   "metadata": {},
   "outputs": [
    {
     "name": "stdout",
     "output_type": "stream",
     "text": [
      "Giorgio Ramón\n",
      "Armani\n"
     ]
    }
   ],
   "source": [
    "person2 = SecondNamePerson(\"Giorgio\", \"Armani\", 45)\n",
    "person2.complete_name = \"Giorgio Ramón Armani\"\n",
    "print(person2.name)\n",
    "print(person2.surname)"
   ]
  },
  {
   "cell_type": "markdown",
   "metadata": {},
   "source": [
    "**`.super()`**\n",
    "\n",
    "Con este método accedemos a un método de la clase padre"
   ]
  },
  {
   "cell_type": "code",
   "execution_count": 10,
   "metadata": {},
   "outputs": [],
   "source": [
    "class Person(object):\n",
    "    \n",
    "\n",
    "    def __init__(self, name, surname, age):\n",
    "        self.name = name\n",
    "        self.surname = surname\n",
    "        self.age = age\n",
    "\n",
    "    @property\n",
    "    def complete_name(self):\n",
    "        return \"{} {}\".format(self.name, self.surname)\n",
    "\n",
    "    @complete_name.setter\n",
    "    def complete_name(self, name_surname):\n",
    "        name, surname = name_surname.split(\" \")\n",
    "        self.name = name\n",
    "        self.surname = surname\n",
    "        \n",
    "    @property\n",
    "    def introduction(self):\n",
    "        print(\"Hola, mi nombre es {}\".format(self.complete_name))\n",
    "        \n",
    "# En el supuesto de querer crear una clase para que una persona comente muchas cosas al momento de presentarse:\n",
    "class TalkactivePerson(Person):\n",
    "    \n",
    "    @property\n",
    "    def introduction(self):\n",
    "        print(\"Hola, mi nombre es {}\".format(self.complete_name))\n",
    "        print(\"Un placer conocerte\")"
   ]
  },
  {
   "cell_type": "code",
   "execution_count": 11,
   "metadata": {},
   "outputs": [
    {
     "name": "stdout",
     "output_type": "stream",
     "text": [
      "Hola, mi nombre es Jorge Calvo\n",
      "Un placer conocerte\n"
     ]
    }
   ],
   "source": [
    "personEjem = TalkactivePerson(\"Jorge\", \"Calvo\", 31)\n",
    "personEjem.introduction"
   ]
  },
  {
   "cell_type": "markdown",
   "metadata": {},
   "source": [
    "**aún cuando es correcto** el código anterior estamos repitiendo por lo que si usamos el método **.super()** pasará lo siguiente:"
   ]
  },
  {
   "cell_type": "code",
   "execution_count": 13,
   "metadata": {},
   "outputs": [],
   "source": [
    "class TalkactivePerson(Person):\n",
    "    \n",
    "    @property\n",
    "    def introduction(self):\n",
    "        super().introduction\n",
    "        print(\"Un placer conocerte\")"
   ]
  },
  {
   "cell_type": "code",
   "execution_count": 14,
   "metadata": {},
   "outputs": [
    {
     "name": "stdout",
     "output_type": "stream",
     "text": [
      "Hola, mi nombre es Juan Roberto\n",
      "Un placer conocerte\n"
     ]
    }
   ],
   "source": [
    "personEjem1 = TalkactivePerson(\"Juan\", \"Roberto\", 42)\n",
    "personEjem1.introduction"
   ]
  },
  {
   "cell_type": "markdown",
   "metadata": {},
   "source": [
    "# Ejercicio\n",
    "\n",
    "Dada la clase *Point2D*, vamos a crear la clase *Point3D que hereda de Point2D*.\n",
    "\n",
    "Vamos a modificar todos los métodos y usar el método .super() donde sea necesario para poder usarlos con puntos de 3 dimensiones."
   ]
  },
  {
   "cell_type": "code",
   "execution_count": 21,
   "metadata": {},
   "outputs": [],
   "source": [
    "class Point2D():\n",
    "    \n",
    "    def __init__(self, x, y):\n",
    "        self.x = x\n",
    "        self.y = y\n",
    "    \n",
    "    def __str__(self):\n",
    "        return \"({}, {})\".format(self.x, self.y)\n",
    "    \n",
    "    @classmethod\n",
    "    def zero(cls):\n",
    "        return cls(0,0)"
   ]
  },
  {
   "cell_type": "code",
   "execution_count": 22,
   "metadata": {},
   "outputs": [],
   "source": [
    "class Point3D(Point2D):\n",
    "    \n",
    "    def __init__(self, x, y, z):\n",
    "        super().__init__(x,y)\n",
    "        self.z = z\n",
    "        \n",
    "    def __str__(self):\n",
    "        return super().__str__()[:-1] + \", {})\".format(self.z) # Seleccionamos todo menos el último paréntesis uqe añadiremos con \n",
    "        # con el paréntesis faltante\n",
    "        \n",
    "    @classmethod\n",
    "    def zero(cls):\n",
    "        return cls(0, 0, 0)"
   ]
  },
  {
   "cell_type": "code",
   "execution_count": 23,
   "metadata": {},
   "outputs": [
    {
     "name": "stdout",
     "output_type": "stream",
     "text": [
      "(1, -1)\n"
     ]
    }
   ],
   "source": [
    "# Creamos en primer lugar un punto de 2 dimensiones\n",
    "p = Point2D(1, -1)\n",
    "print(p)"
   ]
  },
  {
   "cell_type": "code",
   "execution_count": 24,
   "metadata": {},
   "outputs": [
    {
     "name": "stdout",
     "output_type": "stream",
     "text": [
      "(0, 0)\n"
     ]
    }
   ],
   "source": [
    "cero2D = Point2D.zero()\n",
    "print(cero2D)"
   ]
  },
  {
   "cell_type": "code",
   "execution_count": 25,
   "metadata": {},
   "outputs": [
    {
     "name": "stdout",
     "output_type": "stream",
     "text": [
      "(1, 2, 3)\n"
     ]
    }
   ],
   "source": [
    "# Creamos el tercer punto\n",
    "q = Point3D(1,2,3)\n",
    "print(q)"
   ]
  },
  {
   "cell_type": "code",
   "execution_count": 26,
   "metadata": {},
   "outputs": [
    {
     "name": "stdout",
     "output_type": "stream",
     "text": [
      "(0, 0, 0)\n"
     ]
    }
   ],
   "source": [
    "cero3D = Point3D.zero()\n",
    "print(cero3D)"
   ]
  },
  {
   "cell_type": "markdown",
   "metadata": {},
   "source": [
    "**`Multiple Inheritance`**\n",
    "\n",
    "Implica crear clases hijo que heredan atributos y métodos de múltiples clases padre."
   ]
  },
  {
   "cell_type": "code",
   "execution_count": 29,
   "metadata": {},
   "outputs": [],
   "source": [
    "# Adicional a la clase Adult, que hereda la clase Person, tendremos la clase Calendar\n",
    "\n",
    "class Person(object):\n",
    "    \n",
    "\n",
    "    def __init__(self, name, surname, age):\n",
    "        self.name = name\n",
    "        self.surname = surname\n",
    "        self.age = age\n",
    "\n",
    "    @property\n",
    "    def complete_name(self):\n",
    "        return \"{} {}\".format(self.name, self.surname)\n",
    "\n",
    "    @complete_name.setter\n",
    "    def complete_name(self, name_surname):\n",
    "        name, surname = name_surname.split(\" \")\n",
    "        self.name = name\n",
    "        self.surname = surname\n",
    "        \n",
    "    @property\n",
    "    def introduction(self):\n",
    "        print(\"Hola, mi nombre es {}\".format(self.complete_name))\n",
    "        \n",
    "class Adult(Person):\n",
    "    is_adult = True\n",
    "    \n",
    "class Calendar(object):\n",
    "    \n",
    "    @staticmethod\n",
    "    def new_event(title, day, hour, duration = \"All day\"):\n",
    "        print(\"Reservado para el día {} a las {} durante {} para {}\".format(day, hour, duration, title))\n",
    "        \n",
    "# Para finalizar crearemos una subclase que herede tanto Adult como Calendar que se llamará Businessman que no tendrá\n",
    "# un método asociado ni argumento; solo pasaremos la instrucción pass\n",
    "\n",
    "class Businessman(Adult, Calendar):\n",
    "    pass"
   ]
  },
  {
   "cell_type": "code",
   "execution_count": 30,
   "metadata": {},
   "outputs": [
    {
     "name": "stdout",
     "output_type": "stream",
     "text": [
      "Hola, mi nombre es Jorge Fabiano\n",
      "Reservado para el día 30 de Septiembre a las 14:00 durante 1.30 horas para Reunión\n"
     ]
    }
   ],
   "source": [
    "businessman = Businessman(\"Jorge\", \"Fabiano\", 31)\n",
    "businessman.introduction\n",
    "Businessman.new_event(\"Reunión\", \"30 de Septiembre\", \"14:00\", \"1.30 horas\") #utilizamos el método estático"
   ]
  },
  {
   "cell_type": "markdown",
   "metadata": {},
   "source": [
    "**.super() Multiple inheritance**\n"
   ]
  },
  {
   "cell_type": "code",
   "execution_count": 37,
   "metadata": {},
   "outputs": [],
   "source": [
    "# ClassAB, heredará de ClassA y ClassB\n",
    "\n",
    "class ClassA():\n",
    "    \n",
    "    def say_letter(self):\n",
    "        print(\"Mi letra es: A\")\n",
    "        \n",
    "class ClassB():\n",
    "    def say_letter(self):\n",
    "        print(\"Mi letra es: B\")"
   ]
  },
  {
   "cell_type": "code",
   "execution_count": 38,
   "metadata": {},
   "outputs": [],
   "source": [
    "class ClassAB(ClassA, ClassB):\n",
    "    \n",
    "    def my_letter(self):\n",
    "        print(\"A pesar de de que heredo las letras A y B (así lo indica mi nombre)\")\n",
    "        super().say_letter()"
   ]
  },
  {
   "cell_type": "code",
   "execution_count": 39,
   "metadata": {},
   "outputs": [
    {
     "name": "stdout",
     "output_type": "stream",
     "text": [
      "A pesar de de que heredo las letras A y B (así lo indica mi nombre)\n",
      "Mi letra es: A\n"
     ]
    }
   ],
   "source": [
    "ab = ClassAB()\n",
    "ab.my_letter()"
   ]
  },
  {
   "cell_type": "markdown",
   "metadata": {},
   "source": [
    "***importante:*** de encontrarnos con dos clases padres que posean el mismo nombre en el método, al utilizar el método `.super()`el método que será llamado corresponderá al perteneciente a la primera clase padre que se hereda"
   ]
  },
  {
   "cell_type": "code",
   "execution_count": 40,
   "metadata": {},
   "outputs": [],
   "source": [
    "# Cambio\n",
    "class ClassAB(ClassB, ClassA):\n",
    "    \n",
    "    def my_letter(self):\n",
    "        print(\"A pesar de de que heredo las letras A y B (así lo indica mi nombre)\")\n",
    "        super().say_letter()"
   ]
  },
  {
   "cell_type": "code",
   "execution_count": 41,
   "metadata": {},
   "outputs": [
    {
     "name": "stdout",
     "output_type": "stream",
     "text": [
      "A pesar de de que heredo las letras A y B (así lo indica mi nombre)\n",
      "Mi letra es: B\n"
     ]
    }
   ],
   "source": [
    "ab = ClassAB()\n",
    "ab.my_letter()"
   ]
  },
  {
   "cell_type": "markdown",
   "metadata": {},
   "source": [
    "# Ejercicio\n",
    "\n",
    "Dadas las clases Triangle y Square, vamos a crear la clase Pyramid que hereda de las dos anteriores. \n",
    "\n",
    "Vamos a implementar el constructor, el método .area() y el método .volume() usando el método .super() donde sea necesario para poder construir una pirámide regular con base cuadrada y calcular correctamente el área y el volumen."
   ]
  },
  {
   "cell_type": "code",
   "execution_count": 44,
   "metadata": {},
   "outputs": [],
   "source": [
    "class Square():\n",
    "    def __init__(self, base):\n",
    "        self.base = base\n",
    "        \n",
    "    @property\n",
    "    def perimeter(self):\n",
    "        return 4 * self.base\n",
    "    \n",
    "    @property\n",
    "    def area(self):\n",
    "        return self.base * self.base\n",
    "    \n",
    "class Triangle():\n",
    "    def __init__(self, base, height):\n",
    "        self.base = base\n",
    "        self.height = height\n",
    "        \n",
    "    @property\n",
    "    def area(self):\n",
    "        return 0.5 * self.base * self.height"
   ]
  },
  {
   "cell_type": "code",
   "execution_count": 52,
   "metadata": {},
   "outputs": [],
   "source": [
    "import math\n",
    "\n",
    "class Pyramid(Square, Triangle):\n",
    "    \n",
    "    def __init__(self, base, height):\n",
    "        super().__init__(base)\n",
    "        # Altura de la pirámide\n",
    "        self.height = height\n",
    "    \n",
    "    # inclinación / altura del triángulo\n",
    "    @property\n",
    "    def slant_height(self): \n",
    "        return math.sqrt((self.base / 2) ** 2 + self.height **2)\n",
    "    \n",
    "    @property\n",
    "    def area(self):\n",
    "        base_area = super().area\n",
    "        base_perimeter = super().perimeter\n",
    "        lateral_area = 0.5 * base_perimeter * self.slant_height\n",
    "        return lateral_area + base_area\n",
    "    \n",
    "    @property\n",
    "    def volumen(self):\n",
    "        base_area = super().area\n",
    "        return base_area * self.height / 3"
   ]
  },
  {
   "cell_type": "code",
   "execution_count": 53,
   "metadata": {},
   "outputs": [],
   "source": [
    "p = Pyramid(2, 2)"
   ]
  },
  {
   "cell_type": "code",
   "execution_count": 54,
   "metadata": {},
   "outputs": [
    {
     "data": {
      "text/plain": [
       "12.94427190999916"
      ]
     },
     "execution_count": 54,
     "metadata": {},
     "output_type": "execute_result"
    }
   ],
   "source": [
    "p.area"
   ]
  },
  {
   "cell_type": "code",
   "execution_count": 56,
   "metadata": {},
   "outputs": [
    {
     "data": {
      "text/plain": [
       "2.6666666666666665"
      ]
     },
     "execution_count": 56,
     "metadata": {},
     "output_type": "execute_result"
    }
   ],
   "source": [
    "p.volumen"
   ]
  },
  {
   "cell_type": "markdown",
   "metadata": {},
   "source": [
    "## Polimorfismo\n",
    "\n",
    "Es una función que con el mismo nombre es utilizada para diferentes tipos de objeto\n"
   ]
  },
  {
   "cell_type": "code",
   "execution_count": 57,
   "metadata": {},
   "outputs": [
    {
     "name": "stdout",
     "output_type": "stream",
     "text": [
      "11\n",
      "3\n"
     ]
    }
   ],
   "source": [
    "print(len(\"matematicas\")) # Aplicamos a un string\n",
    "print(len([1,2,3])) # Aplicamos a una lista"
   ]
  },
  {
   "cell_type": "code",
   "execution_count": 58,
   "metadata": {},
   "outputs": [
    {
     "name": "stdout",
     "output_type": "stream",
     "text": [
      "Madrid es la capital de España\n",
      "En España se habla el español\n",
      "\n",
      "Lisboa es la capital de Portugal\n",
      "En Portugal se habla el portugés\n",
      "\n"
     ]
    }
   ],
   "source": [
    "class Spain():\n",
    "    \n",
    "    def capital(self):\n",
    "        print(\"Madrid es la capital de España\")\n",
    "        \n",
    "    def language(self):\n",
    "        print(\"En España se habla el español\")\n",
    "        \n",
    "class Portugal():\n",
    "    def capital(self):\n",
    "        print(\"Lisboa es la capital de Portugal\")\n",
    "        \n",
    "    def language(self):\n",
    "        print(\"En Portugal se habla el portugés\")\n",
    "    \n",
    "spain = Spain()\n",
    "portugal = Portugal()\n",
    "# Recorro la tupla\n",
    "for country in (spain, portugal):\n",
    "    country.capital()\n",
    "    country.language()\n",
    "    print(\"\")"
   ]
  },
  {
   "cell_type": "code",
   "execution_count": 59,
   "metadata": {},
   "outputs": [],
   "source": [
    "# en el caso de las clases Person y SecondNamePerson. ambas compartían el método .complete_name()\n",
    "\n",
    "class Person(object):\n",
    "    \n",
    "\n",
    "    def __init__(self, name, surname, age):\n",
    "        self.name = name\n",
    "        self.surname = surname\n",
    "        self.age = age\n",
    "\n",
    "    @property\n",
    "    def complete_name(self):\n",
    "        return \"{} {}\".format(self.name, self.surname)\n",
    "\n",
    "    @complete_name.setter\n",
    "    def complete_name(self, name_surname):\n",
    "        name, surname = name_surname.split(\" \")\n",
    "        self.name = name\n",
    "        self.surname = surname\n",
    "\n",
    "\n",
    "class SecondNamePerson(Person):\n",
    "    @property\n",
    "    def complete_name(self):\n",
    "        return \"{} {}\".format(self.name, self.surname)\n",
    "   \n",
    "    @complete_name.setter\n",
    "    def complete_name(self, names_surname):\n",
    "        names = names_surname.split(\" \")\n",
    "        self.surname = names[-1]\n",
    "        if len(names) > 2:\n",
    "            self.name = \" \".join(names[:(len(names)-1)])\n",
    "        elif len(names) == 2:\n",
    "            self.name = names[0]"
   ]
  },
  {
   "cell_type": "code",
   "execution_count": 62,
   "metadata": {},
   "outputs": [
    {
     "name": "stdout",
     "output_type": "stream",
     "text": [
      "Juan José\n",
      "Jimenez\n"
     ]
    }
   ],
   "source": [
    "person1 = SecondNamePerson(\"Juan\", \"Jimenez\", 58)\n",
    "person1.complete_name = \"Juan José Jimenez\"\n",
    "print(person1.name)\n",
    "print(person1.surname)"
   ]
  },
  {
   "cell_type": "markdown",
   "metadata": {},
   "source": [
    "## Mangling\n",
    "\n",
    "Define una forma limitada de acceso a miembros de una clase, de modo que los transforma como si fueran privados"
   ]
  },
  {
   "cell_type": "code",
   "execution_count": 66,
   "metadata": {},
   "outputs": [],
   "source": [
    "class A:\n",
    "    def __init__(self):\n",
    "        self.__var = 123\n",
    "        self.name = \"José Roberto\"\n",
    "    \n",
    "    def printVar(self):\n",
    "        print(self.__var)\n",
    "\n",
    "    def __printName(self):\n",
    "        print(self.name)"
   ]
  },
  {
   "cell_type": "code",
   "execution_count": 67,
   "metadata": {},
   "outputs": [
    {
     "name": "stdout",
     "output_type": "stream",
     "text": [
      "123\n"
     ]
    }
   ],
   "source": [
    "x = A()\n",
    "x.printVar()"
   ]
  },
  {
   "cell_type": "code",
   "execution_count": 68,
   "metadata": {},
   "outputs": [
    {
     "ename": "AttributeError",
     "evalue": "'A' object has no attribute '__var'",
     "output_type": "error",
     "traceback": [
      "\u001b[1;31m---------------------------------------------------------------------------\u001b[0m",
      "\u001b[1;31mAttributeError\u001b[0m                            Traceback (most recent call last)",
      "\u001b[1;32m<ipython-input-68-12498366ca10>\u001b[0m in \u001b[0;36m<module>\u001b[1;34m\u001b[0m\n\u001b[1;32m----> 1\u001b[1;33m \u001b[0mx\u001b[0m\u001b[1;33m.\u001b[0m\u001b[0m__var\u001b[0m\u001b[1;33m\u001b[0m\u001b[1;33m\u001b[0m\u001b[0m\n\u001b[0m",
      "\u001b[1;31mAttributeError\u001b[0m: 'A' object has no attribute '__var'"
     ]
    }
   ],
   "source": [
    "x.__var"
   ]
  },
  {
   "cell_type": "code",
   "execution_count": 69,
   "metadata": {},
   "outputs": [
    {
     "data": {
      "text/plain": [
       "'José Roberto'"
      ]
     },
     "execution_count": 69,
     "metadata": {},
     "output_type": "execute_result"
    }
   ],
   "source": [
    "x.name"
   ]
  },
  {
   "cell_type": "code",
   "execution_count": 70,
   "metadata": {},
   "outputs": [
    {
     "ename": "AttributeError",
     "evalue": "'A' object has no attribute '__printName'",
     "output_type": "error",
     "traceback": [
      "\u001b[1;31m---------------------------------------------------------------------------\u001b[0m",
      "\u001b[1;31mAttributeError\u001b[0m                            Traceback (most recent call last)",
      "\u001b[1;32m<ipython-input-70-4332d910291d>\u001b[0m in \u001b[0;36m<module>\u001b[1;34m\u001b[0m\n\u001b[1;32m----> 1\u001b[1;33m \u001b[0mx\u001b[0m\u001b[1;33m.\u001b[0m\u001b[0m__printName\u001b[0m\u001b[1;33m(\u001b[0m\u001b[1;33m)\u001b[0m\u001b[1;33m\u001b[0m\u001b[1;33m\u001b[0m\u001b[0m\n\u001b[0m",
      "\u001b[1;31mAttributeError\u001b[0m: 'A' object has no attribute '__printName'"
     ]
    }
   ],
   "source": [
    "x.__printName()"
   ]
  },
  {
   "cell_type": "code",
   "execution_count": 71,
   "metadata": {},
   "outputs": [],
   "source": [
    "class Info:\n",
    "    def __init__(self, iterate):\n",
    "        self.list = []\n",
    "        self.__generateData(iterate)\n",
    "\n",
    "    def generateData(self, iterate):\n",
    "        for item in iterate:\n",
    "            self.list.append(item)\n",
    "\n",
    "    __generateData = generateData # importante\n",
    "\n",
    "\n",
    "class InfoSubclass(Info):\n",
    "    def generateData(self, keys, values):\n",
    "        for i in zip(keys, values):\n",
    "            self.list.append(i)"
   ]
  },
  {
   "cell_type": "markdown",
   "metadata": {},
   "source": [
    "# Ejercicios - Programación Orientada a objetos Python"
   ]
  },
  {
   "cell_type": "markdown",
   "metadata": {},
   "source": [
    "Construir la clase `Date`. Empieza con el constructor, que recibe por parámetros el día (day), mes (month) y año (year). Los 3 parámetros son de tipo int y por defecto todos valen 1."
   ]
  },
  {
   "cell_type": "code",
   "execution_count": 1,
   "metadata": {},
   "outputs": [],
   "source": [
    "class Date():\n",
    "    \n",
    "    def __init__(self, day = 1, month = 1, year = 1):\n",
    "        if type(day) is int and type(month) is int and type(year) is int:\n",
    "            self.day = day\n",
    "            self.month = month\n",
    "            self.year = year\n",
    "        else:\n",
    "            print(\"Los parámetros deben ser de tipo entero\")"
   ]
  },
  {
   "cell_type": "markdown",
   "metadata": {},
   "source": [
    "***Ejercicio 2***\n",
    "\n",
    "Configura el método .__str__() para que muestre la fecha en formato day / month / year. Si el valor\n",
    "del día o el mes son menores a 10, mostrar el valor con un 0 delante. Por ejemplo, si day = 8, month = 7 y\n",
    "year = 1998, entonces se debería mostrar 08 / 07 / 1998.\n",
    "\n",
    "\n",
    "PISTA: Puedes crear una función que dado un número entero y el número de cifras que debe tener, rellene\n",
    "con ceros a la izquierda hasta completar el número de cifras indicado."
   ]
  },
  {
   "cell_type": "code",
   "execution_count": 21,
   "metadata": {},
   "outputs": [],
   "source": [
    "def addZero(n, m = 2):\n",
    "    \n",
    "    \"\"\" \n",
    "    Añadirá ceros a la izquierda hasta completar m cifras\n",
    "    n: Número Entero\n",
    "    m: Número entero (cifras totales que tendrá n)\n",
    "    \"\"\"\n",
    "    for i in range(m-1, 0, -1):\n",
    "        if n < 10 ** (m-i):\n",
    "            return \"0\" * i + str(n)\n",
    "        else:\n",
    "            return n\n",
    "\n",
    "class Date():\n",
    "    \n",
    "    def __init__(self, day = 1, month = 1, year = 1):\n",
    "        if type(day) is int and type(month) is int and type(year) is int:\n",
    "            self.day = day\n",
    "            self.month = month\n",
    "            self.year = year\n",
    "        else:\n",
    "            print(\"Los parámetros deben ser de tipo entero\")\n",
    "            \n",
    "            \n",
    "    def __str__(self):\n",
    "        return \"{} / {} / {}\".format(addZero(self.day), addZero(self.month), addZero(self.year, 4))"
   ]
  },
  {
   "cell_type": "code",
   "execution_count": 29,
   "metadata": {},
   "outputs": [],
   "source": [
    "prueba = Date(9,8,1900)"
   ]
  },
  {
   "cell_type": "code",
   "execution_count": 30,
   "metadata": {},
   "outputs": [
    {
     "name": "stdout",
     "output_type": "stream",
     "text": [
      "09 / 08 / 1900\n"
     ]
    }
   ],
   "source": [
    "print(prueba)"
   ]
  },
  {
   "cell_type": "markdown",
   "metadata": {},
   "source": [
    "***Ejercicio 3***\n",
    "\n",
    "Implementa el método de instancia .isLeap() que diga si el año es bisiesto o no."
   ]
  },
  {
   "cell_type": "code",
   "execution_count": 40,
   "metadata": {},
   "outputs": [],
   "source": [
    "def addZero(n, m = 2):\n",
    "    \n",
    "    \"\"\" \n",
    "    Añadirá ceros a la izquierda hasta completar m cifras\n",
    "    n: Número Entero\n",
    "    m: Número entero (cifras totales que tendrá n)\n",
    "    \"\"\"\n",
    "    for i in range(m-1, 0, -1):\n",
    "        if n < 10 ** (m-i):\n",
    "            return \"0\" * i + str(n)\n",
    "        else:\n",
    "            return n\n",
    "\n",
    "class Date():\n",
    "    \n",
    "    def __init__(self, day = 1, month = 1, year = 1):\n",
    "        if type(day) is int and type(month) is int and type(year) is int:\n",
    "            self.day = day\n",
    "            self.month = month\n",
    "            self.year = year\n",
    "        else:\n",
    "            print(\"Los parámetros deben ser de tipo entero\")\n",
    "            \n",
    "            \n",
    "    def __str__(self):\n",
    "        return \"{} / {} / {}\".format(addZero(self.day), addZero(self.month), addZero(self.year, 4))\n",
    "    \n",
    "    def isLeap(self):\n",
    "        if self.year % 4 == 0:\n",
    "            if self.year % 100 == 0:\n",
    "                if self.year % 400 == 0:\n",
    "                    return True\n",
    "                else:\n",
    "                    return False\n",
    "            else:\n",
    "                return True\n",
    "        else:\n",
    "            return False"
   ]
  },
  {
   "cell_type": "code",
   "execution_count": 42,
   "metadata": {},
   "outputs": [
    {
     "name": "stdout",
     "output_type": "stream",
     "text": [
      "True\n",
      "09 / 02 / 1904\n"
     ]
    }
   ],
   "source": [
    "prueba1 = Date(9,2,1904)\n",
    "print(prueba1.isLeap())\n",
    "print(prueba1)"
   ]
  },
  {
   "cell_type": "markdown",
   "metadata": {},
   "source": [
    "***Ejercicio 4*** \n",
    "\n",
    "- Implementa un método de instancia .totalMonthDays() que diga el número de días del mes. Ten en\n",
    "cuenta que en los años bisiestos, Febrero tiene 29 días.\n",
    "\n",
    "- Implementa el método de instancia .validDate() que determine si una fecha es válida. Modifica el\n",
    "constructor para que si la fecha introducida no es válida, devuelva un mensaje indicando “¡¡¡La fecha\n",
    "introducida no es una fecha válida!!!”."
   ]
  },
  {
   "cell_type": "code",
   "execution_count": 50,
   "metadata": {},
   "outputs": [],
   "source": [
    "def addZero(n, m = 2):\n",
    "    \n",
    "    \"\"\" \n",
    "    Añadirá ceros a la izquierda hasta completar m cifras\n",
    "    n: Número Entero\n",
    "    m: Número entero (cifras totales que tendrá n)\n",
    "    \"\"\"\n",
    "    for i in range(m-1, 0, -1):\n",
    "        if n < 10 ** (m-i):\n",
    "            return \"0\" * i + str(n)\n",
    "        else:\n",
    "            return n\n",
    "\n",
    "class Date():\n",
    "    \n",
    "    def __init__(self, day = 1, month = 1, year = 1):\n",
    "        if type(day) is int and type(month) is int and type(year) is int:\n",
    "            self.day = day\n",
    "            self.month = month\n",
    "            self.year = year\n",
    "        else:\n",
    "            print(\"Los parámetros deben ser de tipo entero\")\n",
    "            \n",
    "            \n",
    "    def __str__(self):\n",
    "        return \"{} / {} / {}\".format(addZero(self.day), addZero(self.month), addZero(self.year, 4))\n",
    "    \n",
    "    def isLeap(self):\n",
    "        if self.year % 4 == 0:\n",
    "            if self.year % 100 == 0:\n",
    "                if self.year % 400 == 0:\n",
    "                    return True\n",
    "                else:\n",
    "                    return False\n",
    "            else:\n",
    "                return True\n",
    "        else:\n",
    "            return False\n",
    "        \n",
    "    def totalMonthDays(self):\n",
    "        if self.month in [1, 3, 5, 7, 8, 10, 12]:\n",
    "            return 31\n",
    "        if self.month in [4, 6, 9, 11]:\n",
    "            return 30\n",
    "        if self.month == 2:\n",
    "            if self.isLeap():\n",
    "                return 29\n",
    "            else:\n",
    "                return 28\n",
    "            \n",
    "    def validDate(self):\n",
    "        if self.year < 0:\n",
    "            return False\n",
    "        if self.month <= 0 or self.month > 12:\n",
    "            return False\n",
    "        if self.day <= 0 or self.day > self.totalMonthDays():\n",
    "            return False\n",
    "        return True"
   ]
  },
  {
   "cell_type": "code",
   "execution_count": 2,
   "metadata": {},
   "outputs": [
    {
     "name": "stdout",
     "output_type": "stream",
     "text": [
      "True\n",
      "09 / 02 / 1904\n",
      "29\n",
      "True\n"
     ]
    }
   ],
   "source": [
    "prueba1 = Date(9,2,1904)\n",
    "print(prueba1.isLeap())\n",
    "print(prueba1)\n",
    "print(prueba1.totalMonthDays())\n",
    "print(prueba1.validDate())"
   ]
  },
  {
   "cell_type": "markdown",
   "metadata": {},
   "source": [
    "***Ejercicio 5***\n",
    "\n",
    "Implementa la propiedad .monthName que devuelva el nombre del mes en inglés. Por ejemplo, si nuestra\n",
    "fecha es day = 8, month = 7 y year = 1998, la propiedad debe devolver July."
   ]
  },
  {
   "cell_type": "code",
   "execution_count": 1,
   "metadata": {},
   "outputs": [],
   "source": [
    "def addZero(n, m = 2):\n",
    "    \n",
    "    \"\"\" \n",
    "    Añadirá ceros a la izquierda hasta completar m cifras\n",
    "    n: Número Entero\n",
    "    m: Número entero (cifras totales que tendrá n)\n",
    "    \"\"\"\n",
    "    for i in range(m-1, 0, -1):\n",
    "        if n < 10 ** (m-i):\n",
    "            return \"0\" * i + str(n)\n",
    "        else:\n",
    "            return n\n",
    "\n",
    "class Date():\n",
    "    \n",
    "    def __init__(self, day = 1, month = 1, year = 1):\n",
    "        if type(day) is int and type(month) is int and type(year) is int:\n",
    "            self.day = day\n",
    "            self.month = month\n",
    "            self.year = year\n",
    "        else:\n",
    "            print(\"Los parámetros deben ser de tipo entero\")\n",
    "            \n",
    "            \n",
    "    def __str__(self):\n",
    "        return \"{} / {} / {}\".format(addZero(self.day), addZero(self.month), addZero(self.year, 4))\n",
    "    \n",
    "    def isLeap(self):\n",
    "        if self.year % 4 == 0:\n",
    "            if self.year % 100 == 0:\n",
    "                if self.year % 400 == 0:\n",
    "                    return True\n",
    "                else:\n",
    "                    return False\n",
    "            else:\n",
    "                return True\n",
    "        else:\n",
    "            return False\n",
    "        \n",
    "    def totalMonthDays(self):\n",
    "        if self.month in [1, 3, 5, 7, 8, 10, 12]:\n",
    "            return 31\n",
    "        if self.month in [4, 6, 9, 11]:\n",
    "            return 30\n",
    "        if self.month == 2:\n",
    "            if self.isLeap():\n",
    "                return 29\n",
    "            else:\n",
    "                return 28\n",
    "            \n",
    "    def validDate(self):\n",
    "        if self.year < 0:\n",
    "            return False\n",
    "        if self.month <= 0 or self.month > 12:\n",
    "            return False\n",
    "        if self.day <= 0 or self.day > self.totalMonthDays():\n",
    "            return False\n",
    "        return True\n",
    "    \n",
    "    @property\n",
    "    def monthName(self):\n",
    "        months = [\"January\", \"February\", \"March\", \"April\", \"May\", \"June\",\n",
    "                  \"July\", \"August\", \"September\", \"October\", \"November\", \"December\"]\n",
    "        return months[self.month - 1]"
   ]
  },
  {
   "cell_type": "code",
   "execution_count": 3,
   "metadata": {},
   "outputs": [
    {
     "data": {
      "text/plain": [
       "'February'"
      ]
     },
     "execution_count": 3,
     "metadata": {},
     "output_type": "execute_result"
    }
   ],
   "source": [
    "prueba1.monthName"
   ]
  },
  {
   "cell_type": "markdown",
   "metadata": {},
   "source": [
    "***Ejercicio 6***\n",
    "\n",
    "- Implementa el método estático .areEqual(), que dadas dos fechas diga si son iguales.\n",
    "- Implementa el método estático .isLater(), que dadas dos fechas diga si la primera es posterior a la\n",
    "segunda.\n",
    "- Implementa el método estático .isPrevious(), que dadas dos fechas diga si la primera es anterior a\n",
    "la segunda."
   ]
  },
  {
   "cell_type": "code",
   "execution_count": 9,
   "metadata": {},
   "outputs": [],
   "source": [
    "def addZero(n, m = 2):\n",
    "    \n",
    "    \"\"\" \n",
    "    Añadirá ceros a la izquierda hasta completar m cifras\n",
    "    n: Número Entero\n",
    "    m: Número entero (cifras totales que tendrá n)\n",
    "    \"\"\"\n",
    "    for i in range(m-1, 0, -1):\n",
    "        if n < 10 ** (m-i):\n",
    "            return \"0\" * i + str(n)\n",
    "        else:\n",
    "            return n\n",
    "\n",
    "class Date():\n",
    "    \n",
    "    def __init__(self, day = 1, month = 1, year = 1):\n",
    "        if type(day) is int and type(month) is int and type(year) is int:\n",
    "            self.day = day\n",
    "            self.month = month\n",
    "            self.year = year\n",
    "        else:\n",
    "            print(\"Los parámetros deben ser de tipo entero\")\n",
    "            \n",
    "            \n",
    "    def __str__(self):\n",
    "        return \"{} / {} / {}\".format(addZero(self.day), addZero(self.month), addZero(self.year, 4))\n",
    "    \n",
    "    def isLeap(self):\n",
    "        if self.year % 4 == 0:\n",
    "            if self.year % 100 == 0:\n",
    "                if self.year % 400 == 0:\n",
    "                    return True\n",
    "                else:\n",
    "                    return False\n",
    "            else:\n",
    "                return True\n",
    "        else:\n",
    "            return False\n",
    "        \n",
    "    def totalMonthDays(self):\n",
    "        if self.month in [1, 3, 5, 7, 8, 10, 12]:\n",
    "            return 31\n",
    "        if self.month in [4, 6, 9, 11]:\n",
    "            return 30\n",
    "        if self.month == 2:\n",
    "            if self.isLeap():\n",
    "                return 29\n",
    "            else:\n",
    "                return 28\n",
    "            \n",
    "    def validDate(self):\n",
    "        if self.year < 0:\n",
    "            return False\n",
    "        if self.month <= 0 or self.month > 12:\n",
    "            return False\n",
    "        if self.day <= 0 or self.day > self.totalMonthDays():\n",
    "            return False\n",
    "        return True\n",
    "    \n",
    "    @property\n",
    "    def monthName(self):\n",
    "        months = [\"January\", \"February\", \"March\", \"April\", \"May\", \"June\",\n",
    "                  \"July\", \"August\", \"September\", \"October\", \"November\", \"December\"]\n",
    "        return months[self.month - 1]\n",
    "    \n",
    "    @staticmethod\n",
    "    def areEqual(f1, f2):\n",
    "        if f1.year == f2.year and f1.month == f2.month and f1.day == f2.day:\n",
    "            return True\n",
    "        return False\n",
    "        \n",
    "    @staticmethod\n",
    "    def isLater(f1, f2):\n",
    "        if f1.year > f2.year:\n",
    "            return True\n",
    "        elif f1.year == f2.year:\n",
    "            if f1.month > f2.month:\n",
    "                return True\n",
    "            elif f1.month == f2.month:\n",
    "                if f1.day > f2.day:\n",
    "                    return True\n",
    "                return False\n",
    "            return False\n",
    "        else:\n",
    "            return f2\n",
    "        \n",
    "    @staticmethod\n",
    "    def isPrevious(f1, f2):\n",
    "        if not Date.isLater(f1,f2) and not Date.areEqual(f1,f2):\n",
    "            return True\n",
    "        return False\n",
    "        "
   ]
  },
  {
   "cell_type": "code",
   "execution_count": 41,
   "metadata": {},
   "outputs": [],
   "source": [
    "prueba2 = Date(24,3,1996)"
   ]
  },
  {
   "cell_type": "code",
   "execution_count": 20,
   "metadata": {},
   "outputs": [
    {
     "name": "stdout",
     "output_type": "stream",
     "text": [
      "Prueba 1: 09 / 02 / 1904\n",
      "Prueba 2: 24 / 03 / 1996\n",
      "24 / 03 / 1996\n",
      "False\n",
      "False\n"
     ]
    }
   ],
   "source": [
    "print(\"Prueba 1: {}\\nPrueba 2: {}\".format(prueba1, prueba2))\n",
    "print(Date.isLater(prueba1, prueba2))\n",
    "print(Date.isPrevious(prueba1, prueba2))\n",
    "print(Date.areEqual(prueba1, prueba2))"
   ]
  },
  {
   "cell_type": "code",
   "execution_count": 26,
   "metadata": {},
   "outputs": [
    {
     "name": "stdout",
     "output_type": "stream",
     "text": [
      "Prueba 2: 24 / 03 / 1996\n",
      "Prueba 3: 24 / 03 / 1996\n",
      "False\n",
      "False\n",
      "True\n"
     ]
    }
   ],
   "source": [
    "prueba3 = Date(24,3,1996)\n",
    "print(\"Prueba 2: {}\\nPrueba 3: {}\".format(prueba2, prueba3))\n",
    "print(Date.isLater(prueba2, prueba3))\n",
    "print(Date.isPrevious(prueba2, prueba3))\n",
    "print(Date.areEqual(prueba2, prueba3))"
   ]
  },
  {
   "cell_type": "markdown",
   "metadata": {},
   "source": [
    "***Ejercicio 7***\n",
    "\n",
    "- Implementa el método de clase .firstDayOfTheYear() que dado un año cree un objeto Date con la\n",
    "fecha correspondiente al primer día del año indicado.\n",
    "- Implementa el método de clase .lastDayOfTheYear() que dado un año cree un objeto Date con la\n",
    "fecha correspondiente al último día del año indicado.\n",
    "- Implementa el método de instancia .plusDay() que incremente un día la fecha. Ten en cuenta que si\n",
    "estamos en el último día del mes y añadimos un día, tendremos que cambiar de mes (pasar al siguiente).\n",
    "Y lo mismo si estamos en el último día del año (tendremos que pasar al siguiente año).\n",
    "- Implementa el método de instancia .minusDay() que decremente un día la fecha. Ten en cuenta que si\n",
    "estamos en el primer día del mes y restamos un día, tendremos que cambiar de mes (pasar al anterior).\n",
    "Y lo mismo si estamos en el primer día del año (tendremos que pasar al año anterior)."
   ]
  },
  {
   "cell_type": "code",
   "execution_count": 59,
   "metadata": {},
   "outputs": [],
   "source": [
    "def addZero(n, m = 2):\n",
    "    \n",
    "    \"\"\" \n",
    "    Añadirá ceros a la izquierda hasta completar m cifras\n",
    "    n: Número Entero\n",
    "    m: Número entero (cifras totales que tendrá n)\n",
    "    \"\"\"\n",
    "    for i in range(m-1, 0, -1):\n",
    "        if n < 10 ** (m-i):\n",
    "            return \"0\" * i + str(n)\n",
    "        else:\n",
    "            return n\n",
    "\n",
    "class Date():\n",
    "    \n",
    "    def __init__(self, day = 1, month = 1, year = 1):\n",
    "        if type(day) is int and type(month) is int and type(year) is int:\n",
    "            self.day = day\n",
    "            self.month = month\n",
    "            self.year = year\n",
    "        else:\n",
    "            print(\"Los parámetros deben ser de tipo entero\")\n",
    "            \n",
    "            \n",
    "    def __str__(self):\n",
    "        return \"{} / {} / {}\".format(addZero(self.day), addZero(self.month), addZero(self.year, 4))\n",
    "    \n",
    "    def isLeap(self):\n",
    "        if self.year % 4 == 0:\n",
    "            if self.year % 100 == 0:\n",
    "                if self.year % 400 == 0:\n",
    "                    return True\n",
    "                else:\n",
    "                    return False\n",
    "            else:\n",
    "                return True\n",
    "        else:\n",
    "            return False\n",
    "        \n",
    "    def totalMonthDays(self):\n",
    "        if self.month in [1, 3, 5, 7, 8, 10, 12]:\n",
    "            return 31\n",
    "        if self.month in [4, 6, 9, 11]:\n",
    "            return 30\n",
    "        if self.month == 2:\n",
    "            if self.isLeap():\n",
    "                return 29\n",
    "            else:\n",
    "                return 28\n",
    "            \n",
    "    def validDate(self):\n",
    "        if self.year < 0:\n",
    "            return False\n",
    "        if self.month <= 0 or self.month > 12:\n",
    "            return False\n",
    "        if self.day <= 0 or self.day > self.totalMonthDays():\n",
    "            return False\n",
    "        return True\n",
    "    \n",
    "    @property\n",
    "    def monthName(self):\n",
    "        months = [\"January\", \"February\", \"March\", \"April\", \"May\", \"June\",\n",
    "                  \"July\", \"August\", \"September\", \"October\", \"November\", \"December\"]\n",
    "        return months[self.month - 1]\n",
    "    \n",
    "    @staticmethod\n",
    "    def areEqual(f1, f2):\n",
    "        if f1.year == f2.year and f1.month == f2.month and f1.day == f2.day:\n",
    "            return True\n",
    "        return False\n",
    "        \n",
    "    @staticmethod\n",
    "    def isLater(f1, f2):\n",
    "        if f1.year > f2.year:\n",
    "            return True\n",
    "        elif f1.year == f2.year:\n",
    "            if f1.month > f2.month:\n",
    "                return True\n",
    "            elif f1.month == f2.month:\n",
    "                if f1.day > f2.day:\n",
    "                    return True\n",
    "                return False\n",
    "            return False\n",
    "        else:\n",
    "            return f2\n",
    "        \n",
    "    @staticmethod\n",
    "    def isPrevious(f1, f2):\n",
    "        if not Date.isLater(f1,f2) and not Date.areEqual(f1,f2):\n",
    "            return True\n",
    "        return False\n",
    "        \n",
    "    @classmethod\n",
    "    def firstDayOfTheYear(cls, year):\n",
    "        if year > 0:\n",
    "            return(1,1, year)\n",
    "        else:\n",
    "            return (\"El año suministrado debe ser superior a 0\")\n",
    "        \n",
    "    @classmethod\n",
    "    def lastDayOfTheYear(cls, year):\n",
    "        if year > 0:\n",
    "            return (31, 12, year)\n",
    "        \n",
    "    def plusDay(self):\n",
    "        if Date.areEqual(self, Date.lastDayOfTheYear(self.year)):\n",
    "            self.day = 1\n",
    "            self.month = 1\n",
    "            self.year += 1\n",
    "        elif self.day == self.totalMonthDays():\n",
    "            self.day = 1\n",
    "            self.month += 1\n",
    "        else:\n",
    "            self.day += 1"
   ]
  },
  {
   "cell_type": "code",
   "execution_count": 36,
   "metadata": {},
   "outputs": [
    {
     "name": "stdout",
     "output_type": "stream",
     "text": [
      "(1, 1, 1993)\n"
     ]
    },
    {
     "data": {
      "text/plain": [
       "(31, 12, 1994)"
      ]
     },
     "execution_count": 36,
     "metadata": {},
     "output_type": "execute_result"
    }
   ],
   "source": [
    "prueba4 = Date.firstDayOfTheYear(1993)\n",
    "print(prueba4)\n",
    "Date.lastDayOfTheYear(1994)"
   ]
  }
 ],
 "metadata": {
  "kernelspec": {
   "display_name": "Python 3",
   "language": "python",
   "name": "python3"
  },
  "language_info": {
   "codemirror_mode": {
    "name": "ipython",
    "version": 3
   },
   "file_extension": ".py",
   "mimetype": "text/x-python",
   "name": "python",
   "nbconvert_exporter": "python",
   "pygments_lexer": "ipython3",
   "version": "3.8.5"
  }
 },
 "nbformat": 4,
 "nbformat_minor": 4
}
