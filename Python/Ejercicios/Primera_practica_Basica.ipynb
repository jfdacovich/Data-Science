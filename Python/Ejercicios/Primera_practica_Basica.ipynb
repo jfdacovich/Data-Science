{
 "cells": [
  {
   "cell_type": "markdown",
   "metadata": {},
   "source": [
    "# Desafíos básicos\n",
    "## Primer Ejercicio\n",
    "\n",
    "En este desafío, creará un contandor de calorías que solicita al usuario lo siguiente:\n",
    "- La fecha actual (En cualquier formato)\n",
    "- Calorías ingeridas en el desayuno\n",
    "- Calorias ingeridas en la comida\n",
    "- Calorías ingeridas en la cena\n",
    "- Calorías ingeridas en tentempiés\n",
    "Después, el programa sumará todas las calorías y les dara formato de mensaje.\n"
   ]
  },
  {
   "cell_type": "code",
   "execution_count": 1,
   "metadata": {
    "scrolled": true
   },
   "outputs": [
    {
     "name": "stdout",
     "output_type": "stream",
     "text": [
      "¿Qué día es hoy?\n",
      "10\n",
      "Calorías desayuno\n",
      "50\n",
      "Calorías comida\n",
      "150\n",
      "Calorías cena\n",
      "26\n",
      "Calorías merienda\n",
      "40\n",
      "Las Calorías totales del día 10 son: 266\n"
     ]
    }
   ],
   "source": [
    "# Creamos las variables del contador\n",
    "print (\"¿Qué día es hoy?\")\n",
    "date = input()\n",
    "print (\"Calorías desayuno\")\n",
    "breakfast = int(input())\n",
    "print (\"Calorías comida\")\n",
    "lunch = int(input())\n",
    "print (\"Calorías cena\")\n",
    "dinner = int(input())\n",
    "print (\"Calorías merienda\")\n",
    "snack = int(input())\n",
    "total_calorias = breakfast + lunch + dinner + snack\n",
    "print(\"Las Calorías totales del día \" + date + \" son: \" + str(total_calorias))"
   ]
  },
  {
   "cell_type": "markdown",
   "metadata": {},
   "source": [
    "***\n",
    "## Segundo Ejercicio: Escribir código en el archivo nuevo para resolver el desafío\n",
    "Escriba un programa corto que haga lo siguiente:\n",
    "- En primer lugar, pregunte al usuario si quiere continuar o no.\n",
    "  Si el usuario responde con 'no' o 'n' imprima la frase 'exiting'.\n",
    "  Obtenga la salida siguiente en este escenario de 'no'. El usuario ha especificado 'no' cuando se le solicitó.\n",
    "```{pseudo-code}\n",
    "output\n",
    "Would you like to continue? no\n",
    "Exiting\n",
    "```\n",
    "\n",
    "Si el usuario responde con \"yes\" o \"y\", imprima la frase \"Continuing...\" y \"Complete!\".\n",
    "Obtenga la salida siguiente en este escenario de \"yes\". El usuario ha especificado \"yes\" cuando se le solicitó.\n",
    "\n",
    "```{pseudo-code}\n",
    "Would you like to continue? yes\n",
    "Continuing...\n",
    "Complete!\n",
    "```"
   ]
  },
  {
   "cell_type": "code",
   "execution_count": 2,
   "metadata": {},
   "outputs": [
    {
     "name": "stdout",
     "output_type": "stream",
     "text": [
      "Quieres seguir?, por favor coloca tu respuesta en minúsculas: y\n",
      "Continuing...\n",
      "Complete!\n"
     ]
    }
   ],
   "source": [
    "respuesta = input(\"Quieres seguir?, por favor coloca tu respuesta en minúsculas: \")\n",
    "\n",
    "if respuesta == \"y\" or respuesta == \"yes\":\n",
    "    print(\"Continuing...\")\n",
    "    print(\"Complete!\")\n",
    "elif respuesta == \"not\" or respuesta == \"n\":\n",
    "    print(\"exiting\")\n",
    "else:\n",
    "      print(\"Intenta contestar nuevamente yes or not\")"
   ]
  },
  {
   "cell_type": "code",
   "execution_count": 3,
   "metadata": {},
   "outputs": [
    {
     "name": "stdout",
     "output_type": "stream",
     "text": [
      "Would you like to continue? no\n",
      "Exiting\n"
     ]
    }
   ],
   "source": [
    "r_afirmativa = (\"y\",\"yes\")\n",
    "r_negativa = (\"n\", \"no\")\n",
    "respuesta = input (\"Would you like to continue? \")\n",
    "if respuesta in r_afirmativa:\n",
    "    print (\"Continuing...\\nComplete!\")\n",
    "elif respuesta in r_negativa:\n",
    "    print (\"Exiting\")\n",
    "else:\n",
    "    print (\"Por favor introduzca yes o no\")"
   ]
  },
  {
   "cell_type": "markdown",
   "metadata": {},
   "source": [
    "*************\n",
    "## Tercer ejercicio"
   ]
  },
  {
   "cell_type": "markdown",
   "metadata": {},
   "source": [
    "Escribir un programa que convierta la temperatura de Fahrenheit a Celsius\n",
    "En este código se muestra la fórmula matemática para convertir una temperatura medida en grados Fahrenheit a una temperatura medida en grados Celsius:\n",
    "Si el usuario escribe el valor 55, el programa debe generar este resultado:\n",
    "\n",
    "Resultados Copiar\n",
    "```{pseudo-code}\n",
    "celsius = (fahrenheit - 32) * 5/9\n",
    "```\n",
    "Use esta fórmula para compilar un programa que solicite a los usuarios una temperatura en grados Fahrenheit, realice la conversión a Celsius y, después, muestre la temperatura en grados Celsius.\n",
    "Si el usuario escribe el valor 55, el programa debe generar este resultado:;\n",
    "```{pseudo-code} \n",
    "What is the temperature in fahrenheit? 55\n",
    "Temperature in celsius is 12\n",
    "```\n",
    "pero si el usuario escribe un valor no válido, el programa debe indicarle que hay un problema y, después, cerrar el programa. En este caso, si el usuario escribe el valor Bob, el programa debe generar este resultado:\n",
    "\n",
    "Resultados Copiar\n",
    "\n",
    "```{pseudo-code}\n",
    "What is the temperature in fahrenheit?  bob\n",
    "Input is not a number.\n",
    "```\n",
    "\n",
    "Nota\n",
    "\n",
    "Para comprobar el trabajo, use un conversor de temperatura en línea y confirme que el resultado del programa coincide con el del conversor.\n",
    "\n",
    "Tanto si tiene dificultades y necesita echar un vistazo a la solución como si finaliza el ejercicio correctamente, continúe para ver una solución a este desafío.\n",
    "\n",
    "## Formula de conversión: Celsius = Farenheit - 32 * 5/9 "
   ]
  },
  {
   "cell_type": "code",
   "execution_count": 1,
   "metadata": {},
   "outputs": [
    {
     "name": "stdout",
     "output_type": "stream",
     "text": [
      "Cual es la temperatura FAH de: 44\n",
      "Temperature in celsius is 6\n"
     ]
    }
   ],
   "source": [
    "fahrenheit = input(\"Cual es la temperatura FAH de: \")\n",
    "if fahrenheit.isnumeric() == False:\n",
    "    print(\"Input is not a number\")\n",
    "    exit()\n",
    "fahrenheit = int(fahrenheit)\n",
    "\n",
    "celsius = int((fahrenheit - 32) * 5/9)\n",
    "print(\"Temperature in celsius is \"+ str(celsius))"
   ]
  },
  {
   "cell_type": "markdown",
   "metadata": {},
   "source": [
    "## Cuarto Ejercicio: Realizar una calculadora\n",
    "Cree una calculadora sencilla que acepte un primer número, una operación y un segundo número.\n",
    "\n",
    "Este es un resultado de ejemplo, en el que un usuario ha escrito 4, ** y 5* en los cuadros de entrada:\n",
    "\n",
    "```{pseudo-code} \n",
    "output\n",
    "Simple calculator!\n",
    "First number? 4\n",
    "Operation? *\n",
    "Second number? 5\n",
    "product of 4 * 5 equals 20\n",
    "```\n",
    "El programa debe aceptar un símbolo, como el símbolo de asterisco (*), para realizar una multiplicación y generar un producto. Asegúrese de implementar lógica para estos resultados:\n",
    "\n",
    "\n",
    "Suma\n",
    "Resta\n",
    "Multiplicación\n",
    "Cociente\n",
    "Exponente\n",
    "Módulo\n",
    "Si el usuario no escribe un valor numérico, muestre este mensaje:\n",
    "\n",
    "```{pseudo-code}\n",
    "output\n",
    "Please input a number.\n",
    "```\n",
    "Si el usuario escribe una operación que no se reconoce, muestre este mensaje:\n",
    "\n",
    "```{pseudo-code}\n",
    "output\n",
    "Operation not recognized.\n",
    "```\n",
    "Tanto si tiene dificultades y necesita echar un vistazo a la solución como si finaliza el ejercicio correctamente, continúe para ver una solución a este desafío."
   ]
  },
  {
   "cell_type": "code",
   "execution_count": 10,
   "metadata": {},
   "outputs": [
    {
     "name": "stdout",
     "output_type": "stream",
     "text": [
      "Ingresa tu primer dato: 150\n",
      "ingresa el segundo dato: 54\n",
      "Ingresa el operador: *\n",
      "8100\n"
     ]
    }
   ],
   "source": [
    "dato_1 = input(\"Ingresa tu primer dato: \" )\n",
    "dato_2 = input(\"ingresa el segundo dato: \" )\n",
    "op = input(\"Ingresa el operador: \")\n",
    "\n",
    "if dato_1.isnumeric () == False:\n",
    "    print(\"El primer dato que haz introducido no es numérico\")\n",
    "    \n",
    "if dato_1.isalnum () == False:\n",
    "    print(\"No está permitido introducir caracteres especiales\")\n",
    "    \n",
    "# también habría que controlar si incluyen o no carateres especiales, no estoy seguro si sea la manera.\n",
    "    \n",
    "if dato_2.isnumeric () == False:\n",
    "    print (\"El segundo dato que haz introducido no es numérico\")\n",
    "    \n",
    "if dato_2.isalnum () == False:\n",
    "    print(\"No está permitido introducir caracteres especiales\")\n",
    "\n",
    "dato_1 = int(dato_1)\n",
    "dato_2 = int(dato_2)\n",
    "    \n",
    "if op == \"+\":\n",
    "    print (dato_1 + dato_2)\n",
    "elif op == \"-\":\n",
    "    print (dato_1 - dato_2)\n",
    "elif op == \"*\":\n",
    "    print(dato_1 * dato_2)\n",
    "elif op == \"/\":\n",
    "    print(dato_1 / dato_2)\n",
    "elif op == \"%\":\n",
    "    print(dato_1 % dato_2)\n",
    "elif op == \"**\":\n",
    "    print(dato_1 ** dato_2)\n",
    "    \n",
    "# Mejorar"
   ]
  },
  {
   "cell_type": "code",
   "execution_count": 12,
   "metadata": {},
   "outputs": [
    {
     "name": "stdout",
     "output_type": "stream",
     "text": [
      "Introduzca un número 50\n",
      "Introduzca otro número bob\n",
      "Introduzca +, -, *, /, //, % /\n",
      "Error: Please input a number\n"
     ]
    }
   ],
   "source": [
    "# Noe\n",
    "a=input(\"Introduzca un número \")\n",
    "b=input(\"Introduzca otro número \")\n",
    "operacion=input(\"Introduzca +, -, *, /, //, % \")\n",
    "operadores = [\"+\" , \"-\" , \"*\" , \"/\" , \"//\" , \"%\"]\n",
    "try:\n",
    "    a=float(a)\n",
    "    b=float(b)\n",
    "    if operacion not in operadores:\n",
    "        print(\"Error: Operation not recognized\")\n",
    "    else:\n",
    "        if operacion== \"+\":\n",
    "            resultado= a+b\n",
    "        if operacion== \"-\":\n",
    "            resultado= a-b\n",
    "        if operacion== \"*\":\n",
    "            resultado= a*b\n",
    "        if operacion== \"/\":\n",
    "            resultado= a/b\n",
    "        if operacion== \"//\":\n",
    "            resultado= a//b\n",
    "        if operacion== \"%\":\n",
    "            resultado= a%b\n",
    "        print(resultado)\n",
    "except: \n",
    "    print(\"Error: Please input a number\")"
   ]
  }
 ],
 "metadata": {
  "kernelspec": {
   "display_name": "Python 3",
   "language": "python",
   "name": "python3"
  },
  "language_info": {
   "codemirror_mode": {
    "name": "ipython",
    "version": 3
   },
   "file_extension": ".py",
   "mimetype": "text/x-python",
   "name": "python",
   "nbconvert_exporter": "python",
   "pygments_lexer": "ipython3",
   "version": "3.8.5"
  }
 },
 "nbformat": 4,
 "nbformat_minor": 4
}
