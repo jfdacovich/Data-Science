{
 "cells": [
  {
   "cell_type": "code",
   "execution_count": 2,
   "metadata": {},
   "outputs": [],
   "source": [
    "import pandas as pd\n",
    "import numpy as np\n",
    "import matplotlib.pyplot as plt"
   ]
  },
  {
   "cell_type": "markdown",
   "metadata": {},
   "source": [
    "## National Survey of Family Growth (NSFG) | Encuesta Nacional de Crecimiento Familiar"
   ]
  },
  {
   "cell_type": "code",
   "execution_count": 5,
   "metadata": {},
   "outputs": [],
   "source": [
    "nsfg = pd.read_hdf('../../../nsfg.hdf5', 'nsfg')"
   ]
  },
  {
   "cell_type": "code",
   "execution_count": 6,
   "metadata": {},
   "outputs": [
    {
     "data": {
      "text/html": [
       "<div>\n",
       "<style scoped>\n",
       "    .dataframe tbody tr th:only-of-type {\n",
       "        vertical-align: middle;\n",
       "    }\n",
       "\n",
       "    .dataframe tbody tr th {\n",
       "        vertical-align: top;\n",
       "    }\n",
       "\n",
       "    .dataframe thead th {\n",
       "        text-align: right;\n",
       "    }\n",
       "</style>\n",
       "<table border=\"1\" class=\"dataframe\">\n",
       "  <thead>\n",
       "    <tr style=\"text-align: right;\">\n",
       "      <th></th>\n",
       "      <th>caseid</th>\n",
       "      <th>outcome</th>\n",
       "      <th>birthwgt_lb1</th>\n",
       "      <th>birthwgt_oz1</th>\n",
       "      <th>prglngth</th>\n",
       "      <th>nbrnaliv</th>\n",
       "      <th>agecon</th>\n",
       "      <th>agepreg</th>\n",
       "      <th>hpagelb</th>\n",
       "      <th>wgt2013_2015</th>\n",
       "    </tr>\n",
       "  </thead>\n",
       "  <tbody>\n",
       "    <tr>\n",
       "      <th>0</th>\n",
       "      <td>60418</td>\n",
       "      <td>1</td>\n",
       "      <td>5.0</td>\n",
       "      <td>4.0</td>\n",
       "      <td>40</td>\n",
       "      <td>1.0</td>\n",
       "      <td>2000</td>\n",
       "      <td>2075.0</td>\n",
       "      <td>22.0</td>\n",
       "      <td>3554.964843</td>\n",
       "    </tr>\n",
       "    <tr>\n",
       "      <th>1</th>\n",
       "      <td>60418</td>\n",
       "      <td>1</td>\n",
       "      <td>4.0</td>\n",
       "      <td>12.0</td>\n",
       "      <td>36</td>\n",
       "      <td>1.0</td>\n",
       "      <td>2291</td>\n",
       "      <td>2358.0</td>\n",
       "      <td>25.0</td>\n",
       "      <td>3554.964843</td>\n",
       "    </tr>\n",
       "    <tr>\n",
       "      <th>2</th>\n",
       "      <td>60418</td>\n",
       "      <td>1</td>\n",
       "      <td>5.0</td>\n",
       "      <td>4.0</td>\n",
       "      <td>36</td>\n",
       "      <td>1.0</td>\n",
       "      <td>3241</td>\n",
       "      <td>3308.0</td>\n",
       "      <td>52.0</td>\n",
       "      <td>3554.964843</td>\n",
       "    </tr>\n",
       "    <tr>\n",
       "      <th>3</th>\n",
       "      <td>60419</td>\n",
       "      <td>6</td>\n",
       "      <td>NaN</td>\n",
       "      <td>NaN</td>\n",
       "      <td>33</td>\n",
       "      <td>NaN</td>\n",
       "      <td>3650</td>\n",
       "      <td>NaN</td>\n",
       "      <td>NaN</td>\n",
       "      <td>2484.535358</td>\n",
       "    </tr>\n",
       "    <tr>\n",
       "      <th>4</th>\n",
       "      <td>60420</td>\n",
       "      <td>1</td>\n",
       "      <td>8.0</td>\n",
       "      <td>13.0</td>\n",
       "      <td>41</td>\n",
       "      <td>1.0</td>\n",
       "      <td>2191</td>\n",
       "      <td>2266.0</td>\n",
       "      <td>24.0</td>\n",
       "      <td>2903.782914</td>\n",
       "    </tr>\n",
       "  </tbody>\n",
       "</table>\n",
       "</div>"
      ],
      "text/plain": [
       "   caseid  outcome  birthwgt_lb1  birthwgt_oz1  prglngth  nbrnaliv  agecon  \\\n",
       "0   60418        1           5.0           4.0        40       1.0    2000   \n",
       "1   60418        1           4.0          12.0        36       1.0    2291   \n",
       "2   60418        1           5.0           4.0        36       1.0    3241   \n",
       "3   60419        6           NaN           NaN        33       NaN    3650   \n",
       "4   60420        1           8.0          13.0        41       1.0    2191   \n",
       "\n",
       "   agepreg  hpagelb  wgt2013_2015  \n",
       "0   2075.0     22.0   3554.964843  \n",
       "1   2358.0     25.0   3554.964843  \n",
       "2   3308.0     52.0   3554.964843  \n",
       "3      NaN      NaN   2484.535358  \n",
       "4   2266.0     24.0   2903.782914  "
      ]
     },
     "execution_count": 6,
     "metadata": {},
     "output_type": "execute_result"
    }
   ],
   "source": [
    "# Observamos las primeras observaciones relativas a cada embarazo que forma parte de la muestra\n",
    "nsfg.head()"
   ]
  },
  {
   "cell_type": "code",
   "execution_count": 7,
   "metadata": {},
   "outputs": [
    {
     "name": "stdout",
     "output_type": "stream",
     "text": [
      "El dataset contiene 9358 filas y 10 columnas\n",
      "Variables: Index(['caseid', 'outcome', 'birthwgt_lb1', 'birthwgt_oz1', 'prglngth',\n",
      "       'nbrnaliv', 'agecon', 'agepreg', 'hpagelb', 'wgt2013_2015'],\n",
      "      dtype='object')\n"
     ]
    }
   ],
   "source": [
    "print(\"El dataset contiene {} filas y {} columnas\".format(nsfg.shape[0],nsfg.shape[1]))\n",
    "print(\"Variables:\",nsfg.columns)"
   ]
  },
  {
   "cell_type": "code",
   "execution_count": 8,
   "metadata": {},
   "outputs": [
    {
     "data": {
      "text/html": [
       "<div>\n",
       "<style scoped>\n",
       "    .dataframe tbody tr th:only-of-type {\n",
       "        vertical-align: middle;\n",
       "    }\n",
       "\n",
       "    .dataframe tbody tr th {\n",
       "        vertical-align: top;\n",
       "    }\n",
       "\n",
       "    .dataframe thead th {\n",
       "        text-align: right;\n",
       "    }\n",
       "</style>\n",
       "<table border=\"1\" class=\"dataframe\">\n",
       "  <thead>\n",
       "    <tr style=\"text-align: right;\">\n",
       "      <th></th>\n",
       "      <th>caseid</th>\n",
       "      <th>outcome</th>\n",
       "      <th>birthwgt_lb1</th>\n",
       "      <th>birthwgt_oz1</th>\n",
       "      <th>prglngth</th>\n",
       "      <th>nbrnaliv</th>\n",
       "      <th>agecon</th>\n",
       "      <th>agepreg</th>\n",
       "      <th>hpagelb</th>\n",
       "      <th>wgt2013_2015</th>\n",
       "    </tr>\n",
       "  </thead>\n",
       "  <tbody>\n",
       "    <tr>\n",
       "      <th>count</th>\n",
       "      <td>9358.000000</td>\n",
       "      <td>9358.000000</td>\n",
       "      <td>6485.000000</td>\n",
       "      <td>6391.000000</td>\n",
       "      <td>9358.000000</td>\n",
       "      <td>6485.000000</td>\n",
       "      <td>9358.000000</td>\n",
       "      <td>9109.000000</td>\n",
       "      <td>6485.000000</td>\n",
       "      <td>9358.000000</td>\n",
       "    </tr>\n",
       "    <tr>\n",
       "      <th>mean</th>\n",
       "      <td>65502.392605</td>\n",
       "      <td>1.773990</td>\n",
       "      <td>8.055204</td>\n",
       "      <td>7.213895</td>\n",
       "      <td>29.896345</td>\n",
       "      <td>1.018042</td>\n",
       "      <td>2446.330199</td>\n",
       "      <td>2494.934570</td>\n",
       "      <td>28.992136</td>\n",
       "      <td>10759.200147</td>\n",
       "    </tr>\n",
       "    <tr>\n",
       "      <th>std</th>\n",
       "      <td>2953.471315</td>\n",
       "      <td>1.348648</td>\n",
       "      <td>11.178893</td>\n",
       "      <td>8.254885</td>\n",
       "      <td>13.685389</td>\n",
       "      <td>0.160433</td>\n",
       "      <td>579.392363</td>\n",
       "      <td>578.099231</td>\n",
       "      <td>10.367124</td>\n",
       "      <td>11400.179222</td>\n",
       "    </tr>\n",
       "    <tr>\n",
       "      <th>min</th>\n",
       "      <td>60418.000000</td>\n",
       "      <td>1.000000</td>\n",
       "      <td>0.000000</td>\n",
       "      <td>0.000000</td>\n",
       "      <td>0.000000</td>\n",
       "      <td>1.000000</td>\n",
       "      <td>750.000000</td>\n",
       "      <td>825.000000</td>\n",
       "      <td>5.000000</td>\n",
       "      <td>1859.105000</td>\n",
       "    </tr>\n",
       "    <tr>\n",
       "      <th>25%</th>\n",
       "      <td>62875.750000</td>\n",
       "      <td>1.000000</td>\n",
       "      <td>6.000000</td>\n",
       "      <td>3.000000</td>\n",
       "      <td>14.000000</td>\n",
       "      <td>1.000000</td>\n",
       "      <td>1983.000000</td>\n",
       "      <td>2041.000000</td>\n",
       "      <td>23.000000</td>\n",
       "      <td>4340.053407</td>\n",
       "    </tr>\n",
       "    <tr>\n",
       "      <th>50%</th>\n",
       "      <td>65499.000000</td>\n",
       "      <td>1.000000</td>\n",
       "      <td>7.000000</td>\n",
       "      <td>6.000000</td>\n",
       "      <td>38.000000</td>\n",
       "      <td>1.000000</td>\n",
       "      <td>2366.000000</td>\n",
       "      <td>2416.000000</td>\n",
       "      <td>27.000000</td>\n",
       "      <td>7062.994158</td>\n",
       "    </tr>\n",
       "    <tr>\n",
       "      <th>75%</th>\n",
       "      <td>68111.000000</td>\n",
       "      <td>2.000000</td>\n",
       "      <td>8.000000</td>\n",
       "      <td>11.000000</td>\n",
       "      <td>39.000000</td>\n",
       "      <td>1.000000</td>\n",
       "      <td>2850.000000</td>\n",
       "      <td>2900.000000</td>\n",
       "      <td>33.000000</td>\n",
       "      <td>12629.322982</td>\n",
       "    </tr>\n",
       "    <tr>\n",
       "      <th>max</th>\n",
       "      <td>70619.000000</td>\n",
       "      <td>6.000000</td>\n",
       "      <td>99.000000</td>\n",
       "      <td>99.000000</td>\n",
       "      <td>48.000000</td>\n",
       "      <td>8.000000</td>\n",
       "      <td>4350.000000</td>\n",
       "      <td>4350.000000</td>\n",
       "      <td>99.000000</td>\n",
       "      <td>75399.410000</td>\n",
       "    </tr>\n",
       "  </tbody>\n",
       "</table>\n",
       "</div>"
      ],
      "text/plain": [
       "             caseid      outcome  birthwgt_lb1  birthwgt_oz1     prglngth  \\\n",
       "count   9358.000000  9358.000000   6485.000000   6391.000000  9358.000000   \n",
       "mean   65502.392605     1.773990      8.055204      7.213895    29.896345   \n",
       "std     2953.471315     1.348648     11.178893      8.254885    13.685389   \n",
       "min    60418.000000     1.000000      0.000000      0.000000     0.000000   \n",
       "25%    62875.750000     1.000000      6.000000      3.000000    14.000000   \n",
       "50%    65499.000000     1.000000      7.000000      6.000000    38.000000   \n",
       "75%    68111.000000     2.000000      8.000000     11.000000    39.000000   \n",
       "max    70619.000000     6.000000     99.000000     99.000000    48.000000   \n",
       "\n",
       "          nbrnaliv       agecon      agepreg      hpagelb  wgt2013_2015  \n",
       "count  6485.000000  9358.000000  9109.000000  6485.000000   9358.000000  \n",
       "mean      1.018042  2446.330199  2494.934570    28.992136  10759.200147  \n",
       "std       0.160433   579.392363   578.099231    10.367124  11400.179222  \n",
       "min       1.000000   750.000000   825.000000     5.000000   1859.105000  \n",
       "25%       1.000000  1983.000000  2041.000000    23.000000   4340.053407  \n",
       "50%       1.000000  2366.000000  2416.000000    27.000000   7062.994158  \n",
       "75%       1.000000  2850.000000  2900.000000    33.000000  12629.322982  \n",
       "max       8.000000  4350.000000  4350.000000    99.000000  75399.410000  "
      ]
     },
     "execution_count": 8,
     "metadata": {},
     "output_type": "execute_result"
    }
   ],
   "source": [
    "nsfg.describe()"
   ]
  },
  {
   "cell_type": "markdown",
   "metadata": {},
   "source": [
    "### Variable `birthwgt_lb1` y `birthwgt_oz1`representan las libras y onzas del bebé "
   ]
  },
  {
   "cell_type": "code",
   "execution_count": 9,
   "metadata": {},
   "outputs": [
    {
     "name": "stdout",
     "output_type": "stream",
     "text": [
      "0.0        6\n",
      "1.0       34\n",
      "2.0       47\n",
      "3.0       67\n",
      "4.0      196\n",
      "5.0      586\n",
      "6.0     1666\n",
      "7.0     2146\n",
      "8.0     1168\n",
      "9.0      363\n",
      "10.0      82\n",
      "11.0      17\n",
      "12.0       7\n",
      "13.0       2\n",
      "14.0       2\n",
      "17.0       1\n",
      "98.0       1\n",
      "99.0      94\n",
      "Name: birthwgt_lb1, dtype: int64\n"
     ]
    }
   ],
   "source": [
    "# almacenaremos en cada variable los datos contenidos en las variables\n",
    "pounds = nsfg['birthwgt_lb1']\n",
    "print(pounds.value_counts().sort_index())"
   ]
  },
  {
   "cell_type": "code",
   "execution_count": 10,
   "metadata": {},
   "outputs": [],
   "source": [
    "# Reemplazaremos aquellos valores que hacen que nuestra media se ve afectada al tratarse de valores atípicos\n",
    "pounds = pounds.replace([98, 99], np.nan)\n",
    "ounces = nsfg['birthwgt_oz1']\n",
    "ounces.replace([98, 99], np.nan, inplace=True)"
   ]
  },
  {
   "cell_type": "code",
   "execution_count": 11,
   "metadata": {},
   "outputs": [
    {
     "data": {
      "image/png": "[encoded data removed]",
      "text/plain": [
       "<Figure size 432x288 with 1 Axes>"
      ]
     },
     "metadata": {
      "needs_background": "light"
     },
     "output_type": "display_data"
    }
   ],
   "source": [
    "# Creamos una variable que contenga el peso del bebe\n",
    "birth_weight = pounds + ounces / 16.0\n",
    "# Graficaremos un histograma\n",
    "plt.hist(birth_weight.dropna(), bins=30) #psamos dropna para que devuelva una serie que contiene solo valores válidos \n",
    "# bins= dividira en 30 intervalos los pesos\n",
    "plt.xlabel('Birth weight (lb)')\n",
    "plt.ylabel('Fraction of births')\n",
    "plt.show()\n",
    "# A simple vista pareciera que hay más bebés livianos de peso que pesados, y esto es debido a que en la distribución \n",
    "# existen bebés que nacieron de forma prematura"
   ]
  },
  {
   "cell_type": "markdown",
   "metadata": {},
   "source": [
    "Primera Interrogante: \n",
    " - Peso promedio al nacer de los bebes en Estados Unidos"
   ]
  },
  {
   "cell_type": "markdown",
   "metadata": {},
   "source": [
    "### Variable `nbrnaliv`: registra el numero de bebés que nacen con vida al final del embarazo"
   ]
  },
  {
   "cell_type": "code",
   "execution_count": 12,
   "metadata": {},
   "outputs": [
    {
     "data": {
      "text/plain": [
       "1.0    6379\n",
       "2.0     100\n",
       "3.0       5\n",
       "8.0       1\n",
       "Name: nbrnaliv, dtype: int64"
      ]
     },
     "execution_count": 12,
     "metadata": {},
     "output_type": "execute_result"
    }
   ],
   "source": [
    "nsfg.nbrnaliv.value_counts() \n",
    "# Podemos observar que tenemos un valor que corresponde a la observacion '8', es decir, no responden la pregunta"
   ]
  },
  {
   "cell_type": "code",
   "execution_count": 13,
   "metadata": {},
   "outputs": [
    {
     "data": {
      "text/plain": [
       "1.0    6379\n",
       "2.0     100\n",
       "3.0       5\n",
       "Name: nbrnaliv, dtype: int64"
      ]
     },
     "execution_count": 13,
     "metadata": {},
     "output_type": "execute_result"
    }
   ],
   "source": [
    "# Reemplazaremos la observación por \"NAN\"\n",
    "nsfg['nbrnaliv'].replace(8, np.nan, inplace=True)\n",
    "nsfg.nbrnaliv.value_counts() "
   ]
  },
  {
   "cell_type": "code",
   "execution_count": 14,
   "metadata": {},
   "outputs": [
    {
     "data": {
      "text/plain": [
       "array([ 1., nan,  2.,  3.])"
      ]
     },
     "execution_count": 14,
     "metadata": {},
     "output_type": "execute_result"
    }
   ],
   "source": [
    "# Observamos las etiquetas que conforman la variable\n",
    "nsfg.nbrnaliv.unique()"
   ]
  },
  {
   "cell_type": "markdown",
   "metadata": {},
   "source": [
    "Variable `agecon` representa la edad de concepción y `agepreg` representa la edad al final del embarazo."
   ]
  },
  {
   "cell_type": "code",
   "execution_count": 15,
   "metadata": {},
   "outputs": [
    {
     "data": {
      "text/plain": [
       "agecon       int64\n",
       "agepreg    float64\n",
       "dtype: object"
      ]
     },
     "execution_count": 15,
     "metadata": {},
     "output_type": "execute_result"
    }
   ],
   "source": [
    "# Observamos el tipo\n",
    "nsfg[['agecon', 'agepreg']].dtypes"
   ]
  },
  {
   "cell_type": "code",
   "execution_count": 16,
   "metadata": {},
   "outputs": [
    {
     "name": "stdout",
     "output_type": "stream",
     "text": [
      "[2000 2291 3241 3650 2191 3391 2366 2866 2133 2333 2600 1858 1991 2208\n",
      " 2491 2766 2858 2983 3125 3250 2666 2225 2166 2575 2725 1966 2658 1633\n",
      " 2958 3933 3975 1558 1691 2075 2625 2950 1708 2183 1583 1466 2266 2700\n",
      " 3141 2008 2450 3016 3100 2733 1750 1900 2041 2408 2675 3583 1775 2091\n",
      " 3300 3558 1875 2150 2500 2608 3475 2633 3375 2683 1933 2516 1525 3283\n",
      " 1783 1925 2825 2108 2808 3025 2175 2441 2591 3366 1825 1883 2391 2216\n",
      " 2383 3208 2350 3350 3383 3550 2933 3066 3116 3575 3750 3991 3091 3408\n",
      " 2891 2250 2433 2583 1491 1675 1816 2241 2650 3108 2691 2283 2541 2800\n",
      " 2908 3766 1741 2275 3225 3541 2050 2025 1433 2358 3000 3458 3633 2116\n",
      " 1666 2416 3658 3708 4016 1550 3216 1758 1850 2125 2641 3433 3400 1808\n",
      " 2558 2533 2783 1358 1650 2100 2466 2791 3050 2141 1383 1800 2016 3008\n",
      " 3900 1641 1866 2233 2750 2875 2550 1700 1950 1841 2425 2375 2975 2775\n",
      " 2033 1716 1983 3291 3775 3333 3616 2400 2833 3341 3083 1941 2200 3258\n",
      " 3158 3266 3725 3183 1733 2741 1450 1658 2458 3441 1916 2325 1891 3566\n",
      " 2066 1250 1566 2258 4000 2083 2483 2566 1600 2883 1458 1616 2158 1958\n",
      " 2616 3666 3075 1483 1725 2941 3641 3700 2708 2525 3233 3041 2300 3483\n",
      " 2758 3608 3033 1625 1833 2341 1791 3358 1908 3200 2900 3191 3325 2316\n",
      " 3058 3416 2991 2475 3166 2841 3150 1591 3175 2925 3275 3591 1541 3808\n",
      " 2508 1400 3600 3450 3466 4025 4116 4216 1975 3316 3491 2058 2850 3758\n",
      " 2966 1608 3308 3875 1408 2916 2308 1533 4075 1508 1325 3791 3683 3716\n",
      " 1500 1375 3133 3733 1683 3891 3533 1766 3800 1942 1992 2017 1300 3741\n",
      " 3508 3841 2716 1391 3858 3825 1516 2816 1416 3525 3850 4050 4291 3516\n",
      " 3908 3950 4033 1575 3691 1425 1667 2167 2242 3425 4141 3783 3833 1108\n",
      " 3500 1275 3866  950 1475 1200 1075 1366 4266 1316 1350 3816 3625 3983\n",
      " 4083 2392 4100 1441 1283 1166 2217 2342 1341 3916 4058 3966 4108 3958\n",
      " 3675 4183 4250 4333 1308 3941 4166 4208  750  833  925 3925 4041 1066\n",
      " 4133 4233 4325 4350]\n",
      "[2075. 2358. 3308.   nan 2266. 3391. 2433. 2933. 3258. 3466. 2200. 2400.\n",
      " 2608. 1891. 2066. 2275. 2566. 2775. 2875. 3058. 3133. 3325. 2741. 2991.\n",
      " 2300. 2233. 2591. 2783. 2033. 2716. 1708. 3033. 3950. 4050. 1633. 1766.\n",
      " 2141. 2700. 3025. 1783. 2258. 1591. 1533. 2025. 2333. 2766. 3208. 2083.\n",
      " 2458. 3016. 3175. 2808. 1750. 1975. 2108. 2750. 3650. 1841. 2166. 3316.\n",
      " 3625. 1950. 2225. 2525. 2650. 3491. 2641. 3383. 2708. 2758. 3083. 2008.\n",
      " 2583. 2216. 3333. 1808. 2675. 2850. 2125. 2941. 2883. 2441. 2575. 2891.\n",
      " 3366. 1958. 2466. 2291. 2450. 3275. 2425. 3358. 3458. 3008. 3075. 3183.\n",
      " 3441. 3825. 3166. 3475. 1816. 2733. 2900. 2966. 2316. 2500. 2600. 1566.\n",
      " 1925. 2725. 3191. 2958. 2175. 2416. 2533. 2250. 2858. 2975. 3833. 1741.\n",
      " 2350. 2058. 3300. 3616. 1900. 2241. 2091. 1500. 1733. 1825. 3000. 3100.\n",
      " 3533. 3708. 1683. 2491. 2158. 2283. 3666. 3783. 4083. 1616. 3283. 1800.\n",
      " 2666. 1600. 1991. 2625. 1433. 1725. 2000. 3116. 1400. 3975. 3416. 1716.\n",
      " 2116. 2825. 2950. 3066. 3375. 1775. 2208. 2325. 1908. 2100. 2483. 3050.\n",
      " 2800. 2658. 3850. 3408. 3558. 3691. 2475. 2908. 3150. 1941. 2541. 2016.\n",
      " 1875. 3091. 3125. 3541. 3800. 3250. 1983. 1525. 3508. 2833. 1916. 2041.\n",
      " 1325. 1641. 1966. 1691. 4066. 2383. 1625. 2550. 3266. 3350. 1675. 3216.\n",
      " 2633. 1833. 2133. 2558. 2691. 3741. 3841. 2341. 1558. 3658. 3766. 2183.\n",
      " 2816. 3108. 2308. 3225. 3041. 1700. 1850. 1650. 1866. 2191. 3433. 2508.\n",
      " 2841. 2791. 1758. 2516. 1508. 3158. 2366. 3425. 1858. 3633. 3200. 2391.\n",
      " 2616. 1933. 3241. 2916. 3816. 1608. 3875. 2866. 2150. 1883. 3291. 3141.\n",
      " 1483. 1491. 4041. 4133. 4241. 1791. 2050. 3566. 1666. 2408. 2375. 4091.\n",
      " 1583. 2925. 2683. 3858. 3700. 3716. 3608. 1575. 3600. 1450. 3808. 3966.\n",
      " 3400. 1658. 3866. 4141. 2092. 2117. 1300. 3675. 3891. 3683. 3775. 3908.\n",
      " 1391. 3883. 3575. 3516. 2983. 3233. 3591. 1550. 3641. 3925. 4125. 3725.\n",
      " 4341. 3450. 1425. 3916. 3958. 3983. 4291. 3758. 1466. 3500. 3733. 1516.\n",
      " 3550. 4216. 3583. 3900. 3750. 1475. 3483. 4100. 4008. 1125. 1333. 3525.\n",
      " 1541. 4116. 3791. 3941. 1025. 4016. 1341. 1216. 1150. 1441. 4275. 1375.\n",
      " 3933. 4000. 4150. 2392. 4166. 1458. 1308. 4025. 1233. 3341. 2242. 2717.\n",
      " 1358. 3991. 4175. 4075. 1408. 4183. 4258. 4158. 4266. 1383. 1366. 1316.\n",
      " 4033. 4283.  825.  908.  958. 1075. 4208. 4233. 4300. 4325. 4350.]\n"
     ]
    }
   ],
   "source": [
    "# Ambas variables como observaremos a continuación están registradas como enteros con dos decimales implícitos\n",
    "print(nsfg.agecon.unique())\n",
    "print(nsfg.agepreg.unique())"
   ]
  },
  {
   "cell_type": "code",
   "execution_count": 17,
   "metadata": {},
   "outputs": [
    {
     "name": "stdout",
     "output_type": "stream",
     "text": [
      "count    9109.000000\n",
      "mean        0.552069\n",
      "std         0.271479\n",
      "min         0.000000\n",
      "25%         0.250000\n",
      "50%         0.670000\n",
      "75%         0.750000\n",
      "max         0.920000\n",
      "dtype: float64\n"
     ]
    }
   ],
   "source": [
    "agecon = nsfg['agecon'] / 100\n",
    "agepreg = nsfg['agepreg'] / 100\n",
    "\n",
    "# Computamos la diferencia\n",
    "preg_length = agepreg - agecon\n",
    "\n",
    "# Observamos el resumen de estadísticos\n",
    "print(preg_length.describe())"
   ]
  }
 ],
 "metadata": {
  "kernelspec": {
   "display_name": "Python 3",
   "language": "python",
   "name": "python3"
  },
  "language_info": {
   "codemirror_mode": {
    "name": "ipython",
    "version": 3
   },
   "file_extension": ".py",
   "mimetype": "text/x-python",
   "name": "python",
   "nbconvert_exporter": "python",
   "pygments_lexer": "ipython3",
   "version": "3.8.5"
  }
 },
 "nbformat": 4,
 "nbformat_minor": 4
}
