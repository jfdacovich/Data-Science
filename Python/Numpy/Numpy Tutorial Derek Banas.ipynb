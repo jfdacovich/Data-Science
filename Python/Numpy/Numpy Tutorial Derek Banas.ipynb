{
 "cells": [
  {
   "cell_type": "markdown",
   "metadata": {},
   "source": [
    "NumPy is an amazing scientific computing library that is used by numerous other Python Data Science libraries. It contains many mathematical, array and string functions that are extremely useful. Along with all the basic math functions you'll also find them for Linear Algebra, Statistics, Simulation, etc.\n",
    "\n",
    "I recommend that you use the Jupyter setup I use with Anaconda so that you'll have access to all of NumPys dependencies.\n",
    "\n",
    "NumPy utilizes vector (1D Arrays) and matrice arrays (2D Arrays)"
   ]
  },
  {
   "cell_type": "markdown",
   "metadata": {},
   "source": [
    "## NumPy Arrays : Creating Arrays"
   ]
  },
  {
   "cell_type": "code",
   "execution_count": 1,
   "metadata": {},
   "outputs": [],
   "source": [
    "import numpy as np\n",
    "import matplotlib.pylab as plt\n",
    "from numpy import random"
   ]
  },
  {
   "cell_type": "code",
   "execution_count": 18,
   "metadata": {},
   "outputs": [
    {
     "name": "stdout",
     "output_type": "stream",
     "text": [
      "[1 2 3 4 5]\n",
      "[[1 2 3]\n",
      " [4 5 6]\n",
      " [7 8 9]]\n",
      "[ 1  3  5  7  9 11 13 15 17 19]\n",
      "[0.         0.83333333 1.66666667 2.5        3.33333333 4.16666667\n",
      " 5.        ]\n",
      "[0. 0. 0. 0.]\n",
      "[[0. 0. 0.]\n",
      " [0. 0. 0.]]\n",
      "[[1. 1. 1.]\n",
      " [1. 1. 1.]]\n",
      "[1 2 3 4 5 6]\n"
     ]
    },
    {
     "data": {
      "text/plain": [
       "array([[ 7, 28,  0],\n",
       "       [ 3, 25,  0]])"
      ]
     },
     "execution_count": 18,
     "metadata": {},
     "output_type": "execute_result"
    }
   ],
   "source": [
    "# Crearemos una lista de valores:\n",
    "list_1 = [1,2,3,4,5]\n",
    "np_array_1 = np.array(list_1, dtype = np.int8)\n",
    "print(np_array_1)\n",
    "\n",
    "# Lista multidimensional\n",
    "m_list_1 = [[1,2,3],[4,5,6],[7,8,9]]\n",
    "np_m_arr_1 = np.array(m_list_1)\n",
    "print(np_m_arr_1)\n",
    "\n",
    "# Podemos crear arrays con un valor de inicio  yde fin (aunque este último no estará incluído)\n",
    "# y podemos definir su paso\n",
    "\n",
    "print(np.arange(1,20,2))\n",
    "\n",
    "# Podemos generar floats definiendo su valor inicial y final\n",
    "print(np.linspace(0,5,7)) # 7 Números que vayan desde el 0 al 5\n",
    "\n",
    "# Generar un array de Ceros:\n",
    "print(np.zeros(4))\n",
    "\n",
    "# Creación de un array de Ceros pasando una tupla definiendo nº filas y columnas\n",
    "print(np.zeros((2, 3)))\n",
    "\n",
    "# Creación de un array de Unos pasando una tupla definiendo nº filas y columnas\n",
    "print(np.ones((2,3)))\n",
    "\n",
    "# Conocer el numero de elementos que conforman el array\n",
    "np_array_1.size\n",
    "\n",
    "# Crear un array con valores definidos\n",
    "np_arr_2 = np.array([1,2,3,4,5,6])\n",
    "print(np_arr_2)\n",
    "\n",
    "# Conocer el tipo de array\n",
    "np_arr_2.dtype\n",
    "\n",
    "# Data Types\n",
    "# Boolean : np.bool_\n",
    "# Char : np.byte\n",
    "# Short : np.short\n",
    "# Integer : np.short\n",
    "# Long : np.int_\n",
    "# Float : np.single & np.float32\n",
    "# Double : np.double & np.float64\n",
    "# np.int8 : -128 to 127\n",
    "# np.int16 : -32768 to 32767\n",
    "# np.int32 : -2147483648 to 2147483647\n",
    "# np.int64 : -9223372036854775808 to 9223372036854775807\n",
    "\n",
    "# Obtener 5 valores enteros random entre 10 y 50\n",
    "np.random.randint(10, 50, 5)\n",
    "\n",
    "# Obtener una matriz de 2 x 3 con valores enteros entre 10 y 50\n",
    "np.random.randint((10, 50, 5), size = (2,3))"
   ]
  },
  {
   "cell_type": "markdown",
   "metadata": {},
   "source": [
    "## Slicing and Indexes"
   ]
  },
  {
   "cell_type": "code",
   "execution_count": 46,
   "metadata": {},
   "outputs": [
    {
     "name": "stdout",
     "output_type": "stream",
     "text": [
      "[[ 2  1  3]\n",
      " [10  5  6]\n",
      " [10  8  9]]\n",
      "(3, 3)\n",
      "1\n",
      "3\n",
      "[[10  1  3]\n",
      " [10  5  6]\n",
      " [10  8  9]]\n",
      "[[10  1  3]\n",
      " [10  8  9]]\n",
      "[1 5 8]\n",
      "[[10  8  9]\n",
      " [10  5  6]\n",
      " [10  1  3]]\n"
     ]
    },
    {
     "data": {
      "text/plain": [
       "array([ 1,  3,  5,  6,  8,  9, 10])"
      ]
     },
     "execution_count": 46,
     "metadata": {},
     "output_type": "execute_result"
    }
   ],
   "source": [
    "# Cambiar valores de específicos indices\n",
    "np_m_arr_1[0,0] = 2\n",
    "np_m_arr_1\n",
    "np_m_arr_1.itemset((0,1), 1) # Cambia el valor almacenado en fila 0 y columna 1 por un 1\n",
    "print(np_m_arr_1)\n",
    "\n",
    "# Comprobar la estructura y tamaño de un array\n",
    "print(np_m_arr_1.shape)\n",
    "\n",
    "# Obtener los valores por su índice\n",
    "print(np_m_arr_1[0,1])\n",
    "print(np_m_arr_1.item(0,2))\n",
    "\n",
    "# Obtener índice específicos\n",
    "np.take(np_m_arr_1, [0, 3, 6]) \n",
    "\n",
    "# Reemplazamos los valores de los íncides con nuevos valores\n",
    "np.put(np_m_arr_1, [0, 3, 6], [10, 10, 10])\n",
    "print(np_m_arr_1)\n",
    "\n",
    "# Slice\n",
    "# comienza en 1 hasta 5 con paso 2\n",
    "print(np_m_arr_1[:5:2])\n",
    "\n",
    "# Obtener el segundo valor de cada fila\n",
    "print(np_m_arr_1[:,1])\n",
    "\n",
    "# Invertir un array \n",
    "print(np_m_arr_1[::-1])\n",
    "\n",
    "# Obtener valores pares:\n",
    "evens = np_m_arr_1[np_m_arr_1%2==0]\n",
    "evens\n",
    "\n",
    "# Obtener valores mayores a 5:\n",
    "np_m_arr_1[np_m_arr_1>5]\n",
    "\n",
    "# Mayores que 5 y menores que 9:\n",
    "np_m_arr_1[(9>np_m_arr_1) & (np_m_arr_1>5)]\n",
    "\n",
    "# Mayores que 5 o iguales a 10:\n",
    "np_m_arr_1[(np_m_arr_1 == 10) | (np_m_arr_1>5)]\n",
    "\n",
    "# Obtener valores unicos:\n",
    "np.unique(np_m_arr_1)"
   ]
  },
  {
   "cell_type": "markdown",
   "metadata": {},
   "source": [
    "## Reshaping Arrays"
   ]
  },
  {
   "cell_type": "code",
   "execution_count": 64,
   "metadata": {},
   "outputs": [
    {
     "name": "stdout",
     "output_type": "stream",
     "text": [
      "[[ 1  5  8]\n",
      " [ 3  6  9]\n",
      " [10 10 10]]\n",
      "[[ 1  3 10]\n",
      " [ 5  6 10]\n",
      " [ 8  9 10]]\n"
     ]
    }
   ],
   "source": [
    "# Reshape array to 1 by 9\n",
    "np_m_arr_1.reshape((1,9)) # 1 fila 9 columnas\n",
    "\n",
    "# Transformar el tamaño a 2 filas 5 columnas\n",
    "np.resize(np_m_arr_1, (2,5))\n",
    "\n",
    "# Transponer los ejes\n",
    "print(np_m_arr_1.transpose())\n",
    "\n",
    "# Intercambiar ejes\n",
    "np_m_arr_1.swapaxes(0,1)\n",
    "\n",
    "# Aplanar el array\n",
    "np_m_arr_1.flatten()\n",
    "\n",
    "# Aplanar manteniendo el orden de la columna\n",
    "np_m_arr_1.flatten(\"F\")\n",
    "\n",
    "print(np_m_arr_1)\n",
    "\n",
    "# Ordenar por filas\n",
    "np_m_arr_1.sort(axis = 1)\n",
    "\n",
    "# Ordenar por columnas\n",
    "np_m_arr_1.sort(axis = 0)\n"
   ]
  },
  {
   "cell_type": "markdown",
   "metadata": {},
   "source": [
    "## Stacking & Splitting"
   ]
  },
  {
   "cell_type": "code",
   "execution_count": 82,
   "metadata": {},
   "outputs": [
    {
     "name": "stdout",
     "output_type": "stream",
     "text": [
      "ss_arr_1\n",
      " [[9 6]\n",
      " [5 1]]\n",
      "ss_arr_2\n",
      " [[9 6]\n",
      " [9 4]]\n",
      "ss_arr_3\n",
      " [[9 6]]\n",
      "ss_arr_4\n",
      " [[9 6]]\n",
      "ss_arr_5\n",
      " [[0 8 5 0 2 7 1 6 1 7]\n",
      " [7 7 4 5 3 5 7 9 4 5]]\n"
     ]
    },
    {
     "data": {
      "text/plain": [
       "[array([[0, 8],\n",
       "        [7, 7]]),\n",
       " array([[5, 0],\n",
       "        [4, 5]]),\n",
       " array([[2, 7, 1, 6, 1, 7],\n",
       "        [3, 5, 7, 9, 4, 5]])]"
      ]
     },
     "execution_count": 82,
     "metadata": {},
     "output_type": "execute_result"
    }
   ],
   "source": [
    "# Generamos un array con valores enteros aleatorios\n",
    "ss_arr_1 =np.random.randint(10, size = (2,2))\n",
    "print(\"ss_arr_1\\n\",ss_arr_1)\n",
    "ss_arr_2 =np.random.randint(10, size = (2,2))\n",
    "print(\"ss_arr_2\\n\",ss_arr_2)\n",
    "\n",
    "# Stack arr_2 under arr_1\n",
    "np.vstack((ss_arr_1, ss_arr_2))\n",
    "\n",
    "# Stack horizontally\n",
    "np.hstack((ss_arr_1, ss_arr_2))\n",
    "\n",
    "# Eliminar la segunda fila en cada array\n",
    "ss_arr_3 = np.delete(ss_arr_1, 1, 0)\n",
    "ss_arr_4 = np.delete(ss_arr_2, 1, 0)\n",
    "print(\"ss_arr_3\\n\", ss_arr_3)\n",
    "print(\"ss_arr_4\\n\", ss_arr_4)\n",
    "\n",
    "# Combinar arrays\n",
    "np.column_stack((ss_arr_3, ss_arr_4))\n",
    "\n",
    "# Stack in a 2D array\n",
    "np.row_stack((ss_arr_3, ss_arr_4))\n",
    "\n",
    "# Generamos un array 2x10 \n",
    "ss_arr_5 = np.random.randint(10, size=(2, 10))\n",
    "print(\"ss_arr_5\\n\", ss_arr_5)\n",
    "\n",
    "# Separa en 5 arrays \n",
    "np.hsplit(ss_arr_5, 5)\n",
    "\n",
    "# Separar despues de la 2da y 4ta columna\n",
    "np.hsplit(ss_arr_5, (2, 4))"
   ]
  }
 ],
 "metadata": {
  "kernelspec": {
   "display_name": "Python 3",
   "language": "python",
   "name": "python3"
  },
  "language_info": {
   "codemirror_mode": {
    "name": "ipython",
    "version": 3
   },
   "file_extension": ".py",
   "mimetype": "text/x-python",
   "name": "python",
   "nbconvert_exporter": "python",
   "pygments_lexer": "ipython3",
   "version": "3.8.5"
  }
 },
 "nbformat": 4,
 "nbformat_minor": 4
}
