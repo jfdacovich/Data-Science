{
 "cells": [
  {
   "cell_type": "markdown",
   "metadata": {},
   "source": [
    "# Programación 201\n",
    "\n",
    "# NBA player of the week"
   ]
  },
  {
   "cell_type": "markdown",
   "metadata": {},
   "source": [
    "### Ejercicio 1\n",
    "\n",
    "# Descripción y enunciado\n",
    "El objetivo de esta actividad es la gestión y preparación de datos. La gestión de datos es una parte muy importante de cualquier proceso de minería de datos, ya que los datos se deben preparar y preprocesar antes de iniciar el proceso de extracción de conocimiento.\n",
    "Esta tarea ilustra algunos de los procedimientos básicos con los que nos podemos encontrar para preparar los datos: analizar los tipos de datos, tranformar valores, detectar e eliminar outliers, hacer un muestreo, etcétera.\n",
    "\n",
    "# Fichero de datos\n",
    "El conjunto de datos con el que trabajaremos en esta actividad surge de la bases de datos disponibles en Kaggle . En concreto, los datos corresponden a los jugadores nombrados jugadores de la semana desde la temporada 1984-1985 hasta la temporada 2017-2018. Estos datos nos ofrecen múltiples posibilidades para consolidar los conocimientos y competencias de manipulación de datos, preprocesado y análisis descriptivo. El fichero `NBA_player_of_the_week.csv` se encuentra adjunto.\n",
    "\n",
    "\n",
    "# Ingesta de datos\n",
    "Actualmente el fichero se encuentra en la misma carpeta de datos RMD, está en adjunto. Se enviará nueva práctica similar con los datos de ingesta a través de scraping / API / base de datos para R y Python.\n",
    "\n",
    "\n",
    "# Valoraciones\n",
    "- se valorarán los trabajos por los detalles, no vale con el solo enviar un trozo de código, sino la explicación es fundamental\n",
    "- explicar además los resumen de cada sección (carga, preparación, EDA, limpieza, nuevos atributos, discretización, split train-test)\n",
    "- conclusiones y comparativas son los más importantes para comenzar con Data Mining."
   ]
  },
  {
   "cell_type": "markdown",
   "metadata": {},
   "source": [
    "### 1) Cargar un juego de datos "
   ]
  },
  {
   "cell_type": "markdown",
   "metadata": {},
   "source": [
    "`Librerías:`"
   ]
  },
  {
   "cell_type": "code",
   "execution_count": 1,
   "metadata": {},
   "outputs": [],
   "source": [
    "import pandas as pd\n",
    "import numpy as np"
   ]
  },
  {
   "cell_type": "markdown",
   "metadata": {},
   "source": [
    "`Carga de datos:`"
   ]
  },
  {
   "cell_type": "code",
   "execution_count": 2,
   "metadata": {},
   "outputs": [],
   "source": [
    "nba = pd.read_csv(\"NBA_player_of_the_week.csv\")"
   ]
  },
  {
   "cell_type": "markdown",
   "metadata": {},
   "source": [
    "### 2) Descripción de los datos\n",
    "\n",
    "Describir brevemente la estructura de los datos: qué tipo de datos contiene, número de filas y columnas y nombre de las columnas. Realizar un resumen descriptivo de los datos."
   ]
  },
  {
   "cell_type": "code",
   "execution_count": 3,
   "metadata": {},
   "outputs": [
    {
     "data": {
      "text/plain": [
       "pandas.core.frame.DataFrame"
      ]
     },
     "execution_count": 3,
     "metadata": {},
     "output_type": "execute_result"
    }
   ],
   "source": [
    "# Tipo de datos que contiene\n",
    "type(nba)"
   ]
  },
  {
   "cell_type": "code",
   "execution_count": 4,
   "metadata": {},
   "outputs": [
    {
     "data": {
      "text/plain": [
       "Age                    int64\n",
       "Conference            object\n",
       "Date                  object\n",
       "Draft Year             int64\n",
       "Height                object\n",
       "Player                object\n",
       "Position              object\n",
       "Season                object\n",
       "Season short           int64\n",
       "Seasons in league      int64\n",
       "Team                  object\n",
       "Weight                object\n",
       "Real_value           float64\n",
       "dtype: object"
      ]
     },
     "execution_count": 4,
     "metadata": {},
     "output_type": "execute_result"
    }
   ],
   "source": [
    "# Observamos el tipo de dato por dimensión\n",
    "nba.dtypes"
   ]
  },
  {
   "cell_type": "code",
   "execution_count": 5,
   "metadata": {},
   "outputs": [
    {
     "name": "stdout",
     "output_type": "stream",
     "text": [
      "- El dataframe 'NBA_player_of_the_week' contiene: 1145 filas\n",
      "- Nombres de las columnas : ['Age' 'Conference' 'Date' 'Draft Year' 'Height' 'Player' 'Position'\n",
      " 'Season' 'Season short' 'Seasons in league' 'Team' 'Weight' 'Real_value']\n"
     ]
    }
   ],
   "source": [
    "# Número de filas:\n",
    "print(\"- El dataframe 'NBA_player_of_the_week' contiene: {} filas\".format(len(nba)))\n",
    "# Nombre de columnas:\n",
    "print(\"- Nombres de las columnas : {}\".format(nba.columns.values))"
   ]
  },
  {
   "cell_type": "code",
   "execution_count": 6,
   "metadata": {},
   "outputs": [
    {
     "data": {
      "text/html": [
       "<div>\n",
       "<style scoped>\n",
       "    .dataframe tbody tr th:only-of-type {\n",
       "        vertical-align: middle;\n",
       "    }\n",
       "\n",
       "    .dataframe tbody tr th {\n",
       "        vertical-align: top;\n",
       "    }\n",
       "\n",
       "    .dataframe thead th {\n",
       "        text-align: right;\n",
       "    }\n",
       "</style>\n",
       "<table border=\"1\" class=\"dataframe\">\n",
       "  <thead>\n",
       "    <tr style=\"text-align: right;\">\n",
       "      <th></th>\n",
       "      <th>Age</th>\n",
       "      <th>Draft Year</th>\n",
       "      <th>Season short</th>\n",
       "      <th>Seasons in league</th>\n",
       "      <th>Real_value</th>\n",
       "    </tr>\n",
       "  </thead>\n",
       "  <tbody>\n",
       "    <tr>\n",
       "      <th>count</th>\n",
       "      <td>1145.000000</td>\n",
       "      <td>1145.000000</td>\n",
       "      <td>1145.000000</td>\n",
       "      <td>1145.000000</td>\n",
       "      <td>1145.000000</td>\n",
       "    </tr>\n",
       "    <tr>\n",
       "      <th>mean</th>\n",
       "      <td>26.772926</td>\n",
       "      <td>1997.244541</td>\n",
       "      <td>2004.211354</td>\n",
       "      <td>5.869869</td>\n",
       "      <td>0.667686</td>\n",
       "    </tr>\n",
       "    <tr>\n",
       "      <th>std</th>\n",
       "      <td>3.402354</td>\n",
       "      <td>9.381369</td>\n",
       "      <td>9.426976</td>\n",
       "      <td>3.271995</td>\n",
       "      <td>0.236163</td>\n",
       "    </tr>\n",
       "    <tr>\n",
       "      <th>min</th>\n",
       "      <td>19.000000</td>\n",
       "      <td>1969.000000</td>\n",
       "      <td>1985.000000</td>\n",
       "      <td>0.000000</td>\n",
       "      <td>0.500000</td>\n",
       "    </tr>\n",
       "    <tr>\n",
       "      <th>25%</th>\n",
       "      <td>24.000000</td>\n",
       "      <td>1990.000000</td>\n",
       "      <td>1997.000000</td>\n",
       "      <td>3.000000</td>\n",
       "      <td>0.500000</td>\n",
       "    </tr>\n",
       "    <tr>\n",
       "      <th>50%</th>\n",
       "      <td>26.000000</td>\n",
       "      <td>1998.000000</td>\n",
       "      <td>2006.000000</td>\n",
       "      <td>6.000000</td>\n",
       "      <td>0.500000</td>\n",
       "    </tr>\n",
       "    <tr>\n",
       "      <th>75%</th>\n",
       "      <td>29.000000</td>\n",
       "      <td>2004.000000</td>\n",
       "      <td>2012.000000</td>\n",
       "      <td>8.000000</td>\n",
       "      <td>1.000000</td>\n",
       "    </tr>\n",
       "    <tr>\n",
       "      <th>max</th>\n",
       "      <td>40.000000</td>\n",
       "      <td>2016.000000</td>\n",
       "      <td>2018.000000</td>\n",
       "      <td>17.000000</td>\n",
       "      <td>1.000000</td>\n",
       "    </tr>\n",
       "  </tbody>\n",
       "</table>\n",
       "</div>"
      ],
      "text/plain": [
       "               Age   Draft Year  Season short  Seasons in league   Real_value\n",
       "count  1145.000000  1145.000000   1145.000000        1145.000000  1145.000000\n",
       "mean     26.772926  1997.244541   2004.211354           5.869869     0.667686\n",
       "std       3.402354     9.381369      9.426976           3.271995     0.236163\n",
       "min      19.000000  1969.000000   1985.000000           0.000000     0.500000\n",
       "25%      24.000000  1990.000000   1997.000000           3.000000     0.500000\n",
       "50%      26.000000  1998.000000   2006.000000           6.000000     0.500000\n",
       "75%      29.000000  2004.000000   2012.000000           8.000000     1.000000\n",
       "max      40.000000  2016.000000   2018.000000          17.000000     1.000000"
      ]
     },
     "execution_count": 6,
     "metadata": {},
     "output_type": "execute_result"
    }
   ],
   "source": [
    "# Estadísticas básicas: \n",
    "nba.describe()"
   ]
  },
  {
   "cell_type": "markdown",
   "metadata": {},
   "source": [
    "### 3) Preparación de la base de datos\n",
    "#### 3.1 Asignar NA a los valores ausentes en los datos de `Conference`."
   ]
  },
  {
   "cell_type": "code",
   "execution_count": 7,
   "metadata": {},
   "outputs": [
    {
     "data": {
      "text/plain": [
       "Age                    0\n",
       "Conference           384\n",
       "Date                   0\n",
       "Draft Year             0\n",
       "Height                 0\n",
       "Player                 0\n",
       "Position               0\n",
       "Season                 0\n",
       "Season short           0\n",
       "Seasons in league      0\n",
       "Team                   0\n",
       "Weight                 0\n",
       "Real_value             0\n",
       "dtype: int64"
      ]
     },
     "execution_count": 7,
     "metadata": {},
     "output_type": "execute_result"
    }
   ],
   "source": [
    "# Reviso los valores ausentes por Variable\n",
    "nba.isna().sum()"
   ]
  },
  {
   "cell_type": "code",
   "execution_count": 8,
   "metadata": {},
   "outputs": [
    {
     "data": {
      "text/plain": [
       "NaN     384\n",
       "East    381\n",
       "West    380\n",
       "Name: Conference, dtype: int64"
      ]
     },
     "execution_count": 8,
     "metadata": {},
     "output_type": "execute_result"
    }
   ],
   "source": [
    "# Reviso los valores que componen la variable Conference\n",
    "nba.Conference.value_counts(dropna = False)"
   ]
  },
  {
   "cell_type": "code",
   "execution_count": 9,
   "metadata": {},
   "outputs": [],
   "source": [
    "# Al no haber valores automáticamente se generean NaN , sin embargo voy a asignar el valor NA a cada uno de ellos:\n",
    "nba.Conference.fillna(\"Na\", inplace=True)"
   ]
  },
  {
   "cell_type": "code",
   "execution_count": 10,
   "metadata": {},
   "outputs": [
    {
     "name": "stdout",
     "output_type": "stream",
     "text": [
      "['Na' 'East' 'West']\n"
     ]
    }
   ],
   "source": [
    "# Realizamos la comprobación de que la asignación ha sido correcta\n",
    "print(nba.Conference.unique())"
   ]
  },
  {
   "cell_type": "markdown",
   "metadata": {},
   "source": [
    "#### 3.2 Transformar los datos de Conference en variable categórica y mostrar la tabla de frecuencia."
   ]
  },
  {
   "cell_type": "code",
   "execution_count": 11,
   "metadata": {},
   "outputs": [
    {
     "data": {
      "text/plain": [
       "CategoricalDtype(categories=['East', 'Na', 'West'], ordered=False)"
      ]
     },
     "execution_count": 11,
     "metadata": {},
     "output_type": "execute_result"
    }
   ],
   "source": [
    "# Transformación de los datos de `Conference`\n",
    "nba[\"Conference\"] = nba.Conference.astype(\"category\")\n",
    "# Comprobamos la transformación\n",
    "nba.Conference.dtypes"
   ]
  },
  {
   "cell_type": "code",
   "execution_count": 12,
   "metadata": {},
   "outputs": [
    {
     "data": {
      "text/plain": [
       "Na      384\n",
       "East    381\n",
       "West    380\n",
       "Name: Conference, dtype: int64"
      ]
     },
     "execution_count": 12,
     "metadata": {},
     "output_type": "execute_result"
    }
   ],
   "source": [
    "# Tabla de frecuencia\n",
    "nba.Conference.value_counts()"
   ]
  },
  {
   "cell_type": "markdown",
   "metadata": {},
   "source": [
    "#### 3.3 Comprobar que la variable tiene xxx valores ausentes"
   ]
  },
  {
   "cell_type": "code",
   "execution_count": 13,
   "metadata": {},
   "outputs": [
    {
     "data": {
      "text/plain": [
       "Conference\n",
       "East    381\n",
       "Na      384\n",
       "West    380\n",
       "Name: Conference, dtype: int64"
      ]
     },
     "execution_count": 13,
     "metadata": {},
     "output_type": "execute_result"
    }
   ],
   "source": [
    "# Recordemos que los valores ausentes fueron sustituidos por \"Na\"\n",
    "nba.groupby(['Conference'])['Conference'].count()"
   ]
  },
  {
   "cell_type": "markdown",
   "metadata": {},
   "source": [
    "#### 3.4 Transformar las variables Height, Player, Position, Season, Team y Weight en variables categóricas."
   ]
  },
  {
   "cell_type": "code",
   "execution_count": 14,
   "metadata": {},
   "outputs": [],
   "source": [
    "nba[\"Height\"] = nba.Height.astype(\"category\")\n",
    "nba[\"Player\"] = nba.Player.astype(\"category\")\n",
    "nba[\"Position\"] = nba.Position.astype(\"category\")\n",
    "nba[\"Season\"] = nba.Season.astype(\"category\")\n",
    "nba[\"Team\"] = nba.Team.astype(\"category\")\n",
    "nba[\"Weight\"] = nba.Weight.astype(\"category\")"
   ]
  },
  {
   "cell_type": "markdown",
   "metadata": {},
   "source": [
    "#### 3.5 Comprobar que estas variables no tienen valores perdidos."
   ]
  },
  {
   "cell_type": "code",
   "execution_count": 15,
   "metadata": {},
   "outputs": [
    {
     "data": {
      "text/plain": [
       "Height      0\n",
       "Player      0\n",
       "Position    0\n",
       "Season      0\n",
       "Team        0\n",
       "Weight      0\n",
       "dtype: int64"
      ]
     },
     "execution_count": 15,
     "metadata": {},
     "output_type": "execute_result"
    }
   ],
   "source": [
    "# Comprobamos que las variables transformadas no contengan valores perdidos tras realizar la suma de los elementos\n",
    "nba[[\"Height\", \"Player\", \"Position\", \"Season\", \"Team\", \"Weight\"]].isna().sum()"
   ]
  },
  {
   "cell_type": "markdown",
   "metadata": {},
   "source": [
    "#### 3.6 Calcular el número de anyos que pasan entre que salio el jugador elegido en el draft y la temporada en la que fue jugador de la semana. Denomina la variable tiempo"
   ]
  },
  {
   "cell_type": "code",
   "execution_count": 16,
   "metadata": {},
   "outputs": [],
   "source": [
    "nba[\"Tiempo\"] = nba[\"Season short\"] - nba[\"Draft Year\"]"
   ]
  },
  {
   "cell_type": "code",
   "execution_count": 17,
   "metadata": {},
   "outputs": [
    {
     "data": {
      "text/html": [
       "<div>\n",
       "<style scoped>\n",
       "    .dataframe tbody tr th:only-of-type {\n",
       "        vertical-align: middle;\n",
       "    }\n",
       "\n",
       "    .dataframe tbody tr th {\n",
       "        vertical-align: top;\n",
       "    }\n",
       "\n",
       "    .dataframe thead th {\n",
       "        text-align: right;\n",
       "    }\n",
       "</style>\n",
       "<table border=\"1\" class=\"dataframe\">\n",
       "  <thead>\n",
       "    <tr style=\"text-align: right;\">\n",
       "      <th></th>\n",
       "      <th>Season short</th>\n",
       "      <th>Draft Year</th>\n",
       "      <th>Tiempo</th>\n",
       "    </tr>\n",
       "  </thead>\n",
       "  <tbody>\n",
       "    <tr>\n",
       "      <th>0</th>\n",
       "      <td>1985</td>\n",
       "      <td>1978</td>\n",
       "      <td>7</td>\n",
       "    </tr>\n",
       "    <tr>\n",
       "      <th>1</th>\n",
       "      <td>1985</td>\n",
       "      <td>1982</td>\n",
       "      <td>3</td>\n",
       "    </tr>\n",
       "    <tr>\n",
       "      <th>2</th>\n",
       "      <td>1985</td>\n",
       "      <td>1979</td>\n",
       "      <td>6</td>\n",
       "    </tr>\n",
       "    <tr>\n",
       "      <th>3</th>\n",
       "      <td>1985</td>\n",
       "      <td>1969</td>\n",
       "      <td>16</td>\n",
       "    </tr>\n",
       "    <tr>\n",
       "      <th>4</th>\n",
       "      <td>1985</td>\n",
       "      <td>1978</td>\n",
       "      <td>7</td>\n",
       "    </tr>\n",
       "    <tr>\n",
       "      <th>5</th>\n",
       "      <td>1985</td>\n",
       "      <td>1980</td>\n",
       "      <td>5</td>\n",
       "    </tr>\n",
       "    <tr>\n",
       "      <th>6</th>\n",
       "      <td>1985</td>\n",
       "      <td>1982</td>\n",
       "      <td>3</td>\n",
       "    </tr>\n",
       "    <tr>\n",
       "      <th>7</th>\n",
       "      <td>1985</td>\n",
       "      <td>1981</td>\n",
       "      <td>4</td>\n",
       "    </tr>\n",
       "    <tr>\n",
       "      <th>8</th>\n",
       "      <td>1985</td>\n",
       "      <td>1979</td>\n",
       "      <td>6</td>\n",
       "    </tr>\n",
       "    <tr>\n",
       "      <th>9</th>\n",
       "      <td>1985</td>\n",
       "      <td>1982</td>\n",
       "      <td>3</td>\n",
       "    </tr>\n",
       "  </tbody>\n",
       "</table>\n",
       "</div>"
      ],
      "text/plain": [
       "   Season short  Draft Year  Tiempo\n",
       "0          1985        1978       7\n",
       "1          1985        1982       3\n",
       "2          1985        1979       6\n",
       "3          1985        1969      16\n",
       "4          1985        1978       7\n",
       "5          1985        1980       5\n",
       "6          1985        1982       3\n",
       "7          1985        1981       4\n",
       "8          1985        1979       6\n",
       "9          1985        1982       3"
      ]
     },
     "execution_count": 17,
     "metadata": {},
     "output_type": "execute_result"
    }
   ],
   "source": [
    "# Traemos las variables involucradas y comprobamos\n",
    "nba[[\"Season short\", \"Draft Year\", \"Tiempo\"]].head(10)"
   ]
  },
  {
   "cell_type": "markdown",
   "metadata": {},
   "source": [
    "####  3.7 ¿Cual es el número de años que más veces se repite entre que salen elegidos en el draft y se proclaman mejores jugadores? (moda de la variable tiempo)"
   ]
  },
  {
   "cell_type": "code",
   "execution_count": 18,
   "metadata": {},
   "outputs": [
    {
     "data": {
      "text/plain": [
       "0    7\n",
       "dtype: int64"
      ]
     },
     "execution_count": 18,
     "metadata": {},
     "output_type": "execute_result"
    }
   ],
   "source": [
    "# Podemos observar que el año que más se repite es:\n",
    "nba.Tiempo.mode()"
   ]
  },
  {
   "cell_type": "markdown",
   "metadata": {},
   "source": [
    "#### 3.8 La altura de los jugadores está expresada en pies (aquellas con guión) y cm. Convertir la altura expresada en pies a centimetros (https://www.piesametros.info/](https://www.piesametros.info/). Posteriormente, eliminar el texto “cm” de los datos de tipo altura y convertir la variable en numérica. Calcular media, desviación típica y boxplot."
   ]
  },
  {
   "cell_type": "code",
   "execution_count": 19,
   "metadata": {},
   "outputs": [],
   "source": [
    "# Realizamos la conversión de la variable:\n",
    "nba.Height = nba.Height.astype(str)\n",
    "\n",
    "#Iteramos:\n",
    "for i in range(len(nba['Height'])):\n",
    "    # Si encuentra un '-' entonces vamos a crear una variable en la cual almacenaremos la separación pies y pulgadas\n",
    "    if \"-\" in nba['Height'][i]:\n",
    "        Variable = nba['Height'][i].split(\"-\")\n",
    "        # Aplicaremos la conversión de pies y pulgadas a centímetros y redondeamos el resultado y\n",
    "        # realizaremos la correspondiente asignacion\n",
    "        nba.loc[i, 'Height'] = round(int(Variable[0]) * 30.48 + (int(Variable[1]) * 2.54),0)\n",
    "    elif \"cm\" in nba['Height'][i]:\n",
    "        #En donde encontremos 'cm' haremos un reemplazo\n",
    "        nba.loc[i, 'Height'] = nba['Height'][i].replace(\"cm\", \"\")\n",
    "# Para poder realizar operaciones luego de haber depurado la data convertimos la variable a numerica     \n",
    "nba.Height = nba.Height.astype('float')\n"
   ]
  },
  {
   "cell_type": "code",
   "execution_count": 20,
   "metadata": {},
   "outputs": [
    {
     "data": {
      "text/plain": [
       "mean    200.992140\n",
       "std       9.468337\n",
       "Name: Height, dtype: float64"
      ]
     },
     "execution_count": 20,
     "metadata": {},
     "output_type": "execute_result"
    }
   ],
   "source": [
    "# Realizamos el cálculo de la media y la desviación típica\n",
    "nba.Height.agg(['mean','std'])"
   ]
  },
  {
   "cell_type": "code",
   "execution_count": 21,
   "metadata": {},
   "outputs": [
    {
     "data": {
      "text/plain": [
       "<AxesSubplot:>"
      ]
     },
     "execution_count": 21,
     "metadata": {},
     "output_type": "execute_result"
    },
    {
     "data": {
      "image/png": "[encoded data removed]",
      "text/plain": [
       "<Figure size 432x288 with 1 Axes>"
      ]
     },
     "metadata": {
      "needs_background": "light"
     },
     "output_type": "display_data"
    }
   ],
   "source": [
    "# Boxplot\n",
    "nba.boxplot(column=['Height'])"
   ]
  },
  {
   "cell_type": "markdown",
   "metadata": {},
   "source": [
    "#### 3.9 El peso de los jugadores está expresada en libras y kg. Convertir el peso expresado en kgs en libras [https://www.metric-conversions.org/es/peso/kilogramos-a-libras.htm](https://www.metric-conversions.org/es/peso/kilogramos-a-libras.htm). Convertir la variable en numérica.Calcular media, desviación típica y boxplot."
   ]
  },
  {
   "cell_type": "code",
   "execution_count": 22,
   "metadata": {},
   "outputs": [],
   "source": [
    "# Realizamos la conversión de la variable:\n",
    "nba.Weight = nba.Weight.astype(str)\n",
    "# 1) Remover 'Kg'\n",
    "# 2) convertir los pesos expresados en Kgs a libras\n",
    "# Iteramos\n",
    "for i in range(len(nba['Weight'])):\n",
    "    # 1 Kg = 2.205 Libras\n",
    "    # Al momento de encontrar 'kg' realizaremos un reemplazo y procederemos a convertir los kg en libras\n",
    "    if 'kg' in nba['Weight'][i]:\n",
    "        nba.loc[i,'Weight'] = int(nba['Weight'][i].replace('kg','')) *2.20    \n",
    "#Los valores que no estén acompañados con el str 'kg' se encuentran expresados en libras por lo que no haremos ninguna conversión  "
   ]
  },
  {
   "cell_type": "code",
   "execution_count": 23,
   "metadata": {},
   "outputs": [],
   "source": [
    "# Para poder realizar operaciones luego de haber depurado la data convertimos la variable a numerica     \n",
    "nba.Weight = nba.Weight.astype('float')"
   ]
  },
  {
   "cell_type": "code",
   "execution_count": 24,
   "metadata": {},
   "outputs": [
    {
     "data": {
      "text/plain": [
       "mean    225.967162\n",
       "std      31.578248\n",
       "Name: Weight, dtype: float64"
      ]
     },
     "execution_count": 24,
     "metadata": {},
     "output_type": "execute_result"
    }
   ],
   "source": [
    "# Realizamos el cálculo de la media y la desviación típica\n",
    "nba.Weight.agg(['mean','std'])"
   ]
  },
  {
   "cell_type": "code",
   "execution_count": 25,
   "metadata": {},
   "outputs": [
    {
     "data": {
      "text/plain": [
       "<AxesSubplot:>"
      ]
     },
     "execution_count": 25,
     "metadata": {},
     "output_type": "execute_result"
    },
    {
     "data": {
      "image/png": "[encoded data removed]",
      "text/plain": [
       "<Figure size 432x288 with 1 Axes>"
      ]
     },
     "metadata": {
      "needs_background": "light"
     },
     "output_type": "display_data"
    }
   ],
   "source": [
    "# Boxplot\n",
    "nba.boxplot(column=['Weight'])"
   ]
  },
  {
   "cell_type": "markdown",
   "metadata": {},
   "source": [
    "### 4 Información sobre posiciones en el campo y equipos.\n",
    "#### 4.1 Fusionar las categorias de posición en el campo F,F-C y FC en la categoría genérica Forward. Fusionar las categorias G,G-F y GF en la categoria genérica Guard. Renombrar la categoría ‘PG’ como ‘Point Guard’, ‘SG’ como ‘Shooting Guard’, ‘SF’ como ‘Small Forward’, ‘PF’ como ‘Power Forward’ y ‘C’ como ‘Center’."
   ]
  },
  {
   "cell_type": "code",
   "execution_count": 26,
   "metadata": {},
   "outputs": [
    {
     "data": {
      "text/plain": [
       "G      178\n",
       "SG     164\n",
       "C      158\n",
       "PF     139\n",
       "F      125\n",
       "PG     120\n",
       "SF     119\n",
       "FC      83\n",
       "GF      47\n",
       "F-C      9\n",
       "G-F      3\n",
       "Name: Position, dtype: int64"
      ]
     },
     "execution_count": 26,
     "metadata": {},
     "output_type": "execute_result"
    }
   ],
   "source": [
    "nba.Position.value_counts()"
   ]
  },
  {
   "cell_type": "code",
   "execution_count": 27,
   "metadata": {},
   "outputs": [
    {
     "data": {
      "text/plain": [
       "array(['Point Guard', 'Shooting Guard', 'Forward', 'Center',\n",
       "       'Small Forward', 'Power Forward', 'Guard'], dtype=object)"
      ]
     },
     "execution_count": 27,
     "metadata": {},
     "output_type": "execute_result"
    }
   ],
   "source": [
    "# Lo haremos a través de la función replace, accediendo a través de un dict:\n",
    "nba = nba.replace({\"Position\":\n",
    "                {\"G\": \"Guard\", \"G-F\": \"Guard\", \"GF\": \"Guard\",\n",
    "                 \"F\": \"Forward\", \"F-C\":\"Forward\", \"FC\": \"Forward\",\n",
    "                 \"PG\":\"Point Guard\", \n",
    "                 \"SG\":\"Shooting Guard\",\n",
    "                 \"SF\": \"Small Forward\",\n",
    "                 \"PF\": \"Power Forward\",\n",
    "                 \"C\": \"Center\"}})\n",
    "# si nos pidieran renombrar columnas :nba.rename(columns={'A': 'bla', 'B': 'bla', 'C': 'bla'}\n",
    "# Verificamos\n",
    "nba['Position'].unique()"
   ]
  },
  {
   "cell_type": "markdown",
   "metadata": {},
   "source": [
    "#### 4.2 ¿En que posición ha sido más veces los jugadores de la semana nombrados?"
   ]
  },
  {
   "cell_type": "code",
   "execution_count": 28,
   "metadata": {},
   "outputs": [
    {
     "data": {
      "text/plain": [
       "0    Guard\n",
       "dtype: object"
      ]
     },
     "execution_count": 28,
     "metadata": {},
     "output_type": "execute_result"
    }
   ],
   "source": [
    "nba.Position.mode()"
   ]
  },
  {
   "cell_type": "markdown",
   "metadata": {},
   "source": [
    "#### 4.3 ¿Cuántos equipos distintos hay?"
   ]
  },
  {
   "cell_type": "code",
   "execution_count": 29,
   "metadata": {},
   "outputs": [
    {
     "data": {
      "text/plain": [
       "35"
      ]
     },
     "execution_count": 29,
     "metadata": {},
     "output_type": "execute_result"
    }
   ],
   "source": [
    "len(nba[\"Team\"].unique())"
   ]
  },
  {
   "cell_type": "markdown",
   "metadata": {},
   "source": [
    "#### 4.4 ¿Cuáles son los cinco equipos que más veces han sido nombrados sus jugadores como jugador de la semana?"
   ]
  },
  {
   "cell_type": "code",
   "execution_count": 30,
   "metadata": {},
   "outputs": [
    {
     "data": {
      "text/plain": [
       "Los Angeles Lakers     71\n",
       "San Antonio Spurs      61\n",
       "Cleveland Cavaliers    59\n",
       "Miami Heat             57\n",
       "Houston Rockets        56\n",
       "Name: Team, dtype: int64"
      ]
     },
     "execution_count": 30,
     "metadata": {},
     "output_type": "execute_result"
    }
   ],
   "source": [
    "(nba.Team.value_counts()).head(5)"
   ]
  },
  {
   "cell_type": "markdown",
   "metadata": {},
   "source": [
    "### 5 Información sobre jugadores. Estadísticos descriptivos.\n",
    "#### 5.1 Crear una base datos denominada nba.unique en la que no se repita el nombre de ningún jugador.Trabajar a partir de ahora con esta base de datos."
   ]
  },
  {
   "cell_type": "code",
   "execution_count": 31,
   "metadata": {},
   "outputs": [],
   "source": [
    "nba_unique = nba.drop_duplicates(\"Player\")"
   ]
  },
  {
   "cell_type": "code",
   "execution_count": 32,
   "metadata": {},
   "outputs": [
    {
     "name": "stdout",
     "output_type": "stream",
     "text": [
      "(274, 14)\n"
     ]
    },
    {
     "data": {
      "text/html": [
       "<div>\n",
       "<style scoped>\n",
       "    .dataframe tbody tr th:only-of-type {\n",
       "        vertical-align: middle;\n",
       "    }\n",
       "\n",
       "    .dataframe tbody tr th {\n",
       "        vertical-align: top;\n",
       "    }\n",
       "\n",
       "    .dataframe thead th {\n",
       "        text-align: right;\n",
       "    }\n",
       "</style>\n",
       "<table border=\"1\" class=\"dataframe\">\n",
       "  <thead>\n",
       "    <tr style=\"text-align: right;\">\n",
       "      <th></th>\n",
       "      <th>Age</th>\n",
       "      <th>Conference</th>\n",
       "      <th>Date</th>\n",
       "      <th>Draft Year</th>\n",
       "      <th>Height</th>\n",
       "      <th>Player</th>\n",
       "      <th>Position</th>\n",
       "      <th>Season</th>\n",
       "      <th>Season short</th>\n",
       "      <th>Seasons in league</th>\n",
       "      <th>Team</th>\n",
       "      <th>Weight</th>\n",
       "      <th>Real_value</th>\n",
       "      <th>Tiempo</th>\n",
       "    </tr>\n",
       "  </thead>\n",
       "  <tbody>\n",
       "    <tr>\n",
       "      <th>0</th>\n",
       "      <td>29</td>\n",
       "      <td>Na</td>\n",
       "      <td>Apr 14, 1985</td>\n",
       "      <td>1978</td>\n",
       "      <td>196.0</td>\n",
       "      <td>Micheal Ray Richardson</td>\n",
       "      <td>Point Guard</td>\n",
       "      <td>1984-1985</td>\n",
       "      <td>1985</td>\n",
       "      <td>6</td>\n",
       "      <td>New Jersey Nets</td>\n",
       "      <td>189.0</td>\n",
       "      <td>1.0</td>\n",
       "      <td>7</td>\n",
       "    </tr>\n",
       "    <tr>\n",
       "      <th>1</th>\n",
       "      <td>23</td>\n",
       "      <td>Na</td>\n",
       "      <td>Apr 7, 1985</td>\n",
       "      <td>1982</td>\n",
       "      <td>198.0</td>\n",
       "      <td>Derek Smith</td>\n",
       "      <td>Shooting Guard</td>\n",
       "      <td>1984-1985</td>\n",
       "      <td>1985</td>\n",
       "      <td>2</td>\n",
       "      <td>Los Angeles Clippers</td>\n",
       "      <td>205.0</td>\n",
       "      <td>1.0</td>\n",
       "      <td>3</td>\n",
       "    </tr>\n",
       "    <tr>\n",
       "      <th>2</th>\n",
       "      <td>28</td>\n",
       "      <td>Na</td>\n",
       "      <td>Apr 1, 1985</td>\n",
       "      <td>1979</td>\n",
       "      <td>198.0</td>\n",
       "      <td>Calvin Natt</td>\n",
       "      <td>Forward</td>\n",
       "      <td>1984-1985</td>\n",
       "      <td>1985</td>\n",
       "      <td>5</td>\n",
       "      <td>Denver Nuggets</td>\n",
       "      <td>220.0</td>\n",
       "      <td>1.0</td>\n",
       "      <td>6</td>\n",
       "    </tr>\n",
       "    <tr>\n",
       "      <th>3</th>\n",
       "      <td>37</td>\n",
       "      <td>Na</td>\n",
       "      <td>Mar 24, 1985</td>\n",
       "      <td>1969</td>\n",
       "      <td>218.0</td>\n",
       "      <td>Kareem Abdul-Jabbar</td>\n",
       "      <td>Center</td>\n",
       "      <td>1984-1985</td>\n",
       "      <td>1985</td>\n",
       "      <td>15</td>\n",
       "      <td>Los Angeles Lakers</td>\n",
       "      <td>225.0</td>\n",
       "      <td>1.0</td>\n",
       "      <td>16</td>\n",
       "    </tr>\n",
       "    <tr>\n",
       "      <th>4</th>\n",
       "      <td>28</td>\n",
       "      <td>Na</td>\n",
       "      <td>Mar 17, 1985</td>\n",
       "      <td>1978</td>\n",
       "      <td>206.0</td>\n",
       "      <td>Larry Bird</td>\n",
       "      <td>Small Forward</td>\n",
       "      <td>1984-1985</td>\n",
       "      <td>1985</td>\n",
       "      <td>5</td>\n",
       "      <td>Boston Celtics</td>\n",
       "      <td>220.0</td>\n",
       "      <td>1.0</td>\n",
       "      <td>7</td>\n",
       "    </tr>\n",
       "  </tbody>\n",
       "</table>\n",
       "</div>"
      ],
      "text/plain": [
       "   Age Conference          Date  Draft Year  Height                  Player  \\\n",
       "0   29         Na  Apr 14, 1985        1978   196.0  Micheal Ray Richardson   \n",
       "1   23         Na   Apr 7, 1985        1982   198.0             Derek Smith   \n",
       "2   28         Na   Apr 1, 1985        1979   198.0             Calvin Natt   \n",
       "3   37         Na  Mar 24, 1985        1969   218.0     Kareem Abdul-Jabbar   \n",
       "4   28         Na  Mar 17, 1985        1978   206.0              Larry Bird   \n",
       "\n",
       "         Position     Season  Season short  Seasons in league  \\\n",
       "0     Point Guard  1984-1985          1985                  6   \n",
       "1  Shooting Guard  1984-1985          1985                  2   \n",
       "2         Forward  1984-1985          1985                  5   \n",
       "3          Center  1984-1985          1985                 15   \n",
       "4   Small Forward  1984-1985          1985                  5   \n",
       "\n",
       "                   Team  Weight  Real_value  Tiempo  \n",
       "0       New Jersey Nets   189.0         1.0       7  \n",
       "1  Los Angeles Clippers   205.0         1.0       3  \n",
       "2        Denver Nuggets   220.0         1.0       6  \n",
       "3    Los Angeles Lakers   225.0         1.0      16  \n",
       "4        Boston Celtics   220.0         1.0       7  "
      ]
     },
     "execution_count": 32,
     "metadata": {},
     "output_type": "execute_result"
    }
   ],
   "source": [
    "print(nba_unique.shape)\n",
    "nba_unique.head()\n"
   ]
  },
  {
   "cell_type": "markdown",
   "metadata": {},
   "source": [
    "#### 5.2 Listar el nombre de los 10 jugadores más bajos que han sido nombrados alguna vez jugadores de la semana. No debe repetirse ningún nombre."
   ]
  },
  {
   "cell_type": "code",
   "execution_count": 33,
   "metadata": {},
   "outputs": [
    {
     "data": {
      "text/html": [
       "<div>\n",
       "<style scoped>\n",
       "    .dataframe tbody tr th:only-of-type {\n",
       "        vertical-align: middle;\n",
       "    }\n",
       "\n",
       "    .dataframe tbody tr th {\n",
       "        vertical-align: top;\n",
       "    }\n",
       "\n",
       "    .dataframe thead th {\n",
       "        text-align: right;\n",
       "    }\n",
       "</style>\n",
       "<table border=\"1\" class=\"dataframe\">\n",
       "  <thead>\n",
       "    <tr style=\"text-align: right;\">\n",
       "      <th></th>\n",
       "      <th>Player</th>\n",
       "      <th>Height</th>\n",
       "    </tr>\n",
       "  </thead>\n",
       "  <tbody>\n",
       "    <tr>\n",
       "      <th>967</th>\n",
       "      <td>Isaiah Thomas</td>\n",
       "      <td>175.0</td>\n",
       "    </tr>\n",
       "    <tr>\n",
       "      <th>893</th>\n",
       "      <td>Nate Robinson</td>\n",
       "      <td>175.0</td>\n",
       "    </tr>\n",
       "    <tr>\n",
       "      <th>110</th>\n",
       "      <td>Michael Adams</td>\n",
       "      <td>178.0</td>\n",
       "    </tr>\n",
       "    <tr>\n",
       "      <th>858</th>\n",
       "      <td>Ty Lawson</td>\n",
       "      <td>180.0</td>\n",
       "    </tr>\n",
       "    <tr>\n",
       "      <th>273</th>\n",
       "      <td>Terrell Brandon</td>\n",
       "      <td>180.0</td>\n",
       "    </tr>\n",
       "    <tr>\n",
       "      <th>125</th>\n",
       "      <td>Tim Hardaway</td>\n",
       "      <td>183.0</td>\n",
       "    </tr>\n",
       "    <tr>\n",
       "      <th>278</th>\n",
       "      <td>Allen Iverson</td>\n",
       "      <td>183.0</td>\n",
       "    </tr>\n",
       "    <tr>\n",
       "      <th>219</th>\n",
       "      <td>Kenny Anderson</td>\n",
       "      <td>183.0</td>\n",
       "    </tr>\n",
       "    <tr>\n",
       "      <th>251</th>\n",
       "      <td>Elliot Perry</td>\n",
       "      <td>183.0</td>\n",
       "    </tr>\n",
       "    <tr>\n",
       "      <th>586</th>\n",
       "      <td>Chris Paul</td>\n",
       "      <td>183.0</td>\n",
       "    </tr>\n",
       "  </tbody>\n",
       "</table>\n",
       "</div>"
      ],
      "text/plain": [
       "              Player  Height\n",
       "967    Isaiah Thomas   175.0\n",
       "893    Nate Robinson   175.0\n",
       "110    Michael Adams   178.0\n",
       "858        Ty Lawson   180.0\n",
       "273  Terrell Brandon   180.0\n",
       "125     Tim Hardaway   183.0\n",
       "278    Allen Iverson   183.0\n",
       "219   Kenny Anderson   183.0\n",
       "251     Elliot Perry   183.0\n",
       "586       Chris Paul   183.0"
      ]
     },
     "execution_count": 33,
     "metadata": {},
     "output_type": "execute_result"
    }
   ],
   "source": [
    "(nba_unique[['Player','Height']].sort_values(by='Height', ascending = True)).head(10)"
   ]
  },
  {
   "cell_type": "markdown",
   "metadata": {},
   "source": [
    "#### 5.3 Listar el nombre de los 10 jugadores más altos que han sido nombrados y mostrar su altura. No debe repetirse ningún nombre."
   ]
  },
  {
   "cell_type": "code",
   "execution_count": 34,
   "metadata": {},
   "outputs": [
    {
     "data": {
      "text/html": [
       "<div>\n",
       "<style scoped>\n",
       "    .dataframe tbody tr th:only-of-type {\n",
       "        vertical-align: middle;\n",
       "    }\n",
       "\n",
       "    .dataframe tbody tr th {\n",
       "        vertical-align: top;\n",
       "    }\n",
       "\n",
       "    .dataframe thead th {\n",
       "        text-align: right;\n",
       "    }\n",
       "</style>\n",
       "<table border=\"1\" class=\"dataframe\">\n",
       "  <thead>\n",
       "    <tr style=\"text-align: right;\">\n",
       "      <th></th>\n",
       "      <th>Player</th>\n",
       "      <th>Height</th>\n",
       "    </tr>\n",
       "  </thead>\n",
       "  <tbody>\n",
       "    <tr>\n",
       "      <th>486</th>\n",
       "      <td>Yao Ming</td>\n",
       "      <td>229.0</td>\n",
       "    </tr>\n",
       "    <tr>\n",
       "      <th>236</th>\n",
       "      <td>Rik Smits</td>\n",
       "      <td>224.0</td>\n",
       "    </tr>\n",
       "    <tr>\n",
       "      <th>1139</th>\n",
       "      <td>Kristaps Porzingis</td>\n",
       "      <td>221.0</td>\n",
       "    </tr>\n",
       "    <tr>\n",
       "      <th>483</th>\n",
       "      <td>Zydrunas Ilgauskas</td>\n",
       "      <td>221.0</td>\n",
       "    </tr>\n",
       "    <tr>\n",
       "      <th>256</th>\n",
       "      <td>Arvydas Sabonis</td>\n",
       "      <td>221.0</td>\n",
       "    </tr>\n",
       "    <tr>\n",
       "      <th>3</th>\n",
       "      <td>Kareem Abdul-Jabbar</td>\n",
       "      <td>218.0</td>\n",
       "    </tr>\n",
       "    <tr>\n",
       "      <th>188</th>\n",
       "      <td>Dikembe Mutombo</td>\n",
       "      <td>218.0</td>\n",
       "    </tr>\n",
       "    <tr>\n",
       "      <th>206</th>\n",
       "      <td>Shaquille O'Neal</td>\n",
       "      <td>216.0</td>\n",
       "    </tr>\n",
       "    <tr>\n",
       "      <th>868</th>\n",
       "      <td>Marc Gasol</td>\n",
       "      <td>216.0</td>\n",
       "    </tr>\n",
       "    <tr>\n",
       "      <th>115</th>\n",
       "      <td>David Robinson</td>\n",
       "      <td>216.0</td>\n",
       "    </tr>\n",
       "  </tbody>\n",
       "</table>\n",
       "</div>"
      ],
      "text/plain": [
       "                   Player  Height\n",
       "486              Yao Ming   229.0\n",
       "236             Rik Smits   224.0\n",
       "1139   Kristaps Porzingis   221.0\n",
       "483    Zydrunas Ilgauskas   221.0\n",
       "256       Arvydas Sabonis   221.0\n",
       "3     Kareem Abdul-Jabbar   218.0\n",
       "188       Dikembe Mutombo   218.0\n",
       "206      Shaquille O'Neal   216.0\n",
       "868            Marc Gasol   216.0\n",
       "115        David Robinson   216.0"
      ]
     },
     "execution_count": 34,
     "metadata": {},
     "output_type": "execute_result"
    }
   ],
   "source": [
    "(nba_unique[['Player','Height']].sort_values(by='Height', ascending = False)).head(10)"
   ]
  },
  {
   "cell_type": "markdown",
   "metadata": {},
   "source": [
    "### 6 Eliminación de outliers.\n",
    "#### 6.1 Eliminar los outliers de la variable peso (Weight) y guardar en un data frame nba.avg"
   ]
  },
  {
   "cell_type": "code",
   "execution_count": 35,
   "metadata": {},
   "outputs": [
    {
     "data": {
      "text/plain": [
       "<AxesSubplot:>"
      ]
     },
     "execution_count": 35,
     "metadata": {},
     "output_type": "execute_result"
    },
    {
     "data": {
      "image/png": "[encoded data removed]",
      "text/plain": [
       "<Figure size 432x288 with 1 Axes>"
      ]
     },
     "metadata": {
      "needs_background": "light"
     },
     "output_type": "display_data"
    }
   ],
   "source": [
    "# visualizamos los valores atipicos presentes en la variable peso\n",
    "nba_unique.boxplot(column=['Weight'])"
   ]
  },
  {
   "cell_type": "code",
   "execution_count": 36,
   "metadata": {},
   "outputs": [
    {
     "data": {
      "text/html": [
       "<div>\n",
       "<style scoped>\n",
       "    .dataframe tbody tr th:only-of-type {\n",
       "        vertical-align: middle;\n",
       "    }\n",
       "\n",
       "    .dataframe tbody tr th {\n",
       "        vertical-align: top;\n",
       "    }\n",
       "\n",
       "    .dataframe thead th {\n",
       "        text-align: right;\n",
       "    }\n",
       "</style>\n",
       "<table border=\"1\" class=\"dataframe\">\n",
       "  <thead>\n",
       "    <tr style=\"text-align: right;\">\n",
       "      <th></th>\n",
       "      <th>Age</th>\n",
       "      <th>Conference</th>\n",
       "      <th>Date</th>\n",
       "      <th>Draft Year</th>\n",
       "      <th>Height</th>\n",
       "      <th>Player</th>\n",
       "      <th>Position</th>\n",
       "      <th>Season</th>\n",
       "      <th>Season short</th>\n",
       "      <th>Seasons in league</th>\n",
       "      <th>Team</th>\n",
       "      <th>Weight</th>\n",
       "      <th>Real_value</th>\n",
       "      <th>Tiempo</th>\n",
       "    </tr>\n",
       "  </thead>\n",
       "  <tbody>\n",
       "    <tr>\n",
       "      <th>206</th>\n",
       "      <td>20</td>\n",
       "      <td>Na</td>\n",
       "      <td>Nov 15, 1992</td>\n",
       "      <td>1992</td>\n",
       "      <td>216.0</td>\n",
       "      <td>Shaquille O'Neal</td>\n",
       "      <td>Center</td>\n",
       "      <td>1992-1993</td>\n",
       "      <td>1993</td>\n",
       "      <td>0</td>\n",
       "      <td>Orlando Magic</td>\n",
       "      <td>325.0</td>\n",
       "      <td>1.0</td>\n",
       "      <td>1</td>\n",
       "    </tr>\n",
       "    <tr>\n",
       "      <th>486</th>\n",
       "      <td>23</td>\n",
       "      <td>West</td>\n",
       "      <td>Mar 7, 2004</td>\n",
       "      <td>2002</td>\n",
       "      <td>229.0</td>\n",
       "      <td>Yao Ming</td>\n",
       "      <td>Center</td>\n",
       "      <td>2003-2004</td>\n",
       "      <td>2004</td>\n",
       "      <td>1</td>\n",
       "      <td>Houston Rockets</td>\n",
       "      <td>310.0</td>\n",
       "      <td>0.5</td>\n",
       "      <td>2</td>\n",
       "    </tr>\n",
       "    <tr>\n",
       "      <th>878</th>\n",
       "      <td>27</td>\n",
       "      <td>West</td>\n",
       "      <td>Apr 8, 2013</td>\n",
       "      <td>2008</td>\n",
       "      <td>211.0</td>\n",
       "      <td>Nikola Pekovic</td>\n",
       "      <td>Power Forward</td>\n",
       "      <td>2012-2013</td>\n",
       "      <td>2013</td>\n",
       "      <td>2</td>\n",
       "      <td>Minnesota Timberwolves</td>\n",
       "      <td>307.0</td>\n",
       "      <td>0.5</td>\n",
       "      <td>5</td>\n",
       "    </tr>\n",
       "    <tr>\n",
       "      <th>625</th>\n",
       "      <td>22</td>\n",
       "      <td>East</td>\n",
       "      <td>Mar 4, 2007</td>\n",
       "      <td>2004</td>\n",
       "      <td>208.0</td>\n",
       "      <td>Al Jefferson</td>\n",
       "      <td>Forward</td>\n",
       "      <td>2006-2007</td>\n",
       "      <td>2007</td>\n",
       "      <td>2</td>\n",
       "      <td>Boston Celtics</td>\n",
       "      <td>289.0</td>\n",
       "      <td>0.5</td>\n",
       "      <td>3</td>\n",
       "    </tr>\n",
       "    <tr>\n",
       "      <th>726</th>\n",
       "      <td>21</td>\n",
       "      <td>West</td>\n",
       "      <td>Jan 26, 2009</td>\n",
       "      <td>2005</td>\n",
       "      <td>213.0</td>\n",
       "      <td>Andrew Bynum</td>\n",
       "      <td>Center</td>\n",
       "      <td>2008-2009</td>\n",
       "      <td>2009</td>\n",
       "      <td>3</td>\n",
       "      <td>Los Angeles Lakers</td>\n",
       "      <td>285.0</td>\n",
       "      <td>0.5</td>\n",
       "      <td>4</td>\n",
       "    </tr>\n",
       "    <tr>\n",
       "      <th>...</th>\n",
       "      <td>...</td>\n",
       "      <td>...</td>\n",
       "      <td>...</td>\n",
       "      <td>...</td>\n",
       "      <td>...</td>\n",
       "      <td>...</td>\n",
       "      <td>...</td>\n",
       "      <td>...</td>\n",
       "      <td>...</td>\n",
       "      <td>...</td>\n",
       "      <td>...</td>\n",
       "      <td>...</td>\n",
       "      <td>...</td>\n",
       "      <td>...</td>\n",
       "    </tr>\n",
       "    <tr>\n",
       "      <th>219</th>\n",
       "      <td>23</td>\n",
       "      <td>Na</td>\n",
       "      <td>Jan 23, 1994</td>\n",
       "      <td>1991</td>\n",
       "      <td>183.0</td>\n",
       "      <td>Kenny Anderson</td>\n",
       "      <td>Point Guard</td>\n",
       "      <td>1993-1994</td>\n",
       "      <td>1994</td>\n",
       "      <td>2</td>\n",
       "      <td>New Jersey Nets</td>\n",
       "      <td>168.0</td>\n",
       "      <td>1.0</td>\n",
       "      <td>3</td>\n",
       "    </tr>\n",
       "    <tr>\n",
       "      <th>611</th>\n",
       "      <td>22</td>\n",
       "      <td>East</td>\n",
       "      <td>Nov 7, 2005</td>\n",
       "      <td>2003</td>\n",
       "      <td>183.0</td>\n",
       "      <td>T.J. Ford</td>\n",
       "      <td>Point Guard</td>\n",
       "      <td>2005-2006</td>\n",
       "      <td>2006</td>\n",
       "      <td>2</td>\n",
       "      <td>Milwaukee Bucks</td>\n",
       "      <td>165.0</td>\n",
       "      <td>0.5</td>\n",
       "      <td>3</td>\n",
       "    </tr>\n",
       "    <tr>\n",
       "      <th>278</th>\n",
       "      <td>21</td>\n",
       "      <td>Na</td>\n",
       "      <td>Apr 13, 1997</td>\n",
       "      <td>1996</td>\n",
       "      <td>183.0</td>\n",
       "      <td>Allen Iverson</td>\n",
       "      <td>Guard</td>\n",
       "      <td>1996-1997</td>\n",
       "      <td>1997</td>\n",
       "      <td>0</td>\n",
       "      <td>Philadelphia Sixers</td>\n",
       "      <td>165.0</td>\n",
       "      <td>1.0</td>\n",
       "      <td>1</td>\n",
       "    </tr>\n",
       "    <tr>\n",
       "      <th>110</th>\n",
       "      <td>26</td>\n",
       "      <td>Na</td>\n",
       "      <td>Dec 11, 1988</td>\n",
       "      <td>1985</td>\n",
       "      <td>178.0</td>\n",
       "      <td>Michael Adams</td>\n",
       "      <td>Point Guard</td>\n",
       "      <td>1988-1989</td>\n",
       "      <td>1989</td>\n",
       "      <td>3</td>\n",
       "      <td>Denver Nuggets</td>\n",
       "      <td>163.0</td>\n",
       "      <td>1.0</td>\n",
       "      <td>4</td>\n",
       "    </tr>\n",
       "    <tr>\n",
       "      <th>251</th>\n",
       "      <td>25</td>\n",
       "      <td>Na</td>\n",
       "      <td>Nov 20, 1994</td>\n",
       "      <td>1991</td>\n",
       "      <td>183.0</td>\n",
       "      <td>Elliot Perry</td>\n",
       "      <td>Point Guard</td>\n",
       "      <td>1994-1995</td>\n",
       "      <td>1995</td>\n",
       "      <td>3</td>\n",
       "      <td>Phoenix Suns</td>\n",
       "      <td>150.0</td>\n",
       "      <td>1.0</td>\n",
       "      <td>4</td>\n",
       "    </tr>\n",
       "  </tbody>\n",
       "</table>\n",
       "<p>274 rows × 14 columns</p>\n",
       "</div>"
      ],
      "text/plain": [
       "     Age Conference          Date  Draft Year  Height            Player  \\\n",
       "206   20         Na  Nov 15, 1992        1992   216.0  Shaquille O'Neal   \n",
       "486   23       West   Mar 7, 2004        2002   229.0          Yao Ming   \n",
       "878   27       West   Apr 8, 2013        2008   211.0    Nikola Pekovic   \n",
       "625   22       East   Mar 4, 2007        2004   208.0      Al Jefferson   \n",
       "726   21       West  Jan 26, 2009        2005   213.0      Andrew Bynum   \n",
       "..   ...        ...           ...         ...     ...               ...   \n",
       "219   23         Na  Jan 23, 1994        1991   183.0    Kenny Anderson   \n",
       "611   22       East   Nov 7, 2005        2003   183.0         T.J. Ford   \n",
       "278   21         Na  Apr 13, 1997        1996   183.0     Allen Iverson   \n",
       "110   26         Na  Dec 11, 1988        1985   178.0     Michael Adams   \n",
       "251   25         Na  Nov 20, 1994        1991   183.0      Elliot Perry   \n",
       "\n",
       "          Position     Season  Season short  Seasons in league  \\\n",
       "206         Center  1992-1993          1993                  0   \n",
       "486         Center  2003-2004          2004                  1   \n",
       "878  Power Forward  2012-2013          2013                  2   \n",
       "625        Forward  2006-2007          2007                  2   \n",
       "726         Center  2008-2009          2009                  3   \n",
       "..             ...        ...           ...                ...   \n",
       "219    Point Guard  1993-1994          1994                  2   \n",
       "611    Point Guard  2005-2006          2006                  2   \n",
       "278          Guard  1996-1997          1997                  0   \n",
       "110    Point Guard  1988-1989          1989                  3   \n",
       "251    Point Guard  1994-1995          1995                  3   \n",
       "\n",
       "                       Team  Weight  Real_value  Tiempo  \n",
       "206           Orlando Magic   325.0         1.0       1  \n",
       "486         Houston Rockets   310.0         0.5       2  \n",
       "878  Minnesota Timberwolves   307.0         0.5       5  \n",
       "625          Boston Celtics   289.0         0.5       3  \n",
       "726      Los Angeles Lakers   285.0         0.5       4  \n",
       "..                      ...     ...         ...     ...  \n",
       "219         New Jersey Nets   168.0         1.0       3  \n",
       "611         Milwaukee Bucks   165.0         0.5       3  \n",
       "278     Philadelphia Sixers   165.0         1.0       1  \n",
       "110          Denver Nuggets   163.0         1.0       4  \n",
       "251            Phoenix Suns   150.0         1.0       4  \n",
       "\n",
       "[274 rows x 14 columns]"
      ]
     },
     "execution_count": 36,
     "metadata": {},
     "output_type": "execute_result"
    }
   ],
   "source": [
    "# Para poder conocer un poco más los datos los ordenaremos por la variable peso\n",
    "nba_unique.sort_values(['Weight'], ascending=False) \n",
    "# Podemos observar que los varlores atípicos serían 310 y 325"
   ]
  },
  {
   "cell_type": "code",
   "execution_count": 37,
   "metadata": {},
   "outputs": [],
   "source": [
    "# Procedemos a eliminar los outliers en la variable Weight\n",
    "nba_avg = nba_unique[nba_unique['Weight'] < 310]"
   ]
  },
  {
   "cell_type": "markdown",
   "metadata": {},
   "source": [
    "#### 6.2 Comparar los boxplots de los datos originales en nba.unique y de los datos del peso de nba.avg"
   ]
  },
  {
   "cell_type": "code",
   "execution_count": 38,
   "metadata": {},
   "outputs": [
    {
     "data": {
      "text/plain": [
       "<AxesSubplot:>"
      ]
     },
     "execution_count": 38,
     "metadata": {},
     "output_type": "execute_result"
    },
    {
     "data": {
      "image/png": "[encoded data removed]",
      "text/plain": [
       "<Figure size 432x288 with 1 Axes>"
      ]
     },
     "metadata": {
      "needs_background": "light"
     },
     "output_type": "display_data"
    }
   ],
   "source": [
    "# Comparamos los gráficos \"Outliers presentes\"\n",
    "nba_unique.boxplot(column=['Weight'])"
   ]
  },
  {
   "cell_type": "code",
   "execution_count": 39,
   "metadata": {},
   "outputs": [
    {
     "data": {
      "text/plain": [
       "<AxesSubplot:>"
      ]
     },
     "execution_count": 39,
     "metadata": {},
     "output_type": "execute_result"
    },
    {
     "data": {
      "image/png": "[encoded data removed]",
      "text/plain": [
       "<Figure size 432x288 with 1 Axes>"
      ]
     },
     "metadata": {
      "needs_background": "light"
     },
     "output_type": "display_data"
    }
   ],
   "source": [
    "nba_avg.boxplot(column=['Weight'])"
   ]
  },
  {
   "cell_type": "markdown",
   "metadata": {},
   "source": [
    "#### 6.3 Interpretar los resultados"
   ]
  },
  {
   "cell_type": "code",
   "execution_count": 40,
   "metadata": {},
   "outputs": [
    {
     "data": {
      "text/plain": [
       "count    274.000000\n",
       "mean     219.056934\n",
       "std       29.407875\n",
       "min      150.000000\n",
       "25%      195.000000\n",
       "50%      220.000000\n",
       "75%      240.000000\n",
       "max      325.000000\n",
       "Name: Weight, dtype: float64"
      ]
     },
     "execution_count": 40,
     "metadata": {},
     "output_type": "execute_result"
    }
   ],
   "source": [
    "nba_unique['Weight'].describe()"
   ]
  },
  {
   "cell_type": "code",
   "execution_count": 41,
   "metadata": {},
   "outputs": [
    {
     "data": {
      "text/plain": [
       "count    272.000000\n",
       "mean     218.333088\n",
       "std       28.262059\n",
       "min      150.000000\n",
       "25%      195.000000\n",
       "50%      220.000000\n",
       "75%      240.000000\n",
       "max      307.000000\n",
       "Name: Weight, dtype: float64"
      ]
     },
     "execution_count": 41,
     "metadata": {},
     "output_type": "execute_result"
    }
   ],
   "source": [
    "nba_avg['Weight'].describe()"
   ]
  },
  {
   "cell_type": "markdown",
   "metadata": {},
   "source": [
    " - Podemos apreciar que el número de observaciones se ha reducido en dos pasando de 274 a 272, debido a la eliminación de los valores atípicos.\n",
    " - Disminuye un poco la media de 219.05 a 218.33, así como también la desviación típica de 29.40 a 28.26\n",
    " - El primer cuartil se mantiene en 195\n",
    " - La mediana es de 220\n",
    " - El tercer cuartil es de 240\n",
    " - El valor máximo cambia debido a que eliminamos aquellos pesos por encima de 310"
   ]
  },
  {
   "cell_type": "markdown",
   "metadata": {},
   "source": [
    "### 7 Clasificación de jugadores\n",
    "#### 7.1 Añadir una columna al conjunto de datos denominada “Altura” que contenga los valores: {“bajo”, “normal”, “alto”}. La asignación del valor depende de la altura de cada jugador. Se asigna:\n",
    "- bajo: los 50 jugadores más bajos\n",
    "- alto: los 50 jugadores más altos\n",
    "- normal: el resto de jugadores"
   ]
  },
  {
   "cell_type": "code",
   "execution_count": 42,
   "metadata": {},
   "outputs": [],
   "source": [
    "# En Primer lugar ordenaremos nuestro dataframe\n",
    "nba_avg = nba_avg.sort_values([\"Height\"], ascending=True)"
   ]
  },
  {
   "cell_type": "code",
   "execution_count": 46,
   "metadata": {},
   "outputs": [],
   "source": [
    "# Almacenamos los valores en la variables indicadas\n",
    "bajo = nba_avg['Player'][0:50]\n",
    "alto = nba_avg['Player'][224:274]\n",
    "normal = nba_avg['Player'][50:224]"
   ]
  },
  {
   "cell_type": "code",
   "execution_count": 48,
   "metadata": {},
   "outputs": [],
   "source": [
    "# Asignamos los valores a las distintas \"categorias\" que conformaran la variable \"Altura\"\n",
    "nba_avg.loc[nba_avg['Player'].isin(bajo), 'Altura'] = 'bajo'\n",
    "nba_avg.loc[nba_avg['Player'].isin(normal), 'Altura'] = 'normal'\n",
    "nba_avg.loc[nba_avg['Player'].isin(alto), 'Altura'] = 'alto'"
   ]
  },
  {
   "cell_type": "markdown",
   "metadata": {},
   "source": [
    "#### 7.2 Añadir una columna al conjunto de datos denominada “Peso” que contenga los valores: {“bajo”, “normal”, “alto”}. La asignación del valor depende del peso de cada jugador. Se asigna:\n",
    "- bajo: los 50 jugadores con menor peso\n",
    "- alto: los 50 jugadores con mayor peso\n",
    "- normal: el resto de jugadores"
   ]
  },
  {
   "cell_type": "code",
   "execution_count": 49,
   "metadata": {},
   "outputs": [],
   "source": [
    "# Repetimos el proceso,ordenaremos nuestro dataframe\n",
    "nba_avg = nba_avg.sort_values([\"Weight\"], ascending=True)\n",
    "# Almacenamos los valores en la variables indicadas\n",
    "bajo = nba_avg['Player'][0:50]\n",
    "alto = nba_avg['Player'][224:274]\n",
    "normal = nba_avg['Player'][50:224]\n",
    "# Asignamos los valores a las distintas \"categorias\" que conformaran la variable \"Peso\n",
    "nba_avg.loc[nba_avg['Player'].isin(bajo), 'Peso']='bajo'\n",
    "nba_avg.loc[nba_avg['Player'].isin(normal), 'Peso']='normal'\n",
    "nba_avg.loc[nba_avg['Player'].isin(alto), 'Peso'] = 'alto'"
   ]
  },
  {
   "cell_type": "code",
   "execution_count": 52,
   "metadata": {},
   "outputs": [
    {
     "data": {
      "text/plain": [
       "Index(['Age', 'Conference', 'Date', 'Draft Year', 'Height', 'Player',\n",
       "       'Position', 'Season', 'Season short', 'Seasons in league', 'Team',\n",
       "       'Weight', 'Real_value', 'Tiempo', 'Altura', 'Peso'],\n",
       "      dtype='object')"
      ]
     },
     "execution_count": 52,
     "metadata": {},
     "output_type": "execute_result"
    }
   ],
   "source": [
    "nba_avg.columns"
   ]
  },
  {
   "cell_type": "code",
   "execution_count": 53,
   "metadata": {},
   "outputs": [
    {
     "data": {
      "text/html": [
       "<div>\n",
       "<style scoped>\n",
       "    .dataframe tbody tr th:only-of-type {\n",
       "        vertical-align: middle;\n",
       "    }\n",
       "\n",
       "    .dataframe tbody tr th {\n",
       "        vertical-align: top;\n",
       "    }\n",
       "\n",
       "    .dataframe thead th {\n",
       "        text-align: right;\n",
       "    }\n",
       "</style>\n",
       "<table border=\"1\" class=\"dataframe\">\n",
       "  <thead>\n",
       "    <tr style=\"text-align: right;\">\n",
       "      <th></th>\n",
       "      <th>Age</th>\n",
       "      <th>Conference</th>\n",
       "      <th>Date</th>\n",
       "      <th>Draft Year</th>\n",
       "      <th>Height</th>\n",
       "      <th>Player</th>\n",
       "      <th>Position</th>\n",
       "      <th>Season</th>\n",
       "      <th>Season short</th>\n",
       "      <th>Seasons in league</th>\n",
       "      <th>Team</th>\n",
       "      <th>Weight</th>\n",
       "      <th>Real_value</th>\n",
       "      <th>Tiempo</th>\n",
       "      <th>Altura</th>\n",
       "      <th>Peso</th>\n",
       "    </tr>\n",
       "  </thead>\n",
       "  <tbody>\n",
       "    <tr>\n",
       "      <th>251</th>\n",
       "      <td>25</td>\n",
       "      <td>Na</td>\n",
       "      <td>Nov 20, 1994</td>\n",
       "      <td>1991</td>\n",
       "      <td>183.0</td>\n",
       "      <td>Elliot Perry</td>\n",
       "      <td>Point Guard</td>\n",
       "      <td>1994-1995</td>\n",
       "      <td>1995</td>\n",
       "      <td>3</td>\n",
       "      <td>Phoenix Suns</td>\n",
       "      <td>150.0</td>\n",
       "      <td>1.0</td>\n",
       "      <td>4</td>\n",
       "      <td>bajo</td>\n",
       "      <td>bajo</td>\n",
       "    </tr>\n",
       "    <tr>\n",
       "      <th>110</th>\n",
       "      <td>26</td>\n",
       "      <td>Na</td>\n",
       "      <td>Dec 11, 1988</td>\n",
       "      <td>1985</td>\n",
       "      <td>178.0</td>\n",
       "      <td>Michael Adams</td>\n",
       "      <td>Point Guard</td>\n",
       "      <td>1988-1989</td>\n",
       "      <td>1989</td>\n",
       "      <td>3</td>\n",
       "      <td>Denver Nuggets</td>\n",
       "      <td>163.0</td>\n",
       "      <td>1.0</td>\n",
       "      <td>4</td>\n",
       "      <td>bajo</td>\n",
       "      <td>bajo</td>\n",
       "    </tr>\n",
       "    <tr>\n",
       "      <th>278</th>\n",
       "      <td>21</td>\n",
       "      <td>Na</td>\n",
       "      <td>Apr 13, 1997</td>\n",
       "      <td>1996</td>\n",
       "      <td>183.0</td>\n",
       "      <td>Allen Iverson</td>\n",
       "      <td>Guard</td>\n",
       "      <td>1996-1997</td>\n",
       "      <td>1997</td>\n",
       "      <td>0</td>\n",
       "      <td>Philadelphia Sixers</td>\n",
       "      <td>165.0</td>\n",
       "      <td>1.0</td>\n",
       "      <td>1</td>\n",
       "      <td>bajo</td>\n",
       "      <td>bajo</td>\n",
       "    </tr>\n",
       "    <tr>\n",
       "      <th>611</th>\n",
       "      <td>22</td>\n",
       "      <td>East</td>\n",
       "      <td>Nov 7, 2005</td>\n",
       "      <td>2003</td>\n",
       "      <td>183.0</td>\n",
       "      <td>T.J. Ford</td>\n",
       "      <td>Point Guard</td>\n",
       "      <td>2005-2006</td>\n",
       "      <td>2006</td>\n",
       "      <td>2</td>\n",
       "      <td>Milwaukee Bucks</td>\n",
       "      <td>165.0</td>\n",
       "      <td>0.5</td>\n",
       "      <td>3</td>\n",
       "      <td>bajo</td>\n",
       "      <td>bajo</td>\n",
       "    </tr>\n",
       "    <tr>\n",
       "      <th>219</th>\n",
       "      <td>23</td>\n",
       "      <td>Na</td>\n",
       "      <td>Jan 23, 1994</td>\n",
       "      <td>1991</td>\n",
       "      <td>183.0</td>\n",
       "      <td>Kenny Anderson</td>\n",
       "      <td>Point Guard</td>\n",
       "      <td>1993-1994</td>\n",
       "      <td>1994</td>\n",
       "      <td>2</td>\n",
       "      <td>New Jersey Nets</td>\n",
       "      <td>168.0</td>\n",
       "      <td>1.0</td>\n",
       "      <td>3</td>\n",
       "      <td>bajo</td>\n",
       "      <td>bajo</td>\n",
       "    </tr>\n",
       "    <tr>\n",
       "      <th>78</th>\n",
       "      <td>25</td>\n",
       "      <td>Na</td>\n",
       "      <td>Feb 21, 1988</td>\n",
       "      <td>1984</td>\n",
       "      <td>185.0</td>\n",
       "      <td>John Stockton</td>\n",
       "      <td>Point Guard</td>\n",
       "      <td>1987-1988</td>\n",
       "      <td>1988</td>\n",
       "      <td>3</td>\n",
       "      <td>Utah Jazz</td>\n",
       "      <td>170.0</td>\n",
       "      <td>1.0</td>\n",
       "      <td>4</td>\n",
       "      <td>bajo</td>\n",
       "      <td>bajo</td>\n",
       "    </tr>\n",
       "    <tr>\n",
       "      <th>56</th>\n",
       "      <td>26</td>\n",
       "      <td>Na</td>\n",
       "      <td>Feb 1, 1987</td>\n",
       "      <td>1982</td>\n",
       "      <td>190.0</td>\n",
       "      <td>Fat Lever</td>\n",
       "      <td>Point Guard</td>\n",
       "      <td>1986-1987</td>\n",
       "      <td>1987</td>\n",
       "      <td>4</td>\n",
       "      <td>Denver Nuggets</td>\n",
       "      <td>170.0</td>\n",
       "      <td>1.0</td>\n",
       "      <td>5</td>\n",
       "      <td>normal</td>\n",
       "      <td>bajo</td>\n",
       "    </tr>\n",
       "    <tr>\n",
       "      <th>791</th>\n",
       "      <td>20</td>\n",
       "      <td>East</td>\n",
       "      <td>Nov 16, 2009</td>\n",
       "      <td>2009</td>\n",
       "      <td>185.0</td>\n",
       "      <td>Brandon Jennings</td>\n",
       "      <td>Guard</td>\n",
       "      <td>2009-2010</td>\n",
       "      <td>2010</td>\n",
       "      <td>0</td>\n",
       "      <td>Milwaukee Bucks</td>\n",
       "      <td>170.0</td>\n",
       "      <td>0.5</td>\n",
       "      <td>1</td>\n",
       "      <td>bajo</td>\n",
       "      <td>bajo</td>\n",
       "    </tr>\n",
       "    <tr>\n",
       "      <th>143</th>\n",
       "      <td>25</td>\n",
       "      <td>Na</td>\n",
       "      <td>Mar 17, 1991</td>\n",
       "      <td>1987</td>\n",
       "      <td>190.0</td>\n",
       "      <td>Kenny Smith</td>\n",
       "      <td>Point Guard</td>\n",
       "      <td>1990-1991</td>\n",
       "      <td>1991</td>\n",
       "      <td>3</td>\n",
       "      <td>Houston Rockets</td>\n",
       "      <td>170.0</td>\n",
       "      <td>1.0</td>\n",
       "      <td>4</td>\n",
       "      <td>bajo</td>\n",
       "      <td>bajo</td>\n",
       "    </tr>\n",
       "    <tr>\n",
       "      <th>329</th>\n",
       "      <td>30</td>\n",
       "      <td>Na</td>\n",
       "      <td>Mar 28, 1999</td>\n",
       "      <td>1991</td>\n",
       "      <td>183.0</td>\n",
       "      <td>Darrell Armstrong</td>\n",
       "      <td>Point Guard</td>\n",
       "      <td>1998-1999</td>\n",
       "      <td>1999</td>\n",
       "      <td>4</td>\n",
       "      <td>Orlando Magic</td>\n",
       "      <td>170.0</td>\n",
       "      <td>1.0</td>\n",
       "      <td>8</td>\n",
       "      <td>bajo</td>\n",
       "      <td>bajo</td>\n",
       "    </tr>\n",
       "  </tbody>\n",
       "</table>\n",
       "</div>"
      ],
      "text/plain": [
       "     Age Conference          Date  Draft Year  Height             Player  \\\n",
       "251   25         Na  Nov 20, 1994        1991   183.0       Elliot Perry   \n",
       "110   26         Na  Dec 11, 1988        1985   178.0      Michael Adams   \n",
       "278   21         Na  Apr 13, 1997        1996   183.0      Allen Iverson   \n",
       "611   22       East   Nov 7, 2005        2003   183.0          T.J. Ford   \n",
       "219   23         Na  Jan 23, 1994        1991   183.0     Kenny Anderson   \n",
       "78    25         Na  Feb 21, 1988        1984   185.0      John Stockton   \n",
       "56    26         Na   Feb 1, 1987        1982   190.0          Fat Lever   \n",
       "791   20       East  Nov 16, 2009        2009   185.0   Brandon Jennings   \n",
       "143   25         Na  Mar 17, 1991        1987   190.0        Kenny Smith   \n",
       "329   30         Na  Mar 28, 1999        1991   183.0  Darrell Armstrong   \n",
       "\n",
       "        Position     Season  Season short  Seasons in league  \\\n",
       "251  Point Guard  1994-1995          1995                  3   \n",
       "110  Point Guard  1988-1989          1989                  3   \n",
       "278        Guard  1996-1997          1997                  0   \n",
       "611  Point Guard  2005-2006          2006                  2   \n",
       "219  Point Guard  1993-1994          1994                  2   \n",
       "78   Point Guard  1987-1988          1988                  3   \n",
       "56   Point Guard  1986-1987          1987                  4   \n",
       "791        Guard  2009-2010          2010                  0   \n",
       "143  Point Guard  1990-1991          1991                  3   \n",
       "329  Point Guard  1998-1999          1999                  4   \n",
       "\n",
       "                    Team  Weight  Real_value  Tiempo  Altura  Peso  \n",
       "251         Phoenix Suns   150.0         1.0       4    bajo  bajo  \n",
       "110       Denver Nuggets   163.0         1.0       4    bajo  bajo  \n",
       "278  Philadelphia Sixers   165.0         1.0       1    bajo  bajo  \n",
       "611      Milwaukee Bucks   165.0         0.5       3    bajo  bajo  \n",
       "219      New Jersey Nets   168.0         1.0       3    bajo  bajo  \n",
       "78             Utah Jazz   170.0         1.0       4    bajo  bajo  \n",
       "56        Denver Nuggets   170.0         1.0       5  normal  bajo  \n",
       "791      Milwaukee Bucks   170.0         0.5       1    bajo  bajo  \n",
       "143      Houston Rockets   170.0         1.0       4    bajo  bajo  \n",
       "329        Orlando Magic   170.0         1.0       8    bajo  bajo  "
      ]
     },
     "execution_count": 53,
     "metadata": {},
     "output_type": "execute_result"
    }
   ],
   "source": [
    "nba_avg.head(10)"
   ]
  },
  {
   "cell_type": "markdown",
   "metadata": {},
   "source": [
    "#### 7.3 Calcular la media y desviación típica del peso (Weight) según la clasificación de altura de los jugadores."
   ]
  },
  {
   "cell_type": "code",
   "execution_count": 56,
   "metadata": {},
   "outputs": [
    {
     "data": {
      "text/html": [
       "<div>\n",
       "<style scoped>\n",
       "    .dataframe tbody tr th:only-of-type {\n",
       "        vertical-align: middle;\n",
       "    }\n",
       "\n",
       "    .dataframe tbody tr th {\n",
       "        vertical-align: top;\n",
       "    }\n",
       "\n",
       "    .dataframe thead tr th {\n",
       "        text-align: left;\n",
       "    }\n",
       "\n",
       "    .dataframe thead tr:last-of-type th {\n",
       "        text-align: right;\n",
       "    }\n",
       "</style>\n",
       "<table border=\"1\" class=\"dataframe\">\n",
       "  <thead>\n",
       "    <tr>\n",
       "      <th></th>\n",
       "      <th colspan=\"2\" halign=\"left\">Weight</th>\n",
       "    </tr>\n",
       "    <tr>\n",
       "      <th></th>\n",
       "      <th>mean</th>\n",
       "      <th>std</th>\n",
       "    </tr>\n",
       "    <tr>\n",
       "      <th>Peso</th>\n",
       "      <th></th>\n",
       "      <th></th>\n",
       "    </tr>\n",
       "  </thead>\n",
       "  <tbody>\n",
       "    <tr>\n",
       "      <th>alto</th>\n",
       "      <td>260.358333</td>\n",
       "      <td>12.771108</td>\n",
       "    </tr>\n",
       "    <tr>\n",
       "      <th>bajo</th>\n",
       "      <td>179.760000</td>\n",
       "      <td>8.579901</td>\n",
       "    </tr>\n",
       "    <tr>\n",
       "      <th>normal</th>\n",
       "      <td>217.824138</td>\n",
       "      <td>16.301654</td>\n",
       "    </tr>\n",
       "  </tbody>\n",
       "</table>\n",
       "</div>"
      ],
      "text/plain": [
       "            Weight           \n",
       "              mean        std\n",
       "Peso                         \n",
       "alto    260.358333  12.771108\n",
       "bajo    179.760000   8.579901\n",
       "normal  217.824138  16.301654"
      ]
     },
     "execution_count": 56,
     "metadata": {},
     "output_type": "execute_result"
    }
   ],
   "source": [
    "nba_avg[['Peso','Weight']].groupby('Peso').agg(['mean','std'])"
   ]
  },
  {
   "cell_type": "markdown",
   "metadata": {},
   "source": [
    "#### 7.4 Realizar un boxplot del peso (Weight) según la clasificación de altura del jugador. Los boxplots deben estar ordenados de menos a mayor altura."
   ]
  },
  {
   "cell_type": "code",
   "execution_count": 59,
   "metadata": {},
   "outputs": [
    {
     "data": {
      "text/plain": [
       "<AxesSubplot:xlabel='Altura', ylabel='Weight'>"
      ]
     },
     "execution_count": 59,
     "metadata": {},
     "output_type": "execute_result"
    },
    {
     "data": {
      "image/png": "[encoded data removed]",
      "text/plain": [
       "<Figure size 432x288 with 1 Axes>"
      ]
     },
     "metadata": {
      "needs_background": "light"
     },
     "output_type": "display_data"
    }
   ],
   "source": [
    "import seaborn as sns\n",
    "sns.boxplot(x =nba_avg[\"Altura\"], y = nba_avg[\"Weight\"])"
   ]
  },
  {
   "cell_type": "markdown",
   "metadata": {},
   "source": [
    "#### 7.5 Hacer un listado con el nombre de jugadores que tienen una altura ‘normal’ y un peso ‘alto’. Ordenar alfabéticamente por nombre."
   ]
  },
  {
   "cell_type": "code",
   "execution_count": 61,
   "metadata": {},
   "outputs": [
    {
     "data": {
      "text/html": [
       "<div>\n",
       "<style scoped>\n",
       "    .dataframe tbody tr th:only-of-type {\n",
       "        vertical-align: middle;\n",
       "    }\n",
       "\n",
       "    .dataframe tbody tr th {\n",
       "        vertical-align: top;\n",
       "    }\n",
       "\n",
       "    .dataframe thead th {\n",
       "        text-align: right;\n",
       "    }\n",
       "</style>\n",
       "<table border=\"1\" class=\"dataframe\">\n",
       "  <thead>\n",
       "    <tr style=\"text-align: right;\">\n",
       "      <th></th>\n",
       "      <th>Age</th>\n",
       "      <th>Conference</th>\n",
       "      <th>Date</th>\n",
       "      <th>Draft Year</th>\n",
       "      <th>Height</th>\n",
       "      <th>Player</th>\n",
       "      <th>Position</th>\n",
       "      <th>Season</th>\n",
       "      <th>Season short</th>\n",
       "      <th>Seasons in league</th>\n",
       "      <th>Team</th>\n",
       "      <th>Weight</th>\n",
       "      <th>Real_value</th>\n",
       "      <th>Tiempo</th>\n",
       "      <th>Altura</th>\n",
       "      <th>Peso</th>\n",
       "    </tr>\n",
       "  </thead>\n",
       "  <tbody>\n",
       "    <tr>\n",
       "      <th>625</th>\n",
       "      <td>22</td>\n",
       "      <td>East</td>\n",
       "      <td>Mar 4, 2007</td>\n",
       "      <td>2004</td>\n",
       "      <td>208.0</td>\n",
       "      <td>Al Jefferson</td>\n",
       "      <td>Forward</td>\n",
       "      <td>2006-2007</td>\n",
       "      <td>2007</td>\n",
       "      <td>2</td>\n",
       "      <td>Boston Celtics</td>\n",
       "      <td>289.0</td>\n",
       "      <td>0.5</td>\n",
       "      <td>3</td>\n",
       "      <td>normal</td>\n",
       "      <td>alto</td>\n",
       "    </tr>\n",
       "    <tr>\n",
       "      <th>976</th>\n",
       "      <td>21</td>\n",
       "      <td>West</td>\n",
       "      <td>Mar 16, 2015</td>\n",
       "      <td>2012</td>\n",
       "      <td>208.0</td>\n",
       "      <td>Anthony Davis</td>\n",
       "      <td>Power Forward</td>\n",
       "      <td>2014-2015</td>\n",
       "      <td>2015</td>\n",
       "      <td>2</td>\n",
       "      <td>New Orleans Pelicans</td>\n",
       "      <td>253.0</td>\n",
       "      <td>0.5</td>\n",
       "      <td>3</td>\n",
       "      <td>normal</td>\n",
       "      <td>alto</td>\n",
       "    </tr>\n",
       "    <tr>\n",
       "      <th>450</th>\n",
       "      <td>26</td>\n",
       "      <td>East</td>\n",
       "      <td>Jan 19, 2003</td>\n",
       "      <td>1996</td>\n",
       "      <td>206.0</td>\n",
       "      <td>Antoine Walker</td>\n",
       "      <td>Forward</td>\n",
       "      <td>2002-2003</td>\n",
       "      <td>2003</td>\n",
       "      <td>6</td>\n",
       "      <td>Boston Celtics</td>\n",
       "      <td>265.0</td>\n",
       "      <td>0.5</td>\n",
       "      <td>7</td>\n",
       "      <td>normal</td>\n",
       "      <td>alto</td>\n",
       "    </tr>\n",
       "    <tr>\n",
       "      <th>910</th>\n",
       "      <td>23</td>\n",
       "      <td>West</td>\n",
       "      <td>Dec 10, 2012</td>\n",
       "      <td>2009</td>\n",
       "      <td>208.0</td>\n",
       "      <td>Blake Griffin</td>\n",
       "      <td>Power Forward</td>\n",
       "      <td>2012-2013</td>\n",
       "      <td>2013</td>\n",
       "      <td>3</td>\n",
       "      <td>Los Angeles Clippers</td>\n",
       "      <td>251.0</td>\n",
       "      <td>0.5</td>\n",
       "      <td>4</td>\n",
       "      <td>normal</td>\n",
       "      <td>alto</td>\n",
       "    </tr>\n",
       "    <tr>\n",
       "      <th>495</th>\n",
       "      <td>22</td>\n",
       "      <td>East</td>\n",
       "      <td>Jan 25, 2004</td>\n",
       "      <td>2002</td>\n",
       "      <td>206.0</td>\n",
       "      <td>Carlos Boozer</td>\n",
       "      <td>Power Forward</td>\n",
       "      <td>2003-2004</td>\n",
       "      <td>2004</td>\n",
       "      <td>1</td>\n",
       "      <td>Cleveland Cavaliers</td>\n",
       "      <td>266.0</td>\n",
       "      <td>0.5</td>\n",
       "      <td>2</td>\n",
       "      <td>normal</td>\n",
       "      <td>alto</td>\n",
       "    </tr>\n",
       "  </tbody>\n",
       "</table>\n",
       "</div>"
      ],
      "text/plain": [
       "     Age Conference          Date  Draft Year  Height          Player  \\\n",
       "625   22       East   Mar 4, 2007        2004   208.0    Al Jefferson   \n",
       "976   21       West  Mar 16, 2015        2012   208.0   Anthony Davis   \n",
       "450   26       East  Jan 19, 2003        1996   206.0  Antoine Walker   \n",
       "910   23       West  Dec 10, 2012        2009   208.0   Blake Griffin   \n",
       "495   22       East  Jan 25, 2004        2002   206.0   Carlos Boozer   \n",
       "\n",
       "          Position     Season  Season short  Seasons in league  \\\n",
       "625        Forward  2006-2007          2007                  2   \n",
       "976  Power Forward  2014-2015          2015                  2   \n",
       "450        Forward  2002-2003          2003                  6   \n",
       "910  Power Forward  2012-2013          2013                  3   \n",
       "495  Power Forward  2003-2004          2004                  1   \n",
       "\n",
       "                     Team  Weight  Real_value  Tiempo  Altura  Peso  \n",
       "625        Boston Celtics   289.0         0.5       3  normal  alto  \n",
       "976  New Orleans Pelicans   253.0         0.5       3  normal  alto  \n",
       "450        Boston Celtics   265.0         0.5       7  normal  alto  \n",
       "910  Los Angeles Clippers   251.0         0.5       4  normal  alto  \n",
       "495   Cleveland Cavaliers   266.0         0.5       2  normal  alto  "
      ]
     },
     "execution_count": 61,
     "metadata": {},
     "output_type": "execute_result"
    }
   ],
   "source": [
    "Listado = nba_avg[(nba_avg['Altura'] == 'normal') & (nba_avg['Peso'] == 'alto')].sort_values(['Player'])\n",
    "Listado.head(5)"
   ]
  }
 ],
 "metadata": {
  "kernelspec": {
   "display_name": "Python 3",
   "language": "python",
   "name": "python3"
  },
  "language_info": {
   "codemirror_mode": {
    "name": "ipython",
    "version": 3
   },
   "file_extension": ".py",
   "mimetype": "text/x-python",
   "name": "python",
   "nbconvert_exporter": "python",
   "pygments_lexer": "ipython3",
   "version": "3.8.5"
  }
 },
 "nbformat": 4,
 "nbformat_minor": 4
}
