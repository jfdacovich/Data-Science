{
 "cells": [
  {
   "cell_type": "markdown",
   "metadata": {},
   "source": [
    "# Time Series Analysis"
   ]
  },
  {
   "cell_type": "markdown",
   "metadata": {},
   "source": [
    "Time series analysis focuses on analyzing data changes that occur at equally spaced time intervals so we can understand what factors produced past results so that we can forecast future results.\n",
    "\n",
    "Time series analysis is used to forecast the stock market, economic outlook, and numerous other business and scientific based projects.\n",
    "\n",
    "I'll be using a combination of Python data science libraries including Numpy, Pandas, StatsModels, Seaborn and Plotly. Numpy and Pandas will be used to work with data. StatsModels will provide many time series statistical analysis functions. Seaborn and Plotly will be used for visualizations."
   ]
  },
  {
   "cell_type": "code",
   "execution_count": 1,
   "metadata": {},
   "outputs": [
    {
     "ename": "ModuleNotFoundError",
     "evalue": "No module named 'chart_studio'",
     "output_type": "error",
     "traceback": [
      "\u001b[0;31m---------------------------------------------------------------------------\u001b[0m",
      "\u001b[0;31mModuleNotFoundError\u001b[0m                       Traceback (most recent call last)",
      "\u001b[0;32m<ipython-input-1-0c0a8a378f12>\u001b[0m in \u001b[0;36m<module>\u001b[0;34m\u001b[0m\n\u001b[1;32m      3\u001b[0m \u001b[0;32mimport\u001b[0m \u001b[0mmatplotlib\u001b[0m\u001b[0;34m.\u001b[0m\u001b[0mpyplot\u001b[0m \u001b[0;32mas\u001b[0m \u001b[0mplt\u001b[0m\u001b[0;34m\u001b[0m\u001b[0;34m\u001b[0m\u001b[0m\n\u001b[1;32m      4\u001b[0m \u001b[0mget_ipython\u001b[0m\u001b[0;34m(\u001b[0m\u001b[0;34m)\u001b[0m\u001b[0;34m.\u001b[0m\u001b[0mrun_line_magic\u001b[0m\u001b[0;34m(\u001b[0m\u001b[0;34m'matplotlib'\u001b[0m\u001b[0;34m,\u001b[0m \u001b[0;34m'inline'\u001b[0m\u001b[0;34m)\u001b[0m\u001b[0;34m\u001b[0m\u001b[0;34m\u001b[0m\u001b[0m\n\u001b[0;32m----> 5\u001b[0;31m \u001b[0;32mimport\u001b[0m \u001b[0mchart_studio\u001b[0m\u001b[0;34m.\u001b[0m\u001b[0mplotly\u001b[0m \u001b[0;32mas\u001b[0m \u001b[0mpy\u001b[0m\u001b[0;34m\u001b[0m\u001b[0;34m\u001b[0m\u001b[0m\n\u001b[0m\u001b[1;32m      6\u001b[0m \u001b[0;32mimport\u001b[0m \u001b[0mplotly\u001b[0m\u001b[0;34m.\u001b[0m\u001b[0mexpress\u001b[0m \u001b[0;32mas\u001b[0m \u001b[0mpx\u001b[0m\u001b[0;34m\u001b[0m\u001b[0;34m\u001b[0m\u001b[0m\n\u001b[1;32m      7\u001b[0m \u001b[0;31m# Provides classes for working with dates and times\u001b[0m\u001b[0;34m\u001b[0m\u001b[0;34m\u001b[0m\u001b[0;34m\u001b[0m\u001b[0m\n",
      "\u001b[0;31mModuleNotFoundError\u001b[0m: No module named 'chart_studio'"
     ]
    }
   ],
   "source": [
    "import numpy as np\n",
    "import pandas as pd\n",
    "import matplotlib.pyplot as plt\n",
    "%matplotlib inline\n",
    "\n",
    "#import chart_studio.plotly as py\n",
    "import plotly.express as px\n",
    "# Provides classes for working with dates and times\n",
    "from datetime import datetime"
   ]
  },
  {
   "cell_type": "markdown",
   "metadata": {},
   "source": [
    "## Pandas Datetime Index"
   ]
  },
  {
   "cell_type": "code",
   "execution_count": 4,
   "metadata": {},
   "outputs": [
    {
     "name": "stdout",
     "output_type": "stream",
     "text": [
      "             A   B   C\n",
      "2020-01-01  44  13  15\n",
      "2020-01-02  29  14  26\n",
      "2020-01-03  39  14  14\n",
      "2020-01-01 00:00:00\n",
      "2020-01-03 00:00:00\n",
      "0\n",
      "2\n"
     ]
    }
   ],
   "source": [
    "# Generate dates from start to 15 days with nanosecond accuracy\n",
    "pd.date_range('2020-10-01',periods=15,freq='D')\n",
    "# You can also input month name\n",
    "pd.date_range('Oct 01, 2020',periods=15,freq='D')\n",
    "# Pass in strings to convert to datetimes\n",
    "# format allows you to define \"%d/%m/%Y\"\n",
    "pd.to_datetime(['10/01/2020', '10/02/2020'])\n",
    "\n",
    "# Create 3x3 matrix with random values between 10 and 50\n",
    "arr_1 = np.random.randint(10, 50, size=(3,3))\n",
    "# Generate 3 consecutive dates\n",
    "date_arr = pd.date_range('2020-01-01',periods=3,freq='D')\n",
    "# Create dataframe with columns named ABC and rows labeled\n",
    "# with the dates\n",
    "df_1 = pd.DataFrame(arr_1, columns=['A','B','C'], index=date_arr)\n",
    "print(df_1)\n",
    "\n",
    "# Get min & max datetimes and indexes\n",
    "print(df_1.index.min())\n",
    "print(df_1.index.max())\n",
    "print(df_1.index.argmin())\n",
    "print(df_1.index.argmax())"
   ]
  },
  {
   "cell_type": "markdown",
   "metadata": {},
   "source": [
    "## Time Resampling"
   ]
  },
  {
   "cell_type": "code",
   "execution_count": null,
   "metadata": {},
   "outputs": [],
   "source": [
    "# Import stock data from a CSV file\n",
    "df_appl = pd.read_csv('appl.csv')\n",
    "# Print a chart\n",
    "px.line(df_appl, x='AAPL_x', y='AAPL_y', \n",
    "        labels={'x':'Date', 'y':'Price'})\n",
    "df_appl.head()\n",
    "\n",
    "# We can set the date as an index and treat as a date rather\n",
    "# than a string\n",
    "df_appl = pd.read_csv('appl.csv', index_col='AAPL_x', \n",
    "                     parse_dates=True)\n",
    "df_appl\n",
    "\n",
    "# Generate a random 240 item array for volume data\n",
    "arr_2 = np.random.randint(86000000, 256000000, size=240)\n",
    "# Add volume data to dataframe\n",
    "df_appl['Volume'] = arr_2\n",
    "# Rename column AAPL_y Price\n",
    "df_appl.rename(columns={'AAPL_y':'Price'}, inplace = True)\n",
    "df_appl\n",
    "\n",
    "# Get the average price and volume over the year 'A'\n",
    "# Try min, max, sum, std\n",
    "df_appl.resample(rule='A').mean()\n",
    "\n",
    "# Get standard deviation just on the price\n",
    "df_appl['Price'].resample('A').std()\n",
    "\n",
    "# Get weekly, monthly, biweekly, quarterly mean\n",
    "# Also D (Day), H (Hour), T (Minute), S (Second), L (Millisecond)\n",
    "# U (Microsecond)\n",
    "df_appl['Price'].resample(rule='W').mean()\n",
    "df_appl['Price'].resample(rule='M').mean()\n",
    "df_appl['Price'].resample(rule='SM').mean()\n",
    "df_appl['Price'].resample(rule='Q').mean()\n",
    "# Bimonthly plus a bar plot with a list of colors\n",
    "df_appl['Price'].resample(rule='2M').mean().plot.bar(color=list('rgbkymc'))"
   ]
  }
 ],
 "metadata": {
  "kernelspec": {
   "display_name": "Python 3",
   "language": "python",
   "name": "python3"
  },
  "language_info": {
   "codemirror_mode": {
    "name": "ipython",
    "version": 3
   },
   "file_extension": ".py",
   "mimetype": "text/x-python",
   "name": "python",
   "nbconvert_exporter": "python",
   "pygments_lexer": "ipython3",
   "version": "3.7.6"
  }
 },
 "nbformat": 4,
 "nbformat_minor": 4
}
