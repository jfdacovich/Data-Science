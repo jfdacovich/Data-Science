{
 "cells": [
  {
   "cell_type": "markdown",
   "metadata": {},
   "source": [
    "## Black-Jack\n",
    "#### Solución Raquel y Jorge"
   ]
  },
  {
   "cell_type": "code",
   "execution_count": 4,
   "metadata": {},
   "outputs": [],
   "source": [
    "def blackjack(cartas):\n",
    "    croupier = np.random.randint(1,21)\n",
    "    suma = 0\n",
    "    jugar = True\n",
    "    while jugar:\n",
    "        x = np.random.choice(cartas)\n",
    "        print(x)\n",
    "        suma += x\n",
    "        if suma > 21:\n",
    "            print(\"has perdido, tu resultado es: \", suma)\n",
    "            jugar = False\n",
    "        elif suma == 21:\n",
    "            print(\"blackjack! has ganado! tu resultado es: \", suma)\n",
    "            jugar = False\n",
    "        else:\n",
    "            continuar = input(\"Quieres otra carta?: si/no\")\n",
    "            if continuar ==\"si\":\n",
    "                jugar = True\n",
    "            elif continuar ==\"no\":\n",
    "                jugar = False\n",
    "                if suma > croupier:\n",
    "                    print(\"has ganado a la casa! tu resultado es: \", suma, \"y el de la casa es: \",croupier)\n",
    "                else:\n",
    "                    print(\"la casa gana!, tu resultado es: \", suma,\" y el de la casa es:\" ,croupier )\n",
    "                    break\n",
    "            else:\n",
    "                continuar = input(\"Por favor, quieres otra carta?: si/no\")"
   ]
  },
  {
   "cell_type": "code",
   "execution_count": 3,
   "metadata": {},
   "outputs": [
    {
     "ename": "NameError",
     "evalue": "name 'cartas' is not defined",
     "output_type": "error",
     "traceback": [
      "\u001b[1;31m---------------------------------------------------------------------------\u001b[0m",
      "\u001b[1;31mNameError\u001b[0m                                 Traceback (most recent call last)",
      "\u001b[1;32m<ipython-input-3-9fa9eade3da4>\u001b[0m in \u001b[0;36m<module>\u001b[1;34m\u001b[0m\n\u001b[1;32m----> 1\u001b[1;33m \u001b[0mblackjack\u001b[0m\u001b[1;33m(\u001b[0m\u001b[0mcartas\u001b[0m\u001b[1;33m)\u001b[0m\u001b[1;33m\u001b[0m\u001b[1;33m\u001b[0m\u001b[0m\n\u001b[0m",
      "\u001b[1;31mNameError\u001b[0m: name 'cartas' is not defined"
     ]
    }
   ],
   "source": [
    "blackjack(cartas)"
   ]
  }
 ],
 "metadata": {
  "kernelspec": {
   "display_name": "Python 3",
   "language": "python",
   "name": "python3"
  },
  "language_info": {
   "codemirror_mode": {
    "name": "ipython",
    "version": 3
   },
   "file_extension": ".py",
   "mimetype": "text/x-python",
   "name": "python",
   "nbconvert_exporter": "python",
   "pygments_lexer": "ipython3",
   "version": "3.8.5"
  }
 },
 "nbformat": 4,
 "nbformat_minor": 4
}
