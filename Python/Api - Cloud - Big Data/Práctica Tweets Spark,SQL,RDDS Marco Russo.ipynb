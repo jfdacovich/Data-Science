{
 "cells": [
  {
   "cell_type": "markdown",
   "metadata": {},
   "source": [
    "![Spark Logo](http://spark-mooc.github.io/web-assets/images/ta_Spark-logo-small.png)  ![Python Logo](http://spark-mooc.github.io/web-assets/images/python-logo-master-v3-TM-flattened_small.png)\n",
    "# PEC 4: 2020-2021\n",
    "\n",
    "## Extracción de conocimiento de fuentes de datos heterogéneas mediante Spark SQL, RDDs y GraphFrames\n",
    "\n",
    "En esta práctica vamos a introducir estructuras de datos más complejas que las vistas hasta ahora, donde los campos pueden a su vez tener campos anidados. En concreto utilizaremos datos de twitter capturados en el contexto de las elecciones generales en España del 28 de Abril de 2019. La práctica está estructurada de la siguiente manera:\n",
    "- **Parte 0:** Configuración del entorno\n",
    "- **Parte 1:** Introducción a data frames estructurados y cómo operar extraer información *(3 puntos)*\n",
    "    - **Parte 1.1:** Importar los datos *(1 puntos)*\n",
    "    - **Parte 1.2:** *Queries* sobre sobre data frames complejos *(2 puntos)*\n",
    "        - **Parte 1.2.1:** Queries SQL *(1 puntos)*\n",
    "        - **Parte 1.2.2:** Queries sobre el pipeline *(1 puntos)*\n",
    "- **Parte 2:** Bases de datos HIVE y operaciones complejas *(3 puntos)*\n",
    "    - **Parte 2.1:** Bases de datos Hive *(1 puntos)*\n",
    "    - **Parte 2.2:** Más allá de las transformaciones SQL *(2 puntos)*\n",
    "        - **Parte 2.2.1:** Tweets por población  *(1 puntos)*\n",
    "        - **Parte 2.2.2:** Contar hashtags *(1 puntos)*\n",
    "- **Parte 3:** Sampling *(2 Puntos)*\n",
    "- **Parte 4**: Introducción a los datos relacionales *(2 puntos)*\n",
    "     - **Parte 4.1**: Construcción de la edgelist *(1 puntos)*\n",
    "     - **Parte 4.2**: Centralidad de grado *(1 puntos)*\n"
   ]
  },
  {
   "cell_type": "markdown",
   "metadata": {},
   "source": [
    "## **Parte 0:** Configuración del entorno"
   ]
  },
  {
   "cell_type": "code",
   "execution_count": 1,
   "metadata": {},
   "outputs": [],
   "source": [
    "import findspark\n",
    "findspark.init()"
   ]
  },
  {
   "cell_type": "code",
   "execution_count": 2,
   "metadata": {},
   "outputs": [],
   "source": [
    "import re\n",
    "import os\n",
    "import pandas as pd\n",
    "from matplotlib import pyplot as plt\n",
    "from math import floor\n",
    "from pyspark import SparkConf, SparkContext, SQLContext, HiveContext\n",
    "from pyspark.sql import Row"
   ]
  },
  {
   "cell_type": "code",
   "execution_count": 3,
   "metadata": {},
   "outputs": [],
   "source": [
    "SUBMIT_ARGS = \"--packages graphframes:graphframes:0.7.0-spark2.4-s_2.11 pyspark-shell\"\n",
    "os.environ[\"PYSPARK_SUBMIT_ARGS\"] = SUBMIT_ARGS\n",
    "\n",
    "conf = SparkConf()\n",
    "conf.setMaster(\"local[1]\")\n",
    "# Introducid el nombre de la app PEC3_ seguido de vuestro nombre de usuario\n",
    "conf.setAppName('pra04_jorgef')\n",
    "sc = SparkContext(conf=conf)"
   ]
  },
  {
   "cell_type": "markdown",
   "metadata": {
    "toc-hr-collapsed": false
   },
   "source": [
    "## **Parte 1:** Introducción a data frames estructurados i operaciones sobre ellos.\n",
    "\n",
    "Como ya se ha mencionado, en esta práctica vamos ha utilizar datos de Twitter que recolectamos durante las elecciones generales en España del 28 de abril de 2019. Como veremos, los tweets tienen una estructura interna bastante compleja que hemos simplificado un poco en esta práctica.\n",
    "\n",
    "### **Parte 1.1:** Importar los datos\n",
    "\n",
    "Lo primero que vamos ha aprender es cómo importar este tipo de datos a nuestro entorno. Uno de los tipos de archivos más comunes para guardar este formato de información es [la estructura JSON](https://en.wikipedia.org/wiki/JSON). Esta estructura permite guardar información en un texto plano de diferentes objetos siguiendo una estructura de diccionario donde cada campo tiene asignado una llave y un valor. La estructura puede ser anidada, o sea que una llave puede tener como valor otra estructura tipo diccionario.\n",
    "\n",
    "Spark SQL permite leer datos de muchos formatos diferentes (como recordareis de la anterior práctica donde leímos un fichero CSV). En esta ocasión, se os pide que leáis un fichero JSON de la ruta ```/neoland/labs/tweets28a_sample.json```. Este archivo contiene un pequeño *sample*, un 0.1% de la base de datos completa (en un siguiente apartado veremos cómo realizar este *sampleado*). En esta ocasión no se os pide especificar la estructura del data frame ya que la función de lectura la inferirá automáticamente."
   ]
  },
  {
   "cell_type": "code",
   "execution_count": 5,
   "metadata": {
    "collapsed": true,
    "jupyter": {
     "outputs_hidden": true
    }
   },
   "outputs": [
    {
     "name": "stdout",
     "output_type": "stream",
     "text": [
      "Found 201 items\n",
      "-rw-r--r--   2 marco hadoop          0 2021-02-26 15:30 /neoland/labs/tweets28a_sample.json/_SUCCESS\n",
      "-rw-r--r--   2 marco hadoop      58483 2021-02-26 15:30 /neoland/labs/tweets28a_sample.json/part-00000-198f4203-4df1-40e4-9597-46f0b09fe8a5-c000.json\n",
      "-rw-r--r--   2 marco hadoop      69316 2021-02-26 15:30 /neoland/labs/tweets28a_sample.json/part-00001-198f4203-4df1-40e4-9597-46f0b09fe8a5-c000.json\n",
      "-rw-r--r--   2 marco hadoop      70253 2021-02-26 15:30 /neoland/labs/tweets28a_sample.json/part-00002-198f4203-4df1-40e4-9597-46f0b09fe8a5-c000.json\n",
      "-rw-r--r--   2 marco hadoop      63558 2021-02-26 15:30 /neoland/labs/tweets28a_sample.json/part-00003-198f4203-4df1-40e4-9597-46f0b09fe8a5-c000.json\n",
      "-rw-r--r--   2 marco hadoop      63382 2021-02-26 15:30 /neoland/labs/tweets28a_sample.json/part-00004-198f4203-4df1-40e4-9597-46f0b09fe8a5-c000.json\n",
      "-rw-r--r--   2 marco hadoop      80313 2021-02-26 15:30 /neoland/labs/tweets28a_sample.json/part-00005-198f4203-4df1-40e4-9597-46f0b09fe8a5-c000.json\n",
      "-rw-r--r--   2 marco hadoop      62585 2021-02-26 15:30 /neoland/labs/tweets28a_sample.json/part-00006-198f4203-4df1-40e4-9597-46f0b09fe8a5-c000.json\n",
      "-rw-r--r--   2 marco hadoop      83369 2021-02-26 15:30 /neoland/labs/tweets28a_sample.json/part-00007-198f4203-4df1-40e4-9597-46f0b09fe8a5-c000.json\n",
      "-rw-r--r--   2 marco hadoop      61132 2021-02-26 15:30 /neoland/labs/tweets28a_sample.json/part-00008-198f4203-4df1-40e4-9597-46f0b09fe8a5-c000.json\n",
      "-rw-r--r--   2 marco hadoop      67335 2021-02-26 15:30 /neoland/labs/tweets28a_sample.json/part-00009-198f4203-4df1-40e4-9597-46f0b09fe8a5-c000.json\n",
      "-rw-r--r--   2 marco hadoop      75932 2021-02-26 15:30 /neoland/labs/tweets28a_sample.json/part-00010-198f4203-4df1-40e4-9597-46f0b09fe8a5-c000.json\n",
      "-rw-r--r--   2 marco hadoop      80036 2021-02-26 15:30 /neoland/labs/tweets28a_sample.json/part-00011-198f4203-4df1-40e4-9597-46f0b09fe8a5-c000.json\n",
      "-rw-r--r--   2 marco hadoop      79643 2021-02-26 15:30 /neoland/labs/tweets28a_sample.json/part-00012-198f4203-4df1-40e4-9597-46f0b09fe8a5-c000.json\n",
      "-rw-r--r--   2 marco hadoop      57042 2021-02-26 15:30 /neoland/labs/tweets28a_sample.json/part-00013-198f4203-4df1-40e4-9597-46f0b09fe8a5-c000.json\n",
      "-rw-r--r--   2 marco hadoop      63963 2021-02-26 15:30 /neoland/labs/tweets28a_sample.json/part-00014-198f4203-4df1-40e4-9597-46f0b09fe8a5-c000.json\n",
      "-rw-r--r--   2 marco hadoop      77844 2021-02-26 15:30 /neoland/labs/tweets28a_sample.json/part-00015-198f4203-4df1-40e4-9597-46f0b09fe8a5-c000.json\n",
      "-rw-r--r--   2 marco hadoop      62148 2021-02-26 15:30 /neoland/labs/tweets28a_sample.json/part-00016-198f4203-4df1-40e4-9597-46f0b09fe8a5-c000.json\n",
      "-rw-r--r--   2 marco hadoop      60335 2021-02-26 15:30 /neoland/labs/tweets28a_sample.json/part-00017-198f4203-4df1-40e4-9597-46f0b09fe8a5-c000.json\n",
      "-rw-r--r--   2 marco hadoop      59266 2021-02-26 15:30 /neoland/labs/tweets28a_sample.json/part-00018-198f4203-4df1-40e4-9597-46f0b09fe8a5-c000.json\n",
      "-rw-r--r--   2 marco hadoop      74996 2021-02-26 15:30 /neoland/labs/tweets28a_sample.json/part-00019-198f4203-4df1-40e4-9597-46f0b09fe8a5-c000.json\n",
      "-rw-r--r--   2 marco hadoop      73910 2021-02-26 15:30 /neoland/labs/tweets28a_sample.json/part-00020-198f4203-4df1-40e4-9597-46f0b09fe8a5-c000.json\n",
      "-rw-r--r--   2 marco hadoop      73589 2021-02-26 15:30 /neoland/labs/tweets28a_sample.json/part-00021-198f4203-4df1-40e4-9597-46f0b09fe8a5-c000.json\n",
      "-rw-r--r--   2 marco hadoop      74888 2021-02-26 15:30 /neoland/labs/tweets28a_sample.json/part-00022-198f4203-4df1-40e4-9597-46f0b09fe8a5-c000.json\n",
      "-rw-r--r--   2 marco hadoop      61184 2021-02-26 15:30 /neoland/labs/tweets28a_sample.json/part-00023-198f4203-4df1-40e4-9597-46f0b09fe8a5-c000.json\n",
      "-rw-r--r--   2 marco hadoop      59948 2021-02-26 15:30 /neoland/labs/tweets28a_sample.json/part-00024-198f4203-4df1-40e4-9597-46f0b09fe8a5-c000.json\n",
      "-rw-r--r--   2 marco hadoop      74984 2021-02-26 15:30 /neoland/labs/tweets28a_sample.json/part-00025-198f4203-4df1-40e4-9597-46f0b09fe8a5-c000.json\n",
      "-rw-r--r--   2 marco hadoop      62322 2021-02-26 15:30 /neoland/labs/tweets28a_sample.json/part-00026-198f4203-4df1-40e4-9597-46f0b09fe8a5-c000.json\n",
      "-rw-r--r--   2 marco hadoop      63326 2021-02-26 15:30 /neoland/labs/tweets28a_sample.json/part-00027-198f4203-4df1-40e4-9597-46f0b09fe8a5-c000.json\n",
      "-rw-r--r--   2 marco hadoop      70594 2021-02-26 15:30 /neoland/labs/tweets28a_sample.json/part-00028-198f4203-4df1-40e4-9597-46f0b09fe8a5-c000.json\n",
      "-rw-r--r--   2 marco hadoop      66539 2021-02-26 15:30 /neoland/labs/tweets28a_sample.json/part-00029-198f4203-4df1-40e4-9597-46f0b09fe8a5-c000.json\n",
      "-rw-r--r--   2 marco hadoop      71015 2021-02-26 15:30 /neoland/labs/tweets28a_sample.json/part-00030-198f4203-4df1-40e4-9597-46f0b09fe8a5-c000.json\n",
      "-rw-r--r--   2 marco hadoop      62353 2021-02-26 15:30 /neoland/labs/tweets28a_sample.json/part-00031-198f4203-4df1-40e4-9597-46f0b09fe8a5-c000.json\n",
      "-rw-r--r--   2 marco hadoop      67444 2021-02-26 15:30 /neoland/labs/tweets28a_sample.json/part-00032-198f4203-4df1-40e4-9597-46f0b09fe8a5-c000.json\n",
      "-rw-r--r--   2 marco hadoop      60059 2021-02-26 15:30 /neoland/labs/tweets28a_sample.json/part-00033-198f4203-4df1-40e4-9597-46f0b09fe8a5-c000.json\n",
      "-rw-r--r--   2 marco hadoop      68352 2021-02-26 15:30 /neoland/labs/tweets28a_sample.json/part-00034-198f4203-4df1-40e4-9597-46f0b09fe8a5-c000.json\n",
      "-rw-r--r--   2 marco hadoop      72366 2021-02-26 15:30 /neoland/labs/tweets28a_sample.json/part-00035-198f4203-4df1-40e4-9597-46f0b09fe8a5-c000.json\n",
      "-rw-r--r--   2 marco hadoop      76565 2021-02-26 15:30 /neoland/labs/tweets28a_sample.json/part-00036-198f4203-4df1-40e4-9597-46f0b09fe8a5-c000.json\n",
      "-rw-r--r--   2 marco hadoop      50271 2021-02-26 15:30 /neoland/labs/tweets28a_sample.json/part-00037-198f4203-4df1-40e4-9597-46f0b09fe8a5-c000.json\n",
      "-rw-r--r--   2 marco hadoop      78134 2021-02-26 15:30 /neoland/labs/tweets28a_sample.json/part-00038-198f4203-4df1-40e4-9597-46f0b09fe8a5-c000.json\n",
      "-rw-r--r--   2 marco hadoop      68831 2021-02-26 15:30 /neoland/labs/tweets28a_sample.json/part-00039-198f4203-4df1-40e4-9597-46f0b09fe8a5-c000.json\n",
      "-rw-r--r--   2 marco hadoop      63224 2021-02-26 15:30 /neoland/labs/tweets28a_sample.json/part-00040-198f4203-4df1-40e4-9597-46f0b09fe8a5-c000.json\n",
      "-rw-r--r--   2 marco hadoop      67579 2021-02-26 15:30 /neoland/labs/tweets28a_sample.json/part-00041-198f4203-4df1-40e4-9597-46f0b09fe8a5-c000.json\n",
      "-rw-r--r--   2 marco hadoop      73305 2021-02-26 15:30 /neoland/labs/tweets28a_sample.json/part-00042-198f4203-4df1-40e4-9597-46f0b09fe8a5-c000.json\n",
      "-rw-r--r--   2 marco hadoop      66459 2021-02-26 15:30 /neoland/labs/tweets28a_sample.json/part-00043-198f4203-4df1-40e4-9597-46f0b09fe8a5-c000.json\n",
      "-rw-r--r--   2 marco hadoop      70899 2021-02-26 15:30 /neoland/labs/tweets28a_sample.json/part-00044-198f4203-4df1-40e4-9597-46f0b09fe8a5-c000.json\n",
      "-rw-r--r--   2 marco hadoop      67763 2021-02-26 15:30 /neoland/labs/tweets28a_sample.json/part-00045-198f4203-4df1-40e4-9597-46f0b09fe8a5-c000.json\n",
      "-rw-r--r--   2 marco hadoop      65358 2021-02-26 15:30 /neoland/labs/tweets28a_sample.json/part-00046-198f4203-4df1-40e4-9597-46f0b09fe8a5-c000.json\n",
      "-rw-r--r--   2 marco hadoop      67440 2021-02-26 15:30 /neoland/labs/tweets28a_sample.json/part-00047-198f4203-4df1-40e4-9597-46f0b09fe8a5-c000.json\n",
      "-rw-r--r--   2 marco hadoop      76645 2021-02-26 15:30 /neoland/labs/tweets28a_sample.json/part-00048-198f4203-4df1-40e4-9597-46f0b09fe8a5-c000.json\n",
      "-rw-r--r--   2 marco hadoop      75923 2021-02-26 15:30 /neoland/labs/tweets28a_sample.json/part-00049-198f4203-4df1-40e4-9597-46f0b09fe8a5-c000.json\n",
      "-rw-r--r--   2 marco hadoop      70074 2021-02-26 15:30 /neoland/labs/tweets28a_sample.json/part-00050-198f4203-4df1-40e4-9597-46f0b09fe8a5-c000.json\n",
      "-rw-r--r--   2 marco hadoop      70459 2021-02-26 15:30 /neoland/labs/tweets28a_sample.json/part-00051-198f4203-4df1-40e4-9597-46f0b09fe8a5-c000.json\n",
      "-rw-r--r--   2 marco hadoop      68093 2021-02-26 15:30 /neoland/labs/tweets28a_sample.json/part-00052-198f4203-4df1-40e4-9597-46f0b09fe8a5-c000.json\n",
      "-rw-r--r--   2 marco hadoop      65952 2021-02-26 15:30 /neoland/labs/tweets28a_sample.json/part-00053-198f4203-4df1-40e4-9597-46f0b09fe8a5-c000.json\n",
      "-rw-r--r--   2 marco hadoop      67865 2021-02-26 15:30 /neoland/labs/tweets28a_sample.json/part-00054-198f4203-4df1-40e4-9597-46f0b09fe8a5-c000.json\n",
      "-rw-r--r--   2 marco hadoop      69018 2021-02-26 15:30 /neoland/labs/tweets28a_sample.json/part-00055-198f4203-4df1-40e4-9597-46f0b09fe8a5-c000.json\n",
      "-rw-r--r--   2 marco hadoop      72795 2021-02-26 15:30 /neoland/labs/tweets28a_sample.json/part-00056-198f4203-4df1-40e4-9597-46f0b09fe8a5-c000.json\n",
      "-rw-r--r--   2 marco hadoop      72751 2021-02-26 15:30 /neoland/labs/tweets28a_sample.json/part-00057-198f4203-4df1-40e4-9597-46f0b09fe8a5-c000.json\n",
      "-rw-r--r--   2 marco hadoop      59350 2021-02-26 15:30 /neoland/labs/tweets28a_sample.json/part-00058-198f4203-4df1-40e4-9597-46f0b09fe8a5-c000.json\n",
      "-rw-r--r--   2 marco hadoop      71012 2021-02-26 15:30 /neoland/labs/tweets28a_sample.json/part-00059-198f4203-4df1-40e4-9597-46f0b09fe8a5-c000.json\n",
      "-rw-r--r--   2 marco hadoop      72626 2021-02-26 15:30 /neoland/labs/tweets28a_sample.json/part-00060-198f4203-4df1-40e4-9597-46f0b09fe8a5-c000.json\n",
      "-rw-r--r--   2 marco hadoop      67859 2021-02-26 15:30 /neoland/labs/tweets28a_sample.json/part-00061-198f4203-4df1-40e4-9597-46f0b09fe8a5-c000.json\n",
      "-rw-r--r--   2 marco hadoop      61585 2021-02-26 15:30 /neoland/labs/tweets28a_sample.json/part-00062-198f4203-4df1-40e4-9597-46f0b09fe8a5-c000.json\n",
      "-rw-r--r--   2 marco hadoop      75830 2021-02-26 15:30 /neoland/labs/tweets28a_sample.json/part-00063-198f4203-4df1-40e4-9597-46f0b09fe8a5-c000.json\n",
      "-rw-r--r--   2 marco hadoop      67635 2021-02-26 15:30 /neoland/labs/tweets28a_sample.json/part-00064-198f4203-4df1-40e4-9597-46f0b09fe8a5-c000.json\n",
      "-rw-r--r--   2 marco hadoop      75661 2021-02-26 15:30 /neoland/labs/tweets28a_sample.json/part-00065-198f4203-4df1-40e4-9597-46f0b09fe8a5-c000.json\n",
      "-rw-r--r--   2 marco hadoop      59319 2021-02-26 15:30 /neoland/labs/tweets28a_sample.json/part-00066-198f4203-4df1-40e4-9597-46f0b09fe8a5-c000.json\n",
      "-rw-r--r--   2 marco hadoop      71524 2021-02-26 15:30 /neoland/labs/tweets28a_sample.json/part-00067-198f4203-4df1-40e4-9597-46f0b09fe8a5-c000.json\n",
      "-rw-r--r--   2 marco hadoop      64796 2021-02-26 15:30 /neoland/labs/tweets28a_sample.json/part-00068-198f4203-4df1-40e4-9597-46f0b09fe8a5-c000.json\n",
      "-rw-r--r--   2 marco hadoop      68352 2021-02-26 15:30 /neoland/labs/tweets28a_sample.json/part-00069-198f4203-4df1-40e4-9597-46f0b09fe8a5-c000.json\n",
      "-rw-r--r--   2 marco hadoop      66759 2021-02-26 15:30 /neoland/labs/tweets28a_sample.json/part-00070-198f4203-4df1-40e4-9597-46f0b09fe8a5-c000.json\n",
      "-rw-r--r--   2 marco hadoop      75340 2021-02-26 15:30 /neoland/labs/tweets28a_sample.json/part-00071-198f4203-4df1-40e4-9597-46f0b09fe8a5-c000.json\n",
      "-rw-r--r--   2 marco hadoop      55530 2021-02-26 15:30 /neoland/labs/tweets28a_sample.json/part-00072-198f4203-4df1-40e4-9597-46f0b09fe8a5-c000.json\n",
      "-rw-r--r--   2 marco hadoop      71704 2021-02-26 15:30 /neoland/labs/tweets28a_sample.json/part-00073-198f4203-4df1-40e4-9597-46f0b09fe8a5-c000.json\n",
      "-rw-r--r--   2 marco hadoop      68558 2021-02-26 15:30 /neoland/labs/tweets28a_sample.json/part-00074-198f4203-4df1-40e4-9597-46f0b09fe8a5-c000.json\n",
      "-rw-r--r--   2 marco hadoop      64121 2021-02-26 15:30 /neoland/labs/tweets28a_sample.json/part-00075-198f4203-4df1-40e4-9597-46f0b09fe8a5-c000.json\n",
      "-rw-r--r--   2 marco hadoop      54208 2021-02-26 15:30 /neoland/labs/tweets28a_sample.json/part-00076-198f4203-4df1-40e4-9597-46f0b09fe8a5-c000.json\n",
      "-rw-r--r--   2 marco hadoop      55080 2021-02-26 15:30 /neoland/labs/tweets28a_sample.json/part-00077-198f4203-4df1-40e4-9597-46f0b09fe8a5-c000.json\n",
      "-rw-r--r--   2 marco hadoop      56987 2021-02-26 15:30 /neoland/labs/tweets28a_sample.json/part-00078-198f4203-4df1-40e4-9597-46f0b09fe8a5-c000.json\n",
      "-rw-r--r--   2 marco hadoop      63668 2021-02-26 15:30 /neoland/labs/tweets28a_sample.json/part-00079-198f4203-4df1-40e4-9597-46f0b09fe8a5-c000.json\n",
      "-rw-r--r--   2 marco hadoop      58069 2021-02-26 15:30 /neoland/labs/tweets28a_sample.json/part-00080-198f4203-4df1-40e4-9597-46f0b09fe8a5-c000.json\n",
      "-rw-r--r--   2 marco hadoop      74079 2021-02-26 15:30 /neoland/labs/tweets28a_sample.json/part-00081-198f4203-4df1-40e4-9597-46f0b09fe8a5-c000.json\n",
      "-rw-r--r--   2 marco hadoop      67835 2021-02-26 15:30 /neoland/labs/tweets28a_sample.json/part-00082-198f4203-4df1-40e4-9597-46f0b09fe8a5-c000.json\n",
      "-rw-r--r--   2 marco hadoop      72270 2021-02-26 15:30 /neoland/labs/tweets28a_sample.json/part-00083-198f4203-4df1-40e4-9597-46f0b09fe8a5-c000.json\n",
      "-rw-r--r--   2 marco hadoop      79232 2021-02-26 15:30 /neoland/labs/tweets28a_sample.json/part-00084-198f4203-4df1-40e4-9597-46f0b09fe8a5-c000.json\n",
      "-rw-r--r--   2 marco hadoop      77533 2021-02-26 15:30 /neoland/labs/tweets28a_sample.json/part-00085-198f4203-4df1-40e4-9597-46f0b09fe8a5-c000.json\n",
      "-rw-r--r--   2 marco hadoop      57132 2021-02-26 15:30 /neoland/labs/tweets28a_sample.json/part-00086-198f4203-4df1-40e4-9597-46f0b09fe8a5-c000.json\n",
      "-rw-r--r--   2 marco hadoop      80482 2021-02-26 15:30 /neoland/labs/tweets28a_sample.json/part-00087-198f4203-4df1-40e4-9597-46f0b09fe8a5-c000.json\n",
      "-rw-r--r--   2 marco hadoop      66726 2021-02-26 15:30 /neoland/labs/tweets28a_sample.json/part-00088-198f4203-4df1-40e4-9597-46f0b09fe8a5-c000.json\n",
      "-rw-r--r--   2 marco hadoop      64897 2021-02-26 15:30 /neoland/labs/tweets28a_sample.json/part-00089-198f4203-4df1-40e4-9597-46f0b09fe8a5-c000.json\n",
      "-rw-r--r--   2 marco hadoop      66699 2021-02-26 15:30 /neoland/labs/tweets28a_sample.json/part-00090-198f4203-4df1-40e4-9597-46f0b09fe8a5-c000.json\n",
      "-rw-r--r--   2 marco hadoop      53661 2021-02-26 15:30 /neoland/labs/tweets28a_sample.json/part-00091-198f4203-4df1-40e4-9597-46f0b09fe8a5-c000.json\n",
      "-rw-r--r--   2 marco hadoop      67021 2021-02-26 15:30 /neoland/labs/tweets28a_sample.json/part-00092-198f4203-4df1-40e4-9597-46f0b09fe8a5-c000.json\n",
      "-rw-r--r--   2 marco hadoop      83571 2021-02-26 15:30 /neoland/labs/tweets28a_sample.json/part-00093-198f4203-4df1-40e4-9597-46f0b09fe8a5-c000.json\n",
      "-rw-r--r--   2 marco hadoop      59379 2021-02-26 15:30 /neoland/labs/tweets28a_sample.json/part-00094-198f4203-4df1-40e4-9597-46f0b09fe8a5-c000.json\n",
      "-rw-r--r--   2 marco hadoop      58773 2021-02-26 15:30 /neoland/labs/tweets28a_sample.json/part-00095-198f4203-4df1-40e4-9597-46f0b09fe8a5-c000.json\n",
      "-rw-r--r--   2 marco hadoop      66657 2021-02-26 15:30 /neoland/labs/tweets28a_sample.json/part-00096-198f4203-4df1-40e4-9597-46f0b09fe8a5-c000.json\n",
      "-rw-r--r--   2 marco hadoop      65152 2021-02-26 15:30 /neoland/labs/tweets28a_sample.json/part-00097-198f4203-4df1-40e4-9597-46f0b09fe8a5-c000.json\n",
      "-rw-r--r--   2 marco hadoop      73599 2021-02-26 15:30 /neoland/labs/tweets28a_sample.json/part-00098-198f4203-4df1-40e4-9597-46f0b09fe8a5-c000.json\n",
      "-rw-r--r--   2 marco hadoop      74702 2021-02-26 15:30 /neoland/labs/tweets28a_sample.json/part-00099-198f4203-4df1-40e4-9597-46f0b09fe8a5-c000.json\n",
      "-rw-r--r--   2 marco hadoop      53412 2021-02-26 15:30 /neoland/labs/tweets28a_sample.json/part-00100-198f4203-4df1-40e4-9597-46f0b09fe8a5-c000.json\n",
      "-rw-r--r--   2 marco hadoop      69162 2021-02-26 15:30 /neoland/labs/tweets28a_sample.json/part-00101-198f4203-4df1-40e4-9597-46f0b09fe8a5-c000.json\n",
      "-rw-r--r--   2 marco hadoop      67829 2021-02-26 15:30 /neoland/labs/tweets28a_sample.json/part-00102-198f4203-4df1-40e4-9597-46f0b09fe8a5-c000.json\n",
      "-rw-r--r--   2 marco hadoop      67455 2021-02-26 15:30 /neoland/labs/tweets28a_sample.json/part-00103-198f4203-4df1-40e4-9597-46f0b09fe8a5-c000.json\n",
      "-rw-r--r--   2 marco hadoop      66082 2021-02-26 15:30 /neoland/labs/tweets28a_sample.json/part-00104-198f4203-4df1-40e4-9597-46f0b09fe8a5-c000.json\n",
      "-rw-r--r--   2 marco hadoop      81299 2021-02-26 15:30 /neoland/labs/tweets28a_sample.json/part-00105-198f4203-4df1-40e4-9597-46f0b09fe8a5-c000.json\n",
      "-rw-r--r--   2 marco hadoop      60006 2021-02-26 15:30 /neoland/labs/tweets28a_sample.json/part-00106-198f4203-4df1-40e4-9597-46f0b09fe8a5-c000.json\n",
      "-rw-r--r--   2 marco hadoop      64613 2021-02-26 15:30 /neoland/labs/tweets28a_sample.json/part-00107-198f4203-4df1-40e4-9597-46f0b09fe8a5-c000.json\n",
      "-rw-r--r--   2 marco hadoop      56424 2021-02-26 15:30 /neoland/labs/tweets28a_sample.json/part-00108-198f4203-4df1-40e4-9597-46f0b09fe8a5-c000.json\n",
      "-rw-r--r--   2 marco hadoop      70237 2021-02-26 15:30 /neoland/labs/tweets28a_sample.json/part-00109-198f4203-4df1-40e4-9597-46f0b09fe8a5-c000.json\n",
      "-rw-r--r--   2 marco hadoop      69843 2021-02-26 15:30 /neoland/labs/tweets28a_sample.json/part-00110-198f4203-4df1-40e4-9597-46f0b09fe8a5-c000.json\n",
      "-rw-r--r--   2 marco hadoop      78226 2021-02-26 15:30 /neoland/labs/tweets28a_sample.json/part-00111-198f4203-4df1-40e4-9597-46f0b09fe8a5-c000.json\n",
      "-rw-r--r--   2 marco hadoop      75062 2021-02-26 15:30 /neoland/labs/tweets28a_sample.json/part-00112-198f4203-4df1-40e4-9597-46f0b09fe8a5-c000.json\n",
      "-rw-r--r--   2 marco hadoop      62237 2021-02-26 15:30 /neoland/labs/tweets28a_sample.json/part-00113-198f4203-4df1-40e4-9597-46f0b09fe8a5-c000.json\n",
      "-rw-r--r--   2 marco hadoop      69803 2021-02-26 15:30 /neoland/labs/tweets28a_sample.json/part-00114-198f4203-4df1-40e4-9597-46f0b09fe8a5-c000.json\n",
      "-rw-r--r--   2 marco hadoop      62363 2021-02-26 15:30 /neoland/labs/tweets28a_sample.json/part-00115-198f4203-4df1-40e4-9597-46f0b09fe8a5-c000.json\n",
      "-rw-r--r--   2 marco hadoop      70301 2021-02-26 15:30 /neoland/labs/tweets28a_sample.json/part-00116-198f4203-4df1-40e4-9597-46f0b09fe8a5-c000.json\n",
      "-rw-r--r--   2 marco hadoop      65188 2021-02-26 15:30 /neoland/labs/tweets28a_sample.json/part-00117-198f4203-4df1-40e4-9597-46f0b09fe8a5-c000.json\n",
      "-rw-r--r--   2 marco hadoop      79134 2021-02-26 15:30 /neoland/labs/tweets28a_sample.json/part-00118-198f4203-4df1-40e4-9597-46f0b09fe8a5-c000.json\n",
      "-rw-r--r--   2 marco hadoop      61860 2021-02-26 15:30 /neoland/labs/tweets28a_sample.json/part-00119-198f4203-4df1-40e4-9597-46f0b09fe8a5-c000.json\n",
      "-rw-r--r--   2 marco hadoop      82025 2021-02-26 15:30 /neoland/labs/tweets28a_sample.json/part-00120-198f4203-4df1-40e4-9597-46f0b09fe8a5-c000.json\n",
      "-rw-r--r--   2 marco hadoop      74507 2021-02-26 15:30 /neoland/labs/tweets28a_sample.json/part-00121-198f4203-4df1-40e4-9597-46f0b09fe8a5-c000.json\n",
      "-rw-r--r--   2 marco hadoop      67161 2021-02-26 15:30 /neoland/labs/tweets28a_sample.json/part-00122-198f4203-4df1-40e4-9597-46f0b09fe8a5-c000.json\n",
      "-rw-r--r--   2 marco hadoop      71075 2021-02-26 15:30 /neoland/labs/tweets28a_sample.json/part-00123-198f4203-4df1-40e4-9597-46f0b09fe8a5-c000.json\n",
      "-rw-r--r--   2 marco hadoop      59125 2021-02-26 15:30 /neoland/labs/tweets28a_sample.json/part-00124-198f4203-4df1-40e4-9597-46f0b09fe8a5-c000.json\n",
      "-rw-r--r--   2 marco hadoop      60878 2021-02-26 15:30 /neoland/labs/tweets28a_sample.json/part-00125-198f4203-4df1-40e4-9597-46f0b09fe8a5-c000.json\n",
      "-rw-r--r--   2 marco hadoop      71048 2021-02-26 15:30 /neoland/labs/tweets28a_sample.json/part-00126-198f4203-4df1-40e4-9597-46f0b09fe8a5-c000.json\n",
      "-rw-r--r--   2 marco hadoop      70668 2021-02-26 15:30 /neoland/labs/tweets28a_sample.json/part-00127-198f4203-4df1-40e4-9597-46f0b09fe8a5-c000.json\n",
      "-rw-r--r--   2 marco hadoop      74038 2021-02-26 15:30 /neoland/labs/tweets28a_sample.json/part-00128-198f4203-4df1-40e4-9597-46f0b09fe8a5-c000.json\n",
      "-rw-r--r--   2 marco hadoop      55100 2021-02-26 15:30 /neoland/labs/tweets28a_sample.json/part-00129-198f4203-4df1-40e4-9597-46f0b09fe8a5-c000.json\n",
      "-rw-r--r--   2 marco hadoop      79312 2021-02-26 15:30 /neoland/labs/tweets28a_sample.json/part-00130-198f4203-4df1-40e4-9597-46f0b09fe8a5-c000.json\n",
      "-rw-r--r--   2 marco hadoop      73890 2021-02-26 15:30 /neoland/labs/tweets28a_sample.json/part-00131-198f4203-4df1-40e4-9597-46f0b09fe8a5-c000.json\n",
      "-rw-r--r--   2 marco hadoop      61939 2021-02-26 15:30 /neoland/labs/tweets28a_sample.json/part-00132-198f4203-4df1-40e4-9597-46f0b09fe8a5-c000.json\n",
      "-rw-r--r--   2 marco hadoop      63219 2021-02-26 15:30 /neoland/labs/tweets28a_sample.json/part-00133-198f4203-4df1-40e4-9597-46f0b09fe8a5-c000.json\n",
      "-rw-r--r--   2 marco hadoop      65321 2021-02-26 15:30 /neoland/labs/tweets28a_sample.json/part-00134-198f4203-4df1-40e4-9597-46f0b09fe8a5-c000.json\n",
      "-rw-r--r--   2 marco hadoop      79023 2021-02-26 15:30 /neoland/labs/tweets28a_sample.json/part-00135-198f4203-4df1-40e4-9597-46f0b09fe8a5-c000.json\n",
      "-rw-r--r--   2 marco hadoop      63316 2021-02-26 15:30 /neoland/labs/tweets28a_sample.json/part-00136-198f4203-4df1-40e4-9597-46f0b09fe8a5-c000.json\n",
      "-rw-r--r--   2 marco hadoop      68084 2021-02-26 15:30 /neoland/labs/tweets28a_sample.json/part-00137-198f4203-4df1-40e4-9597-46f0b09fe8a5-c000.json\n",
      "-rw-r--r--   2 marco hadoop      67724 2021-02-26 15:30 /neoland/labs/tweets28a_sample.json/part-00138-198f4203-4df1-40e4-9597-46f0b09fe8a5-c000.json\n",
      "-rw-r--r--   2 marco hadoop      53247 2021-02-26 15:30 /neoland/labs/tweets28a_sample.json/part-00139-198f4203-4df1-40e4-9597-46f0b09fe8a5-c000.json\n",
      "-rw-r--r--   2 marco hadoop      62020 2021-02-26 15:30 /neoland/labs/tweets28a_sample.json/part-00140-198f4203-4df1-40e4-9597-46f0b09fe8a5-c000.json\n",
      "-rw-r--r--   2 marco hadoop      76013 2021-02-26 15:30 /neoland/labs/tweets28a_sample.json/part-00141-198f4203-4df1-40e4-9597-46f0b09fe8a5-c000.json\n",
      "-rw-r--r--   2 marco hadoop      59715 2021-02-26 15:30 /neoland/labs/tweets28a_sample.json/part-00142-198f4203-4df1-40e4-9597-46f0b09fe8a5-c000.json\n",
      "-rw-r--r--   2 marco hadoop      69127 2021-02-26 15:30 /neoland/labs/tweets28a_sample.json/part-00143-198f4203-4df1-40e4-9597-46f0b09fe8a5-c000.json\n",
      "-rw-r--r--   2 marco hadoop      59210 2021-02-26 15:30 /neoland/labs/tweets28a_sample.json/part-00144-198f4203-4df1-40e4-9597-46f0b09fe8a5-c000.json\n",
      "-rw-r--r--   2 marco hadoop      65018 2021-02-26 15:30 /neoland/labs/tweets28a_sample.json/part-00145-198f4203-4df1-40e4-9597-46f0b09fe8a5-c000.json\n",
      "-rw-r--r--   2 marco hadoop      80045 2021-02-26 15:30 /neoland/labs/tweets28a_sample.json/part-00146-198f4203-4df1-40e4-9597-46f0b09fe8a5-c000.json\n",
      "-rw-r--r--   2 marco hadoop      68785 2021-02-26 15:30 /neoland/labs/tweets28a_sample.json/part-00147-198f4203-4df1-40e4-9597-46f0b09fe8a5-c000.json\n",
      "-rw-r--r--   2 marco hadoop      68272 2021-02-26 15:30 /neoland/labs/tweets28a_sample.json/part-00148-198f4203-4df1-40e4-9597-46f0b09fe8a5-c000.json\n",
      "-rw-r--r--   2 marco hadoop      66423 2021-02-26 15:30 /neoland/labs/tweets28a_sample.json/part-00149-198f4203-4df1-40e4-9597-46f0b09fe8a5-c000.json\n",
      "-rw-r--r--   2 marco hadoop      66636 2021-02-26 15:30 /neoland/labs/tweets28a_sample.json/part-00150-198f4203-4df1-40e4-9597-46f0b09fe8a5-c000.json\n",
      "-rw-r--r--   2 marco hadoop      75194 2021-02-26 15:30 /neoland/labs/tweets28a_sample.json/part-00151-198f4203-4df1-40e4-9597-46f0b09fe8a5-c000.json\n",
      "-rw-r--r--   2 marco hadoop      62160 2021-02-26 15:30 /neoland/labs/tweets28a_sample.json/part-00152-198f4203-4df1-40e4-9597-46f0b09fe8a5-c000.json\n",
      "-rw-r--r--   2 marco hadoop      71420 2021-02-26 15:30 /neoland/labs/tweets28a_sample.json/part-00153-198f4203-4df1-40e4-9597-46f0b09fe8a5-c000.json\n",
      "-rw-r--r--   2 marco hadoop      62157 2021-02-26 15:30 /neoland/labs/tweets28a_sample.json/part-00154-198f4203-4df1-40e4-9597-46f0b09fe8a5-c000.json\n",
      "-rw-r--r--   2 marco hadoop      71259 2021-02-26 15:30 /neoland/labs/tweets28a_sample.json/part-00155-198f4203-4df1-40e4-9597-46f0b09fe8a5-c000.json\n",
      "-rw-r--r--   2 marco hadoop      61027 2021-02-26 15:30 /neoland/labs/tweets28a_sample.json/part-00156-198f4203-4df1-40e4-9597-46f0b09fe8a5-c000.json\n",
      "-rw-r--r--   2 marco hadoop      60613 2021-02-26 15:30 /neoland/labs/tweets28a_sample.json/part-00157-198f4203-4df1-40e4-9597-46f0b09fe8a5-c000.json\n",
      "-rw-r--r--   2 marco hadoop      63179 2021-02-26 15:30 /neoland/labs/tweets28a_sample.json/part-00158-198f4203-4df1-40e4-9597-46f0b09fe8a5-c000.json\n",
      "-rw-r--r--   2 marco hadoop      63223 2021-02-26 15:30 /neoland/labs/tweets28a_sample.json/part-00159-198f4203-4df1-40e4-9597-46f0b09fe8a5-c000.json\n",
      "-rw-r--r--   2 marco hadoop      55429 2021-02-26 15:30 /neoland/labs/tweets28a_sample.json/part-00160-198f4203-4df1-40e4-9597-46f0b09fe8a5-c000.json\n",
      "-rw-r--r--   2 marco hadoop      83797 2021-02-26 15:30 /neoland/labs/tweets28a_sample.json/part-00161-198f4203-4df1-40e4-9597-46f0b09fe8a5-c000.json\n",
      "-rw-r--r--   2 marco hadoop      51017 2021-02-26 15:30 /neoland/labs/tweets28a_sample.json/part-00162-198f4203-4df1-40e4-9597-46f0b09fe8a5-c000.json\n",
      "-rw-r--r--   2 marco hadoop      75175 2021-02-26 15:30 /neoland/labs/tweets28a_sample.json/part-00163-198f4203-4df1-40e4-9597-46f0b09fe8a5-c000.json\n",
      "-rw-r--r--   2 marco hadoop      42845 2021-02-26 15:30 /neoland/labs/tweets28a_sample.json/part-00164-198f4203-4df1-40e4-9597-46f0b09fe8a5-c000.json\n",
      "-rw-r--r--   2 marco hadoop      67968 2021-02-26 15:30 /neoland/labs/tweets28a_sample.json/part-00165-198f4203-4df1-40e4-9597-46f0b09fe8a5-c000.json\n",
      "-rw-r--r--   2 marco hadoop      59703 2021-02-26 15:30 /neoland/labs/tweets28a_sample.json/part-00166-198f4203-4df1-40e4-9597-46f0b09fe8a5-c000.json\n",
      "-rw-r--r--   2 marco hadoop      60238 2021-02-26 15:30 /neoland/labs/tweets28a_sample.json/part-00167-198f4203-4df1-40e4-9597-46f0b09fe8a5-c000.json\n",
      "-rw-r--r--   2 marco hadoop      60832 2021-02-26 15:30 /neoland/labs/tweets28a_sample.json/part-00168-198f4203-4df1-40e4-9597-46f0b09fe8a5-c000.json\n",
      "-rw-r--r--   2 marco hadoop      73812 2021-02-26 15:30 /neoland/labs/tweets28a_sample.json/part-00169-198f4203-4df1-40e4-9597-46f0b09fe8a5-c000.json\n",
      "-rw-r--r--   2 marco hadoop      66331 2021-02-26 15:30 /neoland/labs/tweets28a_sample.json/part-00170-198f4203-4df1-40e4-9597-46f0b09fe8a5-c000.json\n",
      "-rw-r--r--   2 marco hadoop      60628 2021-02-26 15:30 /neoland/labs/tweets28a_sample.json/part-00171-198f4203-4df1-40e4-9597-46f0b09fe8a5-c000.json\n",
      "-rw-r--r--   2 marco hadoop      64929 2021-02-26 15:30 /neoland/labs/tweets28a_sample.json/part-00172-198f4203-4df1-40e4-9597-46f0b09fe8a5-c000.json\n",
      "-rw-r--r--   2 marco hadoop      55089 2021-02-26 15:30 /neoland/labs/tweets28a_sample.json/part-00173-198f4203-4df1-40e4-9597-46f0b09fe8a5-c000.json\n",
      "-rw-r--r--   2 marco hadoop      60661 2021-02-26 15:30 /neoland/labs/tweets28a_sample.json/part-00174-198f4203-4df1-40e4-9597-46f0b09fe8a5-c000.json\n",
      "-rw-r--r--   2 marco hadoop      57359 2021-02-26 15:30 /neoland/labs/tweets28a_sample.json/part-00175-198f4203-4df1-40e4-9597-46f0b09fe8a5-c000.json\n",
      "-rw-r--r--   2 marco hadoop      65991 2021-02-26 15:30 /neoland/labs/tweets28a_sample.json/part-00176-198f4203-4df1-40e4-9597-46f0b09fe8a5-c000.json\n",
      "-rw-r--r--   2 marco hadoop      60961 2021-02-26 15:30 /neoland/labs/tweets28a_sample.json/part-00177-198f4203-4df1-40e4-9597-46f0b09fe8a5-c000.json\n",
      "-rw-r--r--   2 marco hadoop      79272 2021-02-26 15:30 /neoland/labs/tweets28a_sample.json/part-00178-198f4203-4df1-40e4-9597-46f0b09fe8a5-c000.json\n",
      "-rw-r--r--   2 marco hadoop      73087 2021-02-26 15:30 /neoland/labs/tweets28a_sample.json/part-00179-198f4203-4df1-40e4-9597-46f0b09fe8a5-c000.json\n",
      "-rw-r--r--   2 marco hadoop      64473 2021-02-26 15:30 /neoland/labs/tweets28a_sample.json/part-00180-198f4203-4df1-40e4-9597-46f0b09fe8a5-c000.json\n",
      "-rw-r--r--   2 marco hadoop      59760 2021-02-26 15:30 /neoland/labs/tweets28a_sample.json/part-00181-198f4203-4df1-40e4-9597-46f0b09fe8a5-c000.json\n",
      "-rw-r--r--   2 marco hadoop      72366 2021-02-26 15:30 /neoland/labs/tweets28a_sample.json/part-00182-198f4203-4df1-40e4-9597-46f0b09fe8a5-c000.json\n",
      "-rw-r--r--   2 marco hadoop      77343 2021-02-26 15:30 /neoland/labs/tweets28a_sample.json/part-00183-198f4203-4df1-40e4-9597-46f0b09fe8a5-c000.json\n",
      "-rw-r--r--   2 marco hadoop      62555 2021-02-26 15:30 /neoland/labs/tweets28a_sample.json/part-00184-198f4203-4df1-40e4-9597-46f0b09fe8a5-c000.json\n",
      "-rw-r--r--   2 marco hadoop      82665 2021-02-26 15:30 /neoland/labs/tweets28a_sample.json/part-00185-198f4203-4df1-40e4-9597-46f0b09fe8a5-c000.json\n",
      "-rw-r--r--   2 marco hadoop      69289 2021-02-26 15:30 /neoland/labs/tweets28a_sample.json/part-00186-198f4203-4df1-40e4-9597-46f0b09fe8a5-c000.json\n",
      "-rw-r--r--   2 marco hadoop      64997 2021-02-26 15:30 /neoland/labs/tweets28a_sample.json/part-00187-198f4203-4df1-40e4-9597-46f0b09fe8a5-c000.json\n",
      "-rw-r--r--   2 marco hadoop      66138 2021-02-26 15:30 /neoland/labs/tweets28a_sample.json/part-00188-198f4203-4df1-40e4-9597-46f0b09fe8a5-c000.json\n",
      "-rw-r--r--   2 marco hadoop      79187 2021-02-26 15:30 /neoland/labs/tweets28a_sample.json/part-00189-198f4203-4df1-40e4-9597-46f0b09fe8a5-c000.json\n",
      "-rw-r--r--   2 marco hadoop      66917 2021-02-26 15:30 /neoland/labs/tweets28a_sample.json/part-00190-198f4203-4df1-40e4-9597-46f0b09fe8a5-c000.json\n",
      "-rw-r--r--   2 marco hadoop      68181 2021-02-26 15:30 /neoland/labs/tweets28a_sample.json/part-00191-198f4203-4df1-40e4-9597-46f0b09fe8a5-c000.json\n",
      "-rw-r--r--   2 marco hadoop      72194 2021-02-26 15:30 /neoland/labs/tweets28a_sample.json/part-00192-198f4203-4df1-40e4-9597-46f0b09fe8a5-c000.json\n",
      "-rw-r--r--   2 marco hadoop      59974 2021-02-26 15:30 /neoland/labs/tweets28a_sample.json/part-00193-198f4203-4df1-40e4-9597-46f0b09fe8a5-c000.json\n",
      "-rw-r--r--   2 marco hadoop      72885 2021-02-26 15:30 /neoland/labs/tweets28a_sample.json/part-00194-198f4203-4df1-40e4-9597-46f0b09fe8a5-c000.json\n",
      "-rw-r--r--   2 marco hadoop      63647 2021-02-26 15:30 /neoland/labs/tweets28a_sample.json/part-00195-198f4203-4df1-40e4-9597-46f0b09fe8a5-c000.json\n",
      "-rw-r--r--   2 marco hadoop      71705 2021-02-26 15:30 /neoland/labs/tweets28a_sample.json/part-00196-198f4203-4df1-40e4-9597-46f0b09fe8a5-c000.json\n",
      "-rw-r--r--   2 marco hadoop      70060 2021-02-26 15:30 /neoland/labs/tweets28a_sample.json/part-00197-198f4203-4df1-40e4-9597-46f0b09fe8a5-c000.json\n",
      "-rw-r--r--   2 marco hadoop      66339 2021-02-26 15:30 /neoland/labs/tweets28a_sample.json/part-00198-198f4203-4df1-40e4-9597-46f0b09fe8a5-c000.json\n",
      "-rw-r--r--   2 marco hadoop      57295 2021-02-26 15:30 /neoland/labs/tweets28a_sample.json/part-00199-198f4203-4df1-40e4-9597-46f0b09fe8a5-c000.json\n"
     ]
    }
   ],
   "source": [
    "# Listamos los ficheros en HDFS\n",
    "!hdfs dfs -ls /neoland/labs/tweets28a_sample.json"
   ]
  },
  {
   "cell_type": "code",
   "execution_count": 6,
   "metadata": {
    "collapsed": true,
    "jupyter": {
     "outputs_hidden": true
    }
   },
   "outputs": [
    {
     "name": "stdout",
     "output_type": "stream",
     "text": [
      "{\"_id\":\"1116623783131897858\",\"created_at\":1555058830,\"lang\":\"es\",\"text\":\"@sanchezcastejon @PSOE Si quieres destruir tu país vota Pedro Sánchez #28abril\",\"user\":{\"followers_count\":190,\"friends_count\":360,\"id_str\":\"2345283612\",\"lang\":\"es\",\"screen_name\":\"ArmandoBroca\",\"statuses_count\":8338}}\n",
      "{\"_id\":\"1116625170934812674\",\"created_at\":1555059161,\"lang\":\"es\",\"retweeted_status\":{\"_id\":\"1116076766504865793\",\"user\":{\"followers_count\":77162,\"friends_count\":7519,\"id_str\":\"250859381\",\"lang\":\"es\",\"screen_name\":\"Cazatalentos\",\"statuses_count\":106923}},\"text\":\"RT @Cazatalentos: El problema no es que Pablo Casado no tenga ni puta idea de lo que habla. \\nEl problema es, que le estamos pagando 200 ase…\",\"user\":{\"followers_count\":342,\"friends_count\":298,\"id_str\":\"431829500\",\"lang\":\"ca\",\"screen_name\":\"Guillem_Roman\",\"statuses_count\":7481}}\n",
      "{\"_id\":\"1116626456396750849\",\"created_at\":1555059467,\"lang\":\"ca\",\"text\":\"Com sempre surten recompensats.😠\",\"user\":{\"followers_count\":49,\"friends_count\":113,\"id_str\":\"169487712\",\"lang\":\"ca\",\"screen_name\":\"CarmePirates\",\"statuses_count\":1582}}\n",
      "{\"_id\":\"1116626860211720193\",\"created_at\":1555059564,\"lang\":\"es\",\"retweeted_status\":{\"_id\":\"1116383794272010241\",\"user\":{\"followers_count\":63,\"friends_count\":48,\"id_str\":\"1071832602988949505\",\"lang\":\"es\",\"screen_name\":\"SantiArteaga2\",\"statuses_count\":92}},\"text\":\"RT @SantiArteaga2: La fiscalía investiga a @Ortega_Smith por supuesto delito de Odio. Para los que olvidan pronto, los islamistas cometiero…\",\"user\":{\"followers_count\":305,\"friends_count\":467,\"id_str\":\"616462969\",\"lang\":\"es\",\"screen_name\":\"CarolusIIRex\",\"statuses_count\":4523}}\n",
      "{\"_id\":\"1116626869577629696\",\"created_at\":1555059566,\"lang\":\"es\",\"text\":\"Todas las veces que oigas batasunos e indepes en los próximos 15 días,acuérdate,entre otros,del trabajo que han hec… https://t.co/wyq3NWJPx9\",\"user\":{\"followers_count\":195,\"friends_count\":635,\"id_str\":\"1972048590\",\"lang\":\"es\",\"screen_name\":\"RoBertantxe\",\"statuses_count\":6827}}\n",
      "{\"_id\":\"1116627060313563137\",\"created_at\":1555059611,\"lang\":\"es\",\"text\":\"Si semejante personaje esta en contra de esos 3 partidos, ya sabemos a quien votar... bueno, a quien exactamente no… https://t.co/dsSgTQLDd3\",\"user\":{\"followers_count\":814,\"friends_count\":236,\"id_str\":\"1139882888\",\"lang\":\"es\",\"screen_name\":\"Largazo\",\"statuses_count\":10399}}\n",
      "{\"_id\":\"1116627097026318337\",\"created_at\":1555059620,\"lang\":\"ca\",\"retweeted_status\":{\"_id\":\"1116607521274204160\",\"user\":{\"followers_count\":71663,\"friends_count\":11775,\"id_str\":\"343507680\",\"lang\":\"ca\",\"screen_name\":\"miriamnoguerasM\",\"statuses_count\":70078}},\"text\":\"RT @miriamnoguerasM: TU ets la força de Catalunya.\\nLa veu de la independència.\\n#28A https://t.co/uCm63G0zvG\",\"user\":{\"followers_count\":4109,\"friends_count\":4248,\"id_str\":\"555411168\",\"lang\":\"es\",\"screen_name\":\"xaviali2\",\"statuses_count\":8518}}\n",
      "{\"_id\":\"1116627135479685120\",\"created_at\":1555059629,\"lang\":\"es\",\"retweeted_status\":{\"_id\":\"1116476290691928065\",\"user\":{\"followers_count\":28026,\"friends_count\":1028,\"id_str\":\"219363505\",\"lang\":\"es\",\"screen_name\":\"Absolutexe\",\"statuses_count\":271525}},\"text\":\"RT @Absolutexe: ¿Es mentira la beca de Errejón? \\n¿Es mentira el pisito de EspiBlack? \\n¿Es mentira los 425.000€ a Monedero por un informe qu…\",\"user\":{\"followers_count\":176,\"friends_count\":368,\"id_str\":\"1075787965115314177\",\"lang\":\"es\",\"screen_name\":\"gente_pueblo\",\"statuses_count\":1034}}\n",
      "{\"_id\":\"1116627893545648128\",\"created_at\":1555059810,\"lang\":\"es\",\"retweeted_status\":{\"_id\":\"1116605907763261440\",\"user\":{\"followers_count\":19847,\"friends_count\":2681,\"id_str\":\"93033748\",\"lang\":\"es\",\"screen_name\":\"JSE_ORG\",\"statuses_count\":8684}},\"text\":\"RT @JSE_ORG: ❤️ Queremos una España optimista, que mire al futuro, en la que quepamos todas y todos. Una España que siga avanzando y no ret…\",\"user\":{\"followers_count\":629,\"friends_count\":719,\"id_str\":\"276961913\",\"lang\":\"es\",\"screen_name\":\"bimmr90\",\"statuses_count\":3810}}\n",
      "{\"_id\":\"1116627899275026434\",\"created_at\":1555059811,\"lang\":\"es\",\"text\":\"#Espana #Politica | ¿Votan las personas o votan los territorios? A quince días del #28A, la radiografía electoral d… https://t.co/lIIsh4uY0p\",\"user\":{\"followers_count\":12227,\"friends_count\":3490,\"id_str\":\"74421223\",\"lang\":\"es\",\"screen_name\":\"estrelladigital\",\"statuses_count\":108432}}\n",
      "{\"_id\":\"1116628502629928961\",\"created_at\":1555059955,\"lang\":\"es\",\"text\":\"@CasoAislado_Es @vox_es Santiago nuestro presidente\",\"user\":{\"followers_count\":1417,\"friends_count\":3637,\"id_str\":\"1105129629252239360\",\"lang\":\"es\",\"screen_name\":\"MegustaVOX\",\"statuses_count\":5323}}\n",
      "{\"_id\":\"1116628604371079168\",\"created_at\":1555059979,\"lang\":\"es\",\"retweeted_status\":{\"_id\":\"1116423344390320128\",\"user\":{\"followers_count\":930549,\"friends_count\":5564,\"id_str\":\"14436317\",\"lang\":\"es\",\"screen_name\":\"iescolar\",\"statuses_count\":74751}},\"text\":\"RT @iescolar: Ciudadanos se salta el ultimátum de la Junta Electoral y mantiene su lona contra Pedro Sánchez a pesar de enfrentarse a un po…\",\"user\":{\"followers_count\":213,\"friends_count\":208,\"id_str\":\"3291045526\",\"lang\":\"es\",\"screen_name\":\"74evagarcia\",\"statuses_count\":24511}}\n",
      "{\"_id\":\"1116628739767422976\",\"created_at\":1555060012,\"lang\":\"es\",\"retweeted_status\":{\"_id\":\"1116626591080042496\",\"user\":{\"followers_count\":21105,\"friends_count\":2168,\"id_str\":\"3010918642\",\"lang\":\"es\",\"screen_name\":\"Tumultuario\",\"statuses_count\":3311}},\"text\":\"RT @Tumultuario: ¿Se sabe ya quién fue el que pedía taxis ayer con @cayetanaAT y @DaniSerranoPP? https://t.co/iiZD7c1gIU\",\"user\":{\"followers_count\":1697,\"friends_count\":1667,\"id_str\":\"1638685543\",\"lang\":\"es\",\"screen_name\":\"gor_gonzola\",\"statuses_count\":102101}}\n",
      "{\"_id\":\"1116630140124004352\",\"created_at\":1555060346,\"lang\":\"es\",\"retweeted_status\":{\"_id\":\"1116444720157417473\",\"user\":{\"followers_count\":225128,\"friends_count\":998,\"id_str\":\"2201623465\",\"lang\":\"es\",\"screen_name\":\"vox_es\",\"statuses_count\":35330}},\"text\":\"RT @vox_es: 🚨 La #EspañaViva responde también en Toledo. La Ciudad Imperial se une a la marea patriótica que inunda toda España. \\n\\nNadie ti…\",\"user\":{\"followers_count\":1354,\"friends_count\":1542,\"id_str\":\"920490892452093952\",\"lang\":\"es\",\"screen_name\":\"antonio790602\",\"statuses_count\":14648}}\n",
      "{\"_id\":\"1116630830930120704\",\"created_at\":1555060510,\"lang\":\"es\",\"retweeted_status\":{\"_id\":\"1116461146050048005\",\"user\":{\"followers_count\":14338,\"friends_count\":951,\"id_str\":\"3231722962\",\"lang\":\"es\",\"screen_name\":\"PatriciaReyesCs\",\"statuses_count\":7789}},\"text\":\"RT @PatriciaReyesCs: Ha llegado el momento. Empieza una campaña decisiva para el futuro de España. El #28A vamos a demostrar en las urnas q…\",\"user\":{\"followers_count\":1518,\"friends_count\":1460,\"id_str\":\"2415718154\",\"lang\":\"es\",\"screen_name\":\"fuertecabeza\",\"statuses_count\":68621}}\n",
      "{\"_id\":\"1116631277526892547\",\"created_at\":1555060617,\"lang\":\"es\",\"retweeted_status\":{\"_id\":\"1116433834554417157\",\"user\":{\"followers_count\":63,\"friends_count\":95,\"id_str\":\"1439596549\",\"lang\":\"es\",\"screen_name\":\"BorregueroCas\",\"statuses_count\":1121}},\"text\":\"RT @BorregueroCas: @carmencalvo_ @LolaDelgadoG @PSOE @psoe_m @conJoseMFranco @equipoGabilondo @CristinaNarbona @MarotoReyes @Teresaribera L…\",\"user\":{\"followers_count\":1548,\"friends_count\":5003,\"id_str\":\"363024801\",\"lang\":\"es\",\"screen_name\":\"Emi1969\",\"statuses_count\":78477}}\n",
      "{\"_id\":\"1116631396989095936\",\"created_at\":1555060645,\"lang\":\"es\",\"retweeted_status\":{\"_id\":\"1116594299305508865\",\"user\":{\"followers_count\":173,\"friends_count\":220,\"id_str\":\"1271886751\",\"lang\":\"es\",\"screen_name\":\"alatriste150669\",\"statuses_count\":3331}},\"text\":\"RT @alatriste150669: Alguien puede informarme de si se pueden poner carteles electorales en Centros de Salud, Hospitales,...? Es para denun…\",\"user\":{\"followers_count\":4724,\"friends_count\":4657,\"id_str\":\"419420053\",\"lang\":\"es\",\"screen_name\":\"PepeWilliamMunn\",\"statuses_count\":119908}}\n",
      "{\"_id\":\"1116632422639132672\",\"created_at\":1555060890,\"lang\":\"es\",\"retweeted_status\":{\"_id\":\"1116404316808593408\",\"user\":{\"followers_count\":3205,\"friends_count\":997,\"id_str\":\"306392023\",\"lang\":\"es\",\"screen_name\":\"Luchadora_Tenaz\",\"statuses_count\":4754}},\"text\":\"RT @Luchadora_Tenaz: ✅SUBLIME @Santi_ABASCAL \\n✅#INÉDITO vean la MANIPULACIÓN en directo, del PLURAL \\n✅La CATADURA MORAL del citado medio, q…\",\"user\":{\"followers_count\":1445,\"friends_count\":1741,\"id_str\":\"2946199847\",\"lang\":\"es\",\"screen_name\":\"pilarmartinfri1\",\"statuses_count\":50713}}\n",
      "{\"_id\":\"1116632456109670400\",\"created_at\":1555060898,\"lang\":\"es\",\"retweeted_status\":{\"_id\":\"1116609702404558849\",\"user\":{\"followers_count\":2438,\"friends_count\":2907,\"id_str\":\"982893085570076672\",\"lang\":\"es\",\"screen_name\":\"contrete\",\"statuses_count\":90027}},\"text\":\"RT @contrete: @ivanedlm Del banco del Altozano a la escalera del ICADE #ABASCALPresidente #PorEspaña #PorEspañaVotaVOX #EspañaViva #Vox htt…\",\"user\":{\"followers_count\":372,\"friends_count\":78,\"id_str\":\"978660328660787201\",\"lang\":\"es\",\"screen_name\":\"iberi_iberian\",\"statuses_count\":20112}}\n",
      "{\"_id\":\"1116632481808121856\",\"created_at\":1555060904,\"lang\":\"und\",\"text\":\"@alhucema66 @PoliciaSXXI @desdelamoncloa @ivanedlm @InesArrimadas @IvanVelez72 @IdiazAyuso @EsterMunoz85… https://t.co/RNXe18b5Ct\",\"user\":{\"followers_count\":6011,\"friends_count\":6059,\"id_str\":\"1042713230651613184\",\"lang\":\"es\",\"screen_name\":\"Samy57124219\",\"statuses_count\":45210}}\n",
      "{\"_id\":\"1116633730506985472\",\"created_at\":1555061202,\"lang\":\"es\",\"retweeted_status\":{\"_id\":\"1116539479458754561\",\"user\":{\"followers_count\":4244,\"friends_count\":1402,\"id_str\":\"2717035249\",\"lang\":\"es\",\"screen_name\":\"CsPozuelo\",\"statuses_count\":17028}},\"text\":\"RT @CsPozuelo: 🍊 En #Pozuelo #VamosPorElCambio, #VamosCiudadanos, porque queremos un futuro de una #España en la que ninguna región tenga p…\",\"user\":{\"followers_count\":356,\"friends_count\":501,\"id_str\":\"622903057\",\"lang\":\"es\",\"screen_name\":\"Luci_Martin99\",\"statuses_count\":26070}}\n",
      "{\"_id\":\"1116634657137754112\",\"created_at\":1555061422,\"lang\":\"es\",\"text\":\"Seguimos analizando la #comunicación de los principales candidatos al #28A junto a @ReasonWhy… https://t.co/WSHp2YmLRg\",\"user\":{\"followers_count\":10063,\"friends_count\":1208,\"id_str\":\"246845025\",\"lang\":\"es\",\"screen_name\":\"Evercom\",\"statuses_count\":7632}}\n",
      "{\"_id\":\"1116635024705708034\",\"created_at\":1555061510,\"lang\":\"es\",\"retweeted_status\":{\"_id\":\"1116625575773212672\",\"user\":{\"followers_count\":557909,\"friends_count\":10225,\"id_str\":\"14824411\",\"lang\":\"es\",\"screen_name\":\"iunida\",\"statuses_count\":94878}},\"text\":\"RT @iunida: 💬🎥 \\\"Tras diez años de crisis/estafa y de saqueo de los más ricos a las finanzas públicas y las familias trabajadoras, tenemos l…\",\"user\":{\"followers_count\":1276,\"friends_count\":2265,\"id_str\":\"1557981571\",\"lang\":\"es\",\"screen_name\":\"bucanera\",\"statuses_count\":14437}}\n",
      "{\"_id\":\"1116635194876989441\",\"created_at\":1555061551,\"lang\":\"und\",\"place\":{\"bounding_box\":{\"coordinates\":[[[-5.742404,36.764135],[-5.742404,36.97593],[-5.5277,36.97593],[-5.5277,36.764135]]],\"type\":\"Polygon\"},\"country_code\":\"ES\",\"name\":\"Villamartín\",\"place_type\":\"city\"},\"text\":\"@cesareoja #EquiparacionYa\\n#6AbrilMadrid\\n#ILPJusapoL\\n@jusapol\\n@interiorgob\\n@AnaBotellaPSOE\\n@desdelamoncloa… https://t.co/9jfLbn4cNj\",\"user\":{\"followers_count\":2084,\"friends_count\":2047,\"id_str\":\"3246796373\",\"lang\":\"es\",\"screen_name\":\"vazquez_cla\",\"statuses_count\":80894}}\n",
      "{\"_id\":\"1116635511408549888\",\"created_at\":1555061626,\"lang\":\"es\",\"retweeted_status\":{\"_id\":\"1116478506534408192\",\"user\":{\"followers_count\":367,\"friends_count\":102,\"id_str\":\"3356649141\",\"lang\":\"es\",\"screen_name\":\"Cs_LasTorres\",\"statuses_count\":5994}},\"text\":\"RT @Cs_LasTorres: 🗳 El #28A nos jugamos mucho\\n\\n🍊 Una oportunidad histórica para que @Albert_Rivera cambie el futuro de nuestro país. \\n\\n💪🏼 V…\",\"user\":{\"followers_count\":3577,\"friends_count\":5001,\"id_str\":\"735172144808628224\",\"lang\":\"es\",\"screen_name\":\"ferrerodu\",\"statuses_count\":149719}}\n",
      "{\"_id\":\"1116635735355002880\",\"created_at\":1555061680,\"lang\":\"es\",\"text\":\"En Azuqueca hay dos tipos de antifascismo: los q convocan una manifestación para que el fascismo de VOX no pase en… https://t.co/OEtmrdTpTW\",\"user\":{\"followers_count\":314,\"friends_count\":464,\"id_str\":\"381697222\",\"lang\":\"es\",\"screen_name\":\"98_diego23\",\"statuses_count\":59143}}\n",
      "{\"_id\":\"1116636289988812806\",\"created_at\":1555061812,\"lang\":\"es\",\"retweeted_status\":{\"_id\":\"1116339330291773440\",\"user\":{\"followers_count\":35639,\"friends_count\":1188,\"id_str\":\"704634582394654720\",\"lang\":\"es\",\"screen_name\":\"jm_clavero\",\"statuses_count\":24013}},\"text\":\"RT @jm_clavero: Carta abierta de un cabo del ejército a Santiago Abascal donde hace graves acusaciones a los generales fichados, entre otra…\",\"user\":{\"followers_count\":451,\"friends_count\":898,\"id_str\":\"351536200\",\"lang\":\"ca\",\"screen_name\":\"JosepMBusquets\",\"statuses_count\":49880}}\n",
      "{\"_id\":\"1116636578141618181\",\"created_at\":1555061880,\"lang\":\"es\",\"retweeted_status\":{\"_id\":\"1116634245613727745\",\"user\":{\"followers_count\":37604,\"friends_count\":343,\"id_str\":\"824565532095578112\",\"lang\":\"es\",\"screen_name\":\"FiloPolitics\",\"statuses_count\":28933}},\"text\":\"RT @FiloPolitics: Pablo Casado superado al enterarse que la \\\"E\\\" de Psoe significa español.\\n\\\"Estas cosas se avisab antes\\\" ha dicho a sus ase…\",\"user\":{\"followers_count\":75,\"friends_count\":84,\"id_str\":\"1087024189117206534\",\"lang\":\"es\",\"screen_name\":\"BushidoSoul_\",\"statuses_count\":2250}}\n",
      "{\"_id\":\"1116637115197132805\",\"created_at\":1555062009,\"lang\":\"es\",\"retweeted_status\":{\"_id\":\"1116604658846322688\",\"user\":{\"followers_count\":58096,\"friends_count\":29666,\"id_str\":\"73775491\",\"lang\":\"es\",\"screen_name\":\"superwomanroja\",\"statuses_count\":10929}},\"text\":\"RT @superwomanroja: Ir a por V🤮X cuando quien se está llevando el voto de la izquierda es el PSOE, es hacerle el trabajo y la campaña al PS…\",\"user\":{\"followers_count\":10695,\"friends_count\":10040,\"id_str\":\"357742193\",\"lang\":\"es\",\"screen_name\":\"Viejis39\",\"statuses_count\":690428}}\n",
      "{\"_id\":\"1116637828866281474\",\"created_at\":1555062179,\"lang\":\"es\",\"retweeted_status\":{\"_id\":\"1116264283187425281\",\"user\":{\"followers_count\":381,\"friends_count\":158,\"id_str\":\"1100692705301225472\",\"lang\":\"es\",\"screen_name\":\"VoxPontevedra\",\"statuses_count\":1322}},\"text\":\"RT @VoxPontevedra: Con el inicio de la campaña electoral se acaba el veto que nos impuso el Mr.Alcalde de Vigo.\\n\\nEmpezamos fuerte:\\n\\n📣  4 me…\",\"user\":{\"followers_count\":330,\"friends_count\":615,\"id_str\":\"393664198\",\"lang\":\"es\",\"screen_name\":\"GabriPereira9\",\"statuses_count\":6187}}\n",
      "{\"_id\":\"1116638060236636160\",\"created_at\":1555062234,\"lang\":\"es\",\"retweeted_status\":{\"_id\":\"1116635168884707328\",\"user\":{\"followers_count\":258415,\"friends_count\":734,\"id_str\":\"603884167\",\"lang\":\"es\",\"screen_name\":\"_infoLibre\",\"statuses_count\":125207}},\"text\":\"RT @_infoLibre: 'Pasado o futuro. Tú decides': CCOO, UGT y el mundo de la cultura animan a votar y apoyar opciones progresistas el #28A htt…\",\"user\":{\"followers_count\":16,\"friends_count\":24,\"id_str\":\"2413056632\",\"lang\":\"es\",\"screen_name\":\"PapillaRBA\",\"statuses_count\":875}}\n",
      "{\"_id\":\"1116640060068311041\",\"created_at\":1555062711,\"lang\":\"und\",\"text\":\"@pablocasado_ #ValorSeguro #VotaPP #28A\",\"user\":{\"followers_count\":1500,\"friends_count\":604,\"id_str\":\"565009911\",\"lang\":\"es\",\"screen_name\":\"anamillanpp\",\"statuses_count\":5999}}\n",
      "{\"_id\":\"1116640304575209472\",\"created_at\":1555062769,\"lang\":\"es\",\"retweeted_status\":{\"_id\":\"1116626819703136258\",\"user\":{\"followers_count\":5323,\"friends_count\":2446,\"id_str\":\"2996473948\",\"lang\":\"es\",\"screen_name\":\"mtgarcia82\",\"statuses_count\":36821}},\"text\":\"RT @mtgarcia82: @Guijarrojl @noticiasDcuenca @tribunadetoledo @lcsahuquillo @amadorpastorn @EstherPadillaR @Sergio_GP @PSOEdeCUENCA @Uge6 @…\",\"user\":{\"followers_count\":586,\"friends_count\":561,\"id_str\":\"469520031\",\"lang\":\"es\",\"screen_name\":\"AnnieAlta2012\",\"statuses_count\":12590}}\n",
      "{\"_id\":\"1116640398720606208\",\"created_at\":1555062791,\"lang\":\"es\",\"retweeted_status\":{\"_id\":\"1116589327654342657\",\"user\":{\"followers_count\":306757,\"friends_count\":4070,\"id_str\":\"235234497\",\"lang\":\"es\",\"screen_name\":\"JesusCintora\",\"statuses_count\":19375}},\"text\":\"RT @JesusCintora: ”El policía de confianza de Cospedal participó en la elaboración del dosier falso sobre Pablo Iglesias, el Informe PISA p…\",\"user\":{\"followers_count\":68,\"friends_count\":95,\"id_str\":\"2218228408\",\"lang\":\"es\",\"screen_name\":\"miguetalan\",\"statuses_count\":7853}}\n",
      "{\"_id\":\"1116640672067485697\",\"created_at\":1555062857,\"lang\":\"es\",\"retweeted_status\":{\"_id\":\"1116639979587932160\",\"user\":{\"followers_count\":1295,\"friends_count\":1955,\"id_str\":\"373861879\",\"lang\":\"es\",\"screen_name\":\"EsojSabir\",\"statuses_count\":71262}},\"text\":\"RT @EsojSabir: @pasandoeldia1 @CarrascoMarimar @Pablo_Iglesias_ Habría que preguntarse porque el casoplón lo custodia la Guardia Civil.\",\"user\":{\"followers_count\":4070,\"friends_count\":5001,\"id_str\":\"1084218949850591232\",\"lang\":\"en\",\"screen_name\":\"pasandoeldia1\",\"statuses_count\":14820}}\n",
      "{\"_id\":\"1116640733820329984\",\"created_at\":1555062871,\"lang\":\"es\",\"retweeted_status\":{\"_id\":\"1116378644497281025\",\"user\":{\"followers_count\":25882,\"friends_count\":778,\"id_str\":\"268927636\",\"lang\":\"es\",\"screen_name\":\"carrizosacarlos\",\"statuses_count\":4385}},\"text\":\"RT @carrizosacarlos: Junto a mis compañeros, hoy he vuelto a defender la dignidad del constitucionalismo frente a aquellos que atacan nuest…\",\"user\":{\"followers_count\":77,\"friends_count\":218,\"id_str\":\"959898957165092864\",\"lang\":\"es\",\"screen_name\":\"JDDMM4\",\"statuses_count\":11311}}\n",
      "{\"_id\":\"1116640770260336642\",\"created_at\":1555062880,\"lang\":\"es\",\"retweeted_status\":{\"_id\":\"1116593626497175553\",\"user\":{\"followers_count\":345,\"friends_count\":147,\"id_str\":\"3375918490\",\"lang\":\"es\",\"screen_name\":\"grimor003\",\"statuses_count\":43634}},\"text\":\"RT @grimor003: @MqGuardiaCivil Pronto elecciones. @PSOE abandona una vez más a @guardiacivil y @policia .\\n#EquiparacionYa\\n#StopLeyAbusosPol…\",\"user\":{\"followers_count\":46,\"friends_count\":107,\"id_str\":\"3245953331\",\"lang\":\"es\",\"screen_name\":\"gnomoguason\",\"statuses_count\":1519}}\n",
      "{\"_id\":\"1116640843681681409\",\"created_at\":1555062897,\"lang\":\"es\",\"text\":\"@SrtaComs @elsmatins @InesArrimadas No te enteras de nada...!! Sigue en la república...de 8\\\", por cierto.\",\"user\":{\"followers_count\":35,\"friends_count\":46,\"id_str\":\"963787865674211328\",\"lang\":\"es\",\"screen_name\":\"TabQuijote\",\"statuses_count\":2217}}\n",
      "{\"_id\":\"1116641977074950144\",\"created_at\":1555063168,\"lang\":\"es\",\"text\":\"¡Los putos amos! Las NNGG del PP abren 'Viajes Falcón' al lado de la sede del PSOE https://t.co/veHgFpUdVc vía @MediterraneoDGT\",\"user\":{\"followers_count\":69,\"friends_count\":165,\"id_str\":\"1085608629871562752\",\"lang\":\"es\",\"screen_name\":\"Koleta21\",\"statuses_count\":2035}}\n",
      "{\"_id\":\"1116642571588075520\",\"created_at\":1555063309,\"lang\":\"es\",\"text\":\"@lred_k @vox_es @ivanedlm Esta complicado el asunto \\nPero , aunque independentista , quiero lo mejor para la España… https://t.co/wXzGQ8FROt\",\"user\":{\"followers_count\":1178,\"friends_count\":1392,\"id_str\":\"719916007243018241\",\"lang\":\"en-gb\",\"screen_name\":\"carlosnavajas2\",\"statuses_count\":15605}}\n",
      "{\"_id\":\"1116643899584536578\",\"created_at\":1555063626,\"lang\":\"es\",\"retweeted_status\":{\"_id\":\"1116642113519804416\",\"user\":{\"followers_count\":39743,\"friends_count\":1243,\"id_str\":\"4119160593\",\"lang\":\"es\",\"screen_name\":\"Julio_Rodr_\",\"statuses_count\":3101}},\"text\":\"RT @Julio_Rodr_: Estoy convencido de que la garantía para que no vuelvan a llenar del hedor de las cloacas de nuestra democracia es votar a…\",\"user\":{\"followers_count\":1733,\"friends_count\":2224,\"id_str\":\"4409959960\",\"lang\":\"es\",\"screen_name\":\"chulita1212\",\"statuses_count\":117106}}\n",
      "{\"_id\":\"1116644048167677953\",\"created_at\":1555063661,\"lang\":\"es\",\"retweeted_status\":{\"_id\":\"1116642102073528321\",\"user\":{\"followers_count\":242,\"friends_count\":658,\"id_str\":\"143235955\",\"lang\":\"es\",\"screen_name\":\"choryvigo\",\"statuses_count\":12648}},\"text\":\"RT @choryvigo: @Farodevigo @sanchezcastejon @NNGG_Es @DiegoGagoB está campaña tambien la financia el PP con la caja B??\",\"user\":{\"followers_count\":123,\"friends_count\":709,\"id_str\":\"349920766\",\"lang\":\"es\",\"screen_name\":\"rglloria\",\"statuses_count\":6549}}\n",
      "{\"_id\":\"1116644379999887362\",\"created_at\":1555063741,\"lang\":\"es\",\"text\":\"Un amigo dice que cuando le plantean la disyuntiva de programas entre el PP y Vox se acuerda de los Monty Python\\n\\n¿… https://t.co/8EnyM2Akd5\",\"user\":{\"followers_count\":14306,\"friends_count\":13814,\"id_str\":\"307784793\",\"lang\":\"es\",\"screen_name\":\"AnotacionesRenL\",\"statuses_count\":50824}}\n",
      "{\"_id\":\"1116644415773315074\",\"created_at\":1555063749,\"lang\":\"und\",\"text\":\"@sanchezcastejon @PSOE @DebatAlRojoVivo https://t.co/94SsIwmYUH\",\"user\":{\"followers_count\":243,\"friends_count\":296,\"id_str\":\"295207531\",\"lang\":\"es\",\"screen_name\":\"TurySpain\",\"statuses_count\":34680}}\n",
      "{\"_id\":\"1116644913121234946\",\"created_at\":1555063868,\"lang\":\"es\",\"retweeted_status\":{\"_id\":\"1116599637580713985\",\"user\":{\"followers_count\":5329,\"friends_count\":774,\"id_str\":\"917833712\",\"lang\":\"es\",\"screen_name\":\"voxbaleares\",\"statuses_count\":6755}},\"text\":\"RT @voxbaleares: Ningún periódico lo saca. Éramos unas 350 personas ayer... Nuestro inicio de campaña se centró en lo más importante que ti…\",\"user\":{\"followers_count\":36,\"friends_count\":202,\"id_str\":\"3685314195\",\"lang\":\"es\",\"screen_name\":\"anonHommo\",\"statuses_count\":554}}\n",
      "{\"_id\":\"1116645568200228864\",\"created_at\":1555064024,\"lang\":\"es\",\"retweeted_status\":{\"_id\":\"1116626814724534276\",\"user\":{\"followers_count\":225159,\"friends_count\":998,\"id_str\":\"2201623465\",\"lang\":\"es\",\"screen_name\":\"vox_es\",\"statuses_count\":35331}},\"text\":\"RT @vox_es: 📣 @ivanedlm \\\"No moleste Cuatro\\\".\\n\\nEl 28 de abril tu voto a VOX será el mayor zasca a los medios progres 😂 https://t.co/fN7HOeYd…\",\"user\":{\"followers_count\":162,\"friends_count\":581,\"id_str\":\"2961750472\",\"lang\":\"en\",\"screen_name\":\"Barraganismo19\",\"statuses_count\":35446}}\n",
      "{\"_id\":\"1116646490414428160\",\"created_at\":1555064244,\"lang\":\"es\",\"text\":\"\\\"Pedro Sánchez comienza su campaña con cinco propuestas\\\"  https://t.co/HmJV5U54g9\",\"user\":{\"followers_count\":1641,\"friends_count\":2936,\"id_str\":\"249652583\",\"lang\":\"es\",\"screen_name\":\"Fermirv\",\"statuses_count\":29683}}\n",
      "{\"_id\":\"1116646832162201600\",\"created_at\":1555064325,\"lang\":\"es\",\"text\":\"Vox: el mejor de los programas económicos https://t.co/Esk55Pahox\",\"user\":{\"followers_count\":418,\"friends_count\":2208,\"id_str\":\"2887070351\",\"lang\":\"es\",\"screen_name\":\"jestradamo\",\"statuses_count\":146962}}\n",
      "{\"_id\":\"1116647160097984512\",\"created_at\":1555064403,\"lang\":\"es\",\"retweeted_status\":{\"_id\":\"1116461941994721282\",\"user\":{\"followers_count\":2891,\"friends_count\":2457,\"id_str\":\"3257024090\",\"lang\":\"es\",\"screen_name\":\"Iratxotravesa\",\"statuses_count\":18830}},\"text\":\"RT @Iratxotravesa: Digan lo que digan y haya las cloacas que haya, no hay nada que puedan hacer, la fuerza de la gente es superior, es nues…\",\"user\":{\"followers_count\":1773,\"friends_count\":1837,\"id_str\":\"770230278\",\"lang\":\"es\",\"screen_name\":\"malgenia7\",\"statuses_count\":95964}}\n",
      "{\"_id\":\"1116647347876921346\",\"created_at\":1555064448,\"lang\":\"es\",\"retweeted_status\":{\"_id\":\"1111521310461644801\",\"user\":{\"followers_count\":6880881,\"friends_count\":754,\"id_str\":\"7996082\",\"lang\":\"es\",\"screen_name\":\"el_pais\",\"statuses_count\":474491}},\"text\":\"RT @el_pais: Además de defender la bandera española, los toros, la caza y el uso de armas en defensa propia, Vox tiene un programa económic…\",\"user\":{\"followers_count\":541,\"friends_count\":408,\"id_str\":\"539953514\",\"lang\":\"es\",\"screen_name\":\"laurahrdez\",\"statuses_count\":18591}}\n",
      "{\"_id\":\"1116647423106011136\",\"created_at\":1555064466,\"lang\":\"es\",\"retweeted_status\":{\"_id\":\"1116632736427646978\",\"user\":{\"followers_count\":3633,\"friends_count\":3484,\"id_str\":\"2656049113\",\"lang\":\"es\",\"screen_name\":\"cayetanosanch\",\"statuses_count\":7889}},\"text\":\"RT @cayetanosanch: Palabras de Santi Abascal, junto a Blas de Lezo en la Plaza de Colón https://t.co/9YjKBZqw8f\",\"user\":{\"followers_count\":3228,\"friends_count\":3696,\"id_str\":\"2871599337\",\"lang\":\"es\",\"screen_name\":\"rosalalejandria\",\"statuses_count\":54447}}\n",
      "{\"_id\":\"1116648749122691072\",\"created_at\":1555064782,\"lang\":\"es\",\"retweeted_status\":{\"_id\":\"1116584877812412416\",\"user\":{\"followers_count\":50556,\"friends_count\":33486,\"id_str\":\"270053234\",\"lang\":\"es\",\"screen_name\":\"manueljarias\",\"statuses_count\":80777}},\"text\":\"RT @manueljarias: A algún medio de comunicación se le ha olvidado hoy que Unidas Podemos arrancamos anoche la campaña en Toledo junto a nue…\",\"user\":{\"followers_count\":342,\"friends_count\":267,\"id_str\":\"1078172748\",\"lang\":\"en-gb\",\"screen_name\":\"jasjlion\",\"statuses_count\":15901}}\n",
      "{\"_id\":\"1116648862851194881\",\"created_at\":1555064809,\"lang\":\"es\",\"text\":\"@Leonard24198 @populares @PSOE @jusapol Veo que en cada zona tiene su propias normas y eso genera desigualdades. ¿E… https://t.co/DOTo5QzHlB\",\"user\":{\"followers_count\":45,\"friends_count\":19,\"id_str\":\"706538428612157441\",\"lang\":\"es\",\"screen_name\":\"00Kbo00\",\"statuses_count\":846}}\n",
      "{\"_id\":\"1116649512926363649\",\"created_at\":1555064964,\"lang\":\"und\",\"retweeted_status\":{\"_id\":\"1116590619982352384\",\"user\":{\"followers_count\":1095,\"friends_count\":784,\"id_str\":\"986881075996708865\",\"lang\":\"es\",\"screen_name\":\"CAPSERoures\",\"statuses_count\":3628}},\"text\":\"RT @CAPSERoures: @ANC_Mossos @jusapoleuskadi @sanchezcastejon https://t.co/fVUioQ0B9O\",\"user\":{\"followers_count\":2195,\"friends_count\":4236,\"id_str\":\"1048111723\",\"lang\":\"ca\",\"screen_name\":\"filumestre\",\"statuses_count\":212427}}\n",
      "{\"_id\":\"1116650810925113344\",\"created_at\":1555065274,\"lang\":\"es\",\"retweeted_status\":{\"_id\":\"1116636599348076547\",\"user\":{\"followers_count\":1586,\"friends_count\":899,\"id_str\":\"833696723939815424\",\"lang\":\"es\",\"screen_name\":\"LuismaBeamonte\",\"statuses_count\":1113}},\"text\":\"RT @LuismaBeamonte: Un placer atender a los medios d comunicación. Hoy en pleno centro d Zaragoza en la Plaza España para decir claro q @po…\",\"user\":{\"followers_count\":982,\"friends_count\":2493,\"id_str\":\"3061447647\",\"lang\":\"en\",\"screen_name\":\"miguelitosebas1\",\"statuses_count\":45190}}\n",
      "{\"_id\":\"1116650833406504966\",\"created_at\":1555065279,\"lang\":\"es\",\"retweeted_status\":{\"_id\":\"1116496422365474816\",\"user\":{\"followers_count\":27639,\"friends_count\":2133,\"id_str\":\"2349006565\",\"lang\":\"es\",\"screen_name\":\"voxnoticias_es\",\"statuses_count\":51361}},\"text\":\"RT @voxnoticias_es: 📹 Al igual que Blas de Lezo, @Santi_ABASCAL desde sus inicios no ha agachado la cabeza ante nadie. Le machacan, le inte…\",\"user\":{\"followers_count\":2508,\"friends_count\":2671,\"id_str\":\"2419517701\",\"lang\":\"es\",\"screen_name\":\"Antoni297\",\"statuses_count\":37005}}\n",
      "{\"_id\":\"1116651326900002816\",\"created_at\":1555065397,\"lang\":\"es\",\"retweeted_status\":{\"_id\":\"1116617579387179009\",\"user\":{\"followers_count\":342655,\"friends_count\":598,\"id_str\":\"964605500\",\"lang\":\"ca\",\"screen_name\":\"RaholaOficial\",\"statuses_count\":74505}},\"text\":\"RT @RaholaOficial: La decisión de @sanchezcastejon de dar 1 solo debate, con Vox y en @antena3com :\\n-Erosiona los intereses de la TV públic…\",\"user\":{\"followers_count\":131,\"friends_count\":321,\"id_str\":\"1058516860357017601\",\"lang\":\"ca\",\"screen_name\":\"Ju85775378\",\"statuses_count\":15187}}\n",
      "{\"_id\":\"1116651404410675200\",\"created_at\":1555065415,\"lang\":\"es\",\"text\":\"@NNGG_Es @sanchezcastejon COÑO, RECUERDO CUANDO EL FACHA JOSEMARY Y EL INÚTIL MARIANO, VIAJABAN EN BURROFY 🤣\",\"user\":{\"followers_count\":467,\"friends_count\":659,\"id_str\":\"918136928565907456\",\"lang\":\"es\",\"screen_name\":\"Jose29697498\",\"statuses_count\":25246}}\n",
      "{\"_id\":\"1116651408999186432\",\"created_at\":1555065416,\"lang\":\"ca\",\"retweeted_status\":{\"_id\":\"1116638095926079488\",\"user\":{\"followers_count\":237575,\"friends_count\":4092,\"id_str\":\"91560739\",\"lang\":\"es\",\"screen_name\":\"AlbanoDante76\",\"statuses_count\":64099}},\"text\":\"RT @AlbanoDante76: 2) No anem a Madrid a governar un estat encapçalat per un rei que és un lladre, que és un corrupte i que ens va enviar e…\",\"user\":{\"followers_count\":93,\"friends_count\":709,\"id_str\":\"2528698198\",\"lang\":\"ca\",\"screen_name\":\"pitumussol\",\"statuses_count\":2658}}\n",
      "{\"_id\":\"1116651816941424645\",\"created_at\":1555065514,\"lang\":\"en\",\"retweeted_status\":{\"_id\":\"1116629180437843970\",\"user\":{\"followers_count\":16777,\"friends_count\":304,\"id_str\":\"806788085719572480\",\"lang\":\"es\",\"screen_name\":\"canasporespana\",\"statuses_count\":4892}},\"text\":\"RT @canasporespana: 💥 ¡BOOM! 😎 @ivanedlm\\nhttps://t.co/mhT89Ecoe2\",\"user\":{\"followers_count\":569,\"friends_count\":641,\"id_str\":\"2568777444\",\"lang\":\"es\",\"screen_name\":\"Kemekede_Asin\",\"statuses_count\":38954}}\n",
      "{\"_id\":\"1116652293607370754\",\"created_at\":1555065627,\"lang\":\"es\",\"retweeted_status\":{\"_id\":\"1116646005175410688\",\"user\":{\"followers_count\":1609,\"friends_count\":478,\"id_str\":\"765235921700659201\",\"lang\":\"es\",\"screen_name\":\"Oviedocityy\",\"statuses_count\":14553}},\"text\":\"RT @Oviedocityy: Ahora los españoles saben porqué les quieren bajar el Salario Base y las Pensiones.\\n\\nEl PP tiene muchos gástos supérfulos:…\",\"user\":{\"followers_count\":571,\"friends_count\":185,\"id_str\":\"730444125850488832\",\"lang\":\"es\",\"screen_name\":\"mctr1961\",\"statuses_count\":91344}}\n",
      "{\"_id\":\"1116652530329628672\",\"created_at\":1555065684,\"lang\":\"es\",\"retweeted_status\":{\"_id\":\"1116482580667412480\",\"user\":{\"followers_count\":331,\"friends_count\":257,\"id_str\":\"1086218308028895232\",\"lang\":\"es\",\"screen_name\":\"VoxGabias\",\"statuses_count\":397}},\"text\":\"RT @VoxGabias: Arranca la campaña!!!! #PorEspaña 🇪🇸🇪🇸, con nuestro Diputado en el Parlamento Andaluz, @fjocana y nuestra número 1 al Congre…\",\"user\":{\"followers_count\":87,\"friends_count\":186,\"id_str\":\"633774518\",\"lang\":\"es\",\"screen_name\":\"mjavilaa\",\"statuses_count\":7353}}\n",
      "{\"_id\":\"1116652588194258945\",\"created_at\":1555065698,\"lang\":\"es\",\"retweeted_status\":{\"_id\":\"1116589662179454976\",\"user\":{\"followers_count\":652,\"friends_count\":839,\"id_str\":\"1086588212976500737\",\"lang\":\"es\",\"screen_name\":\"Pinar49569860\",\"statuses_count\":5340}},\"text\":\"RT @Pinar49569860: Esto es FAAALSO, señores de El País: \\\"Vox propone desmantelar el sistema público de pensiones\\\" | España | EL PAÍS https:…\",\"user\":{\"followers_count\":1449,\"friends_count\":1509,\"id_str\":\"1070266271063830528\",\"lang\":\"es\",\"screen_name\":\"ssergi30\",\"statuses_count\":16091}}\n",
      "{\"_id\":\"1116652996857868289\",\"created_at\":1555065795,\"lang\":\"es\",\"place\":{\"bounding_box\":{\"coordinates\":[[[-6.0201,43.278867],[-6.0201,43.427428],[-5.7423,43.427428],[-5.7423,43.278867]]],\"type\":\"Polygon\"},\"country_code\":\"ES\",\"name\":\"Oviedo\",\"place_type\":\"city\"},\"text\":\"Ya puede el PSOE ir a reponerlos. Ni se ven. Arrancados con saña.\",\"user\":{\"followers_count\":1141,\"friends_count\":218,\"id_str\":\"197543980\",\"lang\":\"es\",\"screen_name\":\"lukygarcia\",\"statuses_count\":58591}}\n",
      "{\"_id\":\"1116653118375256064\",\"created_at\":1555065824,\"lang\":\"es\",\"retweeted_status\":{\"_id\":\"1116639273489522689\",\"user\":{\"followers_count\":2310,\"friends_count\":1876,\"id_str\":\"279579063\",\"lang\":\"es\",\"screen_name\":\"Coalicion_GC\",\"statuses_count\":16376}},\"text\":\"RT @Coalicion_GC: Encuentro de l@s candidat@s al Congreso y al Senado con entidades del tercer sector de #Canarias.\\n\\n#28A #LuchamosporCanar…\",\"user\":{\"followers_count\":9425,\"friends_count\":1358,\"id_str\":\"89543500\",\"lang\":\"es\",\"screen_name\":\"coalicion\",\"statuses_count\":61871}}\n",
      "{\"_id\":\"1116653510198743040\",\"created_at\":1555065917,\"lang\":\"und\",\"text\":\"#BadajozAbandonado #LaEspañaQueQuieres https://t.co/wGOvyYKs5Z\",\"user\":{\"followers_count\":339,\"friends_count\":421,\"id_str\":\"3052251940\",\"lang\":\"es\",\"screen_name\":\"pues2015\",\"statuses_count\":4099}}\n",
      "{\"_id\":\"1116653513088602113\",\"created_at\":1555065918,\"lang\":\"ca\",\"retweeted_status\":{\"_id\":\"1116638095926079488\",\"user\":{\"followers_count\":237577,\"friends_count\":4092,\"id_str\":\"91560739\",\"lang\":\"es\",\"screen_name\":\"AlbanoDante76\",\"statuses_count\":64101}},\"text\":\"RT @AlbanoDante76: 2) No anem a Madrid a governar un estat encapçalat per un rei que és un lladre, que és un corrupte i que ens va enviar e…\",\"user\":{\"followers_count\":608,\"friends_count\":1785,\"id_str\":\"3243467362\",\"lang\":\"ca\",\"screen_name\":\"at_vilar\",\"statuses_count\":43387}}\n",
      "{\"_id\":\"1116654342474481666\",\"created_at\":1555066116,\"lang\":\"es\",\"retweeted_status\":{\"_id\":\"1116461418042286080\",\"user\":{\"followers_count\":662638,\"friends_count\":13644,\"id_str\":\"50982086\",\"lang\":\"es\",\"screen_name\":\"PSOE\",\"statuses_count\":95506}},\"text\":\"RT @PSOE: /❤️@sanchezcastejon: Vamos a ganar las elecciones generales y vamos a teñir España de rojo de nuevo.\\n\\n🙋‍♀️🙋‍♂️Este #28A tenemos q…\",\"user\":{\"followers_count\":175,\"friends_count\":621,\"id_str\":\"1093570886534393864\",\"lang\":\"es\",\"screen_name\":\"psoedemoraleja\",\"statuses_count\":84}}\n",
      "{\"_id\":\"1116657306475945985\",\"created_at\":1555066823,\"lang\":\"ca\",\"retweeted_status\":{\"_id\":\"1116647423475105792\",\"user\":{\"followers_count\":2570,\"friends_count\":276,\"id_str\":\"216632727\",\"lang\":\"ca\",\"screen_name\":\"elbruguers\",\"statuses_count\":22662}},\"text\":\"RT @elbruguers: Inici de la campanya electoral del @socialistes_cat @PSOE del 28-A a #Gavà amb el @PSCGava https://t.co/MaWaiSrhw2 https://…\",\"user\":{\"followers_count\":3303,\"friends_count\":2827,\"id_str\":\"627211432\",\"lang\":\"ca\",\"screen_name\":\"PSCpolmunicip\",\"statuses_count\":34821}}\n",
      "{\"_id\":\"1116657438609092608\",\"created_at\":1555066854,\"lang\":\"es\",\"retweeted_status\":{\"_id\":\"1116590770021003264\",\"user\":{\"followers_count\":1490,\"friends_count\":2168,\"id_str\":\"138656216\",\"lang\":\"es\",\"screen_name\":\"Jennicita1976\",\"statuses_count\":4088}},\"text\":\"RT @Jennicita1976: Curioso... en el debate por Málaga la única mujer es la que representa al partido machista Vox... 🤔🤔🤔🤔🤔 https://t.co/x4V…\",\"user\":{\"followers_count\":1435,\"friends_count\":1416,\"id_str\":\"4849755747\",\"lang\":\"es\",\"screen_name\":\"FerBarceloB\",\"statuses_count\":30462}}\n",
      "{\"_id\":\"1116657504585428992\",\"created_at\":1555066870,\"lang\":\"es\",\"retweeted_status\":{\"_id\":\"1116590153835794432\",\"user\":{\"followers_count\":124168,\"friends_count\":114,\"id_str\":\"16308919\",\"lang\":\"es\",\"screen_name\":\"Intereconomia\",\"statuses_count\":127672}},\"text\":\"RT @Intereconomia: .@Santi_ABASCAL arranca la campaña ante Blas de Lezo y miles de personas al grito de ‘presidente’ https://t.co/U6DzBidVZ…\",\"user\":{\"followers_count\":1449,\"friends_count\":759,\"id_str\":\"949216828840120320\",\"lang\":\"es\",\"screen_name\":\"ISABELLzaroPin4\",\"statuses_count\":4543}}\n",
      "{\"_id\":\"1116658255554666497\",\"created_at\":1555067049,\"lang\":\"und\",\"text\":\"@Cs_Albacete @CiudadanosCs #VamosCiudadanos\",\"user\":{\"followers_count\":1675,\"friends_count\":1216,\"id_str\":\"1063799784186748928\",\"lang\":\"es\",\"screen_name\":\"Matilde_Sanz_Cs\",\"statuses_count\":2602}}\n",
      "{\"_id\":\"1116659346933415937\",\"created_at\":1555067309,\"lang\":\"es\",\"retweeted_status\":{\"_id\":\"1116585526792822786\",\"user\":{\"followers_count\":8511,\"friends_count\":4700,\"id_str\":\"2415010228\",\"lang\":\"es\",\"screen_name\":\"Elite_TaxiBcn\",\"statuses_count\":15759}},\"text\":\"RT @Elite_TaxiBcn: 📸 COMIENZA LA CAMPAÑA ELECTORAL DEL PP #ValorSeguro\\nUN #ValorSeguro ES LEGISLAR A FAVOR DE LAS EMPRESAS DE LOS AMIGUETES…\",\"user\":{\"followers_count\":991,\"friends_count\":1085,\"id_str\":\"846738718933336064\",\"lang\":\"es\",\"screen_name\":\"avispasAMB\",\"statuses_count\":31478}}\n",
      "{\"_id\":\"1116659404827516928\",\"created_at\":1555067323,\"lang\":\"es\",\"retweeted_status\":{\"_id\":\"1116480429731852288\",\"user\":{\"followers_count\":201582,\"friends_count\":3949,\"id_str\":\"260788584\",\"lang\":\"es\",\"screen_name\":\"Santi_ABASCAL\",\"statuses_count\":25246}},\"text\":\"RT @Santi_ABASCAL: Miles de personas acompañan a VOX esta medianoche en la Plaza de Colón de Madrid, bajo la estatua del héroe Blas de Lezo…\",\"user\":{\"followers_count\":19,\"friends_count\":38,\"id_str\":\"932977033180860416\",\"lang\":\"es\",\"screen_name\":\"Tonirba4\",\"statuses_count\":621}}\n",
      "{\"_id\":\"1116659664249327618\",\"created_at\":1555067385,\"lang\":\"es\",\"retweeted_status\":{\"_id\":\"1116658874600259585\",\"user\":{\"followers_count\":4420,\"friends_count\":728,\"id_str\":\"1241396419\",\"lang\":\"es\",\"screen_name\":\"CaMa1610\",\"statuses_count\":33959}},\"text\":\"RT @CaMa1610: Los que protestan por la Ley Mordaza...\\n\\n. https://t.co/gzOaogBytW\",\"user\":{\"followers_count\":6690,\"friends_count\":7251,\"id_str\":\"951000405529505792\",\"lang\":\"es\",\"screen_name\":\"OrbitaEduardo\",\"statuses_count\":83107}}\n",
      "{\"_id\":\"1116660061651251202\",\"created_at\":1555067479,\"lang\":\"es\",\"retweeted_status\":{\"_id\":\"1116631977543602178\",\"user\":{\"followers_count\":31314,\"friends_count\":92,\"id_str\":\"933309177623121921\",\"lang\":\"es\",\"screen_name\":\"carmencalvo_\",\"statuses_count\":2180}},\"text\":\"RT @carmencalvo_: El presidente @sanchezcastejon no quiere rehuir un debate con Vox y eso no puede hacerse en la radio televisión pública p…\",\"user\":{\"followers_count\":2135,\"friends_count\":515,\"id_str\":\"534249741\",\"lang\":\"es\",\"screen_name\":\"JoseanPastor\",\"statuses_count\":21568}}\n",
      "{\"_id\":\"1116660280342253568\",\"created_at\":1555067532,\"lang\":\"es\",\"retweeted_status\":{\"_id\":\"1116467574894678021\",\"user\":{\"followers_count\":532,\"friends_count\":1588,\"id_str\":\"1052260788906287104\",\"lang\":\"en\",\"screen_name\":\"M1Monroy\",\"statuses_count\":9227}},\"text\":\"RT @M1Monroy: ✔️Llega la nueva Política.\\n✔️Llega la era Naranja\\n✔️Llega el momento CIUDADANO\\n#VamosPorElCambio https://t.co/Bfmu3vo5iu\",\"user\":{\"followers_count\":216,\"friends_count\":279,\"id_str\":\"978601366720565248\",\"lang\":\"en\",\"screen_name\":\"Mayca39069309\",\"statuses_count\":5186}}\n",
      "{\"_id\":\"1116661113360457730\",\"created_at\":1555067730,\"lang\":\"es\",\"retweeted_status\":{\"_id\":\"1116651575991312384\",\"user\":{\"followers_count\":29709,\"friends_count\":277,\"id_str\":\"2722185202\",\"lang\":\"es\",\"screen_name\":\"EuroPodemos\",\"statuses_count\":13646}},\"text\":\"RT @EuroPodemos: Solicitamos a la Comisión Europea, sin el apoyo ni de PSOE, ni PP, ni Cs, que vele por los derechos fundamentales y el Est…\",\"user\":{\"followers_count\":15,\"friends_count\":52,\"id_str\":\"912276378510348288\",\"lang\":\"es\",\"screen_name\":\"quicobo2\",\"statuses_count\":1443}}\n",
      "{\"_id\":\"1116661446333612032\",\"created_at\":1555067810,\"lang\":\"en\",\"retweeted_status\":{\"_id\":\"1116471583382614018\",\"user\":{\"followers_count\":1673,\"friends_count\":1051,\"id_str\":\"827107247603982336\",\"lang\":\"en\",\"screen_name\":\"Vox_party_news\",\"statuses_count\":2744}},\"text\":\"RT @Vox_party_news: Launch of @vox_es election campaign. #28A @Santi_ABASCAL\\\" Vox is only an instrument for defending Spain\\\" #PorEspaña #Es…\",\"user\":{\"followers_count\":707,\"friends_count\":1183,\"id_str\":\"195010619\",\"lang\":\"es\",\"screen_name\":\"Ana6946\",\"statuses_count\":78553}}\n",
      "{\"_id\":\"1116661576986185728\",\"created_at\":1555067841,\"lang\":\"es\",\"retweeted_status\":{\"_id\":\"1116414932139020293\",\"user\":{\"followers_count\":664,\"friends_count\":228,\"id_str\":\"2868783191\",\"lang\":\"es\",\"screen_name\":\"BMorilloVOX\",\"statuses_count\":290}},\"text\":\"RT @BMorilloVOX: Qué no te engañe la derechita cobarde. ¿Por qué hemos votado NO a la trampa taurina del Partido Popular? https://t.co/SzFz…\",\"user\":{\"followers_count\":1664,\"friends_count\":1259,\"id_str\":\"240475632\",\"lang\":\"es\",\"screen_name\":\"afactory36730\",\"statuses_count\":30148}}\n",
      "{\"_id\":\"1116661894192992256\",\"created_at\":1555067916,\"lang\":\"es\",\"retweeted_status\":{\"_id\":\"1116223559800696833\",\"user\":{\"followers_count\":9909,\"friends_count\":24,\"id_str\":\"955100945100177408\",\"lang\":\"es\",\"screen_name\":\"JcQuer\",\"statuses_count\":205}},\"text\":\"RT @JcQuer: Sr Sánchez, Psoe, entramos en elecciones. El principal derecho de la Constitución es el derecho a la vida. PP y Ciudadanos ya m…\",\"user\":{\"followers_count\":536,\"friends_count\":453,\"id_str\":\"18772738\",\"lang\":\"es\",\"screen_name\":\"Fondoreptiles\",\"statuses_count\":86295}}\n",
      "{\"_id\":\"1116663058632519680\",\"created_at\":1555068194,\"lang\":\"es\",\"retweeted_status\":{\"_id\":\"1116662962142502912\",\"user\":{\"followers_count\":558,\"friends_count\":3463,\"id_str\":\"937238058516262912\",\"lang\":\"es\",\"screen_name\":\"sanabcdhotmail\",\"statuses_count\":103448}},\"text\":\"RT @sanabcdhotmail: @CsLaRioja @Albert_Rivera #EquiparacionYa GRACIAS por apoyar la IGUALDAD\\n¡El gobierno Sanchez nos intenta engañar!\\nPoli…\",\"user\":{\"followers_count\":558,\"friends_count\":3463,\"id_str\":\"937238058516262912\",\"lang\":\"es\",\"screen_name\":\"sanabcdhotmail\",\"statuses_count\":103449}}\n",
      "{\"_id\":\"1116663937972436992\",\"created_at\":1555068404,\"lang\":\"es\",\"retweeted_status\":{\"_id\":\"1116333195811872768\",\"user\":{\"followers_count\":36517,\"friends_count\":646,\"id_str\":\"1242176226\",\"lang\":\"es\",\"screen_name\":\"Anonymus_ES\",\"statuses_count\":105}},\"text\":\"RT @Anonymus_ES: Pablo Iglesias \\\"VOX quiere quitar libertades a los ciudadanos\\\"\\n\\nRecordemos que Podemos en su programa propone:\\n-Como se ti…\",\"user\":{\"followers_count\":1398,\"friends_count\":497,\"id_str\":\"745142263\",\"lang\":\"es\",\"screen_name\":\"Monleon_P\",\"statuses_count\":31538}}\n",
      "{\"_id\":\"1116665238542344192\",\"created_at\":1555068714,\"lang\":\"es\",\"retweeted_status\":{\"_id\":\"1116460668469829632\",\"user\":{\"followers_count\":28030,\"friends_count\":1028,\"id_str\":\"219363505\",\"lang\":\"es\",\"screen_name\":\"Absolutexe\",\"statuses_count\":271532}},\"text\":\"RT @Absolutexe: Lo más parecido a trabajar que han hecho en su vida cualquiera de estos. https://t.co/yyANtpeVgJ\",\"user\":{\"followers_count\":1552,\"friends_count\":489,\"id_str\":\"371760303\",\"lang\":\"es\",\"screen_name\":\"aivarabogado\",\"statuses_count\":20326}}\n",
      "{\"_id\":\"1116665395400912896\",\"created_at\":1555068751,\"lang\":\"es\",\"retweeted_status\":{\"_id\":\"1116664784009744385\",\"user\":{\"followers_count\":3448,\"friends_count\":1302,\"id_str\":\"259409783\",\"lang\":\"es\",\"screen_name\":\"LaRiojaPP\",\"statuses_count\":27738}},\"text\":\"RT @LaRiojaPP: 📹 @cucagamarra:  Convocamos a una mayoría de españoles a una firme y solvente propuesta de cambio, de modernización, de refo…\",\"user\":{\"followers_count\":2752,\"friends_count\":985,\"id_str\":\"130876768\",\"lang\":\"es\",\"screen_name\":\"pplogrono\",\"statuses_count\":34558}}\n",
      "{\"_id\":\"1116665993294688256\",\"created_at\":1555068894,\"lang\":\"es\",\"retweeted_status\":{\"_id\":\"1116472788439699456\",\"user\":{\"followers_count\":1129,\"friends_count\":1255,\"id_str\":\"1103431379910578178\",\"lang\":\"es\",\"screen_name\":\"Jmalasangre1\",\"statuses_count\":2319}},\"text\":\"RT @Jmalasangre1: del becario de tirar piedras al coche\\n16- la Policia pide al Joven de Vox propietario del coche que acuda a comisario a d…\",\"user\":{\"followers_count\":2439,\"friends_count\":2907,\"id_str\":\"982893085570076672\",\"lang\":\"es\",\"screen_name\":\"contrete\",\"statuses_count\":90044}}\n",
      "{\"_id\":\"1116666251764469762\",\"created_at\":1555068955,\"lang\":\"es\",\"retweeted_status\":{\"_id\":\"1116066929045901312\",\"user\":{\"followers_count\":400,\"friends_count\":299,\"id_str\":\"162065807\",\"lang\":\"es\",\"screen_name\":\"Guille_Corbalan\",\"statuses_count\":26213}},\"text\":\"RT @Guille_Corbalan: Y esto amigos es el claro ejemplo de que la clase está por encima de la raza, la identidad sexual y el género 😉 https:…\",\"user\":{\"followers_count\":302,\"friends_count\":118,\"id_str\":\"180049720\",\"lang\":\"es\",\"screen_name\":\"JuananAlMa\",\"statuses_count\":44108}}\n",
      "{\"_id\":\"1116666614567583744\",\"created_at\":1555069042,\"lang\":\"es\",\"retweeted_status\":{\"_id\":\"1116662428815720449\",\"user\":{\"followers_count\":3966,\"friends_count\":631,\"id_str\":\"378703097\",\"lang\":\"es\",\"screen_name\":\"zaragozapsoe\",\"statuses_count\":9722}},\"text\":\"RT @zaragozapsoe: 🌹 #HazQuePase lxs socialistas salimos a la calle para explicar nuestro proyecto en el barrio de Las Fuentes con @SSumelzo…\",\"user\":{\"followers_count\":0,\"friends_count\":6,\"id_str\":\"1115673644900814848\",\"lang\":\"es\",\"screen_name\":\"Ahoravasylocas7\",\"statuses_count\":1}}\n",
      "{\"_id\":\"1116666648424005633\",\"created_at\":1555069050,\"lang\":\"es\",\"retweeted_status\":{\"_id\":\"1116452356445614090\",\"user\":{\"followers_count\":1120244,\"friends_count\":729,\"id_str\":\"17191272\",\"lang\":\"es\",\"screen_name\":\"eljueves\",\"statuses_count\":64856}},\"text\":\"RT @eljueves: LLEGA VOX. SE OS ACABA EL CHOLLO, OBRERETES CARADURAS QUE EXIGÍS UNA PAGUITA SOLO POR HABEROS ESLOMADO 40 AÑOS TRABAJANDO htt…\",\"user\":{\"followers_count\":8,\"friends_count\":69,\"id_str\":\"3035636399\",\"lang\":\"es\",\"screen_name\":\"Xyrinx4\",\"statuses_count\":17}}\n",
      "{\"_id\":\"1116666660306530305\",\"created_at\":1555069053,\"lang\":\"es\",\"retweeted_status\":{\"_id\":\"1116642113519804416\",\"user\":{\"followers_count\":39745,\"friends_count\":1243,\"id_str\":\"4119160593\",\"lang\":\"es\",\"screen_name\":\"Julio_Rodr_\",\"statuses_count\":3101}},\"text\":\"RT @Julio_Rodr_: Estoy convencido de que la garantía para que no vuelvan a llenar del hedor de las cloacas de nuestra democracia es votar a…\",\"user\":{\"followers_count\":5404,\"friends_count\":5574,\"id_str\":\"525818419\",\"lang\":\"es\",\"screen_name\":\"ISMVALSyR\",\"statuses_count\":365013}}\n",
      "{\"_id\":\"1116666774366371841\",\"created_at\":1555069080,\"lang\":\"es\",\"text\":\"@1951195r @pablocasado_ Lo tengo muy clarito! 💙💙💙💙\",\"user\":{\"followers_count\":361,\"friends_count\":321,\"id_str\":\"579102920\",\"lang\":\"es\",\"screen_name\":\"mpmoragon\",\"statuses_count\":52012}}\n",
      "{\"_id\":\"1116667021683568640\",\"created_at\":1555069139,\"lang\":\"es\",\"retweeted_status\":{\"_id\":\"1116370073118216194\",\"user\":{\"followers_count\":70794,\"friends_count\":629,\"id_str\":\"303168830\",\"lang\":\"es\",\"screen_name\":\"cayetanaAT\",\"statuses_count\":7951}},\"text\":\"RT @cayetanaAT: “Hemos entrado. ¿Y saben por qué? Porque no les tenemos ningún miedo. Ni a ustedes ni a nadie. S’ha acabat.” \\n\\nClaro y exac…\",\"user\":{\"followers_count\":222,\"friends_count\":221,\"id_str\":\"1006221807899303942\",\"lang\":\"en\",\"screen_name\":\"brh01gr1\",\"statuses_count\":11537}}\n",
      "{\"_id\":\"1116669066813616130\",\"created_at\":1555069626,\"lang\":\"es\",\"retweeted_status\":{\"_id\":\"1116439627563438080\",\"user\":{\"followers_count\":1861,\"friends_count\":4491,\"id_str\":\"3530463196\",\"lang\":\"es\",\"screen_name\":\"Alleriene\",\"statuses_count\":10136}},\"text\":\"RT @Alleriene: Esta noche #LaHistoriaLaEscribesTú. No la van a escribir los tertulianos, ni los banqueros, ni los dueños de los medios de c…\",\"user\":{\"followers_count\":1045,\"friends_count\":1171,\"id_str\":\"2375735826\",\"lang\":\"es\",\"screen_name\":\"nomadayo\",\"statuses_count\":100253}}\n",
      "{\"_id\":\"1116669202021191681\",\"created_at\":1555069659,\"lang\":\"es\",\"retweeted_status\":{\"_id\":\"1116626814724534276\",\"user\":{\"followers_count\":225207,\"friends_count\":998,\"id_str\":\"2201623465\",\"lang\":\"es\",\"screen_name\":\"vox_es\",\"statuses_count\":35333}},\"text\":\"RT @vox_es: 📣 @ivanedlm \\\"No moleste Cuatro\\\".\\n\\nEl 28 de abril tu voto a VOX será el mayor zasca a los medios progres 😂 https://t.co/fN7HOeYd…\",\"user\":{\"followers_count\":2501,\"friends_count\":1916,\"id_str\":\"143398923\",\"lang\":\"es\",\"screen_name\":\"martipeke\",\"statuses_count\":52642}}\n",
      "{\"_id\":\"1116669518569512962\",\"created_at\":1555069734,\"lang\":\"es\",\"place\":{\"bounding_box\":{\"coordinates\":[[[-0.432545,39.278381],[-0.432545,39.566588],[-0.272513,39.566588],[-0.272513,39.278381]]],\"type\":\"Polygon\"},\"country_code\":\"ES\",\"name\":\"Valencia\",\"place_type\":\"city\"},\"text\":\"#valorseguro pablocasadoblanco #españa🇪🇸 en Valencia https://t.co/otRjg3Bjpc\",\"user\":{\"followers_count\":76,\"friends_count\":764,\"id_str\":\"2427818307\",\"lang\":\"es\",\"screen_name\":\"falleretajunio\",\"statuses_count\":2006}}\n",
      "{\"_id\":\"1116670177746333696\",\"created_at\":1555069891,\"lang\":\"es\",\"retweeted_status\":{\"_id\":\"1116656510229151744\",\"user\":{\"followers_count\":211,\"friends_count\":56,\"id_str\":\"795246907908124673\",\"lang\":\"es\",\"screen_name\":\"samba31416\",\"statuses_count\":32533}},\"text\":\"RT @samba31416: @CsLaRioja @Albert_Rivera @jusapol 💚💙🇪🇸 \\n#EquiparacionYa 🔨 \\n#ProhibidoRendirse 💪🏻 \\n#ILPJusapol ⚖️ \\n@jucilnacional \\n@JupolNa…\",\"user\":{\"followers_count\":187,\"friends_count\":201,\"id_str\":\"1065191208740360192\",\"lang\":\"es\",\"screen_name\":\"malljos\",\"statuses_count\":5423}}\n",
      "{\"_id\":\"1116670350794817536\",\"created_at\":1555069933,\"lang\":\"es\",\"retweeted_status\":{\"_id\":\"1116437178274471936\",\"user\":{\"followers_count\":146750,\"friends_count\":9996,\"id_str\":\"169843986\",\"lang\":\"es\",\"screen_name\":\"zoidoJI\",\"statuses_count\":18643}},\"text\":\"RT @zoidoJI: El #28A nos jugamos mucho porque necesitamos un Gobierno que defienda a España, devuelva el sentido común y garantice el creci…\",\"user\":{\"followers_count\":26,\"friends_count\":41,\"id_str\":\"1105504456928567296\",\"lang\":\"en\",\"screen_name\":\"Francis84981590\",\"statuses_count\":3351}}\n",
      "{\"_id\":\"1116671588840165378\",\"created_at\":1555070228,\"lang\":\"es\",\"retweeted_status\":{\"_id\":\"1115981594718765057\",\"user\":{\"followers_count\":4637,\"friends_count\":3013,\"id_str\":\"248763460\",\"lang\":\"eu\",\"screen_name\":\"inigoaduriz\",\"statuses_count\":12808}},\"text\":\"RT @inigoaduriz: Esto se está convirtiendo en tendencia: Casado anuncia algo polémico, ante la sorpresa los periodistas contactamos con su…\",\"user\":{\"followers_count\":708,\"friends_count\":1270,\"id_str\":\"265595429\",\"lang\":\"en\",\"screen_name\":\"JeM_4\",\"statuses_count\":34905}}\n",
      "{\"_id\":\"1116671759435149313\",\"created_at\":1555070268,\"lang\":\"es\",\"retweeted_status\":{\"_id\":\"1116532345908137984\",\"user\":{\"followers_count\":290069,\"friends_count\":752,\"id_str\":\"62694426\",\"lang\":\"es\",\"screen_name\":\"MeDicenWally\",\"statuses_count\":24127}},\"text\":\"RT @MeDicenWally: 6. Cuéntanos más del último acuerdo con la Fiscalía entre los señores John Rafael Garzón y Julián Alberto Gutierrez. ¿Llo…\",\"user\":{\"followers_count\":129,\"friends_count\":763,\"id_str\":\"178318563\",\"lang\":\"es\",\"screen_name\":\"JULIANSIMS2\",\"statuses_count\":11274}}\n",
      "{\"_id\":\"1116671794977607681\",\"created_at\":1555070277,\"lang\":\"es\",\"text\":\"@PSOE Esa es buena, el PSOE preocupado por las pensiones de los demás, de verdad q no os cansais de intentarlo, si… https://t.co/Qt1OgQNw4w\",\"user\":{\"followers_count\":654,\"friends_count\":1591,\"id_str\":\"1081113139972882433\",\"lang\":\"es\",\"screen_name\":\"Antonio99675246\",\"statuses_count\":5179}}\n",
      "{\"_id\":\"1116671988712517632\",\"created_at\":1555070323,\"lang\":\"es\",\"retweeted_status\":{\"_id\":\"1116670241600409600\",\"user\":{\"followers_count\":268,\"friends_count\":500,\"id_str\":\"911335884108201984\",\"lang\":\"es\",\"screen_name\":\"FranciscoOtxoa\",\"statuses_count\":12610}},\"text\":\"RT @FranciscoOtxoa: @Antonio1ES @ivanedlm @vox_es La imagen es total y muy significativa del talante, que tienen los dirigentes de Vox.\\nLos…\",\"user\":{\"followers_count\":4580,\"friends_count\":5038,\"id_str\":\"619236230\",\"lang\":\"es\",\"screen_name\":\"Antonio1ES\",\"statuses_count\":75244}}\n",
      "{\"_id\":\"1116672252559405056\",\"created_at\":1555070386,\"lang\":\"es\",\"retweeted_status\":{\"_id\":\"1116639044564410368\",\"user\":{\"followers_count\":92600,\"friends_count\":710,\"id_str\":\"43877830\",\"lang\":\"es\",\"screen_name\":\"jonathanmartinz\",\"statuses_count\":54132}},\"text\":\"RT @jonathanmartinz: 2014: hay que tumbar el régimen del 78 y la monarquía.\\n2016: hay que echar al PP.\\n2019: ojalá no gobierne Vox.\",\"user\":{\"followers_count\":192,\"friends_count\":239,\"id_str\":\"3890113229\",\"lang\":\"ca\",\"screen_name\":\"QuimMila\",\"statuses_count\":13650}}\n",
      "{\"_id\":\"1116672362701840385\",\"created_at\":1555070412,\"lang\":\"es\",\"retweeted_status\":{\"_id\":\"1116451433874894850\",\"user\":{\"followers_count\":2758,\"friends_count\":377,\"id_str\":\"936205789819219968\",\"lang\":\"es\",\"screen_name\":\"jusapolcadiz\",\"statuses_count\":17207}},\"text\":\"RT @jusapolcadiz: Hoy de nuevo @jusapolcadiz ha estado en Arcos de la Frontera, recordándole al Ministro del Interior que no vamos a parar…\",\"user\":{\"followers_count\":2091,\"friends_count\":2050,\"id_str\":\"3246796373\",\"lang\":\"es\",\"screen_name\":\"vazquez_cla\",\"statuses_count\":80971}}\n",
      "{\"_id\":\"1116672657120997377\",\"created_at\":1555070482,\"lang\":\"es\",\"text\":\"Los machorros como yo y Santi Abascal pasamos de eso, los coñod tienen que oler a coño y te los comes todos los días del mes!!!\",\"user\":{\"followers_count\":612,\"friends_count\":442,\"id_str\":\"3340594743\",\"lang\":\"es\",\"screen_name\":\"perreteOvni\",\"statuses_count\":64006}}\n",
      "{\"_id\":\"1116673163516100608\",\"created_at\":1555070603,\"lang\":\"ca\",\"retweeted_status\":{\"_id\":\"1116613328279707649\",\"user\":{\"followers_count\":237590,\"friends_count\":4092,\"id_str\":\"91560739\",\"lang\":\"es\",\"screen_name\":\"AlbanoDante76\",\"statuses_count\":64107}},\"text\":\"RT @AlbanoDante76: Ostres pavo! Que vas destituir tota una direcció de Podem Catalunya per dir que calia \\\"seure amb els independentistes\\\"!!…\",\"user\":{\"followers_count\":59,\"friends_count\":265,\"id_str\":\"772309536\",\"lang\":\"ca\",\"screen_name\":\"alexmontala79\",\"statuses_count\":2417}}\n",
      "{\"_id\":\"1116673260052254720\",\"created_at\":1555070626,\"lang\":\"es\",\"retweeted_status\":{\"_id\":\"1116364737078542336\",\"user\":{\"followers_count\":6571,\"friends_count\":6446,\"id_str\":\"826854837304360960\",\"lang\":\"es\",\"screen_name\":\"Ricardo13625223\",\"statuses_count\":21652}},\"text\":\"RT @Ricardo13625223: El milagro de los panes y los peces de Vox: pasar de 47.000 votos a 3,2 millones. Apostamos que sacamos más de 5.000.0…\",\"user\":{\"followers_count\":1827,\"friends_count\":1828,\"id_str\":\"102630548\",\"lang\":\"es\",\"screen_name\":\"josezpt\",\"statuses_count\":88693}}\n",
      "{\"_id\":\"1116673652093796352\",\"created_at\":1555070720,\"lang\":\"es\",\"retweeted_status\":{\"_id\":\"1116632032388374536\",\"user\":{\"followers_count\":16960,\"friends_count\":759,\"id_str\":\"20690104\",\"lang\":\"es\",\"screen_name\":\"gpssenado\",\"statuses_count\":28380}},\"text\":\"RT @gpssenado: 🎙@Ander_Gil arranca la #CampañaElectoral en la radio en #Burgos con una entrevista junto a @estherpcamarero\\n\\n👉🏻El crecimient…\",\"user\":{\"followers_count\":1502,\"friends_count\":1474,\"id_str\":\"1723241016\",\"lang\":\"es\",\"screen_name\":\"meme_montero\",\"statuses_count\":172917}}\n",
      "{\"_id\":\"1116674338516807680\",\"created_at\":1555070883,\"lang\":\"es\",\"retweeted_status\":{\"_id\":\"1116624440031203328\",\"user\":{\"followers_count\":311,\"friends_count\":310,\"id_str\":\"1066049668914782208\",\"lang\":\"es\",\"screen_name\":\"Sandra23955356\",\"statuses_count\":7975}},\"text\":\"RT @Sandra23955356: Foto recordatorio para @GallizoMercedes . Ya sabíamos de que lado estaba;. @PSOE #TuAbandonoMePuedeMatar #PsoeDejaMorir…\",\"user\":{\"followers_count\":753,\"friends_count\":799,\"id_str\":\"734519526\",\"lang\":\"es\",\"screen_name\":\"dbt0170\",\"statuses_count\":76421}}\n",
      "{\"_id\":\"1116674954349748224\",\"created_at\":1555071030,\"lang\":\"ca\",\"retweeted_status\":{\"_id\":\"1116643502715297792\",\"user\":{\"followers_count\":19247,\"friends_count\":1044,\"id_str\":\"2299875572\",\"lang\":\"es\",\"screen_name\":\"podem_cat\",\"statuses_count\":32817}},\"text\":\"RT @podem_cat: 🎥”Hi ha dues opcions, no ens enganyem. O un govern de progrés, de canvi, feminista, amb nosaltres, o un govern de dretes. Un…\",\"user\":{\"followers_count\":147,\"friends_count\":330,\"id_str\":\"966284989334736896\",\"lang\":\"es\",\"screen_name\":\"CARMENCORDN4\",\"statuses_count\":9593}}\n",
      "{\"_id\":\"1116674998750597120\",\"created_at\":1555071041,\"lang\":\"es\",\"retweeted_status\":{\"_id\":\"1116036272353697793\",\"user\":{\"followers_count\":687,\"friends_count\":223,\"id_str\":\"1049675358218391552\",\"lang\":\"en\",\"screen_name\":\"ansxni\",\"statuses_count\":6109}},\"text\":\"RT @ansxni: es alucinante como un olor puede recordarte a alguien por ejemplo cuando paso al lado de una basura pienso en vox\",\"user\":{\"followers_count\":610,\"friends_count\":621,\"id_str\":\"999444973\",\"lang\":\"es\",\"screen_name\":\"mikeeatsmypizza\",\"statuses_count\":38200}}\n",
      "{\"_id\":\"1116675323154845696\",\"created_at\":1555071118,\"lang\":\"es\",\"retweeted_status\":{\"_id\":\"1116666394144382976\",\"user\":{\"followers_count\":1735,\"friends_count\":629,\"id_str\":\"606762813\",\"lang\":\"es\",\"screen_name\":\"pushischorradas\",\"statuses_count\":85218}},\"text\":\"RT @pushischorradas: Viendo todos los carteles que han pegado de Vox por estos pueblos y la de gente dispuesta a apoyarlos https://t.co/AyW…\",\"user\":{\"followers_count\":369,\"friends_count\":139,\"id_str\":\"941701896\",\"lang\":\"es\",\"screen_name\":\"MoraPalomita\",\"statuses_count\":3354}}\n",
      "{\"_id\":\"1116675537039253505\",\"created_at\":1555071169,\"lang\":\"es\",\"retweeted_status\":{\"_id\":\"1116626821481582594\",\"user\":{\"followers_count\":1495,\"friends_count\":862,\"id_str\":\"1069301654036594689\",\"lang\":\"es\",\"screen_name\":\"MireyaVOX\",\"statuses_count\":1586}},\"text\":\"RT @MireyaVOX: Anoche en Barcelona, contamos con la presencia de nuestro candidato al Congreso por Barcelona @Igarrigavaz \\nEstuvo inmenso!…\",\"user\":{\"followers_count\":3117,\"friends_count\":4992,\"id_str\":\"867029317\",\"lang\":\"es\",\"screen_name\":\"adelantevox28A\",\"statuses_count\":31551}}\n",
      "{\"_id\":\"1116675676801839104\",\"created_at\":1555071202,\"lang\":\"es\",\"retweeted_status\":{\"_id\":\"1116434016385863684\",\"user\":{\"followers_count\":7709,\"friends_count\":1710,\"id_str\":\"28936990\",\"lang\":\"es\",\"screen_name\":\"_charlycardozo\",\"statuses_count\":24373}},\"text\":\"RT @_charlycardozo: A pedido de los productores de espectáculos de la ciudad, junto a toda la oposición, aprobamos en el Concejo un pedido…\",\"user\":{\"followers_count\":94,\"friends_count\":139,\"id_str\":\"1015789075717029888\",\"lang\":\"es\",\"screen_name\":\"canayarosario_\",\"statuses_count\":5282}}\n",
      "{\"_id\":\"1116676445647134726\",\"created_at\":1555071386,\"lang\":\"es\",\"retweeted_status\":{\"_id\":\"1116675677707743232\",\"user\":{\"followers_count\":6408,\"friends_count\":944,\"id_str\":\"252545818\",\"lang\":\"es\",\"screen_name\":\"Fginer\",\"statuses_count\":7971}},\"text\":\"RT @Fginer: 📽️ El #28Abril tenemos la oportunidad histórica de votar por el cambio, por el futuro y por España 🇪🇸 ¡Vota a @Albert_Rivera! #…\",\"user\":{\"followers_count\":1650,\"friends_count\":969,\"id_str\":\"3152875756\",\"lang\":\"es\",\"screen_name\":\"Javi_Aceituno\",\"statuses_count\":168613}}\n",
      "{\"_id\":\"1116676604166643712\",\"created_at\":1555071423,\"lang\":\"es\",\"retweeted_status\":{\"_id\":\"1116491707711987715\",\"user\":{\"followers_count\":2117,\"friends_count\":2346,\"id_str\":\"978009152848105477\",\"lang\":\"es\",\"screen_name\":\"TConbata\",\"statuses_count\":24169}},\"text\":\"RT @TConbata: Indignante,los políticos forrándose y se suben el sueldo,la Bego gasta 500.000€ en reformar la Moncloa,Sánchez Falcón para ir…\",\"user\":{\"followers_count\":276,\"friends_count\":16,\"id_str\":\"931937921015468032\",\"lang\":\"es\",\"screen_name\":\"JgrLegal\",\"statuses_count\":46282}}\n",
      "{\"_id\":\"1116677245161148416\",\"created_at\":1555071576,\"lang\":\"es\",\"retweeted_status\":{\"_id\":\"1116646851284033538\",\"user\":{\"followers_count\":244,\"friends_count\":479,\"id_str\":\"245131984\",\"lang\":\"es\",\"screen_name\":\"Gran_Mongolov\",\"statuses_count\":12713}},\"text\":\"RT @Gran_Mongolov: El programa económico de Vox: limitar el derecho a huelga, pensiones semiprivadas y el desguace del sistema fiscal   htt…\",\"user\":{\"followers_count\":24,\"friends_count\":64,\"id_str\":\"1075472495958994944\",\"lang\":\"ca\",\"screen_name\":\"SantRarimi\",\"statuses_count\":402}}\n",
      "{\"_id\":\"1116677265767718912\",\"created_at\":1555071581,\"lang\":\"es\",\"retweeted_status\":{\"_id\":\"1116599502503153664\",\"user\":{\"followers_count\":156982,\"friends_count\":568,\"id_str\":\"225887277\",\"lang\":\"es\",\"screen_name\":\"HoyPorHoy\",\"statuses_count\":73380}},\"text\":\"RT @HoyPorHoy: @carmencalvo_ @PSOE DIRECTO | @carmencalvo_ (@PSOE): \\\"La ultraderecha ha venido a cuestionar esto, a negarlo. Diluir el conc…\",\"user\":{\"followers_count\":238,\"friends_count\":307,\"id_str\":\"940097900\",\"lang\":\"es\",\"screen_name\":\"MJesusdelaBella\",\"statuses_count\":11277}}\n",
      "{\"_id\":\"1116677306200854528\",\"created_at\":1555071591,\"lang\":\"und\",\"text\":\"#VotaPSOE 👉 https://t.co/5prbzz1ETB https://t.co/hb9S1d4Hmp\",\"user\":{\"followers_count\":1148,\"friends_count\":382,\"id_str\":\"62247070\",\"lang\":\"es\",\"screen_name\":\"ValbuenaAlonso\",\"statuses_count\":3332}}\n"
     ]
    }
   ],
   "source": [
    "# Mostramos el fichero n\n",
    "!hdfs dfs -cat /neoland/labs/tweets28a_sample.json/part-00000-198f4203-4df1-40e4-9597-46f0b09fe8a5-c000.json"
   ]
  },
  {
   "cell_type": "code",
   "execution_count": 4,
   "metadata": {},
   "outputs": [
    {
     "name": "stdout",
     "output_type": "stream",
     "text": [
      "Loaded dataset contains 27268 tweets\n"
     ]
    }
   ],
   "source": [
    "sqlContext = SQLContext(sc)\n",
    "tweets_sample = sqlContext.read.json(\"/neoland/labs/tweets28a_sample.json\")\n",
    "\n",
    "print(\"Loaded dataset contains %d tweets\" % tweets_sample.count())"
   ]
  },
  {
   "cell_type": "code",
   "execution_count": 8,
   "metadata": {},
   "outputs": [
    {
     "data": {
      "text/plain": [
       "pyspark.sql.dataframe.DataFrame"
      ]
     },
     "execution_count": 8,
     "metadata": {},
     "output_type": "execute_result"
    }
   ],
   "source": [
    "# Verificamos el tipo:\n",
    "type(tweets_sample)"
   ]
  },
  {
   "cell_type": "markdown",
   "metadata": {},
   "source": [
    "El siguiente paso es mostrar la estructura del dataset que acabamos de cargar. Recordad que podéis obtener la información acerca de cómo está estructurado el DataTable utilizando el método ```printSchema()```."
   ]
  },
  {
   "cell_type": "code",
   "execution_count": 7,
   "metadata": {},
   "outputs": [
    {
     "name": "stdout",
     "output_type": "stream",
     "text": [
      "root\n",
      " |-- _id: string (nullable = true)\n",
      " |-- created_at: long (nullable = true)\n",
      " |-- lang: string (nullable = true)\n",
      " |-- place: struct (nullable = true)\n",
      " |    |-- bounding_box: struct (nullable = true)\n",
      " |    |    |-- coordinates: array (nullable = true)\n",
      " |    |    |    |-- element: array (containsNull = true)\n",
      " |    |    |    |    |-- element: array (containsNull = true)\n",
      " |    |    |    |    |    |-- element: double (containsNull = true)\n",
      " |    |    |-- type: string (nullable = true)\n",
      " |    |-- country_code: string (nullable = true)\n",
      " |    |-- id: string (nullable = true)\n",
      " |    |-- name: string (nullable = true)\n",
      " |    |-- place_type: string (nullable = true)\n",
      " |-- retweeted_status: struct (nullable = true)\n",
      " |    |-- _id: string (nullable = true)\n",
      " |    |-- user: struct (nullable = true)\n",
      " |    |    |-- followers_count: long (nullable = true)\n",
      " |    |    |-- friends_count: long (nullable = true)\n",
      " |    |    |-- id_str: string (nullable = true)\n",
      " |    |    |-- lang: string (nullable = true)\n",
      " |    |    |-- screen_name: string (nullable = true)\n",
      " |    |    |-- statuses_count: long (nullable = true)\n",
      " |-- text: string (nullable = true)\n",
      " |-- user: struct (nullable = true)\n",
      " |    |-- followers_count: long (nullable = true)\n",
      " |    |-- friends_count: long (nullable = true)\n",
      " |    |-- id_str: string (nullable = true)\n",
      " |    |-- lang: string (nullable = true)\n",
      " |    |-- screen_name: string (nullable = true)\n",
      " |    |-- statuses_count: long (nullable = true)\n",
      "\n"
     ]
    }
   ],
   "source": [
    "tweets_sample.printSchema()"
   ]
  },
  {
   "cell_type": "markdown",
   "metadata": {},
   "source": [
    "Podéis observar que la estructura del tweet contiene múltiples campos anidados. Teneis que familiarizaros con esta estructura ya que será la que utilizaremos durante toda la práctica. Recordad también que no todos los tweets tienen todos los campos, como por ejemplo la ubicación (campo ```place```). Cuando esto pasa el campo pasa a ser ```NULL```. Podéis ver mas información sobre este tipo de datos en [este enlace](https://developer.twitter.com/en/docs/tweets/data-dictionary/overview/tweet-object)."
   ]
  },
  {
   "cell_type": "markdown",
   "metadata": {
    "toc-hr-collapsed": false
   },
   "source": [
    "### **Parte 1.2:** *Queries* sobre sobre data frames complejos\n",
    "\n",
    "En la anterior práctica hemos visto cómo hacer consultas sobre un dataset muy simple utilizando sentencias *SQL*. En esta parte vamos a refrescar los conceptos utilizados en la práctica anterior introduciendo algunos conceptos más avanzados y una nueva manera de trabajar sobre data tables."
   ]
  },
  {
   "cell_type": "markdown",
   "metadata": {},
   "source": [
    "#### **Parte 1.2.1:** Queries SQL\n",
    "\n",
    "Como recordaréis de la parte 2 de la PEC2, el primer paso consiste en registrar la tabla en el contexto SQL comprobando primero si existe y borrándola en el caso que sea así. En este apartado se os pide que registréis la tabla ```tweets_sample``` que acabamos de cargar en el contexto sql bajo el mismo nombre ```tweets_sample```."
   ]
  },
  {
   "cell_type": "code",
   "execution_count": 9,
   "metadata": {},
   "outputs": [],
   "source": [
    "sqlContext.sql(\"DROP TABLE IF EXISTS tweets_sample\")\n",
    "sqlContext.registerDataFrameAsTable(tweets_sample, \"tweets_sample\")"
   ]
  },
  {
   "cell_type": "markdown",
   "metadata": {},
   "source": [
    "Ahora se os pide que creeis una tabla ```users_agg``` con [la información agregada](https://www.w3schools.com/sql/sql_groupby.asp) de los usuarios que tengan definido su idioma (```user.lang```) como español (```es```). En concreto se os pide que la tabla contenga las siguientes columnas:\n",
    "- **screen_name:** nombre del usuario\n",
    "- **friends_count:** número máximo (ver nota) de personas a las que sigue\n",
    "- **tweets:** número de tweets realizados\n",
    "- **followers_count:** número máximo (ver nota) personas que siguen al usuario.\n",
    "\n",
    "El orden en el cual se deben mostrar los registros es orden descendente acorde al número de tweets.\n",
    "\n",
    "***Nota:*** es importante que os fijéis que el nombre de *friends* i *followers* puede diferir a lo largo de la adquisición de datos. En este caso vamos ha utilizar la función de agregación ```MAX``` sobre cada uno de estos campos para evitar segmentar el usuario en diversas instancias."
   ]
  },
  {
   "cell_type": "code",
   "execution_count": 13,
   "metadata": {},
   "outputs": [
    {
     "name": "stdout",
     "output_type": "stream",
     "text": [
      "+---------------+-------------+------+---------------+\n",
      "|    screen_name|friends_count|tweets|followers_count|\n",
      "+---------------+-------------+------+---------------+\n",
      "|       anaoromi|         6258|    16|           6774|\n",
      "|    RosaMar6254|         6208|    14|           6245|\n",
      "|        lyuva26|         3088|    13|           3732|\n",
      "|PisandoFuerte10|         2795|    12|           1752|\n",
      "|     carrasquem|          147|    12|            215|\n",
      "|       jasalo54|         1889|    11|            689|\n",
      "|  PabloChabolas|         4925|     9|           4042|\n",
      "|      lolalailo|         4922|     9|           3738|\n",
      "|     Lordcrow11|         5002|     9|           3069|\n",
      "|    DuroBelinda|         5242|     9|           5778|\n",
      "+---------------+-------------+------+---------------+\n",
      "\n"
     ]
    }
   ],
   "source": [
    "users_agg = sqlContext.sql(\"\"\"  SELECT \n",
    "                                user.screen_name as screen_name,\n",
    "                                MAX(user.friends_count) AS friends_count,\n",
    "                                count(*) as tweets,\n",
    "                                MAX(user.followers_count) AS followers_count\n",
    "                                FROM tweets_sample\n",
    "                                WHERE user.lang == 'es'\n",
    "                                GROUP BY screen_name\n",
    "                                ORDER BY tweets DESC\"\"\")\n",
    "users_agg.limit(10).show()"
   ]
  },
  {
   "cell_type": "code",
   "execution_count": null,
   "metadata": {},
   "outputs": [],
   "source": [
    "users_agg = sqlContext.sql(\"\"\"  SELECT <FILL_IN>, MAX(user.friends_count) AS friends_count, <FILL_IN>, MAX(user.followers_count) AS followers_count\n",
    "                                FROM tweets_sample\n",
    "                                WHERE user.lang == 'es'\n",
    "                                GROUP BY <FILL_IN>\n",
    "                                ORDER BY <FILL_IN>\"\"\")\n",
    "users_agg.limit(10).show()"
   ]
  },
  {
   "cell_type": "code",
   "execution_count": 14,
   "metadata": {},
   "outputs": [],
   "source": [
    "output = users_agg.first()\n",
    "assert output.screen_name == 'anaoromi' and output.friends_count == 6258 and output.tweets == 16 and output.followers_count == 6774, \"Incorrect output\""
   ]
  },
  {
   "cell_type": "markdown",
   "metadata": {},
   "source": [
    "Imaginad ahora que queremos combinar la información que acabamos de generar con información acerca del número de veces que un usuario ha sido retuiteado. Para hacer este tipo de combinaciones necesitamos recurrir al [```JOIN``` de tablas](https://www.w3schools.com/sql/sql_join.asp). Primero debemos registrar la tabla que acabamos de generar en el contexto SQL. Recordad que primero debéis comprobar si la tabla existe y en caso afirmativo eliminarla ('drop table if exists <tabla>'). La tabla tenéis que registrarla bajo el nombre de ```user_agg```."
   ]
  },
  {
   "cell_type": "code",
   "execution_count": 15,
   "metadata": {},
   "outputs": [],
   "source": [
    "sqlContext.sql(\"DROP TABLE IF EXISTS user_agg\")\n",
    "sqlContext.registerDataFrameAsTable(users_agg, \"user_agg\")"
   ]
  },
  {
   "cell_type": "markdown",
   "metadata": {},
   "source": [
    "Una vez registrada se pide que combinéis esta tabla y la tabla ```tweets_sample``` utilizando un ```INNER JOIN``` para obtener una nueva tabla con la siguiente información:\n",
    "- ***screen_name:*** nombre de usuario\n",
    "- ***friends_count:*** número máximo de personas a las que sigue\n",
    "- ***followers_count:*** número máximo de personas que siguen al usuario.\n",
    "- ***tweets:*** número de tweets realizados por el usuario.\n",
    "- ***retweeted:*** número de retweets obtenidos por el usuario.\n",
    "- ***ratio_tweet_retweeted:*** ratio de retweets por número de tweets publicados $\\frac{retweets}{tweets}$"
   ]
  },
  {
   "cell_type": "code",
   "execution_count": 16,
   "metadata": {},
   "outputs": [
    {
     "name": "stdout",
     "output_type": "stream",
     "text": [
      "+-------------------+----------+----+-----+--------------------+--------------------+--------------------+\n",
      "|                _id|created_at|lang|place|    retweeted_status|                text|                user|\n",
      "+-------------------+----------+----+-----+--------------------+--------------------+--------------------+\n",
      "|1122569971345833984|1556476512| und| null|[1122566927866634...|RT @Ibero_DMJ: 😂...|[2511, 4383, 1069...|\n",
      "|1122570131736006656|1556476550|  pt| null|                null|@CervantesFAQs @C...|[33, 119, 1030176...|\n",
      "+-------------------+----------+----+-----+--------------------+--------------------+--------------------+\n",
      "only showing top 2 rows\n",
      "\n"
     ]
    }
   ],
   "source": [
    "sqlContext.sql(\"\"\"\n",
    "                SELECT * FROM tweets_sample\n",
    "                \"\"\"\n",
    "              ).show(2)"
   ]
  },
  {
   "cell_type": "code",
   "execution_count": 18,
   "metadata": {},
   "outputs": [
    {
     "name": "stdout",
     "output_type": "stream",
     "text": [
      "+--------------+-------------+---------------+------+---------+---------------------+\n",
      "|   screen_name|friends_count|followers_count|tweets|retweeted|ratio_tweet_retweeted|\n",
      "+--------------+-------------+---------------+------+---------+---------------------+\n",
      "|          PSOE|        13635|         671073|     1|      155|                155.0|\n",
      "|  CiudadanosCs|        92910|         511896|     1|      117|                117.0|\n",
      "|     JuntsXCat|          202|          88515|     1|       73|                 73.0|\n",
      "|  PartidoPACMA|         1498|         232932|     1|       63|                 63.0|\n",
      "|  pablocasado_|         4567|         238926|     1|       50|                 50.0|\n",
      "|voxnoticias_es|         2146|          29582|     1|       44|                 44.0|\n",
      "|RaiLopezCalvet|         7579|          13574|     1|       43|                 43.0|\n",
      "|        iunida|        10225|         558318|     1|       39|                 39.0|\n",
      "|        Xuxipc|          311|         184967|     1|       37|                 37.0|\n",
      "|       Panik81|         1587|          15374|     1|       29|                 29.0|\n",
      "+--------------+-------------+---------------+------+---------+---------------------+\n",
      "\n"
     ]
    }
   ],
   "source": [
    "retweeted = sqlContext.sql(\"\"\"  SELECT\n",
    "                                u.screen_name,\n",
    "                                u.friends_count,\n",
    "                                u.followers_count,\n",
    "                                u.tweets,\n",
    "                                COUNT(t.retweeted_status) AS retweeted,\n",
    "                                COUNT(*) / u.tweets AS ratio_tweet_retweeted\n",
    "                                FROM user_agg AS u\n",
    "                                INNER JOIN tweets_sample AS t\n",
    "                                ON u.screen_name == t.retweeted_status.user.screen_name\n",
    "                                WHERE t.retweeted_status.user.statuses_count IS NOT NULL\n",
    "                                GROUP BY u.screen_name, u.friends_count, u.followers_count, u.tweets\n",
    "                                ORDER BY retweeted DESC\"\"\")\n",
    "\n",
    "retweeted.limit(10).show()"
   ]
  },
  {
   "cell_type": "code",
   "execution_count": 19,
   "metadata": {},
   "outputs": [],
   "source": [
    "output = retweeted.first()\n",
    "assert output.screen_name == 'PSOE' and output.friends_count == 13635 and output.tweets == 1 and output.followers_count == 671073 and output.ratio_tweet_retweeted == 155.0 and output.retweeted == 155, \"Incorrect output\""
   ]
  },
  {
   "cell_type": "markdown",
   "metadata": {},
   "source": [
    "#### **Parte 1.2.2:** Queries a través de la API\n",
    "\n",
    "Las tablas de Spark SQL ofrecen otro mecanismo para aplicar las transformaciones y obtener resultados similares a los que se obtendría aplicando una consulta SQL. Por ejemplo utilizando el siguiente pipeline obtendremos el texto de todos los tweets en español:\n",
    "\n",
    "```\n",
    "tweets_sample.where(\"lang == 'es'\").select(\"text\")\n",
    "```\n",
    "\n",
    "Que es equivalente a la siguiente sentencia SQL:\n",
    "\n",
    "```\n",
    "SELECT text\n",
    "FROM tweets_sample\n",
    "WHERE lang == 'es'\n",
    "```\n",
    "\n",
    "Podéis consultar el [API de spark SQL](https://spark.apache.org/docs/latest/api/python/pyspark.sql.html) para encontrar más información sobre como utilitzar las diferentes transformaciones en tablas.\n",
    "\n",
    "En este ejercicio se os pide que repliquéis la query obtenida en el apartado anterior empezando por generar la tabla ```users_agg```. Podéis utilizar las transformaciones ```where```, ```select``` (o ```selectExpr```), ```groupBy```, ```count```, ```agg``` y ```orderBy```"
   ]
  },
  {
   "cell_type": "code",
   "execution_count": 20,
   "metadata": {},
   "outputs": [
    {
     "name": "stdout",
     "output_type": "stream",
     "text": [
      "+--------------------+\n",
      "|                text|\n",
      "+--------------------+\n",
      "|@CervantesFAQs @C...|\n",
      "|RT @rtve: El PSOE...|\n",
      "|#SiguemeYTeSigoVo...|\n",
      "|Ejemplos de porqu...|\n",
      "|    😂😂😂😂😂😂😂😂|\n",
      "+--------------------+\n",
      "\n"
     ]
    }
   ],
   "source": [
    "tweets_sample.where(\"user.lang == 'es'\") \\\n",
    "    .select('text') \\\n",
    "    .limit(5) \\\n",
    "    .show()\n",
    "#users.show(10)"
   ]
  },
  {
   "cell_type": "code",
   "execution_count": 24,
   "metadata": {},
   "outputs": [
    {
     "name": "stdout",
     "output_type": "stream",
     "text": [
      "+--------------------+---------------+---------------+-------------+--------------------+\n",
      "|                text|    screen_name|followers_count|friends_count|    retweeted_status|\n",
      "+--------------------+---------------+---------------+-------------+--------------------+\n",
      "|@CervantesFAQs @C...|TeresaAngelin15|             33|          119|                null|\n",
      "|RT @rtve: El PSOE...| LidiaSierraBUR|           1741|         1498|[1122561071426998...|\n",
      "|#SiguemeYTeSigoVo...|DanielJ84562737|             71|          243|                null|\n",
      "|Ejemplos de porqu...|JUANDEDIOSFISIO|           1130|         1029|                null|\n",
      "|    😂😂😂😂😂😂😂😂|   sergiofmarca|           5808|          507|                null|\n",
      "+--------------------+---------------+---------------+-------------+--------------------+\n",
      "\n"
     ]
    }
   ],
   "source": [
    "# Prueba\n",
    "tweets_sample.where(\"user.lang == 'es'\") \\\n",
    "    .select(\"text\", \"user.screen_name\",\n",
    "           \"user.followers_count\",\n",
    "            \"user.friends_count\",\n",
    "           \"retweeted_status\") \\\n",
    "    .limit(5) \\\n",
    "    .show()"
   ]
  },
  {
   "cell_type": "code",
   "execution_count": 25,
   "metadata": {},
   "outputs": [
    {
     "name": "stdout",
     "output_type": "stream",
     "text": [
      "+---------------+------------------+------------------+--------------------+\n",
      "|    screen_name|max(friends_count)|count(screen_name)|max(followers_count)|\n",
      "+---------------+------------------+------------------+--------------------+\n",
      "|       anaoromi|              6258|                16|                6774|\n",
      "|    RosaMar6254|              6208|                14|                6245|\n",
      "|        lyuva26|              3088|                13|                3732|\n",
      "|PisandoFuerte10|              2795|                12|                1752|\n",
      "|     carrasquem|               147|                12|                 215|\n",
      "|       jasalo54|              1889|                11|                 689|\n",
      "|  PabloChabolas|              4925|                 9|                4042|\n",
      "|      lolalailo|              4922|                 9|                3738|\n",
      "|     Lordcrow11|              5002|                 9|                3069|\n",
      "|    DuroBelinda|              5242|                 9|                5778|\n",
      "+---------------+------------------+------------------+--------------------+\n",
      "\n"
     ]
    }
   ],
   "source": [
    "users = tweets_sample.where(\"user.lang == 'es'\").select('user.screen_name',\n",
    "                                                        'user.followers_count',\n",
    "                                                        'user.friends_count')\n",
    "\n",
    "users_agg = users.groupBy(\"screen_name\")\\\n",
    "                 .agg({\"screen_name\":\"count\", \"followers_count\":\"max\", \"friends_count\":\"max\"})\\\n",
    "                 .orderBy(\"count(screen_name)\", ascending=False)\n",
    "\n",
    "users_agg.limit(10).show()"
   ]
  },
  {
   "cell_type": "markdown",
   "metadata": {},
   "source": [
    "Si os fijáis veréis que el nombre de las columnas no corresponde con el obtenido anteriormente, podéis cambiar el nombre de una columna determinada utilizando la transformación ```withColumnRenamed```. Cambiad el nombre de las columnas para que coincidan con el apartado anterior y guardadlas en una variable ```user_agg_new```."
   ]
  },
  {
   "cell_type": "code",
   "execution_count": 26,
   "metadata": {},
   "outputs": [
    {
     "name": "stdout",
     "output_type": "stream",
     "text": [
      "+---------------+-------------+------+---------------+\n",
      "|    screen_name|friends_count|tweets|followers_count|\n",
      "+---------------+-------------+------+---------------+\n",
      "|       anaoromi|         6258|    16|           6774|\n",
      "|    RosaMar6254|         6208|    14|           6245|\n",
      "|        lyuva26|         3088|    13|           3732|\n",
      "|PisandoFuerte10|         2795|    12|           1752|\n",
      "|     carrasquem|          147|    12|            215|\n",
      "|       jasalo54|         1889|    11|            689|\n",
      "|  PabloChabolas|         4925|     9|           4042|\n",
      "|      lolalailo|         4922|     9|           3738|\n",
      "|     Lordcrow11|         5002|     9|           3069|\n",
      "|    DuroBelinda|         5242|     9|           5778|\n",
      "+---------------+-------------+------+---------------+\n",
      "\n"
     ]
    }
   ],
   "source": [
    "users_agg_new = users_agg.withColumnRenamed(\"max(friends_count)\", \"friends_count\")\\\n",
    "                         .withColumnRenamed(\"max(followers_count)\", \"followers_count\")\\\n",
    "                         .withColumnRenamed(\"count(screen_name)\", \"tweets\")\n",
    "\n",
    "users_agg_new.limit(10).show()"
   ]
  },
  {
   "cell_type": "code",
   "execution_count": 27,
   "metadata": {},
   "outputs": [],
   "source": [
    "output = users_agg_new.first()\n",
    "assert output.screen_name == 'anaoromi' and output.friends_count == 6258 and output.tweets == 16 and output.followers_count == 6774, \"Incorrect output\""
   ]
  },
  {
   "cell_type": "markdown",
   "metadata": {},
   "source": [
    "Cread ahora una tabla ```user_retweets``` utilizando transformaciones que contenga dos columnas:\n",
    "- ***screen_name:*** nombre de usuario\n",
    "- ***retweeted:*** número de retweets\n",
    "\n",
    "Podéis utilizar las mismas transformaciones que en el ejercicio anterior. Ordenad la tabla en orden descendente utilizando el valor de la columna ```retweeted```."
   ]
  },
  {
   "cell_type": "code",
   "execution_count": 28,
   "metadata": {},
   "outputs": [
    {
     "name": "stdout",
     "output_type": "stream",
     "text": [
      "+---------------+---------+\n",
      "|    screen_name|retweeted|\n",
      "+---------------+---------+\n",
      "|         vox_es|      299|\n",
      "|  Santi_ABASCAL|      238|\n",
      "|   ahorapodemos|      238|\n",
      "|       iescolar|      166|\n",
      "|  AlbanoDante76|      161|\n",
      "|           PSOE|      155|\n",
      "| AntonioMaestre|      154|\n",
      "|         boye_g|      142|\n",
      "|   CiudadanosCs|      117|\n",
      "|Pablo_Iglesias_|      108|\n",
      "+---------------+---------+\n",
      "\n"
     ]
    }
   ],
   "source": [
    "user_retweets = tweets_sample.select(\"retweeted_status.user.screen_name\")\\\n",
    "                             .where(\"retweeted_status.user.lang == 'es'\")\\\n",
    "                             .groupBy(\"screen_name\")\\\n",
    "                             .count()\\\n",
    "                             .withColumnRenamed(\"count\", \"retweeted\")\\\n",
    "                             .orderBy(\"retweeted\", ascending = False)\n",
    "\n",
    "user_retweets.limit(10).show()"
   ]
  },
  {
   "cell_type": "code",
   "execution_count": 29,
   "metadata": {},
   "outputs": [],
   "source": [
    "output = user_retweets.first()\n",
    "assert output.screen_name == 'vox_es' and output.retweeted == 299, \"Incorrect output\""
   ]
  },
  {
   "cell_type": "markdown",
   "metadata": {},
   "source": [
    "Otra manera de combinar dos tablas es utilizando el [metodo de tabla ```join```](https://spark.apache.org/docs/latest/api/python/pyspark.sql.html). Combinad la información de la tabla ```users_agg_new``` y ```user_retweets``` en una nueva tabla ```retweeted``` utilizando la columna ```screen_name```. Ordenad la nueva tabla en orden descendente con el nombre de retweets."
   ]
  },
  {
   "cell_type": "code",
   "execution_count": 31,
   "metadata": {},
   "outputs": [
    {
     "name": "stdout",
     "output_type": "stream",
     "text": [
      "+--------------+-------------+------+---------------+---------+\n",
      "|   screen_name|friends_count|tweets|followers_count|retweeted|\n",
      "+--------------+-------------+------+---------------+---------+\n",
      "|          PSOE|        13635|     1|         671073|      155|\n",
      "|  CiudadanosCs|        92910|     1|         511896|      117|\n",
      "|     JuntsXCat|          202|     1|          88515|       73|\n",
      "|  PartidoPACMA|         1498|     1|         232932|       63|\n",
      "|  pablocasado_|         4567|     1|         238926|       50|\n",
      "|voxnoticias_es|         2146|     1|          29582|       44|\n",
      "|RaiLopezCalvet|         7579|     1|          13574|       43|\n",
      "|        iunida|        10225|     1|         558318|       39|\n",
      "|        Xuxipc|          311|     1|         184967|       37|\n",
      "|       Panik81|         1587|     1|          15374|       29|\n",
      "+--------------+-------------+------+---------------+---------+\n",
      "\n"
     ]
    }
   ],
   "source": [
    "retweeted = users_agg_new.join(user_retweets, on=\"screen_name\", how=\"inner\")\\\n",
    "                         .orderBy(\"retweeted\", ascending = False)\n",
    "\n",
    "retweeted.limit(10).show()"
   ]
  },
  {
   "cell_type": "code",
   "execution_count": null,
   "metadata": {},
   "outputs": [],
   "source": [
    "# La otra forma más larga cuando tenemos que seleccionar solo algunas de las columnas\n",
    "retweeted = users_agg_new.join(user_retweets, on='screen_name', how='inner')\\\n",
    "                        .select(users_agg_new['screen_name'], users_agg_new['tweets'], \n",
    "                                users_agg_new['followers_count'], users_agg_new['friends_count'],\n",
    "                               user_retweets['retweeted'])\\\n",
    "                         .orderBy(\"retweeted\", ascending = False)\n",
    "retweeted.limit(10).show()"
   ]
  },
  {
   "cell_type": "code",
   "execution_count": 32,
   "metadata": {},
   "outputs": [],
   "source": [
    "output = retweeted.first()\n",
    "assert output.screen_name == 'PSOE' and output.friends_count == 13635 and output.tweets == 1 and output.followers_count == 671073 and output.retweeted == 155, \"Incorrect output\""
   ]
  },
  {
   "cell_type": "markdown",
   "metadata": {},
   "source": [
    "Notaréis que algunos de los registros que aparecen en la tabla ```users_retweeted``` no están presentes en la tabla retweeted. Esto es debido a que, por defecto, el método aplica un inner join y por tanto solo combina los registros presentes en ambas tablas. Podéis cambiar este comportamiento a través de los parámetros de la función.\n",
    "\n",
    "Para terminar esta parte y reconstruir el resultado del apartado 1.2.1 vamos a añadir una columna ```ratio_tweet_retweeted``` con información del ratio entre retweets y tweets. Para ello debéis utilizar la transformación ```withColumn```. El resultado debe estar ordenado considerando esta nueva columna en orden descendente."
   ]
  },
  {
   "cell_type": "code",
   "execution_count": 34,
   "metadata": {},
   "outputs": [
    {
     "name": "stdout",
     "output_type": "stream",
     "text": [
      "+--------------+-------------+------+---------------+---------+---------------------+\n",
      "|   screen_name|friends_count|tweets|followers_count|retweeted|ratio_tweet_retweeted|\n",
      "+--------------+-------------+------+---------------+---------+---------------------+\n",
      "|          PSOE|        13635|     1|         671073|      155|                155.0|\n",
      "|  CiudadanosCs|        92910|     1|         511896|      117|                117.0|\n",
      "|     JuntsXCat|          202|     1|          88515|       73|                 73.0|\n",
      "|  PartidoPACMA|         1498|     1|         232932|       63|                 63.0|\n",
      "|  pablocasado_|         4567|     1|         238926|       50|                 50.0|\n",
      "|voxnoticias_es|         2146|     1|          29582|       44|                 44.0|\n",
      "|RaiLopezCalvet|         7579|     1|          13574|       43|                 43.0|\n",
      "|        iunida|        10225|     1|         558318|       39|                 39.0|\n",
      "|        Xuxipc|          311|     1|         184967|       37|                 37.0|\n",
      "|       Panik81|         1587|     1|          15374|       29|                 29.0|\n",
      "+--------------+-------------+------+---------------+---------+---------------------+\n",
      "\n"
     ]
    }
   ],
   "source": [
    "retweeted = retweeted.withColumn(\"ratio_tweet_retweeted\", retweeted[\"retweeted\"] / retweeted[\"tweets\"]) \\\n",
    "                                .orderBy(\"ratio_tweet_retweeted\", ascending = False)\n",
    "retweeted.limit(10).show()"
   ]
  },
  {
   "cell_type": "code",
   "execution_count": 35,
   "metadata": {},
   "outputs": [],
   "source": [
    "output = retweeted.first()\n",
    "assert output.screen_name == 'PSOE' and output.friends_count == 13635 and output.tweets == 1 and output.followers_count == 671073 and output.ratio_tweet_retweeted == 155.0 and output.retweeted == 155, \"Incorrect output\""
   ]
  },
  {
   "cell_type": "markdown",
   "metadata": {
    "toc-hr-collapsed": false
   },
   "source": [
    "## **Parte 2:** Bases de datos HIVE y operaciones complejas\n",
    "\n",
    "Hasta ahora hemos estado trabajando con un pequeño sample de los tweets generados (el 0.1%). En esta parte de la PEC vamos a ver como trabajar y tratar con el dataset completo. Para ello vamos ha utilizar tanto transformaciones sobre tablas como operaciones sobre RDD cuando sea necesario."
   ]
  },
  {
   "cell_type": "markdown",
   "metadata": {},
   "source": [
    "### **Parte 2.1:** Bases de datos Hive\n",
    "\n",
    "Muchas veces los datos con los que vamos ha trabajar se van a utilizar en diversos proyectos. Una manera de organizar los datos es, en lugar de utilizar directamente los ficheros, recurrir a una base de datos para gestionar la información. En el entorno Hadoop una de las bases de datos más utilizadas es [Apache Hive](https://hive.apache.org/), una base de datos que permite trabajar con contenido distribuido.\n",
    "\n",
    "La manera de acceder a esta base de datos es creando un contexto Hive de manera muy similar a como declaramos un contexto SQL. Primero de todo vamos a declarar un variable ```hiveContext``` instanciándola como un objeto de la classe ```HiveContext```. Acto seguido vamos a comprobar cuantas tablas están registradas en este contexto."
   ]
  },
  {
   "cell_type": "code",
   "execution_count": 36,
   "metadata": {},
   "outputs": [
    {
     "name": "stdout",
     "output_type": "stream",
     "text": [
      "+--------+-------------+-----------+\n",
      "|database|    tableName|isTemporary|\n",
      "+--------+-------------+-----------+\n",
      "|        |tweets_sample|       true|\n",
      "|        |     user_agg|       true|\n",
      "+--------+-------------+-----------+\n",
      "\n"
     ]
    }
   ],
   "source": [
    "hiveContext = HiveContext(sc)\n",
    "hiveContext.tables().show()"
   ]
  },
  {
   "cell_type": "markdown",
   "metadata": {},
   "source": [
    "Observad que ahora mismo tenemos cinco tablas registradas en este contexto. Tres de ellas no temporales y dos temporales, las que hemos registrado previamente. Por tanto sqlContext y hiveContext están concetados (es la misma sessión)\n",
    "\n",
    "Vamos ha crear una variable ```tweets``` que utilizaremos para acceder a la tabla ```tweets28a``` guardada en ```hiveContext``` utilizando para ello el método ```table()``` de este objeto."
   ]
  },
  {
   "cell_type": "code",
   "execution_count": 37,
   "metadata": {},
   "outputs": [
    {
     "name": "stdout",
     "output_type": "stream",
     "text": [
      "Loaded dataset contains 27268 tweets\n"
     ]
    }
   ],
   "source": [
    "# Por no tener definida una tabla distribuida en hive, utilizamos la temporatia\n",
    "tweets = hiveContext.table(\"tweets_sample\")\n",
    "print(\"Loaded dataset contains {} tweets\".format(tweets.count()))"
   ]
  },
  {
   "cell_type": "markdown",
   "metadata": {},
   "source": [
    "Utilizando el mismo método que en el apartado 1.1, comprobad la estructura de la tabla que acabamos de cargar con ```printSchema()```"
   ]
  },
  {
   "cell_type": "code",
   "execution_count": 38,
   "metadata": {},
   "outputs": [
    {
     "name": "stdout",
     "output_type": "stream",
     "text": [
      "root\n",
      " |-- _id: string (nullable = true)\n",
      " |-- created_at: long (nullable = true)\n",
      " |-- lang: string (nullable = true)\n",
      " |-- place: struct (nullable = true)\n",
      " |    |-- bounding_box: struct (nullable = true)\n",
      " |    |    |-- coordinates: array (nullable = true)\n",
      " |    |    |    |-- element: array (containsNull = true)\n",
      " |    |    |    |    |-- element: array (containsNull = true)\n",
      " |    |    |    |    |    |-- element: double (containsNull = true)\n",
      " |    |    |-- type: string (nullable = true)\n",
      " |    |-- country_code: string (nullable = true)\n",
      " |    |-- id: string (nullable = true)\n",
      " |    |-- name: string (nullable = true)\n",
      " |    |-- place_type: string (nullable = true)\n",
      " |-- retweeted_status: struct (nullable = true)\n",
      " |    |-- _id: string (nullable = true)\n",
      " |    |-- user: struct (nullable = true)\n",
      " |    |    |-- followers_count: long (nullable = true)\n",
      " |    |    |-- friends_count: long (nullable = true)\n",
      " |    |    |-- id_str: string (nullable = true)\n",
      " |    |    |-- lang: string (nullable = true)\n",
      " |    |    |-- screen_name: string (nullable = true)\n",
      " |    |    |-- statuses_count: long (nullable = true)\n",
      " |-- text: string (nullable = true)\n",
      " |-- user: struct (nullable = true)\n",
      " |    |-- followers_count: long (nullable = true)\n",
      " |    |-- friends_count: long (nullable = true)\n",
      " |    |-- id_str: string (nullable = true)\n",
      " |    |-- lang: string (nullable = true)\n",
      " |    |-- screen_name: string (nullable = true)\n",
      " |    |-- statuses_count: long (nullable = true)\n",
      "\n"
     ]
    }
   ],
   "source": [
    "tweets.printSchema()"
   ]
  },
  {
   "cell_type": "markdown",
   "metadata": {
    "toc-hr-collapsed": false
   },
   "source": [
    "### **Parte 2.2:** Más allá de las transformaciones SQL\n",
    "\n",
    "Algunas veces vamos a necesitar obtener resultados que precisan operaciones que van más allá de lo que podemos conseguir utilizando el lenguaje SQL. En esta parte de la práctica vamos practicar cómo pasar de una tabla a un RDD, para hacer operaciones complejas, y luego volver a pasar a una tabla."
   ]
  },
  {
   "cell_type": "markdown",
   "metadata": {
    "toc-hr-collapsed": false
   },
   "source": [
    "#### **Parte 2.2.1:** Tweets por población\n",
    "\n",
    "Un pequeño porcentaje, alrededor del 1%, de los tweets realizados está geolocalizado. Eso quiere decir que para estos tweets tenemos información acerca del lugar donde han sido realizados guardado en el campo ```place```. En este ejercicio se pide que utilizando una sentencia SQL mostréis en orden descendente cuántos tweets se han realizado en cada lugar. La tabla resultante ```tweets_place``` debe tener las siguientes columnas:\n",
    "- ***name:*** nombre del lugar\n",
    "- ***tweets:*** número de tweets\n",
    "\n",
    "Recordad que no todos los tweets en la base de datos tienen que tener información geolocalizada, tenéis que filtrarlos teniendo en cuenta todos los que tienen un valor no nulo."
   ]
  },
  {
   "cell_type": "code",
   "execution_count": 39,
   "metadata": {},
   "outputs": [
    {
     "name": "stdout",
     "output_type": "stream",
     "text": [
      "+-----------+------+\n",
      "|       name|tweets|\n",
      "+-----------+------+\n",
      "|     Madrid|    23|\n",
      "|  Barcelona|    14|\n",
      "|   Zaragoza|     6|\n",
      "|     Oviedo|     5|\n",
      "|   Alicante|     4|\n",
      "|     Málaga|     3|\n",
      "|Villamartín|     3|\n",
      "|   Valencia|     3|\n",
      "|       Inca|     3|\n",
      "|     Murcia|     2|\n",
      "+-----------+------+\n",
      "\n"
     ]
    }
   ],
   "source": [
    "tweets_place = hiveContext.sql(\"\"\"  SELECT place.name, COUNT(*) as tweets\n",
    "                                    FROM tweets_sample\n",
    "                                    WHERE place IS NOT NULL\n",
    "                                    GROUP BY place.name\n",
    "                                    ORDER BY tweets DESC\"\"\")\n",
    "tweets_place.limit(10).show()"
   ]
  },
  {
   "cell_type": "code",
   "execution_count": null,
   "metadata": {},
   "outputs": [],
   "source": [
    "output = tweets_place.first()\n",
    "assert output.name == \"Madrid\" and output.tweets == 19655, \"Incorrect output\""
   ]
  },
  {
   "cell_type": "markdown",
   "metadata": {},
   "source": [
    "#### **Parte 2.2.2:** Contar hashtags\n",
    "\n",
    "Como seguro que habéis observado la semántica de la sentencia SQL es mucho más limpia que trabajar con RDDs para realizar muchas tareas, pero no todas las que os vais a encontrar se pueden hacer mediante sentencias SQL. En este ejercicio vamos a ver un ejemplo.\n",
    "\n",
    "El objetivo de este ejercicio es contar el número de veces que cada hashtag (palabras precedidas por un #) ha aparecido en el dataset. Para evitar la sobrerrepresentación debida a los retweets vamos a concentrarnos en solo aquellos tweets que no son retweets de ningún otro, o dicho de otra manera, en aquellos en los que el campo ```retweeted_status``` es nulo. Cread una variable ```non_retweets``` que contenga todos estos tweets."
   ]
  },
  {
   "cell_type": "code",
   "execution_count": 40,
   "metadata": {},
   "outputs": [],
   "source": [
    "non_retweets = tweets.where(\"retweeted_status IS NULL\")"
   ]
  },
  {
   "cell_type": "code",
   "execution_count": 41,
   "metadata": {},
   "outputs": [
    {
     "data": {
      "text/plain": [
       "[Row(_id='1122570131736006656', created_at=1556476550, lang='pt', place=None, retweeted_status=None, text='@CervantesFAQs @Cazatalentos @vox_es @Irene_Montero_ Asco de gente y de V💩X!', user=Row(followers_count=33, friends_count=119, id_str='1030176768056012801', lang='es', screen_name='TeresaAngelin15', statuses_count=1838)),\n",
       " Row(_id='1122570274610851846', created_at=1556476584, lang='es', place=None, retweeted_status=None, text='#SiguemeYTeSigoVox voy a intentar volver a tener una cuenta de política aunque la izquierda me haya censurado ya va… https://t.co/5ujCE1bgPt', user=Row(followers_count=71, friends_count=243, id_str='1079050390472216576', lang='es', screen_name='DanielJ84562737', statuses_count=565))]"
      ]
     },
     "execution_count": 41,
     "metadata": {},
     "output_type": "execute_result"
    }
   ],
   "source": [
    "non_retweets.take(2)"
   ]
  },
  {
   "cell_type": "markdown",
   "metadata": {},
   "source": [
    "Seguidamente vamos ha crear una variable ```hashtags``` que contenga una lista de tuplas con la información ```(hashtag, count)```. Para ello, cread un RDD que contenga una lista con el texto de todos los tweets. Una vez hecho este paso tenéis que extraer los hashtags (palabras precedidas por un #) y contarlos.\n",
    "\n",
    "Recordad los conocimientos adquiridos en la PEC 1 y el anterior ejercicio, os serán de gran ayuda."
   ]
  },
  {
   "cell_type": "code",
   "execution_count": 44,
   "metadata": {},
   "outputs": [],
   "source": [
    "# Puede modificarse si se considera conveniente el map y el flatMap\n",
    "hashtags = non_retweets.select(\"text\").rdd.map(lambda tweet : tweet[0])\\\n",
    "                                          .flatMap(lambda line: re.findall(r\"#[\\w']+\", line))\n",
    "\n",
    "hashtags = hashtags.map(lambda word : (word,1)).reduceByKey(lambda x,y : x+y)"
   ]
  },
  {
   "cell_type": "code",
   "execution_count": 45,
   "metadata": {},
   "outputs": [
    {
     "data": {
      "text/plain": [
       "[('#encuestas', 1), ('#EleccionesL6', 33)]"
      ]
     },
     "execution_count": 45,
     "metadata": {},
     "output_type": "execute_result"
    }
   ],
   "source": [
    "hashtags.take(2)"
   ]
  },
  {
   "cell_type": "markdown",
   "metadata": {},
   "source": [
    "Finalmente, se os pide que con el RDD obtenido generéis una tabla ```hashtagsTable``` compuesta de dos columnas:\n",
    "- ***hashtag***\n",
    "- ***num:*** número de veces que aparece cada hashtag.\n",
    "\n",
    "Ordenadla en orden descendente por número de tweets."
   ]
  },
  {
   "cell_type": "code",
   "execution_count": 46,
   "metadata": {},
   "outputs": [
    {
     "name": "stdout",
     "output_type": "stream",
     "text": [
      "+--------------------+---+\n",
      "|             hashtag|num|\n",
      "+--------------------+---+\n",
      "|                #28A|160|\n",
      "|   #ElDebateDecisivo| 95|\n",
      "|     #ELDEBATEenRTVE| 81|\n",
      "|       #EleccionesL6| 33|\n",
      "|     #EquiparacionYa| 31|\n",
      "|         #HazQuePase| 23|\n",
      "|#EleccionesGenera...| 21|\n",
      "|          #PorEspaña| 21|\n",
      "|         #DebateRTVE| 20|\n",
      "|#LaHistoriaLaEscr...| 18|\n",
      "|            #28Abril| 18|\n",
      "|           #DebatTV3| 17|\n",
      "|         #ILPJusapol| 16|\n",
      "|   #DebateAtresmedia| 15|\n",
      "|        #ValorSeguro| 14|\n",
      "|           #VotaPSOE| 14|\n",
      "|         #EspañaViva| 14|\n",
      "|                #28a| 13|\n",
      "|#EleccionesGenerales| 11|\n",
      "|               #PSOE| 11|\n",
      "+--------------------+---+\n",
      "\n"
     ]
    }
   ],
   "source": [
    "hashtagsTable = hashtags.map(lambda row: Row(hashtag=row[0], num=row[1]))\\\n",
    "                        .toDF()\\\n",
    "                        .orderBy(\"num\", ascending= False)\n",
    "\n",
    "hashtagsTable.limit(20).show()"
   ]
  },
  {
   "cell_type": "code",
   "execution_count": null,
   "metadata": {},
   "outputs": [],
   "source": [
    "output = hashtagsTable.first()\n",
    "assert output.hashtag == \"#28A\" and output.num == 158124, \"Incorrect output\""
   ]
  },
  {
   "cell_type": "markdown",
   "metadata": {},
   "source": [
    "### Altenativa con el  `flatmap`y `filter`"
   ]
  },
  {
   "cell_type": "code",
   "execution_count": 50,
   "metadata": {},
   "outputs": [
    {
     "data": {
      "text/plain": [
       "[('#encuestas', 1), ('#EleccionesL6', 24)]"
      ]
     },
     "execution_count": 50,
     "metadata": {},
     "output_type": "execute_result"
    }
   ],
   "source": [
    "hashtag_2 = non_retweets.select('text').rdd.flatMap(lambda text: text.text.split(\" \")) \\\n",
    "                                            .filter(lambda word: word.startswith('#'))\n",
    "hashtag_2 = hashtag_2.map(lambda word: (word, 1)) \\\n",
    "                        .reduceByKey(lambda x,y : x+y)\n",
    "hashtag_2.take(2)                                                    "
   ]
  },
  {
   "cell_type": "markdown",
   "metadata": {
    "toc-hr-collapsed": false
   },
   "source": [
    "## **Parte 3:** Sampling\n",
    "\n",
    "En muchas ocasiones, antes de lanzar costoso procesos, es una práctica habitual tratar con un pequeño conjunto de los datos para investigar algunas propiedades o simplemente para debugar nuestros algoritmos, a esta tarea se la llama sampling."
   ]
  },
  {
   "cell_type": "markdown",
   "metadata": {},
   "source": [
    "El sampling aplicado es [el homogeneo](https://en.wikipedia.org/wiki/Simple_random_sample). Este sampling se basta en simplemente escoger una fracción de la población seleccionando aleatoriamente elementos de la misma.\n",
    "\n",
    "Primero de todo vamos ha realizar un sampling homogéneo del 1% de los tweets generados en periodo electoral sin reemplazo. Guardad en una variable ```tweets_sample``` este sampling utilizando el método ```sample``` descrito en la [API de pyspark SQL](https://spark.apache.org/docs/latest/api/python/pyspark.sql.html). El seed que vais a utilizar para inicializar el generador aleatorio es 42."
   ]
  },
  {
   "cell_type": "code",
   "execution_count": 51,
   "metadata": {},
   "outputs": [
    {
     "name": "stdout",
     "output_type": "stream",
     "text": [
      "Number of tweets sampled: 320\n"
     ]
    }
   ],
   "source": [
    "seed = 42\n",
    "fraction = 0.01\n",
    "\n",
    "tweets_sample = tweets.sample(False, fraction=fraction, seed=seed)\n",
    "\n",
    "print(\"Number of tweets sampled: {0}\".format(tweets_sample.count()))"
   ]
  },
  {
   "cell_type": "code",
   "execution_count": null,
   "metadata": {},
   "outputs": [],
   "source": [
    "assert tweets_sample.count() == 254185, \"Incorrect output\""
   ]
  },
  {
   "cell_type": "markdown",
   "metadata": {},
   "source": [
    "Una de las cosas que resulta interesante comprobar acerca de los patrones de uso de las redes sociales es el patrón de uso diario. En este caso nos interesa el número promedio de tweets que se genera cada hora del día. Para extraer esta información lo que haremos primero, será generar una tabla ```tweets_timestamp``` con la información:\n",
    "- ***created_at***: timestamp de cuando se publicó el tweet.\n",
    "- ***hour***: a que hora del dia corresponde.\n",
    "- ***day***: Fecha en formato MM-dd-YY\n",
    "\n",
    "La fecha que figura en la base de datos esta en la franja horaria GMT. El primer paso es pasar esta información al horario peninsular de España, podéis utilizar la función ```from_utc_timestamp``` para este fin. Así mismo, la función ```hour``` os servirá para extraer la hora del timestamp y la función ```date_format``` os permitirá generar la fecha."
   ]
  },
  {
   "cell_type": "code",
   "execution_count": 56,
   "metadata": {},
   "outputs": [
    {
     "data": {
      "text/plain": [
       "[Row(created_at='2019-04-28 18:36:30', hour=18, day='04-28-19'),\n",
       " Row(created_at='2019-04-28 19:06:29', hour=19, day='04-28-19')]"
      ]
     },
     "execution_count": 56,
     "metadata": {},
     "output_type": "execute_result"
    }
   ],
   "source": [
    "from pyspark.sql.functions import date_format, hour, from_utc_timestamp, from_unixtime\n",
    "\n",
    "tweets_timestamp = tweets_sample.select(\"created_at\")\n",
    "tweets_timestamp = tweets_timestamp.withColumn(\"created_at\", from_unixtime('created_at'))\n",
    "tweets_timestamp = tweets_timestamp.withColumn(\"hour\", hour(\"created_at\"))\\\n",
    "                                   .withColumn(\"day\", date_format('created_at', \"MM-dd-YY\"))\n",
    "tweets_timestamp.limit(20).take(2)"
   ]
  },
  {
   "cell_type": "markdown",
   "metadata": {},
   "source": [
    "El paso siguiente es agregar estos datos por hora y día en una tabla ```tweets_hour_day```. Tenéis que crear una tabla ```tweets_hour``` con la información:\n",
    "- ***hour:*** hora del dia\n",
    "- ***day:*** fecha\n",
    "- ***count:*** número de tweets generados"
   ]
  },
  {
   "cell_type": "code",
   "execution_count": 57,
   "metadata": {},
   "outputs": [
    {
     "name": "stdout",
     "output_type": "stream",
     "text": [
      "+----+--------+-----+\n",
      "|hour|     day|count|\n",
      "+----+--------+-----+\n",
      "|  18|04-13-19|    1|\n",
      "|   1|05-01-19|    1|\n",
      "|  10|04-28-19|    1|\n",
      "|  11|04-28-19|    2|\n",
      "|  23|04-23-19|    2|\n",
      "|   6|04-29-19|    2|\n",
      "|  16|05-01-19|    1|\n",
      "|   5|04-27-19|    1|\n",
      "|   8|05-01-19|    1|\n",
      "|   7|04-26-19|    1|\n",
      "|   0|04-23-19|    3|\n",
      "|   6|04-23-19|    1|\n",
      "|  20|04-28-19|    5|\n",
      "|  14|04-30-19|    2|\n",
      "|   8|04-28-19|    2|\n",
      "|   8|04-19-19|    1|\n",
      "|  22|04-28-19|    5|\n",
      "|  22|04-23-19|    2|\n",
      "|  19|04-13-19|    1|\n",
      "|  19|04-29-19|    1|\n",
      "+----+--------+-----+\n",
      "\n"
     ]
    }
   ],
   "source": [
    "tweets_hour_day = tweets_timestamp.groupBy(\"hour\",\"day\").count()\n",
    "\n",
    "tweets_hour_day.limit(20).show()"
   ]
  },
  {
   "cell_type": "markdown",
   "metadata": {},
   "source": [
    "Por último solo nos queda hacer una agregación por hora para conseguir el promedio de tweets por hora. Tenéis que generar una tabla ```tweets_hour``` con la información:\n",
    "- ***hour:*** Hora\n",
    "- ***tweets:*** Promedio de tweets realizados\n",
    "\n",
    "Recordad que estamos trabajando con un sample del 1% por tanto tenéis que corregir la columna ```tweets``` para que refleje el promedio que deberíamos esperar en el conjunto completo de tweets. La tabla tiene que estar ordenada en orden ascendente de hora."
   ]
  },
  {
   "cell_type": "code",
   "execution_count": 58,
   "metadata": {},
   "outputs": [
    {
     "name": "stdout",
     "output_type": "stream",
     "text": [
      "+----+------------------+\n",
      "|hour|            tweets|\n",
      "+----+------------------+\n",
      "|   0|             140.0|\n",
      "|   1|             150.0|\n",
      "|   2|             100.0|\n",
      "|   4|             100.0|\n",
      "|   5|             150.0|\n",
      "|   6|116.66666666666667|\n",
      "|   7|122.22222222222223|\n",
      "|   8|             150.0|\n",
      "|   9|164.28571428571428|\n",
      "|  10|114.28571428571428|\n",
      "|  11|116.66666666666667|\n",
      "|  12|153.84615384615384|\n",
      "|  13|             170.0|\n",
      "|  14|             125.0|\n",
      "|  15|             150.0|\n",
      "|  16|157.14285714285714|\n",
      "|  17|             140.0|\n",
      "|  18|            143.75|\n",
      "|  19|             140.0|\n",
      "|  20|216.66666666666666|\n",
      "+----+------------------+\n",
      "only showing top 20 rows\n",
      "\n"
     ]
    }
   ],
   "source": [
    "tweets_hour = tweets_hour_day.groupBy(\"hour\")\\\n",
    "                             .avg(\"count\")\\\n",
    "                             .orderBy(\"hour\")\\\n",
    "                             .withColumnRenamed(\"avg(count)\", \"tweets\")\n",
    "tweets_hour = tweets_hour.withColumn(\"tweets\", tweets_hour.tweets / fraction)\n",
    "tweets_hour.limit(24).show()"
   ]
  },
  {
   "cell_type": "markdown",
   "metadata": {},
   "source": [
    "Por último, tenéis que producir un gráfico de barras utilizando Pandas (pasamos el dataframe a Pandas) donde se muestre la información que acabáis de generar."
   ]
  },
  {
   "cell_type": "code",
   "execution_count": 59,
   "metadata": {},
   "outputs": [
    {
     "data": {
      "text/plain": [
       "<AxesSubplot:xlabel='hour'>"
      ]
     },
     "execution_count": 59,
     "metadata": {},
     "output_type": "execute_result"
    },
    {
     "data": {
      "image/png": "[encoded data removed]",
      "text/plain": [
       "<Figure size 432x288 with 1 Axes>"
      ]
     },
     "metadata": {
      "needs_background": "light"
     },
     "output_type": "display_data"
    }
   ],
   "source": [
    "tweets_hour_pd = tweets_hour.toPandas()\n",
    "tweets_hour_pd.plot.bar(x='hour',y='tweets')"
   ]
  },
  {
   "cell_type": "markdown",
   "metadata": {
    "toc-hr-collapsed": false
   },
   "source": [
    "## **Parte 4:** Introducción a los datos relacionales"
   ]
  },
  {
   "cell_type": "markdown",
   "metadata": {},
   "source": [
    "El hecho de trabajar con una base de datos que contiene información generada en una red social nos permite introducir el concepto de datos relacionales. Podemos definir datos relacionales como aquellos en los que existen relaciones entre las entidades que constituyen la base de datos. Si estas relaciones son binarias, relaciones 1 a 1, podemos representar las relaciones como un grafo compuesto por un conjunto de vértices $\\mathcal{V}$ y un conjunto de aristas $\\mathcal{E}$ que los relacionan.\n",
    "\n",
    "En el caso de grafos que emergen de manera orgánica, este tipo de estructura va más allá de los grafos regulares que seguramente conocéis. Este tipo de estructuras se conocen como [redes complejas](https://es.wikipedia.org/wiki/Red_compleja). El estudio de la estructura y dinámicas de este tipo de redes ha contribuido a importantes resultados en campos tan dispares como la física, la sociología, la ecología o la medicina.\n",
    "\n",
    "![complex_network](https://images.squarespace-cdn.com/content/5150aec6e4b0e340ec52710a/1364574727391-XVOFAB9P6GHKTDAH6QTA/lastfm_800_graph_white.png?content-type=image%2Fpng)\n",
    "\n",
    "En esta última parte de la práctica vamos ha trabajar con este tipo de datos. En concreto vamos a modelar uno de los posibles relaciones presentes en el dataset, la red de retweets."
   ]
  },
  {
   "cell_type": "markdown",
   "metadata": {},
   "source": [
    "### Generar la red de retweets"
   ]
  },
  {
   "cell_type": "markdown",
   "metadata": {},
   "source": [
    "#### **Parte 4.1**: Construcción de la edgelist"
   ]
  },
  {
   "cell_type": "markdown",
   "metadata": {},
   "source": [
    "Lo primero se os pide es que generéis la red. Hay diversas maneras de representar una red compleja, por ejemplo, si estuvierais interesados en trabajar en ellas desde el punto de vista teórico, la manera más habitual de representarlas es utilizando una [matriz de adyacencia](https://es.wikipedia.org/wiki/Matriz_de_adyacencia). En esta práctica vamos a centrarnos en el aspecto computacional, una de las maneras de mas eficientes (computacionalmente hablando) de representar una red es mediante su [*edge list*](https://en.wikipedia.org/wiki/Edge_list), una tabla que especifica la relación a parejas entre las entidades.\n",
    "\n",
    "Las relaciones pueden ser bidireccionales o direccionales y tener algún peso asignado o no (weighted or unweighted). En el caso que nos ocupa, estamos hablando de una red dirigida, un usuario retuitea a otro, y podemos pensarla teniendo en cuenta cuántas veces esto ha pasado.\n",
    "\n",
    "Lo primero que haréis para simplificar el cómputo,  es crear un sample homogéneo sin reemplazo del 1% de los tweets. Utilizando los conocimientos que habéis aprendido en el apartado 3.1. Utilizaremos 42 como valor para la seed."
   ]
  },
  {
   "cell_type": "code",
   "execution_count": null,
   "metadata": {},
   "outputs": [],
   "source": [
    "sample = tweets.sample(False, <FILL_IN>).persist()"
   ]
  },
  {
   "cell_type": "markdown",
   "metadata": {},
   "source": [
    "Ahora vais a crear una tabla ```edgelist``` con la siguiente información:\n",
    "- ***src:*** usuario que retuitea\n",
    "- ***dst:*** usuario que es retuiteado\n",
    "- ***weight:*** número de veces que un usuario retuitea a otro.\n",
    "\n",
    "Filtrar el resultado para que contenga sólo las relaciones con un weight igual o mayor a dos."
   ]
  },
  {
   "cell_type": "code",
   "execution_count": null,
   "metadata": {},
   "outputs": [],
   "source": [
    "edgelist = sample.where(<FILL_IN>)\\\n",
    "                 .selectExpr(\"user.screen_name AS src\", \"retweeted_status.user.screen_name AS dst\")\n",
    "\n",
    "edgelist = edgelist.groupBy(<FILL_IN>).count().withColumnRenamed(\"count\", \"weight\").where(\"weight >= <FILL_IN>\")\n",
    "\n",
    "L = edgelist.count()\n",
    "\n",
    "print(\"There are {0} edges on the network.\".format(L))"
   ]
  },
  {
   "cell_type": "code",
   "execution_count": null,
   "metadata": {},
   "outputs": [],
   "source": [
    "assert L == 5247, \"Incorrect ouput\""
   ]
  },
  {
   "cell_type": "markdown",
   "metadata": {},
   "source": [
    "#### **Parte 4.2:** Centralidad de grado"
   ]
  },
  {
   "cell_type": "markdown",
   "metadata": {},
   "source": [
    "Uno de los descriptores más comunes en el análisis de redes es el grado. El grado cuantifica cuántas aristas están conectadas a cada vértices. En el caso de redes dirigidas como la que acabamos de crear este descriptor está descompuesto en el:\n",
    "- **in degree**: cuantas aristas apuntan al nodo\n",
    "- **out degree**: cuantas aristas salen del nodo\n",
    "\n",
    "Si haces un ranquing de estos valores vais a obtener medida de centralidad, la [centralidad de grado](https://en.wikipedia.org/wiki/Centrality#Degree_centrality), de cada uno de los nodos.\n",
    "\n",
    "Se os pide que generéis una tabla con la información:\n",
    "- ***screen_name:*** nombre del usuario (anteriormene src).\n",
    "- ***outDegree:*** out degree del nodo.\n",
    "\n",
    "Ordenado la tabla por out degree en orden descendente."
   ]
  },
  {
   "cell_type": "code",
   "execution_count": null,
   "metadata": {},
   "outputs": [],
   "source": [
    "outDegree = edgelist.groupBy(\"src\")\\\n",
    "                    .count()\\\n",
    "                    .orderBy(<FILL_IN>)\\\n",
    "                    .withColumnRenamed(\"count\", <FILL_IN>)\\\n",
    "                    .withColumnRenamed(\"src\", <FILL_IN>)\n",
    "outDegree.limit(20).show()"
   ]
  },
  {
   "cell_type": "code",
   "execution_count": null,
   "metadata": {},
   "outputs": [],
   "source": [
    "output = outDegree.first()\n",
    "assert output.screen_name == \"rosavergar23\" and output.outDegree == 11, \"Incorrect output\""
   ]
  },
  {
   "cell_type": "markdown",
   "metadata": {},
   "source": [
    "Se os pide ahora que generéis una tabla con la información:\n",
    "- ***screen_name:*** nombre del usuario (anteriormente dst).\n",
    "- ***inDegree:*** in degree del nodo.\n",
    "\n",
    "Ordenad la tabla por in degree en orden descendente."
   ]
  },
  {
   "cell_type": "code",
   "execution_count": null,
   "metadata": {},
   "outputs": [],
   "source": [
    "# Replicando el código utilizado para generar el outDegree, generad el inDegree\n",
    "inDegree = edgelist.<FILL IN>\n",
    "\n",
    "inDegree.limit(20).show()"
   ]
  },
  {
   "cell_type": "code",
   "execution_count": null,
   "metadata": {},
   "outputs": [],
   "source": [
    "output = inDegree.first()\n",
    "assert output.screen_name == \"vox_es\" and output.inDegree == 330, \"Incorrect output\""
   ]
  }
 ],
 "metadata": {
  "kernelspec": {
   "display_name": "Python 3",
   "language": "python",
   "name": "python3"
  },
  "language_info": {
   "codemirror_mode": {
    "name": "ipython",
    "version": 3
   },
   "file_extension": ".py",
   "mimetype": "text/x-python",
   "name": "python",
   "nbconvert_exporter": "python",
   "pygments_lexer": "ipython3",
   "version": "3.8.5"
  },
  "toc-autonumbering": false,
  "toc-showcode": false,
  "toc-showmarkdowntxt": false,
  "toc-showtags": false
 },
 "nbformat": 4,
 "nbformat_minor": 4
}
