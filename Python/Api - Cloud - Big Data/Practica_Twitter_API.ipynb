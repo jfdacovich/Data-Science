{
 "cells": [
  {
   "cell_type": "markdown",
   "metadata": {},
   "source": [
    "# Inicialización de Twitter"
   ]
  },
  {
   "cell_type": "markdown",
   "metadata": {},
   "source": [
    "Creamos una función para la recogida de las credenciales:"
   ]
  },
  {
   "cell_type": "code",
   "execution_count": 1,
   "metadata": {},
   "outputs": [],
   "source": [
    "def get_creds(line):\n",
    "    keys = []\n",
    "    for l in line:\n",
    "        keys.append(l.split(\"=\")[1].splitlines(False)[0])\n",
    "    return keys"
   ]
  },
  {
   "cell_type": "markdown",
   "metadata": {},
   "source": [
    "Librerias para interactuar con el sistema.."
   ]
  },
  {
   "cell_type": "code",
   "execution_count": 2,
   "metadata": {},
   "outputs": [],
   "source": [
    "import os\n",
    "tw_creeds = open(\"CR.\", \"r\")\n",
    "lines = tw_creeds.readlines()"
   ]
  },
  {
   "cell_type": "code",
   "execution_count": 3,
   "metadata": {},
   "outputs": [
    {
     "data": {
      "text/plain": [
       "'3.9.0'"
      ]
     },
     "execution_count": 3,
     "metadata": {},
     "output_type": "execute_result"
    }
   ],
   "source": [
    "import tweepy\n",
    "tweepy.__version__"
   ]
  },
  {
   "cell_type": "code",
   "execution_count": 4,
   "metadata": {},
   "outputs": [],
   "source": [
    "import json"
   ]
  },
  {
   "cell_type": "code",
   "execution_count": 5,
   "metadata": {},
   "outputs": [],
   "source": [
    "# Procederemos con los creds de Twitter\n",
    "CONSUMER_KEY = get_creds(lines)[0]\n",
    "CONSUMER_SECRET = get_creds(lines)[1]\n",
    "ACCESS_TOKEN = get_creds(lines)[2]\n",
    "ACCESS_TOKEN_SECRET = get_creds(lines)[3]"
   ]
  },
  {
   "cell_type": "markdown",
   "metadata": {},
   "source": [
    "`1) Interactuamos con la API de Twitter`"
   ]
  },
  {
   "cell_type": "code",
   "execution_count": 6,
   "metadata": {},
   "outputs": [],
   "source": [
    "auth = tweepy.OAuthHandler(CONSUMER_KEY, CONSUMER_SECRET)\n",
    "auth.set_access_token(ACCESS_TOKEN, ACCESS_TOKEN_SECRET)"
   ]
  },
  {
   "cell_type": "markdown",
   "metadata": {},
   "source": [
    "`2) Lanzamos la api`"
   ]
  },
  {
   "cell_type": "code",
   "execution_count": 7,
   "metadata": {},
   "outputs": [],
   "source": [
    "api = tweepy.API(auth, wait_on_rate_limit = True, wait_on_rate_limit_notify= True)"
   ]
  },
  {
   "cell_type": "markdown",
   "metadata": {},
   "source": [
    "##  Obtenemos datos de mi usuario `\"jorgeffd\"` usando la librería tweepy"
   ]
  },
  {
   "cell_type": "code",
   "execution_count": 8,
   "metadata": {
    "scrolled": false
   },
   "outputs": [
    {
     "name": "stdout",
     "output_type": "stream",
     "text": [
      "{\n",
      "  \"id\": 534747417,\n",
      "  \"id_str\": \"534747417\",\n",
      "  \"name\": \"JORGE FAIETA\",\n",
      "  \"screen_name\": \"Jorgeffd\",\n",
      "  \"location\": \"Madrid, Comunidad de Madrid\",\n",
      "  \"profile_location\": {\n",
      "    \"id\": \"ea520f3528c9b3e4\",\n",
      "    \"url\": \"https://api.twitter.com/1.1/geo/id/ea520f3528c9b3e4.json\",\n",
      "    \"place_type\": \"unknown\",\n",
      "    \"name\": \"Madrid, Comunidad de Madrid\",\n",
      "    \"full_name\": \"Madrid, Comunidad de Madrid\",\n",
      "    \"country_code\": \"\",\n",
      "    \"country\": \"\",\n",
      "    \"contained_within\": [],\n",
      "    \"bounding_box\": null,\n",
      "    \"attributes\": {}\n",
      "  },\n",
      "  \"description\": \"\\u03a6\",\n",
      "  \"url\": null,\n",
      "  \"entities\": {\n",
      "    \"description\": {\n",
      "      \"urls\": []\n",
      "    }\n",
      "  },\n",
      "  \"protected\": false,\n",
      "  \"followers_count\": 96,\n",
      "  \"friends_count\": 350,\n",
      "  \"listed_count\": 0,\n",
      "  \"created_at\": \"Fri Mar 23 19:43:08 +0000 2012\",\n",
      "  \"favourites_count\": 769,\n",
      "  \"utc_offset\": null,\n",
      "  \"time_zone\": null,\n",
      "  \"geo_enabled\": false,\n",
      "  \"verified\": false,\n",
      "  \"statuses_count\": 4460,\n",
      "  \"lang\": null,\n",
      "  \"status\": {\n",
      "    \"created_at\": \"Tue Jan 12 14:28:38 +0000 2021\",\n",
      "    \"id\": 1349000336879611906,\n",
      "    \"id_str\": \"1349000336879611906\",\n",
      "    \"text\": \"RT @MaihenH: Este es el mejor Twitt que he le\\u00eddo hoy. \\u201cFacebook y Twitter son ejemplos del socialismo: lo obtienes gratis, no tienes voz ni\\u2026\",\n",
      "    \"truncated\": false,\n",
      "    \"entities\": {\n",
      "      \"hashtags\": [],\n",
      "      \"symbols\": [],\n",
      "      \"user_mentions\": [\n",
      "        {\n",
      "          \"screen_name\": \"MaihenH\",\n",
      "          \"name\": \"Maihen\",\n",
      "          \"id\": 1610496259,\n",
      "          \"id_str\": \"1610496259\",\n",
      "          \"indices\": [\n",
      "            3,\n",
      "            11\n",
      "          ]\n",
      "        }\n",
      "      ],\n",
      "      \"urls\": []\n",
      "    },\n",
      "    \"source\": \"<a href=\\\"http://twitter.com/download/iphone\\\" rel=\\\"nofollow\\\">Twitter for iPhone</a>\",\n",
      "    \"in_reply_to_status_id\": null,\n",
      "    \"in_reply_to_status_id_str\": null,\n",
      "    \"in_reply_to_user_id\": null,\n",
      "    \"in_reply_to_user_id_str\": null,\n",
      "    \"in_reply_to_screen_name\": null,\n",
      "    \"geo\": null,\n",
      "    \"coordinates\": null,\n",
      "    \"place\": null,\n",
      "    \"contributors\": null,\n",
      "    \"retweeted_status\": {\n",
      "      \"created_at\": \"Mon Jan 11 21:40:14 +0000 2021\",\n",
      "      \"id\": 1348746565851226117,\n",
      "      \"id_str\": \"1348746565851226117\",\n",
      "      \"text\": \"Este es el mejor Twitt que he le\\u00eddo hoy. \\u201cFacebook y Twitter son ejemplos del socialismo: lo obtienes gratis, no ti\\u2026 https://t.co/UXs4QeD0Ct\",\n",
      "      \"truncated\": true,\n",
      "      \"entities\": {\n",
      "        \"hashtags\": [],\n",
      "        \"symbols\": [],\n",
      "        \"user_mentions\": [],\n",
      "        \"urls\": [\n",
      "          {\n",
      "            \"url\": \"https://t.co/UXs4QeD0Ct\",\n",
      "            \"expanded_url\": \"https://twitter.com/i/web/status/1348746565851226117\",\n",
      "            \"display_url\": \"twitter.com/i/web/status/1\\u2026\",\n",
      "            \"indices\": [\n",
      "              117,\n",
      "              140\n",
      "            ]\n",
      "          }\n",
      "        ]\n",
      "      },\n",
      "      \"source\": \"<a href=\\\"http://twitter.com/download/android\\\" rel=\\\"nofollow\\\">Twitter for Android</a>\",\n",
      "      \"in_reply_to_status_id\": null,\n",
      "      \"in_reply_to_status_id_str\": null,\n",
      "      \"in_reply_to_user_id\": null,\n",
      "      \"in_reply_to_user_id_str\": null,\n",
      "      \"in_reply_to_screen_name\": null,\n",
      "      \"geo\": null,\n",
      "      \"coordinates\": null,\n",
      "      \"place\": null,\n",
      "      \"contributors\": null,\n",
      "      \"is_quote_status\": true,\n",
      "      \"quoted_status_id\": 1348299065512103936,\n",
      "      \"quoted_status_id_str\": \"1348299065512103936\",\n",
      "      \"retweet_count\": 1345,\n",
      "      \"favorite_count\": 1613,\n",
      "      \"favorited\": true,\n",
      "      \"retweeted\": true,\n",
      "      \"possibly_sensitive\": false,\n",
      "      \"lang\": \"es\"\n",
      "    },\n",
      "    \"is_quote_status\": true,\n",
      "    \"quoted_status_id\": 1348299065512103936,\n",
      "    \"quoted_status_id_str\": \"1348299065512103936\",\n",
      "    \"retweet_count\": 1345,\n",
      "    \"favorite_count\": 0,\n",
      "    \"favorited\": true,\n",
      "    \"retweeted\": true,\n",
      "    \"lang\": \"es\"\n",
      "  },\n",
      "  \"contributors_enabled\": false,\n",
      "  \"is_translator\": false,\n",
      "  \"is_translation_enabled\": false,\n",
      "  \"profile_background_color\": \"C0DEED\",\n",
      "  \"profile_background_image_url\": \"http://abs.twimg.com/images/themes/theme1/bg.png\",\n",
      "  \"profile_background_image_url_https\": \"https://abs.twimg.com/images/themes/theme1/bg.png\",\n",
      "  \"profile_background_tile\": false,\n",
      "  \"profile_image_url\": \"http://pbs.twimg.com/profile_images/460118094040817664/ptAXZ9x3_normal.jpeg\",\n",
      "  \"profile_image_url_https\": \"https://pbs.twimg.com/profile_images/460118094040817664/ptAXZ9x3_normal.jpeg\",\n",
      "  \"profile_link_color\": \"1DA1F2\",\n",
      "  \"profile_sidebar_border_color\": \"C0DEED\",\n",
      "  \"profile_sidebar_fill_color\": \"DDEEF6\",\n",
      "  \"profile_text_color\": \"333333\",\n",
      "  \"profile_use_background_image\": true,\n",
      "  \"has_extended_profile\": false,\n",
      "  \"default_profile\": true,\n",
      "  \"default_profile_image\": false,\n",
      "  \"following\": false,\n",
      "  \"follow_request_sent\": false,\n",
      "  \"notifications\": false,\n",
      "  \"translator_type\": \"none\",\n",
      "  \"suspended\": false,\n",
      "  \"needs_phone_verification\": false\n",
      "}\n"
     ]
    }
   ],
   "source": [
    "data = api.me()\n",
    "print(json.dumps(data._json, indent=2))\n",
    "# def jprint(obj):\n",
    "    #creamos el formato string\n",
    "    #text = json.dumbs(obj,sort_keys=True,indent=4)\n",
    "    #print(text)"
   ]
  },
  {
   "cell_type": "markdown",
   "metadata": {},
   "source": [
    "#### Alternativas explicadas por Marco:"
   ]
  },
  {
   "cell_type": "code",
   "execution_count": 9,
   "metadata": {},
   "outputs": [
    {
     "name": "stdout",
     "output_type": "stream",
     "text": [
      "El tipo de datos de la variable user es: <class 'tweepy.models.User'>\n",
      "El nombre de usuario es: Jorgeffd\n",
      "El id de usuario es: 534747417\n"
     ]
    }
   ],
   "source": [
    "user = api.get_user(\"Jorgeffd\")\n",
    "print(\"El tipo de datos de la variable user es: {}\".format(type(user)))\n",
    "print(\"El nombre de usuario es: {}\".format(user.screen_name))\n",
    "print(\"El id de usuario es: {}\".format(user.id))"
   ]
  },
  {
   "cell_type": "code",
   "execution_count": 10,
   "metadata": {},
   "outputs": [
    {
     "name": "stdout",
     "output_type": "stream",
     "text": [
      "El numero de followers: 96\n",
      "El numero de amigos: 350\n",
      "El numero de tweets: 4460\n"
     ]
    }
   ],
   "source": [
    "# Mostramos algunos atributos del usuario recuperado\n",
    "print(\"El numero de followers: {}\".format(user.followers_count))\n",
    "print(\"El numero de amigos: {}\".format(user.friends_count))\n",
    "print(\"El numero de tweets: {}\".format(user.statuses_count))"
   ]
  },
  {
   "cell_type": "markdown",
   "metadata": {},
   "source": [
    "###  Obtenemos información de otro usuario:  `realDonaldTrump`"
   ]
  },
  {
   "cell_type": "code",
   "execution_count": null,
   "metadata": {},
   "outputs": [],
   "source": [
    "data1 = api.get_user(\"realDonaldTrump\")\n",
    "print(json.dumps(data1._json, indent=2))"
   ]
  },
  {
   "cell_type": "markdown",
   "metadata": {},
   "source": [
    "### Obteniendo followers de un usuario"
   ]
  },
  {
   "cell_type": "code",
   "execution_count": null,
   "metadata": {},
   "outputs": [],
   "source": [
    "data2 = api.followers(screen_name = \"realDonaldTrump\") #data2 sera un arreglo \n",
    "print(len(data2))\n",
    "# la api de twitter entrega los datos en grupos de 20 o paginados\n",
    "for user in data2:\n",
    "    print(json.dumps(user._json, indent=2))"
   ]
  },
  {
   "cell_type": "code",
   "execution_count": null,
   "metadata": {},
   "outputs": [],
   "source": [
    "# Con Cursor(clase implementada en twitter) podré obtener los items que desee sin preocuparme de la paginación\n",
    "for user in tweepy.Cursor(api.followers, screen_name = \"realDonaldTrump\"). items(50):\n",
    "    print(json.dumps(user._json, indent=2))"
   ]
  },
  {
   "cell_type": "markdown",
   "metadata": {},
   "source": [
    "### Obtener los friends o followees utilizando Cursor"
   ]
  },
  {
   "cell_type": "code",
   "execution_count": null,
   "metadata": {},
   "outputs": [],
   "source": [
    "for user in tweepy.Cursor(api.friends, screen_name = \"realDonaldTrump\"). items(2):\n",
    "    print(json.dumps(user._json, indent=2))"
   ]
  },
  {
   "cell_type": "markdown",
   "metadata": {},
   "source": [
    "### Obtener el timeline de un usuario"
   ]
  },
  {
   "cell_type": "code",
   "execution_count": null,
   "metadata": {},
   "outputs": [],
   "source": [
    "for tweet in tweepy.Cursor(api.user_timeline, screen_name = \"realDonaldTrump\", tweet_mode=\"extended\").items(1):\n",
    "    print(json.dumps(tweet._json, indent=2))# tweet_mode determina la longitud del tweet"
   ]
  },
  {
   "cell_type": "markdown",
   "metadata": {},
   "source": [
    "### Buscar tweets"
   ]
  },
  {
   "cell_type": "code",
   "execution_count": null,
   "metadata": {
    "scrolled": false
   },
   "outputs": [],
   "source": [
    "# el parametro \"q\" significa que la busqueda se realizara por texto\n",
    "for tweet in tweepy.Cursor(api.search, q=\"ertes sin cobrar\", tweet_mode= \"extended\").items(5):\n",
    "     print(json.dumps(tweet._json, indent=2))"
   ]
  },
  {
   "cell_type": "code",
   "execution_count": null,
   "metadata": {},
   "outputs": [],
   "source": [
    "for tweet in tweepy.Cursor(api.search, q=\"ertes sin cobrar\", tweet_mode= \"extended\").items(5):\n",
    "     print(tweet._json[\"full_text\"]) # accedo solo al texto"
   ]
  },
  {
   "cell_type": "markdown",
   "metadata": {},
   "source": [
    "### Escribiendo un Tweet"
   ]
  },
  {
   "cell_type": "code",
   "execution_count": 12,
   "metadata": {},
   "outputs": [
    {
     "data": {
      "text/plain": [
       "Status(_api=<tweepy.api.API object at 0x103db7110>, _json={'created_at': 'Wed Jan 13 18:33:26 +0000 2021', 'id': 1349424331047186441, 'id_str': '1349424331047186441', 'text': 'prueba', 'truncated': False, 'entities': {'hashtags': [], 'symbols': [], 'user_mentions': [], 'urls': []}, 'source': '', 'in_reply_to_status_id': None, 'in_reply_to_status_id_str': None, 'in_reply_to_user_id': None, 'in_reply_to_user_id_str': None, 'in_reply_to_screen_name': None, 'user': {'id': 534747417, 'id_str': '534747417', 'name': 'JORGE FAIETA', 'screen_name': 'Jorgeffd', 'location': 'Madrid, Comunidad de Madrid', 'description': 'Φ', 'url': None, 'entities': {'description': {'urls': []}}, 'protected': False, 'followers_count': 96, 'friends_count': 350, 'listed_count': 0, 'created_at': 'Fri Mar 23 19:43:08 +0000 2012', 'favourites_count': 769, 'utc_offset': None, 'time_zone': None, 'geo_enabled': False, 'verified': False, 'statuses_count': 4459, 'lang': None, 'contributors_enabled': False, 'is_translator': False, 'is_translation_enabled': False, 'profile_background_color': 'C0DEED', 'profile_background_image_url': 'http://abs.twimg.com/images/themes/theme1/bg.png', 'profile_background_image_url_https': 'https://abs.twimg.com/images/themes/theme1/bg.png', 'profile_background_tile': False, 'profile_image_url': 'http://pbs.twimg.com/profile_images/460118094040817664/ptAXZ9x3_normal.jpeg', 'profile_image_url_https': 'https://pbs.twimg.com/profile_images/460118094040817664/ptAXZ9x3_normal.jpeg', 'profile_link_color': '1DA1F2', 'profile_sidebar_border_color': 'C0DEED', 'profile_sidebar_fill_color': 'DDEEF6', 'profile_text_color': '333333', 'profile_use_background_image': True, 'has_extended_profile': False, 'default_profile': True, 'default_profile_image': False, 'following': False, 'follow_request_sent': False, 'notifications': False, 'translator_type': 'none'}, 'geo': None, 'coordinates': None, 'place': None, 'contributors': None, 'is_quote_status': False, 'retweet_count': 0, 'favorite_count': 0, 'favorited': False, 'retweeted': False, 'lang': 'es'}, created_at=datetime.datetime(2021, 1, 13, 18, 33, 26), id=1349424331047186441, id_str='1349424331047186441', text='prueba', truncated=False, entities={'hashtags': [], 'symbols': [], 'user_mentions': [], 'urls': []}, source='', source_url=None, in_reply_to_status_id=None, in_reply_to_status_id_str=None, in_reply_to_user_id=None, in_reply_to_user_id_str=None, in_reply_to_screen_name=None, author=User(_api=<tweepy.api.API object at 0x103db7110>, _json={'id': 534747417, 'id_str': '534747417', 'name': 'JORGE FAIETA', 'screen_name': 'Jorgeffd', 'location': 'Madrid, Comunidad de Madrid', 'description': 'Φ', 'url': None, 'entities': {'description': {'urls': []}}, 'protected': False, 'followers_count': 96, 'friends_count': 350, 'listed_count': 0, 'created_at': 'Fri Mar 23 19:43:08 +0000 2012', 'favourites_count': 769, 'utc_offset': None, 'time_zone': None, 'geo_enabled': False, 'verified': False, 'statuses_count': 4459, 'lang': None, 'contributors_enabled': False, 'is_translator': False, 'is_translation_enabled': False, 'profile_background_color': 'C0DEED', 'profile_background_image_url': 'http://abs.twimg.com/images/themes/theme1/bg.png', 'profile_background_image_url_https': 'https://abs.twimg.com/images/themes/theme1/bg.png', 'profile_background_tile': False, 'profile_image_url': 'http://pbs.twimg.com/profile_images/460118094040817664/ptAXZ9x3_normal.jpeg', 'profile_image_url_https': 'https://pbs.twimg.com/profile_images/460118094040817664/ptAXZ9x3_normal.jpeg', 'profile_link_color': '1DA1F2', 'profile_sidebar_border_color': 'C0DEED', 'profile_sidebar_fill_color': 'DDEEF6', 'profile_text_color': '333333', 'profile_use_background_image': True, 'has_extended_profile': False, 'default_profile': True, 'default_profile_image': False, 'following': False, 'follow_request_sent': False, 'notifications': False, 'translator_type': 'none'}, id=534747417, id_str='534747417', name='JORGE FAIETA', screen_name='Jorgeffd', location='Madrid, Comunidad de Madrid', description='Φ', url=None, entities={'description': {'urls': []}}, protected=False, followers_count=96, friends_count=350, listed_count=0, created_at=datetime.datetime(2012, 3, 23, 19, 43, 8), favourites_count=769, utc_offset=None, time_zone=None, geo_enabled=False, verified=False, statuses_count=4459, lang=None, contributors_enabled=False, is_translator=False, is_translation_enabled=False, profile_background_color='C0DEED', profile_background_image_url='http://abs.twimg.com/images/themes/theme1/bg.png', profile_background_image_url_https='https://abs.twimg.com/images/themes/theme1/bg.png', profile_background_tile=False, profile_image_url='http://pbs.twimg.com/profile_images/460118094040817664/ptAXZ9x3_normal.jpeg', profile_image_url_https='https://pbs.twimg.com/profile_images/460118094040817664/ptAXZ9x3_normal.jpeg', profile_link_color='1DA1F2', profile_sidebar_border_color='C0DEED', profile_sidebar_fill_color='DDEEF6', profile_text_color='333333', profile_use_background_image=True, has_extended_profile=False, default_profile=True, default_profile_image=False, following=False, follow_request_sent=False, notifications=False, translator_type='none'), user=User(_api=<tweepy.api.API object at 0x103db7110>, _json={'id': 534747417, 'id_str': '534747417', 'name': 'JORGE FAIETA', 'screen_name': 'Jorgeffd', 'location': 'Madrid, Comunidad de Madrid', 'description': 'Φ', 'url': None, 'entities': {'description': {'urls': []}}, 'protected': False, 'followers_count': 96, 'friends_count': 350, 'listed_count': 0, 'created_at': 'Fri Mar 23 19:43:08 +0000 2012', 'favourites_count': 769, 'utc_offset': None, 'time_zone': None, 'geo_enabled': False, 'verified': False, 'statuses_count': 4459, 'lang': None, 'contributors_enabled': False, 'is_translator': False, 'is_translation_enabled': False, 'profile_background_color': 'C0DEED', 'profile_background_image_url': 'http://abs.twimg.com/images/themes/theme1/bg.png', 'profile_background_image_url_https': 'https://abs.twimg.com/images/themes/theme1/bg.png', 'profile_background_tile': False, 'profile_image_url': 'http://pbs.twimg.com/profile_images/460118094040817664/ptAXZ9x3_normal.jpeg', 'profile_image_url_https': 'https://pbs.twimg.com/profile_images/460118094040817664/ptAXZ9x3_normal.jpeg', 'profile_link_color': '1DA1F2', 'profile_sidebar_border_color': 'C0DEED', 'profile_sidebar_fill_color': 'DDEEF6', 'profile_text_color': '333333', 'profile_use_background_image': True, 'has_extended_profile': False, 'default_profile': True, 'default_profile_image': False, 'following': False, 'follow_request_sent': False, 'notifications': False, 'translator_type': 'none'}, id=534747417, id_str='534747417', name='JORGE FAIETA', screen_name='Jorgeffd', location='Madrid, Comunidad de Madrid', description='Φ', url=None, entities={'description': {'urls': []}}, protected=False, followers_count=96, friends_count=350, listed_count=0, created_at=datetime.datetime(2012, 3, 23, 19, 43, 8), favourites_count=769, utc_offset=None, time_zone=None, geo_enabled=False, verified=False, statuses_count=4459, lang=None, contributors_enabled=False, is_translator=False, is_translation_enabled=False, profile_background_color='C0DEED', profile_background_image_url='http://abs.twimg.com/images/themes/theme1/bg.png', profile_background_image_url_https='https://abs.twimg.com/images/themes/theme1/bg.png', profile_background_tile=False, profile_image_url='http://pbs.twimg.com/profile_images/460118094040817664/ptAXZ9x3_normal.jpeg', profile_image_url_https='https://pbs.twimg.com/profile_images/460118094040817664/ptAXZ9x3_normal.jpeg', profile_link_color='1DA1F2', profile_sidebar_border_color='C0DEED', profile_sidebar_fill_color='DDEEF6', profile_text_color='333333', profile_use_background_image=True, has_extended_profile=False, default_profile=True, default_profile_image=False, following=False, follow_request_sent=False, notifications=False, translator_type='none'), geo=None, coordinates=None, place=None, contributors=None, is_quote_status=False, retweet_count=0, favorite_count=0, favorited=False, retweeted=False, lang='es')"
      ]
     },
     "execution_count": 12,
     "metadata": {},
     "output_type": "execute_result"
    }
   ],
   "source": [
    "api.update_status('prueba')"
   ]
  },
  {
   "cell_type": "code",
   "execution_count": null,
   "metadata": {},
   "outputs": [],
   "source": [
    "# Dar like a un tweet\n",
    "data = api.me()\n",
    "id_ultimo_tweet = data._json[\"status\"][\"id\"]\n",
    "print id_ultimo_tweet\n",
    "\n",
    "api.create_favorite(id_ultimo_tweet)\n",
    "api.destroy_favorite(id_ultimo_tweet) # dislike\n",
    "\n",
    "api.update_status(\"hmmmm x2\", in_reply_to_status_id=id_ultimo_tweet) # responder a un tweet\n"
   ]
  },
  {
   "cell_type": "code",
   "execution_count": 13,
   "metadata": {},
   "outputs": [],
   "source": [
    "class TweetsListener(tweepy.StreamListener):\n",
    "\n",
    "    def on_connect(self):\n",
    "        print(\"Estoy conectado!\")\n",
    "\n",
    "    def on_status(self, status):\n",
    "        print(status.text)\n",
    "\n",
    "    def on_error(self, status_code):\n",
    "        print(\"Error\", status_code)"
   ]
  },
  {
   "cell_type": "code",
   "execution_count": 14,
   "metadata": {},
   "outputs": [
    {
     "name": "stdout",
     "output_type": "stream",
     "text": [
      "Estoy conectado!\n"
     ]
    },
    {
     "ename": "KeyboardInterrupt",
     "evalue": "",
     "output_type": "error",
     "traceback": [
      "\u001b[0;31m---------------------------------------------------------------------------\u001b[0m",
      "\u001b[0;31mWantReadError\u001b[0m                             Traceback (most recent call last)",
      "\u001b[0;32m/opt/anaconda3/lib/python3.7/site-packages/urllib3/contrib/pyopenssl.py\u001b[0m in \u001b[0;36mrecv_into\u001b[0;34m(self, *args, **kwargs)\u001b[0m\n\u001b[1;32m    312\u001b[0m         \u001b[0;32mtry\u001b[0m\u001b[0;34m:\u001b[0m\u001b[0;34m\u001b[0m\u001b[0;34m\u001b[0m\u001b[0m\n\u001b[0;32m--> 313\u001b[0;31m             \u001b[0;32mreturn\u001b[0m \u001b[0mself\u001b[0m\u001b[0;34m.\u001b[0m\u001b[0mconnection\u001b[0m\u001b[0;34m.\u001b[0m\u001b[0mrecv_into\u001b[0m\u001b[0;34m(\u001b[0m\u001b[0;34m*\u001b[0m\u001b[0margs\u001b[0m\u001b[0;34m,\u001b[0m \u001b[0;34m**\u001b[0m\u001b[0mkwargs\u001b[0m\u001b[0;34m)\u001b[0m\u001b[0;34m\u001b[0m\u001b[0;34m\u001b[0m\u001b[0m\n\u001b[0m\u001b[1;32m    314\u001b[0m         \u001b[0;32mexcept\u001b[0m \u001b[0mOpenSSL\u001b[0m\u001b[0;34m.\u001b[0m\u001b[0mSSL\u001b[0m\u001b[0;34m.\u001b[0m\u001b[0mSysCallError\u001b[0m \u001b[0;32mas\u001b[0m \u001b[0me\u001b[0m\u001b[0;34m:\u001b[0m\u001b[0;34m\u001b[0m\u001b[0;34m\u001b[0m\u001b[0m\n",
      "\u001b[0;32m/opt/anaconda3/lib/python3.7/site-packages/OpenSSL/SSL.py\u001b[0m in \u001b[0;36mrecv_into\u001b[0;34m(self, buffer, nbytes, flags)\u001b[0m\n\u001b[1;32m   1839\u001b[0m             \u001b[0mresult\u001b[0m \u001b[0;34m=\u001b[0m \u001b[0m_lib\u001b[0m\u001b[0;34m.\u001b[0m\u001b[0mSSL_read\u001b[0m\u001b[0;34m(\u001b[0m\u001b[0mself\u001b[0m\u001b[0;34m.\u001b[0m\u001b[0m_ssl\u001b[0m\u001b[0;34m,\u001b[0m \u001b[0mbuf\u001b[0m\u001b[0;34m,\u001b[0m \u001b[0mnbytes\u001b[0m\u001b[0;34m)\u001b[0m\u001b[0;34m\u001b[0m\u001b[0;34m\u001b[0m\u001b[0m\n\u001b[0;32m-> 1840\u001b[0;31m         \u001b[0mself\u001b[0m\u001b[0;34m.\u001b[0m\u001b[0m_raise_ssl_error\u001b[0m\u001b[0;34m(\u001b[0m\u001b[0mself\u001b[0m\u001b[0;34m.\u001b[0m\u001b[0m_ssl\u001b[0m\u001b[0;34m,\u001b[0m \u001b[0mresult\u001b[0m\u001b[0;34m)\u001b[0m\u001b[0;34m\u001b[0m\u001b[0;34m\u001b[0m\u001b[0m\n\u001b[0m\u001b[1;32m   1841\u001b[0m \u001b[0;34m\u001b[0m\u001b[0m\n",
      "\u001b[0;32m/opt/anaconda3/lib/python3.7/site-packages/OpenSSL/SSL.py\u001b[0m in \u001b[0;36m_raise_ssl_error\u001b[0;34m(self, ssl, result)\u001b[0m\n\u001b[1;32m   1645\u001b[0m         \u001b[0;32mif\u001b[0m \u001b[0merror\u001b[0m \u001b[0;34m==\u001b[0m \u001b[0m_lib\u001b[0m\u001b[0;34m.\u001b[0m\u001b[0mSSL_ERROR_WANT_READ\u001b[0m\u001b[0;34m:\u001b[0m\u001b[0;34m\u001b[0m\u001b[0;34m\u001b[0m\u001b[0m\n\u001b[0;32m-> 1646\u001b[0;31m             \u001b[0;32mraise\u001b[0m \u001b[0mWantReadError\u001b[0m\u001b[0;34m(\u001b[0m\u001b[0;34m)\u001b[0m\u001b[0;34m\u001b[0m\u001b[0;34m\u001b[0m\u001b[0m\n\u001b[0m\u001b[1;32m   1647\u001b[0m         \u001b[0;32melif\u001b[0m \u001b[0merror\u001b[0m \u001b[0;34m==\u001b[0m \u001b[0m_lib\u001b[0m\u001b[0;34m.\u001b[0m\u001b[0mSSL_ERROR_WANT_WRITE\u001b[0m\u001b[0;34m:\u001b[0m\u001b[0;34m\u001b[0m\u001b[0;34m\u001b[0m\u001b[0m\n",
      "\u001b[0;31mWantReadError\u001b[0m: ",
      "\nDuring handling of the above exception, another exception occurred:\n",
      "\u001b[0;31mKeyboardInterrupt\u001b[0m                         Traceback (most recent call last)",
      "\u001b[0;32m<ipython-input-14-fdd2f85916d7>\u001b[0m in \u001b[0;36m<module>\u001b[0;34m\u001b[0m\n\u001b[1;32m      2\u001b[0m \u001b[0mstreamingApi\u001b[0m \u001b[0;34m=\u001b[0m \u001b[0mtweepy\u001b[0m\u001b[0;34m.\u001b[0m\u001b[0mStream\u001b[0m\u001b[0;34m(\u001b[0m\u001b[0mauth\u001b[0m\u001b[0;34m=\u001b[0m\u001b[0mapi\u001b[0m\u001b[0;34m.\u001b[0m\u001b[0mauth\u001b[0m\u001b[0;34m,\u001b[0m \u001b[0mlistener\u001b[0m\u001b[0;34m=\u001b[0m\u001b[0mstream\u001b[0m\u001b[0;34m)\u001b[0m\u001b[0;34m\u001b[0m\u001b[0;34m\u001b[0m\u001b[0m\n\u001b[1;32m      3\u001b[0m streamingApi.filter(\n\u001b[0;32m----> 4\u001b[0;31m     follow=[\"534747417\"])\n\u001b[0m",
      "\u001b[0;32m/opt/anaconda3/lib/python3.7/site-packages/tweepy/streaming.py\u001b[0m in \u001b[0;36mfilter\u001b[0;34m(self, follow, track, is_async, locations, stall_warnings, languages, encoding, filter_level)\u001b[0m\n\u001b[1;32m    472\u001b[0m             \u001b[0mself\u001b[0m\u001b[0;34m.\u001b[0m\u001b[0mbody\u001b[0m\u001b[0;34m[\u001b[0m\u001b[0;34m'filter_level'\u001b[0m\u001b[0;34m]\u001b[0m \u001b[0;34m=\u001b[0m \u001b[0mfilter_level\u001b[0m\u001b[0;34m.\u001b[0m\u001b[0mencode\u001b[0m\u001b[0;34m(\u001b[0m\u001b[0mencoding\u001b[0m\u001b[0;34m)\u001b[0m\u001b[0;34m\u001b[0m\u001b[0;34m\u001b[0m\u001b[0m\n\u001b[1;32m    473\u001b[0m         \u001b[0mself\u001b[0m\u001b[0;34m.\u001b[0m\u001b[0msession\u001b[0m\u001b[0;34m.\u001b[0m\u001b[0mparams\u001b[0m \u001b[0;34m=\u001b[0m \u001b[0;34m{\u001b[0m\u001b[0;34m'delimited'\u001b[0m\u001b[0;34m:\u001b[0m \u001b[0;34m'length'\u001b[0m\u001b[0;34m}\u001b[0m\u001b[0;34m\u001b[0m\u001b[0;34m\u001b[0m\u001b[0m\n\u001b[0;32m--> 474\u001b[0;31m         \u001b[0mself\u001b[0m\u001b[0;34m.\u001b[0m\u001b[0m_start\u001b[0m\u001b[0;34m(\u001b[0m\u001b[0mis_async\u001b[0m\u001b[0;34m)\u001b[0m\u001b[0;34m\u001b[0m\u001b[0;34m\u001b[0m\u001b[0m\n\u001b[0m\u001b[1;32m    475\u001b[0m \u001b[0;34m\u001b[0m\u001b[0m\n\u001b[1;32m    476\u001b[0m     def sitestream(self, follow, stall_warnings=False,\n",
      "\u001b[0;32m/opt/anaconda3/lib/python3.7/site-packages/tweepy/streaming.py\u001b[0m in \u001b[0;36m_start\u001b[0;34m(self, is_async)\u001b[0m\n\u001b[1;32m    387\u001b[0m             \u001b[0mself\u001b[0m\u001b[0;34m.\u001b[0m\u001b[0m_thread\u001b[0m\u001b[0;34m.\u001b[0m\u001b[0mstart\u001b[0m\u001b[0;34m(\u001b[0m\u001b[0;34m)\u001b[0m\u001b[0;34m\u001b[0m\u001b[0;34m\u001b[0m\u001b[0m\n\u001b[1;32m    388\u001b[0m         \u001b[0;32melse\u001b[0m\u001b[0;34m:\u001b[0m\u001b[0;34m\u001b[0m\u001b[0;34m\u001b[0m\u001b[0m\n\u001b[0;32m--> 389\u001b[0;31m             \u001b[0mself\u001b[0m\u001b[0;34m.\u001b[0m\u001b[0m_run\u001b[0m\u001b[0;34m(\u001b[0m\u001b[0;34m)\u001b[0m\u001b[0;34m\u001b[0m\u001b[0;34m\u001b[0m\u001b[0m\n\u001b[0m\u001b[1;32m    390\u001b[0m \u001b[0;34m\u001b[0m\u001b[0m\n\u001b[1;32m    391\u001b[0m     \u001b[0;32mdef\u001b[0m \u001b[0mon_closed\u001b[0m\u001b[0;34m(\u001b[0m\u001b[0mself\u001b[0m\u001b[0;34m,\u001b[0m \u001b[0mresp\u001b[0m\u001b[0;34m)\u001b[0m\u001b[0;34m:\u001b[0m\u001b[0;34m\u001b[0m\u001b[0;34m\u001b[0m\u001b[0m\n",
      "\u001b[0;32m/opt/anaconda3/lib/python3.7/site-packages/tweepy/streaming.py\u001b[0m in \u001b[0;36m_run\u001b[0;34m(self)\u001b[0m\n\u001b[1;32m    287\u001b[0m                     \u001b[0mself\u001b[0m\u001b[0;34m.\u001b[0m\u001b[0msnooze_time\u001b[0m \u001b[0;34m=\u001b[0m \u001b[0mself\u001b[0m\u001b[0;34m.\u001b[0m\u001b[0msnooze_time_step\u001b[0m\u001b[0;34m\u001b[0m\u001b[0;34m\u001b[0m\u001b[0m\n\u001b[1;32m    288\u001b[0m                     \u001b[0mself\u001b[0m\u001b[0;34m.\u001b[0m\u001b[0mlistener\u001b[0m\u001b[0;34m.\u001b[0m\u001b[0mon_connect\u001b[0m\u001b[0;34m(\u001b[0m\u001b[0;34m)\u001b[0m\u001b[0;34m\u001b[0m\u001b[0;34m\u001b[0m\u001b[0m\n\u001b[0;32m--> 289\u001b[0;31m                     \u001b[0mself\u001b[0m\u001b[0;34m.\u001b[0m\u001b[0m_read_loop\u001b[0m\u001b[0;34m(\u001b[0m\u001b[0mresp\u001b[0m\u001b[0;34m)\u001b[0m\u001b[0;34m\u001b[0m\u001b[0;34m\u001b[0m\u001b[0m\n\u001b[0m\u001b[1;32m    290\u001b[0m             \u001b[0;32mexcept\u001b[0m \u001b[0;34m(\u001b[0m\u001b[0mTimeout\u001b[0m\u001b[0;34m,\u001b[0m \u001b[0mssl\u001b[0m\u001b[0;34m.\u001b[0m\u001b[0mSSLError\u001b[0m\u001b[0;34m)\u001b[0m \u001b[0;32mas\u001b[0m \u001b[0mexc\u001b[0m\u001b[0;34m:\u001b[0m\u001b[0;34m\u001b[0m\u001b[0;34m\u001b[0m\u001b[0m\n\u001b[1;32m    291\u001b[0m                 \u001b[0;31m# This is still necessary, as a SSLError can actually be\u001b[0m\u001b[0;34m\u001b[0m\u001b[0;34m\u001b[0m\u001b[0;34m\u001b[0m\u001b[0m\n",
      "\u001b[0;32m/opt/anaconda3/lib/python3.7/site-packages/tweepy/streaming.py\u001b[0m in \u001b[0;36m_read_loop\u001b[0;34m(self, resp)\u001b[0m\n\u001b[1;32m    337\u001b[0m             \u001b[0mlength\u001b[0m \u001b[0;34m=\u001b[0m \u001b[0;36m0\u001b[0m\u001b[0;34m\u001b[0m\u001b[0;34m\u001b[0m\u001b[0m\n\u001b[1;32m    338\u001b[0m             \u001b[0;32mwhile\u001b[0m \u001b[0;32mnot\u001b[0m \u001b[0mresp\u001b[0m\u001b[0;34m.\u001b[0m\u001b[0mraw\u001b[0m\u001b[0;34m.\u001b[0m\u001b[0mclosed\u001b[0m\u001b[0;34m:\u001b[0m\u001b[0;34m\u001b[0m\u001b[0;34m\u001b[0m\u001b[0m\n\u001b[0;32m--> 339\u001b[0;31m                 \u001b[0mline\u001b[0m \u001b[0;34m=\u001b[0m \u001b[0mbuf\u001b[0m\u001b[0;34m.\u001b[0m\u001b[0mread_line\u001b[0m\u001b[0;34m(\u001b[0m\u001b[0;34m)\u001b[0m\u001b[0;34m\u001b[0m\u001b[0;34m\u001b[0m\u001b[0m\n\u001b[0m\u001b[1;32m    340\u001b[0m                 \u001b[0mstripped_line\u001b[0m \u001b[0;34m=\u001b[0m \u001b[0mline\u001b[0m\u001b[0;34m.\u001b[0m\u001b[0mstrip\u001b[0m\u001b[0;34m(\u001b[0m\u001b[0;34m)\u001b[0m \u001b[0;32mif\u001b[0m \u001b[0mline\u001b[0m \u001b[0;32melse\u001b[0m \u001b[0mline\u001b[0m \u001b[0;31m# line is sometimes None so we need to check here\u001b[0m\u001b[0;34m\u001b[0m\u001b[0;34m\u001b[0m\u001b[0m\n\u001b[1;32m    341\u001b[0m                 \u001b[0;32mif\u001b[0m \u001b[0;32mnot\u001b[0m \u001b[0mstripped_line\u001b[0m\u001b[0;34m:\u001b[0m\u001b[0;34m\u001b[0m\u001b[0;34m\u001b[0m\u001b[0m\n",
      "\u001b[0;32m/opt/anaconda3/lib/python3.7/site-packages/tweepy/streaming.py\u001b[0m in \u001b[0;36mread_line\u001b[0;34m(self, sep)\u001b[0m\n\u001b[1;32m    198\u001b[0m             \u001b[0;32melse\u001b[0m\u001b[0;34m:\u001b[0m\u001b[0;34m\u001b[0m\u001b[0;34m\u001b[0m\u001b[0m\n\u001b[1;32m    199\u001b[0m                 \u001b[0mstart\u001b[0m \u001b[0;34m=\u001b[0m \u001b[0mlen\u001b[0m\u001b[0;34m(\u001b[0m\u001b[0mself\u001b[0m\u001b[0;34m.\u001b[0m\u001b[0m_buffer\u001b[0m\u001b[0;34m)\u001b[0m\u001b[0;34m\u001b[0m\u001b[0;34m\u001b[0m\u001b[0m\n\u001b[0;32m--> 200\u001b[0;31m             \u001b[0mself\u001b[0m\u001b[0;34m.\u001b[0m\u001b[0m_buffer\u001b[0m \u001b[0;34m+=\u001b[0m \u001b[0mself\u001b[0m\u001b[0;34m.\u001b[0m\u001b[0m_stream\u001b[0m\u001b[0;34m.\u001b[0m\u001b[0mread\u001b[0m\u001b[0;34m(\u001b[0m\u001b[0mself\u001b[0m\u001b[0;34m.\u001b[0m\u001b[0m_chunk_size\u001b[0m\u001b[0;34m)\u001b[0m\u001b[0;34m\u001b[0m\u001b[0;34m\u001b[0m\u001b[0m\n\u001b[0m\u001b[1;32m    201\u001b[0m         \u001b[0;32mreturn\u001b[0m \u001b[0msix\u001b[0m\u001b[0;34m.\u001b[0m\u001b[0mb\u001b[0m\u001b[0;34m(\u001b[0m\u001b[0;34m''\u001b[0m\u001b[0;34m)\u001b[0m\u001b[0;34m\u001b[0m\u001b[0;34m\u001b[0m\u001b[0m\n\u001b[1;32m    202\u001b[0m \u001b[0;34m\u001b[0m\u001b[0m\n",
      "\u001b[0;32m/opt/anaconda3/lib/python3.7/site-packages/urllib3/response.py\u001b[0m in \u001b[0;36mread\u001b[0;34m(self, amt, decode_content, cache_content)\u001b[0m\n\u001b[1;32m    505\u001b[0m             \u001b[0;32melse\u001b[0m\u001b[0;34m:\u001b[0m\u001b[0;34m\u001b[0m\u001b[0;34m\u001b[0m\u001b[0m\n\u001b[1;32m    506\u001b[0m                 \u001b[0mcache_content\u001b[0m \u001b[0;34m=\u001b[0m \u001b[0;32mFalse\u001b[0m\u001b[0;34m\u001b[0m\u001b[0;34m\u001b[0m\u001b[0m\n\u001b[0;32m--> 507\u001b[0;31m                 \u001b[0mdata\u001b[0m \u001b[0;34m=\u001b[0m \u001b[0mself\u001b[0m\u001b[0;34m.\u001b[0m\u001b[0m_fp\u001b[0m\u001b[0;34m.\u001b[0m\u001b[0mread\u001b[0m\u001b[0;34m(\u001b[0m\u001b[0mamt\u001b[0m\u001b[0;34m)\u001b[0m \u001b[0;32mif\u001b[0m \u001b[0;32mnot\u001b[0m \u001b[0mfp_closed\u001b[0m \u001b[0;32melse\u001b[0m \u001b[0;34mb\"\"\u001b[0m\u001b[0;34m\u001b[0m\u001b[0;34m\u001b[0m\u001b[0m\n\u001b[0m\u001b[1;32m    508\u001b[0m                 if (\n\u001b[1;32m    509\u001b[0m                     \u001b[0mamt\u001b[0m \u001b[0;34m!=\u001b[0m \u001b[0;36m0\u001b[0m \u001b[0;32mand\u001b[0m \u001b[0;32mnot\u001b[0m \u001b[0mdata\u001b[0m\u001b[0;34m\u001b[0m\u001b[0;34m\u001b[0m\u001b[0m\n",
      "\u001b[0;32m/opt/anaconda3/lib/python3.7/http/client.py\u001b[0m in \u001b[0;36mread\u001b[0;34m(self, amt)\u001b[0m\n\u001b[1;32m    455\u001b[0m             \u001b[0;31m# Amount is given, implement using readinto\u001b[0m\u001b[0;34m\u001b[0m\u001b[0;34m\u001b[0m\u001b[0;34m\u001b[0m\u001b[0m\n\u001b[1;32m    456\u001b[0m             \u001b[0mb\u001b[0m \u001b[0;34m=\u001b[0m \u001b[0mbytearray\u001b[0m\u001b[0;34m(\u001b[0m\u001b[0mamt\u001b[0m\u001b[0;34m)\u001b[0m\u001b[0;34m\u001b[0m\u001b[0;34m\u001b[0m\u001b[0m\n\u001b[0;32m--> 457\u001b[0;31m             \u001b[0mn\u001b[0m \u001b[0;34m=\u001b[0m \u001b[0mself\u001b[0m\u001b[0;34m.\u001b[0m\u001b[0mreadinto\u001b[0m\u001b[0;34m(\u001b[0m\u001b[0mb\u001b[0m\u001b[0;34m)\u001b[0m\u001b[0;34m\u001b[0m\u001b[0;34m\u001b[0m\u001b[0m\n\u001b[0m\u001b[1;32m    458\u001b[0m             \u001b[0;32mreturn\u001b[0m \u001b[0mmemoryview\u001b[0m\u001b[0;34m(\u001b[0m\u001b[0mb\u001b[0m\u001b[0;34m)\u001b[0m\u001b[0;34m[\u001b[0m\u001b[0;34m:\u001b[0m\u001b[0mn\u001b[0m\u001b[0;34m]\u001b[0m\u001b[0;34m.\u001b[0m\u001b[0mtobytes\u001b[0m\u001b[0;34m(\u001b[0m\u001b[0;34m)\u001b[0m\u001b[0;34m\u001b[0m\u001b[0;34m\u001b[0m\u001b[0m\n\u001b[1;32m    459\u001b[0m         \u001b[0;32melse\u001b[0m\u001b[0;34m:\u001b[0m\u001b[0;34m\u001b[0m\u001b[0;34m\u001b[0m\u001b[0m\n",
      "\u001b[0;32m/opt/anaconda3/lib/python3.7/http/client.py\u001b[0m in \u001b[0;36mreadinto\u001b[0;34m(self, b)\u001b[0m\n\u001b[1;32m    489\u001b[0m \u001b[0;34m\u001b[0m\u001b[0m\n\u001b[1;32m    490\u001b[0m         \u001b[0;32mif\u001b[0m \u001b[0mself\u001b[0m\u001b[0;34m.\u001b[0m\u001b[0mchunked\u001b[0m\u001b[0;34m:\u001b[0m\u001b[0;34m\u001b[0m\u001b[0;34m\u001b[0m\u001b[0m\n\u001b[0;32m--> 491\u001b[0;31m             \u001b[0;32mreturn\u001b[0m \u001b[0mself\u001b[0m\u001b[0;34m.\u001b[0m\u001b[0m_readinto_chunked\u001b[0m\u001b[0;34m(\u001b[0m\u001b[0mb\u001b[0m\u001b[0;34m)\u001b[0m\u001b[0;34m\u001b[0m\u001b[0;34m\u001b[0m\u001b[0m\n\u001b[0m\u001b[1;32m    492\u001b[0m \u001b[0;34m\u001b[0m\u001b[0m\n\u001b[1;32m    493\u001b[0m         \u001b[0;32mif\u001b[0m \u001b[0mself\u001b[0m\u001b[0;34m.\u001b[0m\u001b[0mlength\u001b[0m \u001b[0;32mis\u001b[0m \u001b[0;32mnot\u001b[0m \u001b[0;32mNone\u001b[0m\u001b[0;34m:\u001b[0m\u001b[0;34m\u001b[0m\u001b[0;34m\u001b[0m\u001b[0m\n",
      "\u001b[0;32m/opt/anaconda3/lib/python3.7/http/client.py\u001b[0m in \u001b[0;36m_readinto_chunked\u001b[0;34m(self, b)\u001b[0m\n\u001b[1;32m    584\u001b[0m         \u001b[0;32mtry\u001b[0m\u001b[0;34m:\u001b[0m\u001b[0;34m\u001b[0m\u001b[0;34m\u001b[0m\u001b[0m\n\u001b[1;32m    585\u001b[0m             \u001b[0;32mwhile\u001b[0m \u001b[0;32mTrue\u001b[0m\u001b[0;34m:\u001b[0m\u001b[0;34m\u001b[0m\u001b[0;34m\u001b[0m\u001b[0m\n\u001b[0;32m--> 586\u001b[0;31m                 \u001b[0mchunk_left\u001b[0m \u001b[0;34m=\u001b[0m \u001b[0mself\u001b[0m\u001b[0;34m.\u001b[0m\u001b[0m_get_chunk_left\u001b[0m\u001b[0;34m(\u001b[0m\u001b[0;34m)\u001b[0m\u001b[0;34m\u001b[0m\u001b[0;34m\u001b[0m\u001b[0m\n\u001b[0m\u001b[1;32m    587\u001b[0m                 \u001b[0;32mif\u001b[0m \u001b[0mchunk_left\u001b[0m \u001b[0;32mis\u001b[0m \u001b[0;32mNone\u001b[0m\u001b[0;34m:\u001b[0m\u001b[0;34m\u001b[0m\u001b[0;34m\u001b[0m\u001b[0m\n\u001b[1;32m    588\u001b[0m                     \u001b[0;32mreturn\u001b[0m \u001b[0mtotal_bytes\u001b[0m\u001b[0;34m\u001b[0m\u001b[0;34m\u001b[0m\u001b[0m\n",
      "\u001b[0;32m/opt/anaconda3/lib/python3.7/http/client.py\u001b[0m in \u001b[0;36m_get_chunk_left\u001b[0;34m(self)\u001b[0m\n\u001b[1;32m    552\u001b[0m                 \u001b[0mself\u001b[0m\u001b[0;34m.\u001b[0m\u001b[0m_safe_read\u001b[0m\u001b[0;34m(\u001b[0m\u001b[0;36m2\u001b[0m\u001b[0;34m)\u001b[0m  \u001b[0;31m# toss the CRLF at the end of the chunk\u001b[0m\u001b[0;34m\u001b[0m\u001b[0;34m\u001b[0m\u001b[0m\n\u001b[1;32m    553\u001b[0m             \u001b[0;32mtry\u001b[0m\u001b[0;34m:\u001b[0m\u001b[0;34m\u001b[0m\u001b[0;34m\u001b[0m\u001b[0m\n\u001b[0;32m--> 554\u001b[0;31m                 \u001b[0mchunk_left\u001b[0m \u001b[0;34m=\u001b[0m \u001b[0mself\u001b[0m\u001b[0;34m.\u001b[0m\u001b[0m_read_next_chunk_size\u001b[0m\u001b[0;34m(\u001b[0m\u001b[0;34m)\u001b[0m\u001b[0;34m\u001b[0m\u001b[0;34m\u001b[0m\u001b[0m\n\u001b[0m\u001b[1;32m    555\u001b[0m             \u001b[0;32mexcept\u001b[0m \u001b[0mValueError\u001b[0m\u001b[0;34m:\u001b[0m\u001b[0;34m\u001b[0m\u001b[0;34m\u001b[0m\u001b[0m\n\u001b[1;32m    556\u001b[0m                 \u001b[0;32mraise\u001b[0m \u001b[0mIncompleteRead\u001b[0m\u001b[0;34m(\u001b[0m\u001b[0;34mb''\u001b[0m\u001b[0;34m)\u001b[0m\u001b[0;34m\u001b[0m\u001b[0;34m\u001b[0m\u001b[0m\n",
      "\u001b[0;32m/opt/anaconda3/lib/python3.7/http/client.py\u001b[0m in \u001b[0;36m_read_next_chunk_size\u001b[0;34m(self)\u001b[0m\n\u001b[1;32m    512\u001b[0m     \u001b[0;32mdef\u001b[0m \u001b[0m_read_next_chunk_size\u001b[0m\u001b[0;34m(\u001b[0m\u001b[0mself\u001b[0m\u001b[0;34m)\u001b[0m\u001b[0;34m:\u001b[0m\u001b[0;34m\u001b[0m\u001b[0;34m\u001b[0m\u001b[0m\n\u001b[1;32m    513\u001b[0m         \u001b[0;31m# Read the next chunk size from the file\u001b[0m\u001b[0;34m\u001b[0m\u001b[0;34m\u001b[0m\u001b[0;34m\u001b[0m\u001b[0m\n\u001b[0;32m--> 514\u001b[0;31m         \u001b[0mline\u001b[0m \u001b[0;34m=\u001b[0m \u001b[0mself\u001b[0m\u001b[0;34m.\u001b[0m\u001b[0mfp\u001b[0m\u001b[0;34m.\u001b[0m\u001b[0mreadline\u001b[0m\u001b[0;34m(\u001b[0m\u001b[0m_MAXLINE\u001b[0m \u001b[0;34m+\u001b[0m \u001b[0;36m1\u001b[0m\u001b[0;34m)\u001b[0m\u001b[0;34m\u001b[0m\u001b[0;34m\u001b[0m\u001b[0m\n\u001b[0m\u001b[1;32m    515\u001b[0m         \u001b[0;32mif\u001b[0m \u001b[0mlen\u001b[0m\u001b[0;34m(\u001b[0m\u001b[0mline\u001b[0m\u001b[0;34m)\u001b[0m \u001b[0;34m>\u001b[0m \u001b[0m_MAXLINE\u001b[0m\u001b[0;34m:\u001b[0m\u001b[0;34m\u001b[0m\u001b[0;34m\u001b[0m\u001b[0m\n\u001b[1;32m    516\u001b[0m             \u001b[0;32mraise\u001b[0m \u001b[0mLineTooLong\u001b[0m\u001b[0;34m(\u001b[0m\u001b[0;34m\"chunk size\"\u001b[0m\u001b[0;34m)\u001b[0m\u001b[0;34m\u001b[0m\u001b[0;34m\u001b[0m\u001b[0m\n",
      "\u001b[0;32m/opt/anaconda3/lib/python3.7/socket.py\u001b[0m in \u001b[0;36mreadinto\u001b[0;34m(self, b)\u001b[0m\n\u001b[1;32m    587\u001b[0m         \u001b[0;32mwhile\u001b[0m \u001b[0;32mTrue\u001b[0m\u001b[0;34m:\u001b[0m\u001b[0;34m\u001b[0m\u001b[0;34m\u001b[0m\u001b[0m\n\u001b[1;32m    588\u001b[0m             \u001b[0;32mtry\u001b[0m\u001b[0;34m:\u001b[0m\u001b[0;34m\u001b[0m\u001b[0;34m\u001b[0m\u001b[0m\n\u001b[0;32m--> 589\u001b[0;31m                 \u001b[0;32mreturn\u001b[0m \u001b[0mself\u001b[0m\u001b[0;34m.\u001b[0m\u001b[0m_sock\u001b[0m\u001b[0;34m.\u001b[0m\u001b[0mrecv_into\u001b[0m\u001b[0;34m(\u001b[0m\u001b[0mb\u001b[0m\u001b[0;34m)\u001b[0m\u001b[0;34m\u001b[0m\u001b[0;34m\u001b[0m\u001b[0m\n\u001b[0m\u001b[1;32m    590\u001b[0m             \u001b[0;32mexcept\u001b[0m \u001b[0mtimeout\u001b[0m\u001b[0;34m:\u001b[0m\u001b[0;34m\u001b[0m\u001b[0;34m\u001b[0m\u001b[0m\n\u001b[1;32m    591\u001b[0m                 \u001b[0mself\u001b[0m\u001b[0;34m.\u001b[0m\u001b[0m_timeout_occurred\u001b[0m \u001b[0;34m=\u001b[0m \u001b[0;32mTrue\u001b[0m\u001b[0;34m\u001b[0m\u001b[0;34m\u001b[0m\u001b[0m\n",
      "\u001b[0;32m/opt/anaconda3/lib/python3.7/site-packages/urllib3/contrib/pyopenssl.py\u001b[0m in \u001b[0;36mrecv_into\u001b[0;34m(self, *args, **kwargs)\u001b[0m\n\u001b[1;32m    323\u001b[0m                 \u001b[0;32mraise\u001b[0m\u001b[0;34m\u001b[0m\u001b[0;34m\u001b[0m\u001b[0m\n\u001b[1;32m    324\u001b[0m         \u001b[0;32mexcept\u001b[0m \u001b[0mOpenSSL\u001b[0m\u001b[0;34m.\u001b[0m\u001b[0mSSL\u001b[0m\u001b[0;34m.\u001b[0m\u001b[0mWantReadError\u001b[0m\u001b[0;34m:\u001b[0m\u001b[0;34m\u001b[0m\u001b[0;34m\u001b[0m\u001b[0m\n\u001b[0;32m--> 325\u001b[0;31m             \u001b[0;32mif\u001b[0m \u001b[0;32mnot\u001b[0m \u001b[0mutil\u001b[0m\u001b[0;34m.\u001b[0m\u001b[0mwait_for_read\u001b[0m\u001b[0;34m(\u001b[0m\u001b[0mself\u001b[0m\u001b[0;34m.\u001b[0m\u001b[0msocket\u001b[0m\u001b[0;34m,\u001b[0m \u001b[0mself\u001b[0m\u001b[0;34m.\u001b[0m\u001b[0msocket\u001b[0m\u001b[0;34m.\u001b[0m\u001b[0mgettimeout\u001b[0m\u001b[0;34m(\u001b[0m\u001b[0;34m)\u001b[0m\u001b[0;34m)\u001b[0m\u001b[0;34m:\u001b[0m\u001b[0;34m\u001b[0m\u001b[0;34m\u001b[0m\u001b[0m\n\u001b[0m\u001b[1;32m    326\u001b[0m                 \u001b[0;32mraise\u001b[0m \u001b[0mtimeout\u001b[0m\u001b[0;34m(\u001b[0m\u001b[0;34m\"The read operation timed out\"\u001b[0m\u001b[0;34m)\u001b[0m\u001b[0;34m\u001b[0m\u001b[0;34m\u001b[0m\u001b[0m\n\u001b[1;32m    327\u001b[0m             \u001b[0;32melse\u001b[0m\u001b[0;34m:\u001b[0m\u001b[0;34m\u001b[0m\u001b[0;34m\u001b[0m\u001b[0m\n",
      "\u001b[0;32m/opt/anaconda3/lib/python3.7/site-packages/urllib3/util/wait.py\u001b[0m in \u001b[0;36mwait_for_read\u001b[0;34m(sock, timeout)\u001b[0m\n\u001b[1;32m    144\u001b[0m     \u001b[0mReturns\u001b[0m \u001b[0;32mTrue\u001b[0m \u001b[0;32mif\u001b[0m \u001b[0mthe\u001b[0m \u001b[0msocket\u001b[0m \u001b[0;32mis\u001b[0m \u001b[0mreadable\u001b[0m\u001b[0;34m,\u001b[0m \u001b[0;32mor\u001b[0m \u001b[0;32mFalse\u001b[0m \u001b[0;32mif\u001b[0m \u001b[0mthe\u001b[0m \u001b[0mtimeout\u001b[0m \u001b[0mexpired\u001b[0m\u001b[0;34m.\u001b[0m\u001b[0;34m\u001b[0m\u001b[0;34m\u001b[0m\u001b[0m\n\u001b[1;32m    145\u001b[0m     \"\"\"\n\u001b[0;32m--> 146\u001b[0;31m     \u001b[0;32mreturn\u001b[0m \u001b[0mwait_for_socket\u001b[0m\u001b[0;34m(\u001b[0m\u001b[0msock\u001b[0m\u001b[0;34m,\u001b[0m \u001b[0mread\u001b[0m\u001b[0;34m=\u001b[0m\u001b[0;32mTrue\u001b[0m\u001b[0;34m,\u001b[0m \u001b[0mtimeout\u001b[0m\u001b[0;34m=\u001b[0m\u001b[0mtimeout\u001b[0m\u001b[0;34m)\u001b[0m\u001b[0;34m\u001b[0m\u001b[0;34m\u001b[0m\u001b[0m\n\u001b[0m\u001b[1;32m    147\u001b[0m \u001b[0;34m\u001b[0m\u001b[0m\n\u001b[1;32m    148\u001b[0m \u001b[0;34m\u001b[0m\u001b[0m\n",
      "\u001b[0;32m/opt/anaconda3/lib/python3.7/site-packages/urllib3/util/wait.py\u001b[0m in \u001b[0;36mpoll_wait_for_socket\u001b[0;34m(sock, read, write, timeout)\u001b[0m\n\u001b[1;32m    105\u001b[0m         \u001b[0;32mreturn\u001b[0m \u001b[0mpoll_obj\u001b[0m\u001b[0;34m.\u001b[0m\u001b[0mpoll\u001b[0m\u001b[0;34m(\u001b[0m\u001b[0mt\u001b[0m\u001b[0;34m)\u001b[0m\u001b[0;34m\u001b[0m\u001b[0;34m\u001b[0m\u001b[0m\n\u001b[1;32m    106\u001b[0m \u001b[0;34m\u001b[0m\u001b[0m\n\u001b[0;32m--> 107\u001b[0;31m     \u001b[0;32mreturn\u001b[0m \u001b[0mbool\u001b[0m\u001b[0;34m(\u001b[0m\u001b[0m_retry_on_intr\u001b[0m\u001b[0;34m(\u001b[0m\u001b[0mdo_poll\u001b[0m\u001b[0;34m,\u001b[0m \u001b[0mtimeout\u001b[0m\u001b[0;34m)\u001b[0m\u001b[0;34m)\u001b[0m\u001b[0;34m\u001b[0m\u001b[0;34m\u001b[0m\u001b[0m\n\u001b[0m\u001b[1;32m    108\u001b[0m \u001b[0;34m\u001b[0m\u001b[0m\n\u001b[1;32m    109\u001b[0m \u001b[0;34m\u001b[0m\u001b[0m\n",
      "\u001b[0;32m/opt/anaconda3/lib/python3.7/site-packages/urllib3/util/wait.py\u001b[0m in \u001b[0;36m_retry_on_intr\u001b[0;34m(fn, timeout)\u001b[0m\n\u001b[1;32m     41\u001b[0m     \u001b[0;31m# Modern Python, that retries syscalls by default\u001b[0m\u001b[0;34m\u001b[0m\u001b[0;34m\u001b[0m\u001b[0;34m\u001b[0m\u001b[0m\n\u001b[1;32m     42\u001b[0m     \u001b[0;32mdef\u001b[0m \u001b[0m_retry_on_intr\u001b[0m\u001b[0;34m(\u001b[0m\u001b[0mfn\u001b[0m\u001b[0;34m,\u001b[0m \u001b[0mtimeout\u001b[0m\u001b[0;34m)\u001b[0m\u001b[0;34m:\u001b[0m\u001b[0;34m\u001b[0m\u001b[0;34m\u001b[0m\u001b[0m\n\u001b[0;32m---> 43\u001b[0;31m         \u001b[0;32mreturn\u001b[0m \u001b[0mfn\u001b[0m\u001b[0;34m(\u001b[0m\u001b[0mtimeout\u001b[0m\u001b[0;34m)\u001b[0m\u001b[0;34m\u001b[0m\u001b[0;34m\u001b[0m\u001b[0m\n\u001b[0m\u001b[1;32m     44\u001b[0m \u001b[0;34m\u001b[0m\u001b[0m\n\u001b[1;32m     45\u001b[0m \u001b[0;34m\u001b[0m\u001b[0m\n",
      "\u001b[0;32m/opt/anaconda3/lib/python3.7/site-packages/urllib3/util/wait.py\u001b[0m in \u001b[0;36mdo_poll\u001b[0;34m(t)\u001b[0m\n\u001b[1;32m    103\u001b[0m         \u001b[0;32mif\u001b[0m \u001b[0mt\u001b[0m \u001b[0;32mis\u001b[0m \u001b[0;32mnot\u001b[0m \u001b[0;32mNone\u001b[0m\u001b[0;34m:\u001b[0m\u001b[0;34m\u001b[0m\u001b[0;34m\u001b[0m\u001b[0m\n\u001b[1;32m    104\u001b[0m             \u001b[0mt\u001b[0m \u001b[0;34m*=\u001b[0m \u001b[0;36m1000\u001b[0m\u001b[0;34m\u001b[0m\u001b[0;34m\u001b[0m\u001b[0m\n\u001b[0;32m--> 105\u001b[0;31m         \u001b[0;32mreturn\u001b[0m \u001b[0mpoll_obj\u001b[0m\u001b[0;34m.\u001b[0m\u001b[0mpoll\u001b[0m\u001b[0;34m(\u001b[0m\u001b[0mt\u001b[0m\u001b[0;34m)\u001b[0m\u001b[0;34m\u001b[0m\u001b[0;34m\u001b[0m\u001b[0m\n\u001b[0m\u001b[1;32m    106\u001b[0m \u001b[0;34m\u001b[0m\u001b[0m\n\u001b[1;32m    107\u001b[0m     \u001b[0;32mreturn\u001b[0m \u001b[0mbool\u001b[0m\u001b[0;34m(\u001b[0m\u001b[0m_retry_on_intr\u001b[0m\u001b[0;34m(\u001b[0m\u001b[0mdo_poll\u001b[0m\u001b[0;34m,\u001b[0m \u001b[0mtimeout\u001b[0m\u001b[0;34m)\u001b[0m\u001b[0;34m)\u001b[0m\u001b[0;34m\u001b[0m\u001b[0;34m\u001b[0m\u001b[0m\n",
      "\u001b[0;31mKeyboardInterrupt\u001b[0m: "
     ]
    }
   ],
   "source": [
    "stream = TweetsListener()\n",
    "streamingApi = tweepy.Stream(auth=api.auth, listener=stream)\n",
    "streamingApi.filter(\n",
    "    follow=[\"534747417\"])"
   ]
  },
  {
   "cell_type": "code",
   "execution_count": null,
   "metadata": {},
   "outputs": [],
   "source": [
    "streamingApi.disconnect()"
   ]
  },
  {
   "cell_type": "code",
   "execution_count": 16,
   "metadata": {},
   "outputs": [],
   "source": [
    "import time\n",
    "class TweetsListener(tweepy.StreamListener):\n",
    "    def __init__(self,time_limit=60):\n",
    "        self.start_time=time.time()\n",
    "        self.limit = time_limit\n",
    "        super(TweetsListener,self).__init__()\n",
    "    def on_connect(self):\n",
    "        print(\"Estoy conectado!\")\n",
    "    def situacion(self, status):\n",
    "        if(time.time()-self.star_time)<=self.limit:\n",
    "            print(status.text)\n",
    "            return True\n",
    "        else:\n",
    "            print(\"Se acabo el tiempo\")\n",
    "            return False\n",
    "    def on_status(self, status):\n",
    "        print(status.text)\n",
    "\n",
    "    def on_error(self, status_code):\n",
    "        print(\"Error\", status_code)"
   ]
  },
  {
   "cell_type": "code",
   "execution_count": 20,
   "metadata": {},
   "outputs": [
    {
     "name": "stdout",
     "output_type": "stream",
     "text": [
      "Estoy conectado!\n",
      "RT @AnibalGarzon: Un grupo de personas saquean en Madrid un camión con 20.000 kilos de comida que se quedó atascado por la nieve. Si esto p…\n",
      "RT @AnibalGarzon: Un grupo de personas saquean en Madrid un camión con 20.000 kilos de comida que se quedó atascado por la nieve. Si esto p…\n",
      "RT @112cmadrid: 400 animales de 10 explotaciones ganaderas de #ColmenarViejo, aisladas por la nieve desde el viernes, han comenzado a ser a…\n",
      "RT @antonlosada: Nada que hacer con el precio de la luz. Al Emérito no lo vamos a investigar. La nieve que la retiren los vecinos y después…\n",
      "@AlbertoRC89 Esquís ⛷️.\n",
      "En el lado donde corren los jugadores no hay nieve, gran trabajo 🤣\n",
      "RT @Asier81014373: Efectivamente, no era nieve, era plastico!!\n",
      "😱 https://t.co/MzdfWnwm6s\n",
      "RT @nacidoatleti: Se ve que recomendar a la peña que no usará mascarilla al salir de casa tuvo recompensa. https://t.co/CFW0wvlDDh\n",
      "RT @jorge_garciad: Tenemos una base de helicópteros de @Defensagob en #ColmenarViejo y, aunque lo solicitamos, no les autorizaron. Gracias…\n",
      "RT @amandaxpornstar: Mmmmm que rico ya estoy deseando repetir polvos históricos en la nieve ❄🌨😈 https://t.co/2iZ6QPeGri 👅📲 671782539 https:…\n",
      "RT @antonlosada: Nada que hacer con el precio de la luz. Al Emérito no lo vamos a investigar. La nieve que la retiren los vecinos y después…\n",
      "Home neve en 3...2...1...\n",
      "\n",
      "Hombre nieve en 3...2...1...\n",
      "#Curiosidades https://t.co/yTHjGQuCzR\n",
      "@MajadahondaAyto Por favor pasar también por los colegios, con la cantidad de nieve que hay en el colegio Federico… https://t.co/WvjFtdq65d\n",
      "RT @pilarmesaarroyo: #claustrovirtual\n",
      "Después de lo que llevamos de semana dando clase con las ventanas abiertas a cinco grados bajo cero e…\n",
      "La oposición de #TresCantos ha solicitado la convocatoria urgente de un pleno extraordinario para que el gobierno m… https://t.co/oFYNHz00Sb\n",
      "✅\n",
      "RT @Asier81014373: Efectivamente, no era nieve, era plastico!!\n",
      "😱 https://t.co/MzdfWnwm6s\n",
      "RT @anuncriado: Los nenes ayudando a quitar la nieve https://t.co/NQM4DAE5xT\n",
      "RT @OjodeThot: Os pensáis que todo ha acabado... Aquí siguen infatigables las enfermeras de hospitalización a domicilio del Hospital Gregor…\n",
      "@galletochoco Yias con lo que cansa \n",
      "Mi mejor amigo y yo intentamos hacer un muñeco de nieve, no hicimos ni la base… https://t.co/tz9oWoIUMY\n",
      "No sé si llego tarde pero... negacionistas de la nieve: ❄️ https://t.co/wuMwJYR3DB\n",
      "RT @Asier81014373: Efectivamente, no era nieve, era plastico!!\n",
      "😱 https://t.co/MzdfWnwm6s\n",
      "RT @Asier81014373: Efectivamente, no era nieve, era plastico!!\n",
      "😱 https://t.co/MzdfWnwm6s\n",
      "RT @elpais_espana: Solo el 10% de las 9.000 calles de la capital están libres de nieve https://t.co/Yad1H2O7qj\n",
      "RT @GuajeSalvaje: Una turba roba 20.000 kilos de comida de un camión atrapado en la nieve en El Ruedo de Moratalaz en la M-30.\n",
      "Los asaltant…\n",
      "Me: *se está congelando*\n",
      "Also me: quiero nieve de queso\n",
      "RT @TomasUser: ¿Os dais cuenta de que llevamos cuatro días con gente teniendo que explicar que la nieve existe y no es una conspiración jud…\n",
      "RT @margot_mignart: Mi madre está bien.\n",
      "Hija mía, tu madre va diciendo que eres la de la derecha en la foto del Totoro de nieve.\n",
      "RT @nacho991960: Ayuso privatiza las inspecciones en colegios por nieve y pagará 300 euros por cada informe https://t.co/nIbrrDu69Q\n",
      "RT @NCTNOTICIAS: #Atención👉Cayó nieve en #GüicánDeLaSierra y #ElCocuy. El fenómeno natural tomó por sorpresa a los contados turistas y guar…\n",
      "RT @Asier81014373: Efectivamente, no era nieve, era plastico!!\n",
      "😱 https://t.co/MzdfWnwm6s\n",
      "RT @antonlosada: Nada que hacer con el precio de la luz. Al Emérito no lo vamos a investigar. La nieve que la retiren los vecinos y después…\n",
      "es de noche y hay una tormenta de nieve... mañana amanece el carro forrado ❄ https://t.co/R2nRHL5Oio\n",
      "RT @Berttuus: Almeida a la nieve para que se quite sola https://t.co/chEP6KpgXh\n",
      "@abc_es Debajo de la nieve? No caerá esa breva\n",
      "RT @Superste4: Bueno.. pues creo que ésta es la solución definitiva para no deslizarse en hielo y nieve, y lo mejor.. se hacen pedidos On-l…\n",
      "RT @v_vallekana: Barrio de Salamanca limpio de nieve.😠\n",
      " En Vallecas aumentan las urgencias por fracturas debido a caídas en la nieve.\n",
      "A qui…\n",
      "Ayuso pide a los madrileños que retiren ellos la nieve y Almeida que se desplacen a por sal gratis https://t.co/fmF9X8pQbi vía @publico_es\n",
      "RT @Asier81014373: Efectivamente, no era nieve, era plastico!!\n",
      "😱 https://t.co/MzdfWnwm6s\n",
      "RT @antonlosada: Nada que hacer con el precio de la luz. Al Emérito no lo vamos a investigar. La nieve que la retiren los vecinos y después…\n",
      "👉🏽La comparativa que saca los colores a Ayuso: Madrid limpia de nieve el barrio de Salamanca, pero no Vallecas. \"Lo… https://t.co/i8xFAdcJgd\n",
      "RT @estherpalomera: Calienta, Florentino                     El vicepresidente de Madrid avisa de que se tardará \"semanas\" en volver a la n…\n",
      "RT @raquel4801: Y Carmen quiere que se la trague la nieve tras la monumental cogida en falta ...\n",
      "RT @JulianoElApost2: ÚLTIMA HORA. Pablo Casado se encuentra ingresado en el Isabel Zendal debido a dos hernias lumbares provocadas por una…\n",
      "RT @iescolar: Arréglese como pueda más allá de la M-30\n",
      "\n",
      "Nieve y hielo siguen acumulándose en los barrios periféricos de Madrid por falta de…\n",
      "RT @tipicodemadrid: Madrid cuando se derrita toda la nieve https://t.co/ILYqOgOyFr\n",
      "RT @TomasUser: ¿Os dais cuenta de que llevamos cuatro días con gente teniendo que explicar que la nieve existe y no es una conspiración jud…\n",
      "RT @TomasUser: ¿Os dais cuenta de que llevamos cuatro días con gente teniendo que explicar que la nieve existe y no es una conspiración jud…\n",
      "RT @Hilarious_Pino: Ha limpiado ya Pablo Iglesias la nieve de la puerta de su chalet o eso también lo ha hecho su escolta? 🤔\n",
      "@richyuno64 Hay personas que no pueden, trabajar de la puta nieve que tienen en sus municipios\n",
      "RT @antonlosada: Nada que hacer con el precio de la luz. Al Emérito no lo vamos a investigar. La nieve que la retiren los vecinos y después…\n",
      "RT @Javi_erM: 4 días, el 10%. Haced cuentas... https://t.co/JJgSAomYHt\n",
      "RT @AlmeidaPP_: La Junta de Gobierno de @MADRID presentará mañana la petición para declarar #Madrid como zona afectada gravemente por una e…\n",
      "RT @antonlosada: Nada que hacer con el precio de la luz. Al Emérito no lo vamos a investigar. La nieve que la retiren los vecinos y después…\n",
      "RT @antonlosada: Nada que hacer con el precio de la luz. Al Emérito no lo vamos a investigar. La nieve que la retiren los vecinos y después…\n",
      "No enseñé esta fotito del otro día en la nieve ^^ https://t.co/r3tCNbM4h1\n",
      "Pilar Rubio vuelve a ponerse su vestido de novia, esta vez para salir a la nieve y protagonizar un posado idílico… https://t.co/LRxNkSwfwk\n",
      "@luis_quevedo @luisalcazarluis Emm que fuerte que se tenga que explicar que la nieve si existe me meo con las consp… https://t.co/uUpSNLQUpT\n",
      "RT @Asier81014373: Efectivamente, no era nieve, era plastico!!\n",
      "😱 https://t.co/MzdfWnwm6s\n",
      "RT @urgenciasemerge: Cuando se derrita la nieve \"vais a ver debajo\" la incidencia acumulada. Y ahí es donde os vais a quedar helados...\n",
      "RT @v_vallekana: Barrio de Salamanca limpio de nieve.😠\n",
      " En Vallecas aumentan las urgencias por fracturas debido a caídas en la nieve.\n",
      "A qui…\n",
      "la resad subiendo fotos a instagram de gente quitando la nieve y titulandolo making of son simplemente los peores influencers del mundo\n",
      "RT @AnibalGarzon: Un grupo de personas saquean en Madrid un camión con 20.000 kilos de comida que se quedó atascado por la nieve. Si esto p…\n",
      "RT @Dani_AyusoVk: Cuando despertó, la nieve, la basura y los árboles caídos todavía estaban allí #DesastreAlmeida https://t.co/fAfFz6tj3w\n",
      "RT @pipperontour: ¿Os habéis fijado en la cantidad de caca de perro que hay por la calle? Lástima que #Filomenatemporal no haya dejado en s…\n",
      "RT @Asier81014373: Efectivamente, no era nieve, era plastico!!\n",
      "😱 https://t.co/MzdfWnwm6s\n",
      "RT @DeArteisa: \"Seguían estando ahí\" relato de Angeles Heras sobre unas botas para caminar por la nieve #botasdemontaña 🥾 #Filomena https:/…\n",
      "Pandemia, crisis económica, nieve...nuestra única esperanza es la de la viñeta de hoy del @NewYorker ser parte acti… https://t.co/msaEP0KzrU\n",
      "RT @antonlosada: Nada que hacer con el precio de la luz. Al Emérito no lo vamos a investigar. La nieve que la retiren los vecinos y después…\n",
      "RT @africaadalia: Sinceramente que se derrita la nieve de las calles ya no? Quiero no temer por mi vida cada paso que doy y llevar outfits…\n"
     ]
    },
    {
     "name": "stdout",
     "output_type": "stream",
     "text": [
      "RT @urru_urru: Esas imágenes las conozco pero sin nieve...\n",
      "RT @ardepalepope: @Witowito71 Este sube al Teide y lo deja limpio de nieve en un plis plas.\n",
      "Menudo es él...\n",
      "RT @antonlosada: Nada que hacer con el precio de la luz. Al Emérito no lo vamos a investigar. La nieve que la retiren los vecinos y después…\n",
      "RT @EuprepioPadula: Esta imagen es brutal. Así ha dejado España la gran nevada. Todo lo blanco encima de la península es NIEVE. Realmente e…\n",
      "RT @MADRID: 📢 Precaución. La ola de frío 🥶 y nieve ❄️ ha dejado las calles de #Madrid heladas y existe un riesgo alto de caídas 🚶🚶‍♀️. \n",
      "➡️…\n",
      "RT @miqueldelpozo: https://t.co/V7wjLhcNFo\n",
      "RT @antonlosada: Nada que hacer con el precio de la luz. Al Emérito no lo vamos a investigar. La nieve que la retiren los vecinos y después…\n",
      "RT @anuncriado: Los nenes ayudando a quitar la nieve https://t.co/NQM4DAE5xT\n",
      "RT @Asier81014373: Efectivamente, no era nieve, era plastico!!\n",
      "😱 https://t.co/MzdfWnwm6s\n",
      "RT @carnecrudaradio: Cuatro días después de la nevada, muchas calles siguen impracticables, la nieve la han quitado los vecinos, la basura…\n",
      "RT @antonlosada: Nada que hacer con el precio de la luz. Al Emérito no lo vamos a investigar. La nieve que la retiren los vecinos y después…\n",
      "RT @Finanzas_RD: No es solo en RD 👇\n",
      "RT @antonlosada: Nada que hacer con el precio de la luz. Al Emérito no lo vamos a investigar. La nieve que la retiren los vecinos y después…\n",
      "La gente que ve normal que las autoridades pidan a la población que salga con palas a quitar la nieve no suele deci… https://t.co/FTuhPXe3H9\n",
      "RT @TomasUser: ¿Os dais cuenta de que llevamos cuatro días con gente teniendo que explicar que la nieve existe y no es una conspiración jud…\n",
      "jack47 x nieve de montaña dejuli, pero volvete re laaaka\n",
      "@elpais_espana Si no fuese porque habrá deshielo la nieve se quitaría en 2022, justo cuando van a terminar de vacunar.\n",
      "RT @pacoramostoledo: En fin, que esto de la nieve helada no nos lo quitamos de encima hasta que llegue la primavera y estemos todos vacunad…\n",
      "RT @AlmeidaPP_: La Junta de Gobierno de @MADRID presentará mañana la petición para declarar #Madrid como zona afectada gravemente por una e…\n",
      "RT @antonlosada: Nada que hacer con el precio de la luz. Al Emérito no lo vamos a investigar. La nieve que la retiren los vecinos y después…\n",
      "@nievesotravez @Rita_Maestre La sal se echa para evitar que la nieve cuaje, no se echa después de la nevada. Creo q… https://t.co/oldTBOcxcd\n",
      "RT @Asier81014373: Efectivamente, no era nieve, era plastico!!\n",
      "😱 https://t.co/MzdfWnwm6s\n",
      "RT @Sindicato_SATSE: Ser enfermera y enfermero es COMPROMISO, LUCHA y PROFESIONALIDAD \n",
      "\n",
      "En la peor crisis sanitaria de la historia, desafia…\n",
      "RT @_Javier_Flores: Espectacular imagen desde el espacio de la nevada que ha cubierto media España. \n",
      "Aquí podéis descargarla en alta resolu…\n",
      "RT @AmoedoCom: ❌↘️Igual que con la pala quitando nieve\n",
      "Perdonar con un 20 %de visión en un ojo y otro un ochenta me traiciona la vista\n",
      "RT @ALCBDS_Ayto: .@MVTARDE de @laSextaTV ha estado esta tarde en #Alcobendas interesándose por el trabajo que está realizando @ALCBDS_Prote…\n",
      "ya no kiero mas nieve :/\n",
      "RT @Asier81014373: Efectivamente, no era nieve, era plastico!!\n",
      "😱 https://t.co/MzdfWnwm6s\n",
      "RT @DeArteisa: Botas, polainas y crampones para caminar por la nieve ❄️✨#filomena #botasdemontaña #crampones #FelizMiercoles https://t.co/l…\n",
      "RT @favimontejode: Madrileños, no preocuparos, vuestra querida presidenta Ayuso os baja los impuestos, pero luego os pide que hagais de vol…\n",
      "RT @el_pais: DIRECTO #Temporal | Un grupo de personas saquea un camión con 20.000 kilos de comida que se quedó atascado por la nieve en Mor…\n",
      "RT @NoticiasCaracol: Resplandece el Cocuy tras inesperada tormenta de nieve\n",
      "\n",
      "El fenómeno natural se convierte en oxígeno para la preservaci…\n",
      "RT @ireneealcalaa: Ya estoy hasta la polla de la nieve, del hielo y de su puta madre\n",
      "RT @LosGenoveses: La famiglia. Suma y sigue. Ayuso privatiza las inspecciones en colegios por nieve y pagará 300 euros por cada informe via…\n",
      "RT @antonlosada: Nada que hacer con el precio de la luz. Al Emérito no lo vamos a investigar. La nieve que la retiren los vecinos y después…\n",
      "RT @gamusino: Oido a una vecina: “Jo, a ver si se derrite la nieve y recuperamos nuestras vidas normales de pandemia”\n",
      "RT @AmoedoCom: ❌↘️Así utiliza el @populares las instituciones de los madrileños para publicitar a @pablocasado_\n",
      "❌↘️A aparecido y participad…\n",
      "RT @LunaProtectora: ‼️PEDIMOS AYUDA URGENTE ‼️\n",
      "\n",
      "Ha pasado el temporal, pero en estos momentos aún tenemos problemas.\n",
      "\n",
      "El refugio está lleno…\n",
      "@belenpinguino Carmena pediria a los niños que lo hicieran ? Mejor nieve que colillas?\n",
      "RT @TomasUser: ¿Os dais cuenta de que llevamos cuatro días con gente teniendo que explicar que la nieve existe y no es una conspiración jud…\n",
      "@da_kmas Hay que ser suficientemente crítico, para saber que no somos \"copos de nieve\"; para entender que ni el cos… https://t.co/3fWVUps90D\n",
      "RT @antonlosada: Nada que hacer con el precio de la luz. Al Emérito no lo vamos a investigar. La nieve que la retiren los vecinos y después…\n",
      "RT @ESdiarioCV: 🚌 La gerente de la EMT de Valencia pide quitar la nieve con ¡perspectiva de género!\n",
      "👉 Pese a todos los escándalos que acumu…\n",
      "@anamari_db @SufridoresMetro Pero pisa la nieve! No el hielo!\n",
      "RT @TTuiteroman: Ya sabéis madrileños, la culpa es vuestra de que haya tantos escayolados por no hacer el postureo de quitar la nieve con z…\n",
      "RT @Asier81014373: Efectivamente, no era nieve, era plastico!!\n",
      "😱 https://t.co/MzdfWnwm6s\n",
      "RT @TomasUser: ¿Os dais cuenta de que llevamos cuatro días con gente teniendo que explicar que la nieve existe y no es una conspiración jud…\n",
      "😍\n",
      "RT @PodemosArganMAD: Ayuso aprovecha hasta la nevada para privatizar.\n",
      "el Gobierno de de la Comunidad de Madrid gastaría casi 70.000 euros s…\n",
      "RT @NCTNOTICIAS: #Atención👉Cayó nieve en #GüicánDeLaSierra y #ElCocuy. El fenómeno natural tomó por sorpresa a los contados turistas y guar…\n",
      "RT @TomasUser: ¿Os dais cuenta de que llevamos cuatro días con gente teniendo que explicar que la nieve existe y no es una conspiración jud…\n",
      "RT @CNNEE: Muere Nieve, tigresa blanca recientemente nacida en cautiverio en Nicaragua https://t.co/wR5C2gyhRt\n",
      "@apoldotlonia @mirrorhands Pues aquí están preparados para la nieve pero no para el hielo y hoy me caí de culo\n",
      "RT @antonlosada: Nada que hacer con el precio de la luz. Al Emérito no lo vamos a investigar. La nieve que la retiren los vecinos y después…\n",
      "RT @Monica_Garcia_G: El #DesastreAlmeida no sólo son calles sin limpiar de nieve o transporte público colapsado, también es cómo la mala ge…\n",
      "RT @okdiario: Grande-Marlaska manda a la UME de madrugada a limpiar de nieve la sede de Protección Civil antes de su visita | Pulso Marlask…\n",
      "RT @exp_juridico: ¿Deben los ciudadanos retirar la nieve de las calles o se debe encargar el Ayuntamiento?\n",
      "https://t.co/TlQO1kHEBr\n",
      "RT @pedroblancoa: Tengo una duda. ¿A partir de qué día los vecinos de Madrid pueden empezar a quejarse de que no retiren la nieve o liberen…\n",
      "RT @Granviademadrid: Filomena nos está dejando imágenes para la historia, como ver la Gran Vía cubierta de nieve sin vehículos y la gente p…\n",
      "RT @SickleIncognito: Gente en 1960: \"En 2020 los coches volarán\"\n",
      "\n",
      "Científicos en 2020: \"No, la tierra NO es plana y la nieve SÍ es un fenóm…\n",
      "Los madrileños, cuando les insinúan que limpien un poco de nieve de su calle: Ni hablar, pero qué es esto, vergoña!… https://t.co/9CK4dt17XE\n",
      "Imaginad llevar una maleta por la calle llena de nieve sin un solo paso limpio,, en fin\n",
      "RT @patri_titi_3: Hola @AytoLeganes! ¿Qué tal?¿Conciliando dsd casa con niños? Nosotros sí y,ante el inmovilismo de limpieza de calles y co…\n",
      "#NevadoDelCocuy fenómeno natural que sin lugar a dudas se convierte en un acontecimiento único de este atractivo bo… https://t.co/KlENivnAcX\n",
      "RT @JFalange: ⛏Ante el abandono e inacción institucional, militantes de #JFE Madrid estamos a pie de calle en distintos puntos limpiando de…\n",
      "RT @abalosmeco: Estos son los trabajos que realizan los quitanieves dinámicos. \n",
      "\n",
      "Usan fresadoras para cortar grandes espesores o nieve dura…\n",
      "RT @VICTORI43762463: Ayuso privatiza las inspecciones en colegios por nieve y pagará 300 euros por cada informe via @El_Plural https://t.co…\n",
      "RT @Asier81014373: Efectivamente, no era nieve, era plastico!!\n",
      "😱 https://t.co/MzdfWnwm6s\n"
     ]
    },
    {
     "name": "stdout",
     "output_type": "stream",
     "text": [
      "@GemaPuenteviejo Nieve era el primer día, que bonita... Ahora es muerda blanca.\n",
      "RT @antonlosada: Nada que hacer con el precio de la luz. Al Emérito no lo vamos a investigar. La nieve que la retiren los vecinos y después…\n",
      "RT @Joaquin67910350: Los privilegios de la casta: la calle de Pablo Iglesias e Irene Montero sin nieve desde el primer día - El Diestro htt…\n",
      "RT @Roogoomez: Hasta los huevos del covid, de la nieve, del toque de queda y de su puta madre\n",
      "RT @ElJabato68: 🔻🗡💪Almeida,d inacción absoluta,Ayuso pirada total y privatizando,apoyados en Cs y la ultraderecha fascista de Vox🤮🐀.Y Gabil…\n",
      "RT @KeruArt: Como no ha nevado en mi zona pues he tenido conformarme con pintar yo la nieve ❄️ https://t.co/MLnJ0scbLh\n",
      "Decenas de personas desvalijan un camión lleno de comida que quedó varado por la nieve en Madrid… https://t.co/UvQ8ZzkepY\n",
      "Los servicios de emergencias siguen trabajando en recuperar la normalidad de las comarcas afectadas por… https://t.co/wlLrsJJMFh\n",
      "Entre el 7 y el 13 de enero, la Comunidad de Madrid realizó la extracción de nueve órganos sólidos en tres centros… https://t.co/kNF5ADbC9d\n",
      "| Perdóname\n",
      "RT @elgotet: En el año 2055 los coches volarán y en Madrid todavía no habrán quitado la nieve\n",
      "°TRAD°\n",
      "210113 Twitter @WUZO_BLITZERS\n",
      "[📷][#BLITZERS]\n",
      "[#SUDDENLY_BLITZERS]\n",
      "Hacía mucho tiempo! ¿Qué tal lleváis estos… https://t.co/aIfbuGjQmj\n",
      "Sucesos | Saquean un camión lleno de comida atascado por la nieve en Moratalaz. El camión procedía de un centro log… https://t.co/AzqlFIMKEm\n",
      "RT @pedroblancoa: Tengo una duda. ¿A partir de qué día los vecinos de Madrid pueden empezar a quejarse de que no retiren la nieve o liberen…\n",
      "Uhhhh, amenazando con no ir a la primaria.  Un clásico que puede convertirse en bola de nieve.\n",
      "RT @carnecrudaradio: Cuatro días después de la nevada, muchas calles siguen impracticables, la nieve la han quitado los vecinos, la basura…\n",
      "RT @TomasUser: ¿Os dais cuenta de que llevamos cuatro días con gente teniendo que explicar que la nieve existe y no es una conspiración jud…\n",
      "Así fue el espectacular rescate a cuatro caballos atrapados en la nieve: 'Están al límite' https://t.co/dQ0xqkewIB\n",
      "@AntonioMaestre Llega a tener Carmena la ciudad así y encima pedir a la gente que salga a dar paladas y la crucific… https://t.co/3k1RHyXk45\n",
      "RT @eljueves: 1999: Esto de internet es la hostia. Acceso a un montón de conocimiento al alcance de todos, va a revolucionar el futuro, la…\n",
      "@ENHYPEN_members Waaaaaaaauuu 💞💞 me encanta tu perrito  tan blanco como la nieve y el dueño hermoso como siempre .\n",
      "#ENHYPEN3rdROTY\n",
      "RT @Juan_Jose_Anton: Seguimos sufriendo la gestión ineficaz del gobierno del Ayuntamiento y Comunidad de Madrid.Vicálvaro es el distrito do…\n",
      "RT @Ibuprofeno600mg: @gamusino Dentro de dos semanas: “Jo, a ver si acaban ya con los zombies y recuperamos nuestras vidas normales en la n…\n",
      "Que bonito\n",
      "@PacodePablo @MasMadrid__ @Rita_Maestre Con Carmena habría nevado 4 cm, lo justo para jugar con la nieve, solo.\n",
      "La… https://t.co/NB6tMYfcFL\n",
      "La mejor base para cualquier competición en el mundo del #Deporte, se construye a base de #Entrenamiento, con… https://t.co/U34EZc1KAM\n"
     ]
    },
    {
     "ename": "KeyboardInterrupt",
     "evalue": "",
     "output_type": "error",
     "traceback": [
      "\u001b[0;31m---------------------------------------------------------------------------\u001b[0m",
      "\u001b[0;31mWantReadError\u001b[0m                             Traceback (most recent call last)",
      "\u001b[0;32m/opt/anaconda3/lib/python3.7/site-packages/urllib3/contrib/pyopenssl.py\u001b[0m in \u001b[0;36mrecv_into\u001b[0;34m(self, *args, **kwargs)\u001b[0m\n\u001b[1;32m    312\u001b[0m         \u001b[0;32mtry\u001b[0m\u001b[0;34m:\u001b[0m\u001b[0;34m\u001b[0m\u001b[0;34m\u001b[0m\u001b[0m\n\u001b[0;32m--> 313\u001b[0;31m             \u001b[0;32mreturn\u001b[0m \u001b[0mself\u001b[0m\u001b[0;34m.\u001b[0m\u001b[0mconnection\u001b[0m\u001b[0;34m.\u001b[0m\u001b[0mrecv_into\u001b[0m\u001b[0;34m(\u001b[0m\u001b[0;34m*\u001b[0m\u001b[0margs\u001b[0m\u001b[0;34m,\u001b[0m \u001b[0;34m**\u001b[0m\u001b[0mkwargs\u001b[0m\u001b[0;34m)\u001b[0m\u001b[0;34m\u001b[0m\u001b[0;34m\u001b[0m\u001b[0m\n\u001b[0m\u001b[1;32m    314\u001b[0m         \u001b[0;32mexcept\u001b[0m \u001b[0mOpenSSL\u001b[0m\u001b[0;34m.\u001b[0m\u001b[0mSSL\u001b[0m\u001b[0;34m.\u001b[0m\u001b[0mSysCallError\u001b[0m \u001b[0;32mas\u001b[0m \u001b[0me\u001b[0m\u001b[0;34m:\u001b[0m\u001b[0;34m\u001b[0m\u001b[0;34m\u001b[0m\u001b[0m\n",
      "\u001b[0;32m/opt/anaconda3/lib/python3.7/site-packages/OpenSSL/SSL.py\u001b[0m in \u001b[0;36mrecv_into\u001b[0;34m(self, buffer, nbytes, flags)\u001b[0m\n\u001b[1;32m   1839\u001b[0m             \u001b[0mresult\u001b[0m \u001b[0;34m=\u001b[0m \u001b[0m_lib\u001b[0m\u001b[0;34m.\u001b[0m\u001b[0mSSL_read\u001b[0m\u001b[0;34m(\u001b[0m\u001b[0mself\u001b[0m\u001b[0;34m.\u001b[0m\u001b[0m_ssl\u001b[0m\u001b[0;34m,\u001b[0m \u001b[0mbuf\u001b[0m\u001b[0;34m,\u001b[0m \u001b[0mnbytes\u001b[0m\u001b[0;34m)\u001b[0m\u001b[0;34m\u001b[0m\u001b[0;34m\u001b[0m\u001b[0m\n\u001b[0;32m-> 1840\u001b[0;31m         \u001b[0mself\u001b[0m\u001b[0;34m.\u001b[0m\u001b[0m_raise_ssl_error\u001b[0m\u001b[0;34m(\u001b[0m\u001b[0mself\u001b[0m\u001b[0;34m.\u001b[0m\u001b[0m_ssl\u001b[0m\u001b[0;34m,\u001b[0m \u001b[0mresult\u001b[0m\u001b[0;34m)\u001b[0m\u001b[0;34m\u001b[0m\u001b[0;34m\u001b[0m\u001b[0m\n\u001b[0m\u001b[1;32m   1841\u001b[0m \u001b[0;34m\u001b[0m\u001b[0m\n",
      "\u001b[0;32m/opt/anaconda3/lib/python3.7/site-packages/OpenSSL/SSL.py\u001b[0m in \u001b[0;36m_raise_ssl_error\u001b[0;34m(self, ssl, result)\u001b[0m\n\u001b[1;32m   1645\u001b[0m         \u001b[0;32mif\u001b[0m \u001b[0merror\u001b[0m \u001b[0;34m==\u001b[0m \u001b[0m_lib\u001b[0m\u001b[0;34m.\u001b[0m\u001b[0mSSL_ERROR_WANT_READ\u001b[0m\u001b[0;34m:\u001b[0m\u001b[0;34m\u001b[0m\u001b[0;34m\u001b[0m\u001b[0m\n\u001b[0;32m-> 1646\u001b[0;31m             \u001b[0;32mraise\u001b[0m \u001b[0mWantReadError\u001b[0m\u001b[0;34m(\u001b[0m\u001b[0;34m)\u001b[0m\u001b[0;34m\u001b[0m\u001b[0;34m\u001b[0m\u001b[0m\n\u001b[0m\u001b[1;32m   1647\u001b[0m         \u001b[0;32melif\u001b[0m \u001b[0merror\u001b[0m \u001b[0;34m==\u001b[0m \u001b[0m_lib\u001b[0m\u001b[0;34m.\u001b[0m\u001b[0mSSL_ERROR_WANT_WRITE\u001b[0m\u001b[0;34m:\u001b[0m\u001b[0;34m\u001b[0m\u001b[0;34m\u001b[0m\u001b[0m\n",
      "\u001b[0;31mWantReadError\u001b[0m: ",
      "\nDuring handling of the above exception, another exception occurred:\n",
      "\u001b[0;31mKeyboardInterrupt\u001b[0m                         Traceback (most recent call last)",
      "\u001b[0;32m<ipython-input-20-901aa0056d5f>\u001b[0m in \u001b[0;36m<module>\u001b[0;34m\u001b[0m\n\u001b[1;32m      1\u001b[0m \u001b[0mMiextraccion\u001b[0m \u001b[0;34m=\u001b[0m \u001b[0mtweepy\u001b[0m\u001b[0;34m.\u001b[0m\u001b[0mStream\u001b[0m\u001b[0;34m(\u001b[0m\u001b[0mauth\u001b[0m\u001b[0;34m=\u001b[0m\u001b[0mapi\u001b[0m\u001b[0;34m.\u001b[0m\u001b[0mauth\u001b[0m\u001b[0;34m,\u001b[0m \u001b[0mlistener\u001b[0m\u001b[0;34m=\u001b[0m\u001b[0mTweetsListener\u001b[0m\u001b[0;34m(\u001b[0m\u001b[0mtime_limit\u001b[0m\u001b[0;34m=\u001b[0m\u001b[0;36m20\u001b[0m\u001b[0;34m)\u001b[0m\u001b[0;34m)\u001b[0m\u001b[0;34m\u001b[0m\u001b[0;34m\u001b[0m\u001b[0m\n\u001b[1;32m      2\u001b[0m \u001b[0;34m\u001b[0m\u001b[0m\n\u001b[0;32m----> 3\u001b[0;31m \u001b[0mMiextraccion\u001b[0m\u001b[0;34m.\u001b[0m\u001b[0mfilter\u001b[0m\u001b[0;34m(\u001b[0m\u001b[0mtrack\u001b[0m\u001b[0;34m=\u001b[0m\u001b[0;34m[\u001b[0m\u001b[0;34m\"Nieve\"\u001b[0m\u001b[0;34m]\u001b[0m\u001b[0;34m)\u001b[0m\u001b[0;34m\u001b[0m\u001b[0;34m\u001b[0m\u001b[0m\n\u001b[0m",
      "\u001b[0;32m/opt/anaconda3/lib/python3.7/site-packages/tweepy/streaming.py\u001b[0m in \u001b[0;36mfilter\u001b[0;34m(self, follow, track, is_async, locations, stall_warnings, languages, encoding, filter_level)\u001b[0m\n\u001b[1;32m    472\u001b[0m             \u001b[0mself\u001b[0m\u001b[0;34m.\u001b[0m\u001b[0mbody\u001b[0m\u001b[0;34m[\u001b[0m\u001b[0;34m'filter_level'\u001b[0m\u001b[0;34m]\u001b[0m \u001b[0;34m=\u001b[0m \u001b[0mfilter_level\u001b[0m\u001b[0;34m.\u001b[0m\u001b[0mencode\u001b[0m\u001b[0;34m(\u001b[0m\u001b[0mencoding\u001b[0m\u001b[0;34m)\u001b[0m\u001b[0;34m\u001b[0m\u001b[0;34m\u001b[0m\u001b[0m\n\u001b[1;32m    473\u001b[0m         \u001b[0mself\u001b[0m\u001b[0;34m.\u001b[0m\u001b[0msession\u001b[0m\u001b[0;34m.\u001b[0m\u001b[0mparams\u001b[0m \u001b[0;34m=\u001b[0m \u001b[0;34m{\u001b[0m\u001b[0;34m'delimited'\u001b[0m\u001b[0;34m:\u001b[0m \u001b[0;34m'length'\u001b[0m\u001b[0;34m}\u001b[0m\u001b[0;34m\u001b[0m\u001b[0;34m\u001b[0m\u001b[0m\n\u001b[0;32m--> 474\u001b[0;31m         \u001b[0mself\u001b[0m\u001b[0;34m.\u001b[0m\u001b[0m_start\u001b[0m\u001b[0;34m(\u001b[0m\u001b[0mis_async\u001b[0m\u001b[0;34m)\u001b[0m\u001b[0;34m\u001b[0m\u001b[0;34m\u001b[0m\u001b[0m\n\u001b[0m\u001b[1;32m    475\u001b[0m \u001b[0;34m\u001b[0m\u001b[0m\n\u001b[1;32m    476\u001b[0m     def sitestream(self, follow, stall_warnings=False,\n",
      "\u001b[0;32m/opt/anaconda3/lib/python3.7/site-packages/tweepy/streaming.py\u001b[0m in \u001b[0;36m_start\u001b[0;34m(self, is_async)\u001b[0m\n\u001b[1;32m    387\u001b[0m             \u001b[0mself\u001b[0m\u001b[0;34m.\u001b[0m\u001b[0m_thread\u001b[0m\u001b[0;34m.\u001b[0m\u001b[0mstart\u001b[0m\u001b[0;34m(\u001b[0m\u001b[0;34m)\u001b[0m\u001b[0;34m\u001b[0m\u001b[0;34m\u001b[0m\u001b[0m\n\u001b[1;32m    388\u001b[0m         \u001b[0;32melse\u001b[0m\u001b[0;34m:\u001b[0m\u001b[0;34m\u001b[0m\u001b[0;34m\u001b[0m\u001b[0m\n\u001b[0;32m--> 389\u001b[0;31m             \u001b[0mself\u001b[0m\u001b[0;34m.\u001b[0m\u001b[0m_run\u001b[0m\u001b[0;34m(\u001b[0m\u001b[0;34m)\u001b[0m\u001b[0;34m\u001b[0m\u001b[0;34m\u001b[0m\u001b[0m\n\u001b[0m\u001b[1;32m    390\u001b[0m \u001b[0;34m\u001b[0m\u001b[0m\n\u001b[1;32m    391\u001b[0m     \u001b[0;32mdef\u001b[0m \u001b[0mon_closed\u001b[0m\u001b[0;34m(\u001b[0m\u001b[0mself\u001b[0m\u001b[0;34m,\u001b[0m \u001b[0mresp\u001b[0m\u001b[0;34m)\u001b[0m\u001b[0;34m:\u001b[0m\u001b[0;34m\u001b[0m\u001b[0;34m\u001b[0m\u001b[0m\n",
      "\u001b[0;32m/opt/anaconda3/lib/python3.7/site-packages/tweepy/streaming.py\u001b[0m in \u001b[0;36m_run\u001b[0;34m(self)\u001b[0m\n\u001b[1;32m    287\u001b[0m                     \u001b[0mself\u001b[0m\u001b[0;34m.\u001b[0m\u001b[0msnooze_time\u001b[0m \u001b[0;34m=\u001b[0m \u001b[0mself\u001b[0m\u001b[0;34m.\u001b[0m\u001b[0msnooze_time_step\u001b[0m\u001b[0;34m\u001b[0m\u001b[0;34m\u001b[0m\u001b[0m\n\u001b[1;32m    288\u001b[0m                     \u001b[0mself\u001b[0m\u001b[0;34m.\u001b[0m\u001b[0mlistener\u001b[0m\u001b[0;34m.\u001b[0m\u001b[0mon_connect\u001b[0m\u001b[0;34m(\u001b[0m\u001b[0;34m)\u001b[0m\u001b[0;34m\u001b[0m\u001b[0;34m\u001b[0m\u001b[0m\n\u001b[0;32m--> 289\u001b[0;31m                     \u001b[0mself\u001b[0m\u001b[0;34m.\u001b[0m\u001b[0m_read_loop\u001b[0m\u001b[0;34m(\u001b[0m\u001b[0mresp\u001b[0m\u001b[0;34m)\u001b[0m\u001b[0;34m\u001b[0m\u001b[0;34m\u001b[0m\u001b[0m\n\u001b[0m\u001b[1;32m    290\u001b[0m             \u001b[0;32mexcept\u001b[0m \u001b[0;34m(\u001b[0m\u001b[0mTimeout\u001b[0m\u001b[0;34m,\u001b[0m \u001b[0mssl\u001b[0m\u001b[0;34m.\u001b[0m\u001b[0mSSLError\u001b[0m\u001b[0;34m)\u001b[0m \u001b[0;32mas\u001b[0m \u001b[0mexc\u001b[0m\u001b[0;34m:\u001b[0m\u001b[0;34m\u001b[0m\u001b[0;34m\u001b[0m\u001b[0m\n\u001b[1;32m    291\u001b[0m                 \u001b[0;31m# This is still necessary, as a SSLError can actually be\u001b[0m\u001b[0;34m\u001b[0m\u001b[0;34m\u001b[0m\u001b[0;34m\u001b[0m\u001b[0m\n",
      "\u001b[0;32m/opt/anaconda3/lib/python3.7/site-packages/tweepy/streaming.py\u001b[0m in \u001b[0;36m_read_loop\u001b[0;34m(self, resp)\u001b[0m\n\u001b[1;32m    337\u001b[0m             \u001b[0mlength\u001b[0m \u001b[0;34m=\u001b[0m \u001b[0;36m0\u001b[0m\u001b[0;34m\u001b[0m\u001b[0;34m\u001b[0m\u001b[0m\n\u001b[1;32m    338\u001b[0m             \u001b[0;32mwhile\u001b[0m \u001b[0;32mnot\u001b[0m \u001b[0mresp\u001b[0m\u001b[0;34m.\u001b[0m\u001b[0mraw\u001b[0m\u001b[0;34m.\u001b[0m\u001b[0mclosed\u001b[0m\u001b[0;34m:\u001b[0m\u001b[0;34m\u001b[0m\u001b[0;34m\u001b[0m\u001b[0m\n\u001b[0;32m--> 339\u001b[0;31m                 \u001b[0mline\u001b[0m \u001b[0;34m=\u001b[0m \u001b[0mbuf\u001b[0m\u001b[0;34m.\u001b[0m\u001b[0mread_line\u001b[0m\u001b[0;34m(\u001b[0m\u001b[0;34m)\u001b[0m\u001b[0;34m\u001b[0m\u001b[0;34m\u001b[0m\u001b[0m\n\u001b[0m\u001b[1;32m    340\u001b[0m                 \u001b[0mstripped_line\u001b[0m \u001b[0;34m=\u001b[0m \u001b[0mline\u001b[0m\u001b[0;34m.\u001b[0m\u001b[0mstrip\u001b[0m\u001b[0;34m(\u001b[0m\u001b[0;34m)\u001b[0m \u001b[0;32mif\u001b[0m \u001b[0mline\u001b[0m \u001b[0;32melse\u001b[0m \u001b[0mline\u001b[0m \u001b[0;31m# line is sometimes None so we need to check here\u001b[0m\u001b[0;34m\u001b[0m\u001b[0;34m\u001b[0m\u001b[0m\n\u001b[1;32m    341\u001b[0m                 \u001b[0;32mif\u001b[0m \u001b[0;32mnot\u001b[0m \u001b[0mstripped_line\u001b[0m\u001b[0;34m:\u001b[0m\u001b[0;34m\u001b[0m\u001b[0;34m\u001b[0m\u001b[0m\n",
      "\u001b[0;32m/opt/anaconda3/lib/python3.7/site-packages/tweepy/streaming.py\u001b[0m in \u001b[0;36mread_line\u001b[0;34m(self, sep)\u001b[0m\n\u001b[1;32m    198\u001b[0m             \u001b[0;32melse\u001b[0m\u001b[0;34m:\u001b[0m\u001b[0;34m\u001b[0m\u001b[0;34m\u001b[0m\u001b[0m\n\u001b[1;32m    199\u001b[0m                 \u001b[0mstart\u001b[0m \u001b[0;34m=\u001b[0m \u001b[0mlen\u001b[0m\u001b[0;34m(\u001b[0m\u001b[0mself\u001b[0m\u001b[0;34m.\u001b[0m\u001b[0m_buffer\u001b[0m\u001b[0;34m)\u001b[0m\u001b[0;34m\u001b[0m\u001b[0;34m\u001b[0m\u001b[0m\n\u001b[0;32m--> 200\u001b[0;31m             \u001b[0mself\u001b[0m\u001b[0;34m.\u001b[0m\u001b[0m_buffer\u001b[0m \u001b[0;34m+=\u001b[0m \u001b[0mself\u001b[0m\u001b[0;34m.\u001b[0m\u001b[0m_stream\u001b[0m\u001b[0;34m.\u001b[0m\u001b[0mread\u001b[0m\u001b[0;34m(\u001b[0m\u001b[0mself\u001b[0m\u001b[0;34m.\u001b[0m\u001b[0m_chunk_size\u001b[0m\u001b[0;34m)\u001b[0m\u001b[0;34m\u001b[0m\u001b[0;34m\u001b[0m\u001b[0m\n\u001b[0m\u001b[1;32m    201\u001b[0m         \u001b[0;32mreturn\u001b[0m \u001b[0msix\u001b[0m\u001b[0;34m.\u001b[0m\u001b[0mb\u001b[0m\u001b[0;34m(\u001b[0m\u001b[0;34m''\u001b[0m\u001b[0;34m)\u001b[0m\u001b[0;34m\u001b[0m\u001b[0;34m\u001b[0m\u001b[0m\n\u001b[1;32m    202\u001b[0m \u001b[0;34m\u001b[0m\u001b[0m\n",
      "\u001b[0;32m/opt/anaconda3/lib/python3.7/site-packages/urllib3/response.py\u001b[0m in \u001b[0;36mread\u001b[0;34m(self, amt, decode_content, cache_content)\u001b[0m\n\u001b[1;32m    505\u001b[0m             \u001b[0;32melse\u001b[0m\u001b[0;34m:\u001b[0m\u001b[0;34m\u001b[0m\u001b[0;34m\u001b[0m\u001b[0m\n\u001b[1;32m    506\u001b[0m                 \u001b[0mcache_content\u001b[0m \u001b[0;34m=\u001b[0m \u001b[0;32mFalse\u001b[0m\u001b[0;34m\u001b[0m\u001b[0;34m\u001b[0m\u001b[0m\n\u001b[0;32m--> 507\u001b[0;31m                 \u001b[0mdata\u001b[0m \u001b[0;34m=\u001b[0m \u001b[0mself\u001b[0m\u001b[0;34m.\u001b[0m\u001b[0m_fp\u001b[0m\u001b[0;34m.\u001b[0m\u001b[0mread\u001b[0m\u001b[0;34m(\u001b[0m\u001b[0mamt\u001b[0m\u001b[0;34m)\u001b[0m \u001b[0;32mif\u001b[0m \u001b[0;32mnot\u001b[0m \u001b[0mfp_closed\u001b[0m \u001b[0;32melse\u001b[0m \u001b[0;34mb\"\"\u001b[0m\u001b[0;34m\u001b[0m\u001b[0;34m\u001b[0m\u001b[0m\n\u001b[0m\u001b[1;32m    508\u001b[0m                 if (\n\u001b[1;32m    509\u001b[0m                     \u001b[0mamt\u001b[0m \u001b[0;34m!=\u001b[0m \u001b[0;36m0\u001b[0m \u001b[0;32mand\u001b[0m \u001b[0;32mnot\u001b[0m \u001b[0mdata\u001b[0m\u001b[0;34m\u001b[0m\u001b[0;34m\u001b[0m\u001b[0m\n",
      "\u001b[0;32m/opt/anaconda3/lib/python3.7/http/client.py\u001b[0m in \u001b[0;36mread\u001b[0;34m(self, amt)\u001b[0m\n\u001b[1;32m    455\u001b[0m             \u001b[0;31m# Amount is given, implement using readinto\u001b[0m\u001b[0;34m\u001b[0m\u001b[0;34m\u001b[0m\u001b[0;34m\u001b[0m\u001b[0m\n\u001b[1;32m    456\u001b[0m             \u001b[0mb\u001b[0m \u001b[0;34m=\u001b[0m \u001b[0mbytearray\u001b[0m\u001b[0;34m(\u001b[0m\u001b[0mamt\u001b[0m\u001b[0;34m)\u001b[0m\u001b[0;34m\u001b[0m\u001b[0;34m\u001b[0m\u001b[0m\n\u001b[0;32m--> 457\u001b[0;31m             \u001b[0mn\u001b[0m \u001b[0;34m=\u001b[0m \u001b[0mself\u001b[0m\u001b[0;34m.\u001b[0m\u001b[0mreadinto\u001b[0m\u001b[0;34m(\u001b[0m\u001b[0mb\u001b[0m\u001b[0;34m)\u001b[0m\u001b[0;34m\u001b[0m\u001b[0;34m\u001b[0m\u001b[0m\n\u001b[0m\u001b[1;32m    458\u001b[0m             \u001b[0;32mreturn\u001b[0m \u001b[0mmemoryview\u001b[0m\u001b[0;34m(\u001b[0m\u001b[0mb\u001b[0m\u001b[0;34m)\u001b[0m\u001b[0;34m[\u001b[0m\u001b[0;34m:\u001b[0m\u001b[0mn\u001b[0m\u001b[0;34m]\u001b[0m\u001b[0;34m.\u001b[0m\u001b[0mtobytes\u001b[0m\u001b[0;34m(\u001b[0m\u001b[0;34m)\u001b[0m\u001b[0;34m\u001b[0m\u001b[0;34m\u001b[0m\u001b[0m\n\u001b[1;32m    459\u001b[0m         \u001b[0;32melse\u001b[0m\u001b[0;34m:\u001b[0m\u001b[0;34m\u001b[0m\u001b[0;34m\u001b[0m\u001b[0m\n",
      "\u001b[0;32m/opt/anaconda3/lib/python3.7/http/client.py\u001b[0m in \u001b[0;36mreadinto\u001b[0;34m(self, b)\u001b[0m\n\u001b[1;32m    489\u001b[0m \u001b[0;34m\u001b[0m\u001b[0m\n\u001b[1;32m    490\u001b[0m         \u001b[0;32mif\u001b[0m \u001b[0mself\u001b[0m\u001b[0;34m.\u001b[0m\u001b[0mchunked\u001b[0m\u001b[0;34m:\u001b[0m\u001b[0;34m\u001b[0m\u001b[0;34m\u001b[0m\u001b[0m\n\u001b[0;32m--> 491\u001b[0;31m             \u001b[0;32mreturn\u001b[0m \u001b[0mself\u001b[0m\u001b[0;34m.\u001b[0m\u001b[0m_readinto_chunked\u001b[0m\u001b[0;34m(\u001b[0m\u001b[0mb\u001b[0m\u001b[0;34m)\u001b[0m\u001b[0;34m\u001b[0m\u001b[0;34m\u001b[0m\u001b[0m\n\u001b[0m\u001b[1;32m    492\u001b[0m \u001b[0;34m\u001b[0m\u001b[0m\n\u001b[1;32m    493\u001b[0m         \u001b[0;32mif\u001b[0m \u001b[0mself\u001b[0m\u001b[0;34m.\u001b[0m\u001b[0mlength\u001b[0m \u001b[0;32mis\u001b[0m \u001b[0;32mnot\u001b[0m \u001b[0;32mNone\u001b[0m\u001b[0;34m:\u001b[0m\u001b[0;34m\u001b[0m\u001b[0;34m\u001b[0m\u001b[0m\n",
      "\u001b[0;32m/opt/anaconda3/lib/python3.7/http/client.py\u001b[0m in \u001b[0;36m_readinto_chunked\u001b[0;34m(self, b)\u001b[0m\n\u001b[1;32m    584\u001b[0m         \u001b[0;32mtry\u001b[0m\u001b[0;34m:\u001b[0m\u001b[0;34m\u001b[0m\u001b[0;34m\u001b[0m\u001b[0m\n\u001b[1;32m    585\u001b[0m             \u001b[0;32mwhile\u001b[0m \u001b[0;32mTrue\u001b[0m\u001b[0;34m:\u001b[0m\u001b[0;34m\u001b[0m\u001b[0;34m\u001b[0m\u001b[0m\n\u001b[0;32m--> 586\u001b[0;31m                 \u001b[0mchunk_left\u001b[0m \u001b[0;34m=\u001b[0m \u001b[0mself\u001b[0m\u001b[0;34m.\u001b[0m\u001b[0m_get_chunk_left\u001b[0m\u001b[0;34m(\u001b[0m\u001b[0;34m)\u001b[0m\u001b[0;34m\u001b[0m\u001b[0;34m\u001b[0m\u001b[0m\n\u001b[0m\u001b[1;32m    587\u001b[0m                 \u001b[0;32mif\u001b[0m \u001b[0mchunk_left\u001b[0m \u001b[0;32mis\u001b[0m \u001b[0;32mNone\u001b[0m\u001b[0;34m:\u001b[0m\u001b[0;34m\u001b[0m\u001b[0;34m\u001b[0m\u001b[0m\n\u001b[1;32m    588\u001b[0m                     \u001b[0;32mreturn\u001b[0m \u001b[0mtotal_bytes\u001b[0m\u001b[0;34m\u001b[0m\u001b[0;34m\u001b[0m\u001b[0m\n",
      "\u001b[0;32m/opt/anaconda3/lib/python3.7/http/client.py\u001b[0m in \u001b[0;36m_get_chunk_left\u001b[0;34m(self)\u001b[0m\n\u001b[1;32m    552\u001b[0m                 \u001b[0mself\u001b[0m\u001b[0;34m.\u001b[0m\u001b[0m_safe_read\u001b[0m\u001b[0;34m(\u001b[0m\u001b[0;36m2\u001b[0m\u001b[0;34m)\u001b[0m  \u001b[0;31m# toss the CRLF at the end of the chunk\u001b[0m\u001b[0;34m\u001b[0m\u001b[0;34m\u001b[0m\u001b[0m\n\u001b[1;32m    553\u001b[0m             \u001b[0;32mtry\u001b[0m\u001b[0;34m:\u001b[0m\u001b[0;34m\u001b[0m\u001b[0;34m\u001b[0m\u001b[0m\n\u001b[0;32m--> 554\u001b[0;31m                 \u001b[0mchunk_left\u001b[0m \u001b[0;34m=\u001b[0m \u001b[0mself\u001b[0m\u001b[0;34m.\u001b[0m\u001b[0m_read_next_chunk_size\u001b[0m\u001b[0;34m(\u001b[0m\u001b[0;34m)\u001b[0m\u001b[0;34m\u001b[0m\u001b[0;34m\u001b[0m\u001b[0m\n\u001b[0m\u001b[1;32m    555\u001b[0m             \u001b[0;32mexcept\u001b[0m \u001b[0mValueError\u001b[0m\u001b[0;34m:\u001b[0m\u001b[0;34m\u001b[0m\u001b[0;34m\u001b[0m\u001b[0m\n\u001b[1;32m    556\u001b[0m                 \u001b[0;32mraise\u001b[0m \u001b[0mIncompleteRead\u001b[0m\u001b[0;34m(\u001b[0m\u001b[0;34mb''\u001b[0m\u001b[0;34m)\u001b[0m\u001b[0;34m\u001b[0m\u001b[0;34m\u001b[0m\u001b[0m\n",
      "\u001b[0;32m/opt/anaconda3/lib/python3.7/http/client.py\u001b[0m in \u001b[0;36m_read_next_chunk_size\u001b[0;34m(self)\u001b[0m\n\u001b[1;32m    512\u001b[0m     \u001b[0;32mdef\u001b[0m \u001b[0m_read_next_chunk_size\u001b[0m\u001b[0;34m(\u001b[0m\u001b[0mself\u001b[0m\u001b[0;34m)\u001b[0m\u001b[0;34m:\u001b[0m\u001b[0;34m\u001b[0m\u001b[0;34m\u001b[0m\u001b[0m\n\u001b[1;32m    513\u001b[0m         \u001b[0;31m# Read the next chunk size from the file\u001b[0m\u001b[0;34m\u001b[0m\u001b[0;34m\u001b[0m\u001b[0;34m\u001b[0m\u001b[0m\n\u001b[0;32m--> 514\u001b[0;31m         \u001b[0mline\u001b[0m \u001b[0;34m=\u001b[0m \u001b[0mself\u001b[0m\u001b[0;34m.\u001b[0m\u001b[0mfp\u001b[0m\u001b[0;34m.\u001b[0m\u001b[0mreadline\u001b[0m\u001b[0;34m(\u001b[0m\u001b[0m_MAXLINE\u001b[0m \u001b[0;34m+\u001b[0m \u001b[0;36m1\u001b[0m\u001b[0;34m)\u001b[0m\u001b[0;34m\u001b[0m\u001b[0;34m\u001b[0m\u001b[0m\n\u001b[0m\u001b[1;32m    515\u001b[0m         \u001b[0;32mif\u001b[0m \u001b[0mlen\u001b[0m\u001b[0;34m(\u001b[0m\u001b[0mline\u001b[0m\u001b[0;34m)\u001b[0m \u001b[0;34m>\u001b[0m \u001b[0m_MAXLINE\u001b[0m\u001b[0;34m:\u001b[0m\u001b[0;34m\u001b[0m\u001b[0;34m\u001b[0m\u001b[0m\n\u001b[1;32m    516\u001b[0m             \u001b[0;32mraise\u001b[0m \u001b[0mLineTooLong\u001b[0m\u001b[0;34m(\u001b[0m\u001b[0;34m\"chunk size\"\u001b[0m\u001b[0;34m)\u001b[0m\u001b[0;34m\u001b[0m\u001b[0;34m\u001b[0m\u001b[0m\n",
      "\u001b[0;32m/opt/anaconda3/lib/python3.7/socket.py\u001b[0m in \u001b[0;36mreadinto\u001b[0;34m(self, b)\u001b[0m\n\u001b[1;32m    587\u001b[0m         \u001b[0;32mwhile\u001b[0m \u001b[0;32mTrue\u001b[0m\u001b[0;34m:\u001b[0m\u001b[0;34m\u001b[0m\u001b[0;34m\u001b[0m\u001b[0m\n\u001b[1;32m    588\u001b[0m             \u001b[0;32mtry\u001b[0m\u001b[0;34m:\u001b[0m\u001b[0;34m\u001b[0m\u001b[0;34m\u001b[0m\u001b[0m\n\u001b[0;32m--> 589\u001b[0;31m                 \u001b[0;32mreturn\u001b[0m \u001b[0mself\u001b[0m\u001b[0;34m.\u001b[0m\u001b[0m_sock\u001b[0m\u001b[0;34m.\u001b[0m\u001b[0mrecv_into\u001b[0m\u001b[0;34m(\u001b[0m\u001b[0mb\u001b[0m\u001b[0;34m)\u001b[0m\u001b[0;34m\u001b[0m\u001b[0;34m\u001b[0m\u001b[0m\n\u001b[0m\u001b[1;32m    590\u001b[0m             \u001b[0;32mexcept\u001b[0m \u001b[0mtimeout\u001b[0m\u001b[0;34m:\u001b[0m\u001b[0;34m\u001b[0m\u001b[0;34m\u001b[0m\u001b[0m\n\u001b[1;32m    591\u001b[0m                 \u001b[0mself\u001b[0m\u001b[0;34m.\u001b[0m\u001b[0m_timeout_occurred\u001b[0m \u001b[0;34m=\u001b[0m \u001b[0;32mTrue\u001b[0m\u001b[0;34m\u001b[0m\u001b[0;34m\u001b[0m\u001b[0m\n",
      "\u001b[0;32m/opt/anaconda3/lib/python3.7/site-packages/urllib3/contrib/pyopenssl.py\u001b[0m in \u001b[0;36mrecv_into\u001b[0;34m(self, *args, **kwargs)\u001b[0m\n\u001b[1;32m    323\u001b[0m                 \u001b[0;32mraise\u001b[0m\u001b[0;34m\u001b[0m\u001b[0;34m\u001b[0m\u001b[0m\n\u001b[1;32m    324\u001b[0m         \u001b[0;32mexcept\u001b[0m \u001b[0mOpenSSL\u001b[0m\u001b[0;34m.\u001b[0m\u001b[0mSSL\u001b[0m\u001b[0;34m.\u001b[0m\u001b[0mWantReadError\u001b[0m\u001b[0;34m:\u001b[0m\u001b[0;34m\u001b[0m\u001b[0;34m\u001b[0m\u001b[0m\n\u001b[0;32m--> 325\u001b[0;31m             \u001b[0;32mif\u001b[0m \u001b[0;32mnot\u001b[0m \u001b[0mutil\u001b[0m\u001b[0;34m.\u001b[0m\u001b[0mwait_for_read\u001b[0m\u001b[0;34m(\u001b[0m\u001b[0mself\u001b[0m\u001b[0;34m.\u001b[0m\u001b[0msocket\u001b[0m\u001b[0;34m,\u001b[0m \u001b[0mself\u001b[0m\u001b[0;34m.\u001b[0m\u001b[0msocket\u001b[0m\u001b[0;34m.\u001b[0m\u001b[0mgettimeout\u001b[0m\u001b[0;34m(\u001b[0m\u001b[0;34m)\u001b[0m\u001b[0;34m)\u001b[0m\u001b[0;34m:\u001b[0m\u001b[0;34m\u001b[0m\u001b[0;34m\u001b[0m\u001b[0m\n\u001b[0m\u001b[1;32m    326\u001b[0m                 \u001b[0;32mraise\u001b[0m \u001b[0mtimeout\u001b[0m\u001b[0;34m(\u001b[0m\u001b[0;34m\"The read operation timed out\"\u001b[0m\u001b[0;34m)\u001b[0m\u001b[0;34m\u001b[0m\u001b[0;34m\u001b[0m\u001b[0m\n\u001b[1;32m    327\u001b[0m             \u001b[0;32melse\u001b[0m\u001b[0;34m:\u001b[0m\u001b[0;34m\u001b[0m\u001b[0;34m\u001b[0m\u001b[0m\n",
      "\u001b[0;32m/opt/anaconda3/lib/python3.7/site-packages/urllib3/util/wait.py\u001b[0m in \u001b[0;36mwait_for_read\u001b[0;34m(sock, timeout)\u001b[0m\n\u001b[1;32m    144\u001b[0m     \u001b[0mReturns\u001b[0m \u001b[0;32mTrue\u001b[0m \u001b[0;32mif\u001b[0m \u001b[0mthe\u001b[0m \u001b[0msocket\u001b[0m \u001b[0;32mis\u001b[0m \u001b[0mreadable\u001b[0m\u001b[0;34m,\u001b[0m \u001b[0;32mor\u001b[0m \u001b[0;32mFalse\u001b[0m \u001b[0;32mif\u001b[0m \u001b[0mthe\u001b[0m \u001b[0mtimeout\u001b[0m \u001b[0mexpired\u001b[0m\u001b[0;34m.\u001b[0m\u001b[0;34m\u001b[0m\u001b[0;34m\u001b[0m\u001b[0m\n\u001b[1;32m    145\u001b[0m     \"\"\"\n\u001b[0;32m--> 146\u001b[0;31m     \u001b[0;32mreturn\u001b[0m \u001b[0mwait_for_socket\u001b[0m\u001b[0;34m(\u001b[0m\u001b[0msock\u001b[0m\u001b[0;34m,\u001b[0m \u001b[0mread\u001b[0m\u001b[0;34m=\u001b[0m\u001b[0;32mTrue\u001b[0m\u001b[0;34m,\u001b[0m \u001b[0mtimeout\u001b[0m\u001b[0;34m=\u001b[0m\u001b[0mtimeout\u001b[0m\u001b[0;34m)\u001b[0m\u001b[0;34m\u001b[0m\u001b[0;34m\u001b[0m\u001b[0m\n\u001b[0m\u001b[1;32m    147\u001b[0m \u001b[0;34m\u001b[0m\u001b[0m\n\u001b[1;32m    148\u001b[0m \u001b[0;34m\u001b[0m\u001b[0m\n",
      "\u001b[0;32m/opt/anaconda3/lib/python3.7/site-packages/urllib3/util/wait.py\u001b[0m in \u001b[0;36mpoll_wait_for_socket\u001b[0;34m(sock, read, write, timeout)\u001b[0m\n\u001b[1;32m    105\u001b[0m         \u001b[0;32mreturn\u001b[0m \u001b[0mpoll_obj\u001b[0m\u001b[0;34m.\u001b[0m\u001b[0mpoll\u001b[0m\u001b[0;34m(\u001b[0m\u001b[0mt\u001b[0m\u001b[0;34m)\u001b[0m\u001b[0;34m\u001b[0m\u001b[0;34m\u001b[0m\u001b[0m\n\u001b[1;32m    106\u001b[0m \u001b[0;34m\u001b[0m\u001b[0m\n\u001b[0;32m--> 107\u001b[0;31m     \u001b[0;32mreturn\u001b[0m \u001b[0mbool\u001b[0m\u001b[0;34m(\u001b[0m\u001b[0m_retry_on_intr\u001b[0m\u001b[0;34m(\u001b[0m\u001b[0mdo_poll\u001b[0m\u001b[0;34m,\u001b[0m \u001b[0mtimeout\u001b[0m\u001b[0;34m)\u001b[0m\u001b[0;34m)\u001b[0m\u001b[0;34m\u001b[0m\u001b[0;34m\u001b[0m\u001b[0m\n\u001b[0m\u001b[1;32m    108\u001b[0m \u001b[0;34m\u001b[0m\u001b[0m\n\u001b[1;32m    109\u001b[0m \u001b[0;34m\u001b[0m\u001b[0m\n",
      "\u001b[0;32m/opt/anaconda3/lib/python3.7/site-packages/urllib3/util/wait.py\u001b[0m in \u001b[0;36m_retry_on_intr\u001b[0;34m(fn, timeout)\u001b[0m\n\u001b[1;32m     41\u001b[0m     \u001b[0;31m# Modern Python, that retries syscalls by default\u001b[0m\u001b[0;34m\u001b[0m\u001b[0;34m\u001b[0m\u001b[0;34m\u001b[0m\u001b[0m\n\u001b[1;32m     42\u001b[0m     \u001b[0;32mdef\u001b[0m \u001b[0m_retry_on_intr\u001b[0m\u001b[0;34m(\u001b[0m\u001b[0mfn\u001b[0m\u001b[0;34m,\u001b[0m \u001b[0mtimeout\u001b[0m\u001b[0;34m)\u001b[0m\u001b[0;34m:\u001b[0m\u001b[0;34m\u001b[0m\u001b[0;34m\u001b[0m\u001b[0m\n\u001b[0;32m---> 43\u001b[0;31m         \u001b[0;32mreturn\u001b[0m \u001b[0mfn\u001b[0m\u001b[0;34m(\u001b[0m\u001b[0mtimeout\u001b[0m\u001b[0;34m)\u001b[0m\u001b[0;34m\u001b[0m\u001b[0;34m\u001b[0m\u001b[0m\n\u001b[0m\u001b[1;32m     44\u001b[0m \u001b[0;34m\u001b[0m\u001b[0m\n\u001b[1;32m     45\u001b[0m \u001b[0;34m\u001b[0m\u001b[0m\n",
      "\u001b[0;32m/opt/anaconda3/lib/python3.7/site-packages/urllib3/util/wait.py\u001b[0m in \u001b[0;36mdo_poll\u001b[0;34m(t)\u001b[0m\n\u001b[1;32m    103\u001b[0m         \u001b[0;32mif\u001b[0m \u001b[0mt\u001b[0m \u001b[0;32mis\u001b[0m \u001b[0;32mnot\u001b[0m \u001b[0;32mNone\u001b[0m\u001b[0;34m:\u001b[0m\u001b[0;34m\u001b[0m\u001b[0;34m\u001b[0m\u001b[0m\n\u001b[1;32m    104\u001b[0m             \u001b[0mt\u001b[0m \u001b[0;34m*=\u001b[0m \u001b[0;36m1000\u001b[0m\u001b[0;34m\u001b[0m\u001b[0;34m\u001b[0m\u001b[0m\n\u001b[0;32m--> 105\u001b[0;31m         \u001b[0;32mreturn\u001b[0m \u001b[0mpoll_obj\u001b[0m\u001b[0;34m.\u001b[0m\u001b[0mpoll\u001b[0m\u001b[0;34m(\u001b[0m\u001b[0mt\u001b[0m\u001b[0;34m)\u001b[0m\u001b[0;34m\u001b[0m\u001b[0;34m\u001b[0m\u001b[0m\n\u001b[0m\u001b[1;32m    106\u001b[0m \u001b[0;34m\u001b[0m\u001b[0m\n\u001b[1;32m    107\u001b[0m     \u001b[0;32mreturn\u001b[0m \u001b[0mbool\u001b[0m\u001b[0;34m(\u001b[0m\u001b[0m_retry_on_intr\u001b[0m\u001b[0;34m(\u001b[0m\u001b[0mdo_poll\u001b[0m\u001b[0;34m,\u001b[0m \u001b[0mtimeout\u001b[0m\u001b[0;34m)\u001b[0m\u001b[0;34m)\u001b[0m\u001b[0;34m\u001b[0m\u001b[0;34m\u001b[0m\u001b[0m\n",
      "\u001b[0;31mKeyboardInterrupt\u001b[0m: "
     ]
    }
   ],
   "source": [
    "Miextraccion = tweepy.Stream(auth=api.auth, listener=TweetsListener(time_limit=20))\n",
    "\n",
    "Miextraccion.filter(track=[\"Nieve\"])"
   ]
  },
  {
   "cell_type": "code",
   "execution_count": 21,
   "metadata": {},
   "outputs": [
    {
     "data": {
      "text/plain": [
       "Status(_api=<tweepy.api.API object at 0x103db7110>, _json={'created_at': 'Wed Jan 13 19:21:40 +0000 2021', 'id': 1349436470763909121, 'id_str': '1349436470763909121', 'text': 'Prueba2', 'truncated': False, 'entities': {'hashtags': [], 'symbols': [], 'user_mentions': [], 'urls': []}, 'source': '', 'in_reply_to_status_id': None, 'in_reply_to_status_id_str': None, 'in_reply_to_user_id': None, 'in_reply_to_user_id_str': None, 'in_reply_to_screen_name': None, 'user': {'id': 534747417, 'id_str': '534747417', 'name': 'JORGE FAIETA', 'screen_name': 'Jorgeffd', 'location': 'Madrid, Comunidad de Madrid', 'description': 'Φ', 'url': None, 'entities': {'description': {'urls': []}}, 'protected': False, 'followers_count': 96, 'friends_count': 350, 'listed_count': 0, 'created_at': 'Fri Mar 23 19:43:08 +0000 2012', 'favourites_count': 769, 'utc_offset': None, 'time_zone': None, 'geo_enabled': False, 'verified': False, 'statuses_count': 4460, 'lang': None, 'contributors_enabled': False, 'is_translator': False, 'is_translation_enabled': False, 'profile_background_color': 'C0DEED', 'profile_background_image_url': 'http://abs.twimg.com/images/themes/theme1/bg.png', 'profile_background_image_url_https': 'https://abs.twimg.com/images/themes/theme1/bg.png', 'profile_background_tile': False, 'profile_image_url': 'http://pbs.twimg.com/profile_images/460118094040817664/ptAXZ9x3_normal.jpeg', 'profile_image_url_https': 'https://pbs.twimg.com/profile_images/460118094040817664/ptAXZ9x3_normal.jpeg', 'profile_link_color': '1DA1F2', 'profile_sidebar_border_color': 'C0DEED', 'profile_sidebar_fill_color': 'DDEEF6', 'profile_text_color': '333333', 'profile_use_background_image': True, 'has_extended_profile': False, 'default_profile': True, 'default_profile_image': False, 'following': False, 'follow_request_sent': False, 'notifications': False, 'translator_type': 'none'}, 'geo': None, 'coordinates': None, 'place': None, 'contributors': None, 'is_quote_status': False, 'retweet_count': 0, 'favorite_count': 0, 'favorited': False, 'retweeted': False, 'lang': 'es'}, created_at=datetime.datetime(2021, 1, 13, 19, 21, 40), id=1349436470763909121, id_str='1349436470763909121', text='Prueba2', truncated=False, entities={'hashtags': [], 'symbols': [], 'user_mentions': [], 'urls': []}, source='', source_url=None, in_reply_to_status_id=None, in_reply_to_status_id_str=None, in_reply_to_user_id=None, in_reply_to_user_id_str=None, in_reply_to_screen_name=None, author=User(_api=<tweepy.api.API object at 0x103db7110>, _json={'id': 534747417, 'id_str': '534747417', 'name': 'JORGE FAIETA', 'screen_name': 'Jorgeffd', 'location': 'Madrid, Comunidad de Madrid', 'description': 'Φ', 'url': None, 'entities': {'description': {'urls': []}}, 'protected': False, 'followers_count': 96, 'friends_count': 350, 'listed_count': 0, 'created_at': 'Fri Mar 23 19:43:08 +0000 2012', 'favourites_count': 769, 'utc_offset': None, 'time_zone': None, 'geo_enabled': False, 'verified': False, 'statuses_count': 4460, 'lang': None, 'contributors_enabled': False, 'is_translator': False, 'is_translation_enabled': False, 'profile_background_color': 'C0DEED', 'profile_background_image_url': 'http://abs.twimg.com/images/themes/theme1/bg.png', 'profile_background_image_url_https': 'https://abs.twimg.com/images/themes/theme1/bg.png', 'profile_background_tile': False, 'profile_image_url': 'http://pbs.twimg.com/profile_images/460118094040817664/ptAXZ9x3_normal.jpeg', 'profile_image_url_https': 'https://pbs.twimg.com/profile_images/460118094040817664/ptAXZ9x3_normal.jpeg', 'profile_link_color': '1DA1F2', 'profile_sidebar_border_color': 'C0DEED', 'profile_sidebar_fill_color': 'DDEEF6', 'profile_text_color': '333333', 'profile_use_background_image': True, 'has_extended_profile': False, 'default_profile': True, 'default_profile_image': False, 'following': False, 'follow_request_sent': False, 'notifications': False, 'translator_type': 'none'}, id=534747417, id_str='534747417', name='JORGE FAIETA', screen_name='Jorgeffd', location='Madrid, Comunidad de Madrid', description='Φ', url=None, entities={'description': {'urls': []}}, protected=False, followers_count=96, friends_count=350, listed_count=0, created_at=datetime.datetime(2012, 3, 23, 19, 43, 8), favourites_count=769, utc_offset=None, time_zone=None, geo_enabled=False, verified=False, statuses_count=4460, lang=None, contributors_enabled=False, is_translator=False, is_translation_enabled=False, profile_background_color='C0DEED', profile_background_image_url='http://abs.twimg.com/images/themes/theme1/bg.png', profile_background_image_url_https='https://abs.twimg.com/images/themes/theme1/bg.png', profile_background_tile=False, profile_image_url='http://pbs.twimg.com/profile_images/460118094040817664/ptAXZ9x3_normal.jpeg', profile_image_url_https='https://pbs.twimg.com/profile_images/460118094040817664/ptAXZ9x3_normal.jpeg', profile_link_color='1DA1F2', profile_sidebar_border_color='C0DEED', profile_sidebar_fill_color='DDEEF6', profile_text_color='333333', profile_use_background_image=True, has_extended_profile=False, default_profile=True, default_profile_image=False, following=False, follow_request_sent=False, notifications=False, translator_type='none'), user=User(_api=<tweepy.api.API object at 0x103db7110>, _json={'id': 534747417, 'id_str': '534747417', 'name': 'JORGE FAIETA', 'screen_name': 'Jorgeffd', 'location': 'Madrid, Comunidad de Madrid', 'description': 'Φ', 'url': None, 'entities': {'description': {'urls': []}}, 'protected': False, 'followers_count': 96, 'friends_count': 350, 'listed_count': 0, 'created_at': 'Fri Mar 23 19:43:08 +0000 2012', 'favourites_count': 769, 'utc_offset': None, 'time_zone': None, 'geo_enabled': False, 'verified': False, 'statuses_count': 4460, 'lang': None, 'contributors_enabled': False, 'is_translator': False, 'is_translation_enabled': False, 'profile_background_color': 'C0DEED', 'profile_background_image_url': 'http://abs.twimg.com/images/themes/theme1/bg.png', 'profile_background_image_url_https': 'https://abs.twimg.com/images/themes/theme1/bg.png', 'profile_background_tile': False, 'profile_image_url': 'http://pbs.twimg.com/profile_images/460118094040817664/ptAXZ9x3_normal.jpeg', 'profile_image_url_https': 'https://pbs.twimg.com/profile_images/460118094040817664/ptAXZ9x3_normal.jpeg', 'profile_link_color': '1DA1F2', 'profile_sidebar_border_color': 'C0DEED', 'profile_sidebar_fill_color': 'DDEEF6', 'profile_text_color': '333333', 'profile_use_background_image': True, 'has_extended_profile': False, 'default_profile': True, 'default_profile_image': False, 'following': False, 'follow_request_sent': False, 'notifications': False, 'translator_type': 'none'}, id=534747417, id_str='534747417', name='JORGE FAIETA', screen_name='Jorgeffd', location='Madrid, Comunidad de Madrid', description='Φ', url=None, entities={'description': {'urls': []}}, protected=False, followers_count=96, friends_count=350, listed_count=0, created_at=datetime.datetime(2012, 3, 23, 19, 43, 8), favourites_count=769, utc_offset=None, time_zone=None, geo_enabled=False, verified=False, statuses_count=4460, lang=None, contributors_enabled=False, is_translator=False, is_translation_enabled=False, profile_background_color='C0DEED', profile_background_image_url='http://abs.twimg.com/images/themes/theme1/bg.png', profile_background_image_url_https='https://abs.twimg.com/images/themes/theme1/bg.png', profile_background_tile=False, profile_image_url='http://pbs.twimg.com/profile_images/460118094040817664/ptAXZ9x3_normal.jpeg', profile_image_url_https='https://pbs.twimg.com/profile_images/460118094040817664/ptAXZ9x3_normal.jpeg', profile_link_color='1DA1F2', profile_sidebar_border_color='C0DEED', profile_sidebar_fill_color='DDEEF6', profile_text_color='333333', profile_use_background_image=True, has_extended_profile=False, default_profile=True, default_profile_image=False, following=False, follow_request_sent=False, notifications=False, translator_type='none'), geo=None, coordinates=None, place=None, contributors=None, is_quote_status=False, retweet_count=0, favorite_count=0, favorited=False, retweeted=False, lang='es')"
      ]
     },
     "execution_count": 21,
     "metadata": {},
     "output_type": "execute_result"
    }
   ],
   "source": [
    "api.update_status('Prueba2')"
   ]
  },
  {
   "cell_type": "code",
   "execution_count": 24,
   "metadata": {},
   "outputs": [
    {
     "data": {
      "text/plain": [
       "[{'trends': [{'name': '#ImpeachmentDay',\n",
       "    'url': 'http://twitter.com/search?q=%23ImpeachmentDay',\n",
       "    'promoted_content': None,\n",
       "    'query': '%23ImpeachmentDay',\n",
       "    'tweet_volume': 98918},\n",
       "   {'name': 'Jim Jordan',\n",
       "    'url': 'http://twitter.com/search?q=%22Jim+Jordan%22',\n",
       "    'promoted_content': None,\n",
       "    'query': '%22Jim+Jordan%22',\n",
       "    'tweet_volume': 428202},\n",
       "   {'name': 'Matt Gaetz',\n",
       "    'url': 'http://twitter.com/search?q=%22Matt+Gaetz%22',\n",
       "    'promoted_content': None,\n",
       "    'query': '%22Matt+Gaetz%22',\n",
       "    'tweet_volume': 74484},\n",
       "   {'name': '#TekHizmetİstifa',\n",
       "    'url': 'http://twitter.com/search?q=%23TekHizmet%C4%B0stifa',\n",
       "    'promoted_content': None,\n",
       "    'query': '%23TekHizmet%C4%B0stifa',\n",
       "    'tweet_volume': 27569},\n",
       "   {'name': '#crisidigoverno',\n",
       "    'url': 'http://twitter.com/search?q=%23crisidigoverno',\n",
       "    'promoted_content': None,\n",
       "    'query': '%23crisidigoverno',\n",
       "    'tweet_volume': 59852},\n",
       "   {'name': 'Foden',\n",
       "    'url': 'http://twitter.com/search?q=Foden',\n",
       "    'promoted_content': None,\n",
       "    'query': 'Foden',\n",
       "    'tweet_volume': 16716},\n",
       "   {'name': '#SEVENTEENxKELLY',\n",
       "    'url': 'http://twitter.com/search?q=%23SEVENTEENxKELLY',\n",
       "    'promoted_content': None,\n",
       "    'query': '%23SEVENTEENxKELLY',\n",
       "    'tweet_volume': 60420},\n",
       "   {'name': '#Seventeen_KellyClarksonShow',\n",
       "    'url': 'http://twitter.com/search?q=%23Seventeen_KellyClarksonShow',\n",
       "    'promoted_content': None,\n",
       "    'query': '%23Seventeen_KellyClarksonShow',\n",
       "    'tweet_volume': 32072},\n",
       "   {'name': 'Harden',\n",
       "    'url': 'http://twitter.com/search?q=Harden',\n",
       "    'promoted_content': None,\n",
       "    'query': 'Harden',\n",
       "    'tweet_volume': 152867},\n",
       "   {'name': 'Percy Tau',\n",
       "    'url': 'http://twitter.com/search?q=%22Percy+Tau%22',\n",
       "    'promoted_content': None,\n",
       "    'query': '%22Percy+Tau%22',\n",
       "    'tweet_volume': 18148},\n",
       "   {'name': 'Doja',\n",
       "    'url': 'http://twitter.com/search?q=Doja',\n",
       "    'promoted_content': None,\n",
       "    'query': 'Doja',\n",
       "    'tweet_volume': 40343},\n",
       "   {'name': 'megan',\n",
       "    'url': 'http://twitter.com/search?q=megan',\n",
       "    'promoted_content': None,\n",
       "    'query': 'megan',\n",
       "    'tweet_volume': 41774},\n",
       "   {'name': 'Borel',\n",
       "    'url': 'http://twitter.com/search?q=Borel',\n",
       "    'promoted_content': None,\n",
       "    'query': 'Borel',\n",
       "    'tweet_volume': 337490},\n",
       "   {'name': 'Kyrie',\n",
       "    'url': 'http://twitter.com/search?q=Kyrie',\n",
       "    'promoted_content': None,\n",
       "    'query': 'Kyrie',\n",
       "    'tweet_volume': 94313},\n",
       "   {'name': 'Cori Bush',\n",
       "    'url': 'http://twitter.com/search?q=%22Cori+Bush%22',\n",
       "    'promoted_content': None,\n",
       "    'query': '%22Cori+Bush%22',\n",
       "    'tweet_volume': 25550},\n",
       "   {'name': 'Halle',\n",
       "    'url': 'http://twitter.com/search?q=Halle',\n",
       "    'promoted_content': None,\n",
       "    'query': 'Halle',\n",
       "    'tweet_volume': 15928},\n",
       "   {'name': 'Mensah',\n",
       "    'url': 'http://twitter.com/search?q=Mensah',\n",
       "    'promoted_content': None,\n",
       "    'query': 'Mensah',\n",
       "    'tweet_volume': 11616},\n",
       "   {'name': '3435 REMIX IS COMING',\n",
       "    'url': 'http://twitter.com/search?q=%223435+REMIX+IS+COMING%22',\n",
       "    'promoted_content': None,\n",
       "    'query': '%223435+REMIX+IS+COMING%22',\n",
       "    'tweet_volume': 26131},\n",
       "   {'name': 'António Costa',\n",
       "    'url': 'http://twitter.com/search?q=%22Ant%C3%B3nio+Costa%22',\n",
       "    'promoted_content': None,\n",
       "    'query': '%22Ant%C3%B3nio+Costa%22',\n",
       "    'tweet_volume': None},\n",
       "   {'name': 'Richmond',\n",
       "    'url': 'http://twitter.com/search?q=Richmond',\n",
       "    'promoted_content': None,\n",
       "    'query': 'Richmond',\n",
       "    'tweet_volume': 19614},\n",
       "   {'name': 'Brighton',\n",
       "    'url': 'http://twitter.com/search?q=Brighton',\n",
       "    'promoted_content': None,\n",
       "    'query': 'Brighton',\n",
       "    'tweet_volume': 25917},\n",
       "   {'name': 'Mahrez',\n",
       "    'url': 'http://twitter.com/search?q=Mahrez',\n",
       "    'promoted_content': None,\n",
       "    'query': 'Mahrez',\n",
       "    'tweet_volume': None},\n",
       "   {'name': 'AsılAmaçları Buymuş',\n",
       "    'url': 'http://twitter.com/search?q=%22As%C4%B1lAma%C3%A7lar%C4%B1+Buymu%C5%9F%22',\n",
       "    'promoted_content': None,\n",
       "    'query': '%22As%C4%B1lAma%C3%A7lar%C4%B1+Buymu%C5%9F%22',\n",
       "    'tweet_volume': None},\n",
       "   {'name': 'TviitterdaArtık YeniAçıldı',\n",
       "    'url': 'http://twitter.com/search?q=%22TviitterdaArt%C4%B1k+YeniA%C3%A7%C4%B1ld%C4%B1%22',\n",
       "    'promoted_content': None,\n",
       "    'query': '%22TviitterdaArt%C4%B1k+YeniA%C3%A7%C4%B1ld%C4%B1%22',\n",
       "    'tweet_volume': None},\n",
       "   {'name': 'Gohmert',\n",
       "    'url': 'http://twitter.com/search?q=Gohmert',\n",
       "    'promoted_content': None,\n",
       "    'query': 'Gohmert',\n",
       "    'tweet_volume': 55682},\n",
       "   {'name': 'Daebak Show',\n",
       "    'url': 'http://twitter.com/search?q=%22Daebak+Show%22',\n",
       "    'promoted_content': None,\n",
       "    'query': '%22Daebak+Show%22',\n",
       "    'tweet_volume': None},\n",
       "   {'name': 'Lauren Boebert',\n",
       "    'url': 'http://twitter.com/search?q=%22Lauren+Boebert%22',\n",
       "    'promoted_content': None,\n",
       "    'query': '%22Lauren+Boebert%22',\n",
       "    'tweet_volume': 256861},\n",
       "   {'name': 'Nets',\n",
       "    'url': 'http://twitter.com/search?q=Nets',\n",
       "    'promoted_content': None,\n",
       "    'query': 'Nets',\n",
       "    'tweet_volume': 43915},\n",
       "   {'name': 'Ubisoft',\n",
       "    'url': 'http://twitter.com/search?q=Ubisoft',\n",
       "    'promoted_content': None,\n",
       "    'query': 'Ubisoft',\n",
       "    'tweet_volume': 70089},\n",
       "   {'name': 'Kevin McCarthy',\n",
       "    'url': 'http://twitter.com/search?q=%22Kevin+McCarthy%22',\n",
       "    'promoted_content': None,\n",
       "    'query': '%22Kevin+McCarthy%22',\n",
       "    'tweet_volume': 86414},\n",
       "   {'name': 'Nego',\n",
       "    'url': 'http://twitter.com/search?q=Nego',\n",
       "    'promoted_content': None,\n",
       "    'query': 'Nego',\n",
       "    'tweet_volume': 377876},\n",
       "   {'name': 'Sagasti',\n",
       "    'url': 'http://twitter.com/search?q=Sagasti',\n",
       "    'promoted_content': None,\n",
       "    'query': 'Sagasti',\n",
       "    'tweet_volume': None},\n",
       "   {'name': 'Ömer Faruk',\n",
       "    'url': 'http://twitter.com/search?q=%22%C3%96mer+Faruk%22',\n",
       "    'promoted_content': None,\n",
       "    'query': '%22%C3%96mer+Faruk%22',\n",
       "    'tweet_volume': 12738},\n",
       "   {'name': 'RIP Dele',\n",
       "    'url': 'http://twitter.com/search?q=%22RIP+Dele%22',\n",
       "    'promoted_content': None,\n",
       "    'query': '%22RIP+Dele%22',\n",
       "    'tweet_volume': 26646},\n",
       "   {'name': 'Lara Jean',\n",
       "    'url': 'http://twitter.com/search?q=%22Lara+Jean%22',\n",
       "    'promoted_content': None,\n",
       "    'query': '%22Lara+Jean%22',\n",
       "    'tweet_volume': 22701},\n",
       "   {'name': 'Tom McClintock',\n",
       "    'url': 'http://twitter.com/search?q=%22Tom+McClintock%22',\n",
       "    'promoted_content': None,\n",
       "    'query': '%22Tom+McClintock%22',\n",
       "    'tweet_volume': 10957},\n",
       "   {'name': 'Ken Buck',\n",
       "    'url': 'http://twitter.com/search?q=%22Ken+Buck%22',\n",
       "    'promoted_content': None,\n",
       "    'query': '%22Ken+Buck%22',\n",
       "    'tweet_volume': 20865},\n",
       "   {'name': 'Dan Newhouse',\n",
       "    'url': 'http://twitter.com/search?q=%22Dan+Newhouse%22',\n",
       "    'promoted_content': None,\n",
       "    'query': '%22Dan+Newhouse%22',\n",
       "    'tweet_volume': 14241},\n",
       "   {'name': 'jongin',\n",
       "    'url': 'http://twitter.com/search?q=jongin',\n",
       "    'promoted_content': None,\n",
       "    'query': 'jongin',\n",
       "    'tweet_volume': 161621},\n",
       "   {'name': 'Duda',\n",
       "    'url': 'http://twitter.com/search?q=Duda',\n",
       "    'promoted_content': None,\n",
       "    'query': 'Duda',\n",
       "    'tweet_volume': 483420},\n",
       "   {'name': 'Hogwarts Legacy',\n",
       "    'url': 'http://twitter.com/search?q=%22Hogwarts+Legacy%22',\n",
       "    'promoted_content': None,\n",
       "    'query': '%22Hogwarts+Legacy%22',\n",
       "    'tweet_volume': None},\n",
       "   {'name': 'Fahrettin Koca',\n",
       "    'url': 'http://twitter.com/search?q=%22Fahrettin+Koca%22',\n",
       "    'promoted_content': None,\n",
       "    'query': '%22Fahrettin+Koca%22',\n",
       "    'tweet_volume': 16281},\n",
       "   {'name': 'Founders Day',\n",
       "    'url': 'http://twitter.com/search?q=%22Founders+Day%22',\n",
       "    'promoted_content': None,\n",
       "    'query': '%22Founders+Day%22',\n",
       "    'tweet_volume': 25500},\n",
       "   {'name': 'Shrek 2',\n",
       "    'url': 'http://twitter.com/search?q=%22Shrek+2%22',\n",
       "    'promoted_content': None,\n",
       "    'query': '%22Shrek+2%22',\n",
       "    'tweet_volume': None},\n",
       "   {'name': 'White Supremacist in Chief',\n",
       "    'url': 'http://twitter.com/search?q=%22White+Supremacist+in+Chief%22',\n",
       "    'promoted_content': None,\n",
       "    'query': '%22White+Supremacist+in+Chief%22',\n",
       "    'tweet_volume': 13198},\n",
       "   {'name': 'Zinchenko',\n",
       "    'url': 'http://twitter.com/search?q=Zinchenko',\n",
       "    'promoted_content': None,\n",
       "    'query': 'Zinchenko',\n",
       "    'tweet_volume': None},\n",
       "   {'name': 'Ronny Jackson',\n",
       "    'url': 'http://twitter.com/search?q=%22Ronny+Jackson%22',\n",
       "    'promoted_content': None,\n",
       "    'query': '%22Ronny+Jackson%22',\n",
       "    'tweet_volume': None},\n",
       "   {'name': 'TE AMAMOS ANAHI',\n",
       "    'url': 'http://twitter.com/search?q=%22TE+AMAMOS+ANAHI%22',\n",
       "    'promoted_content': None,\n",
       "    'query': '%22TE+AMAMOS+ANAHI%22',\n",
       "    'tweet_volume': None},\n",
       "   {'name': 'DANCING WITH THE DEVIL',\n",
       "    'url': 'http://twitter.com/search?q=%22DANCING+WITH+THE+DEVIL%22',\n",
       "    'promoted_content': None,\n",
       "    'query': '%22DANCING+WITH+THE+DEVIL%22',\n",
       "    'tweet_volume': 43580},\n",
       "   {'name': 'Trossard',\n",
       "    'url': 'http://twitter.com/search?q=Trossard',\n",
       "    'promoted_content': None,\n",
       "    'query': 'Trossard',\n",
       "    'tweet_volume': None}],\n",
       "  'as_of': '2021-01-13T19:26:15Z',\n",
       "  'created_at': '2021-01-12T12:20:00Z',\n",
       "  'locations': [{'name': 'Worldwide', 'woeid': 1}]}]"
      ]
     },
     "execution_count": 24,
     "metadata": {},
     "output_type": "execute_result"
    }
   ],
   "source": [
    "api.trends_place(1)"
   ]
  },
  {
   "cell_type": "code",
   "execution_count": 25,
   "metadata": {},
   "outputs": [
    {
     "name": "stdout",
     "output_type": "stream",
     "text": [
      "#ImpeachmentDay\n",
      "Jim Jordan\n",
      "Matt Gaetz\n",
      "#TekHizmetİstifa\n",
      "#crisidigoverno\n",
      "Foden\n",
      "#SEVENTEENxKELLY\n",
      "#Seventeen_KellyClarksonShow\n",
      "Harden\n",
      "Percy Tau\n",
      "Doja\n",
      "megan\n",
      "Borel\n",
      "Kyrie\n",
      "Cori Bush\n",
      "Halle\n",
      "Brighton\n",
      "Mensah\n",
      "3435 REMIX IS COMING\n",
      "António Costa\n",
      "Mahrez\n",
      "Richmond\n",
      "Nets\n",
      "AsılAmaçları Buymuş\n",
      "TviitterdaArtık YeniAçıldı\n",
      "Daebak Show\n",
      "Lauren Boebert\n",
      "Gohmert\n",
      "Ubisoft\n",
      "Kevin McCarthy\n",
      "Nego\n",
      "Sagasti\n",
      "RIP Dele\n",
      "Ömer Faruk\n",
      "Lara Jean\n",
      "Tom McClintock\n",
      "Ken Buck\n",
      "Dan Newhouse\n",
      "jongin\n",
      "Duda\n",
      "Fahrettin Koca\n",
      "Hogwarts Legacy\n",
      "Shrek 2\n",
      "Founders Day\n",
      "Simmons\n",
      "Trossard\n",
      "Zinchenko\n",
      "TE AMAMOS ANAHI\n",
      "White Supremacist in Chief\n",
      "Ronny Jackson\n"
     ]
    }
   ],
   "source": [
    "for tendencia in api.trends_place(1)[0][\"trends\"]:\n",
    "    print(tendencia[\"name\"])"
   ]
  },
  {
   "cell_type": "code",
   "execution_count": 26,
   "metadata": {},
   "outputs": [
    {
     "name": "stdout",
     "output_type": "stream",
     "text": [
      "El Pitazo dijo Entérate aquí de la reacción que según #Maduro tuvo su #CiliaFlores luego de que #ElliottAbrams le propusiera que s… https://t.co/6tqyOZ7Zde\n",
      "El Pitazo dijo #OPINIÓN | Conatel y el Seniat han enviado a sus comitivas a diferentes medios de comunicación. Se han inventados e… https://t.co/cGXUEOweVp\n",
      "PanAm Post Español dijo Investigan a policías por presuntos vínculos con violencia en el Congreso de EEUU https://t.co/8dOV2cJoYs #EEUU 🇺🇸 por @OriRivas91\n",
      "Ismael Cala dijo WhatsApp dice que los cambios «no afectarán» a la privacidad de mensajes y llamadas... El cambio en sus políticas h… https://t.co/WNpRACavCi\n",
      "Reporte Confidencial dijo Dos venezolanos llevan cinco días retenidos en el aeropuerto de Bogotá https://t.co/U5Nj8v3AqV\n",
      "Efecto Cocuyo dijo #Opinión @Fernanpereirav: El año comienza con una especial preocupación por los niños y adolescentes que se han que… https://t.co/5QBVuR5vEh\n",
      "ABC.es dijo #ABCrecomienda ✍ Víctimas y victimillas https://t.co/bnIy0UyBRH de @julian_quiros\n",
      "Secretary Pompeo dijo In 2019, ​we took out ISIS terrorist ​Abu Bakr Al-Baghdadi &amp; al-Qa'ida terrorist Hamza bin Laden. US leadership + G… https://t.co/2qzBJVGzze\n",
      "Efecto Cocuyo dijo #ElDato Indicadores como la inflación, la pobreza o el índice de ingreso familiar fueron omitidos en el mensaje anu… https://t.co/5VThGI8euM\n",
      "Runrunes dijo #NáufragosDeGüiria | Así suena Güiria es un trabajo sonoro de Alianza Rebelde Investiga (ARI) (Runrunes, Tal Cual y… https://t.co/BBpOkSvU6d\n",
      "Efecto Cocuyo dijo #SepaQue Las Federaciones Sindicales del Magisterio convocaron a una jornada de Protesta Nacional el #15Ene, en con… https://t.co/gKpqfyVfdG\n",
      "Meridiano (🏠) dijo #LVBP Semifinales pondrán la fiesta en los diamantes https://t.co/lURUMIjai3\n",
      "El Pitazo dijo #Tecnología | Investigadores de la Nasa anunciaron que lograron detectar, pro primera vez, una señal de radio prove… https://t.co/isaHOq2O5f\n",
      "Emmanuel Rincón dijo Esta parte de la película se llama: republicanos contra Trump. https://t.co/YTCQcOUWQ4\n",
      "Orlando Avendaño dijo RT @NikkiHaley: It’s more important than ever that we stand up for our founding ideas &amp; American values. That means defending capitalism, p…\n",
      "Revista Semana dijo Aún existe temor de parte de muchos padres de familia. Sin embargo, esto dice el Ministerio de Educación al respect… https://t.co/xqKLsrSplJ\n",
      "Emmanuel Rincón dijo Terribles declaraciones: https://t.co/GOO4Q4JlPb\n",
      "𝕂𝕒𝕣𝕠𝕝𝕒𝕪𝕟𝕖. dijo e do nada surgiram um monte de fakes da Duda Reis né rapaziada? 😅\n",
      "Carlos Peñaloza dijo https://t.co/NBv3E3fhai\n",
      "Meridiano (🏠) dijo #LaLiga | Modric: \"Hazard demostrará el gran jugador que es\" https://t.co/P7njDYMbdo\n"
     ]
    }
   ],
   "source": [
    "timeline=api.home_timeline()\n",
    "for tweet in timeline:\n",
    "    print(f\"{tweet.user.name} dijo {tweet.text}\")"
   ]
  },
  {
   "cell_type": "markdown",
   "metadata": {},
   "source": [
    "### Fuente [youtube](https://www.youtube.com/watch?v=fqFAOYh_-bs)"
   ]
  },
  {
   "cell_type": "markdown",
   "metadata": {},
   "source": [
    "## Limitaciones:\n",
    "180 **`Requerimientos`** cada 15 minutos.\n",
    " - Tweet Search: 450 tweets por requerimiento\n",
    " - Usuarios: 900 usuarios por requerimiento\n",
    " - Timelines: 1500 tweets por requerimientos. Solo puedo obtener los ultimos 3200 tweets(inlcuye retweets)"
   ]
  }
 ],
 "metadata": {
  "kernelspec": {
   "display_name": "Python 3",
   "language": "python",
   "name": "python3"
  },
  "language_info": {
   "codemirror_mode": {
    "name": "ipython",
    "version": 3
   },
   "file_extension": ".py",
   "mimetype": "text/x-python",
   "name": "python",
   "nbconvert_exporter": "python",
   "pygments_lexer": "ipython3",
   "version": "3.8.5"
  }
 },
 "nbformat": 4,
 "nbformat_minor": 4
}
