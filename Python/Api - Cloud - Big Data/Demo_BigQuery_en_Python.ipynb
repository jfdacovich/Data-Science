{
 "cells": [
  {
   "cell_type": "markdown",
   "metadata": {},
   "source": [
    "# Habilitar Bigquery en Python"
   ]
  },
  {
   "cell_type": "code",
   "execution_count": 1,
   "metadata": {
    "scrolled": true
   },
   "outputs": [
    {
     "name": "stdout",
     "output_type": "stream",
     "text": [
      "02_Features_selection_titanic.ipynb\r\n",
      "111220_API.ipynb\r\n",
      "111220_JSON.ipynb\r\n",
      "111220_json_print.txt\r\n",
      "121220_Twitter_API.ipynb\r\n",
      "180121 Daniel.ipynb\r\n",
      "1812 Carga_Ficheros .ipynb\r\n",
      "1812 Web Crawling.ipynb\r\n",
      "19_12_2020.ipynb\r\n",
      "27112020 Marco Lib Cientificas.ipynb\r\n",
      "27112020 Marco Librerias cientificas.ipynb\r\n",
      "27112020 Marco Matplotlib.ipynb\r\n",
      "Atm_customer_record.txt\r\n",
      "CR.txt\r\n",
      "Carl Sagan.jpg\r\n",
      "Clase 11-01-2021 DashBoard.ipynb\r\n",
      "Clase 1611 Daniel Gráficos Panda.ipynb\r\n",
      "Clase 181120 .ipynb\r\n",
      "Clase 20201111 (1).ipynb\r\n",
      "Clase 20210120 Peliculas.ipynb\r\n",
      "Clase de Boot Twitter 20210113.ipynb\r\n",
      "Clase20201116Noche.html\r\n",
      "Clase20201125.ipynb\r\n",
      "Clase_20201118.ipynb\r\n",
      "Clasificacion.csv\r\n",
      "Cryoem_groel.png\r\n",
      "Ejemplo_Anova.ipynb\r\n",
      "Ejemplo_Fallido.ipynb\r\n",
      "Ejercicios_Propuestos.ipynb\r\n",
      "Fechas y Horas_Alumno (1).ipynb\r\n",
      "Fechas y Horas_Alumno-Copy1.ipynb\r\n",
      "Fechas y Horas_Alumno.ipynb.textClipping\r\n",
      "Gestiones.csv\r\n",
      "Mongo_creds.txt\r\n",
      "Movimientos.csv\r\n",
      "Peliculas.csv\r\n",
      "Practica Base de datos - Marco.ipynb\r\n",
      "Practica_Twitter_API.ipynb\r\n",
      "Presentacion_Data_Mining.pdf\r\n",
      "Repaso Clase 1801 Daniel Distancias.ipynb\r\n",
      "SEM_image.jpg\r\n",
      "Untitled.ipynb\r\n",
      "Untitled1.ipynb\r\n",
      "Untitled2.ipynb\r\n",
      "Untitled3.ipynb\r\n",
      "Untitled4.ipynb\r\n",
      "aguacate.csv\r\n",
      "creds.txt\r\n",
      "diamonds.arr\r\n",
      "diamonds.csv\r\n",
      "diamonds.pqt\r\n",
      "diamonds_bak.csv\r\n",
      "diamonds_original.csv\r\n",
      "kaggle-survey-2018.zip\r\n",
      "trim-heaven-301811-7b40bce8b0f8.json\r\n",
      "vehicles.csv.zip\r\n"
     ]
    }
   ],
   "source": [
    "!ls"
   ]
  },
  {
   "cell_type": "code",
   "execution_count": 2,
   "metadata": {},
   "outputs": [
    {
     "name": "stdout",
     "output_type": "stream",
     "text": [
      "Collecting google-cloud-bigquery\n",
      "  Downloading google_cloud_bigquery-2.7.0-py2.py3-none-any.whl (211 kB)\n",
      "\u001b[K     |████████████████████████████████| 211 kB 3.4 MB/s eta 0:00:01\n",
      "\u001b[?25hCollecting proto-plus>=1.10.0\n",
      "  Downloading proto-plus-1.13.0.tar.gz (44 kB)\n",
      "\u001b[K     |████████████████████████████████| 44 kB 1.2 MB/s eta 0:00:011\n",
      "\u001b[?25hCollecting google-cloud-core<2.0dev,>=1.4.1\n",
      "  Downloading google_cloud_core-1.5.0-py2.py3-none-any.whl (27 kB)\n",
      "Collecting google-resumable-media<2.0dev,>=0.6.0\n",
      "  Downloading google_resumable_media-1.2.0-py2.py3-none-any.whl (75 kB)\n",
      "\u001b[K     |████████████████████████████████| 75 kB 3.7 MB/s eta 0:00:011\n",
      "\u001b[?25hCollecting google-api-core[grpc]<2.0.0dev,>=1.23.0\n",
      "  Downloading google_api_core-1.25.1-py2.py3-none-any.whl (92 kB)\n",
      "\u001b[K     |████████████████████████████████| 92 kB 203 kB/s eta 0:00:01\n",
      "\u001b[?25hCollecting protobuf>=3.12.0\n",
      "  Downloading protobuf-3.14.0-cp37-cp37m-macosx_10_9_x86_64.whl (1.0 MB)\n",
      "\u001b[K     |████████████████████████████████| 1.0 MB 3.5 MB/s eta 0:00:01     |███▉                            | 122 kB 3.5 MB/s eta 0:00:01\n",
      "\u001b[?25hRequirement already satisfied: six>=1.12.0 in /opt/anaconda3/lib/python3.7/site-packages (from google-cloud-core<2.0dev,>=1.4.1->google-cloud-bigquery) (1.14.0)\n",
      "Collecting google-crc32c<2.0dev,>=1.0; python_version >= \"3.5\"\n",
      "  Downloading google-crc32c-1.1.2.tar.gz (12 kB)\n",
      "  Installing build dependencies ... \u001b[?25ldone\n",
      "\u001b[?25h  Getting requirements to build wheel ... \u001b[?25ldone\n",
      "\u001b[?25h  Installing backend dependencies ... \u001b[?25ldone\n",
      "\u001b[?25h    Preparing wheel metadata ... \u001b[?25ldone\n",
      "\u001b[?25hRequirement already satisfied: pytz in /opt/anaconda3/lib/python3.7/site-packages (from google-api-core[grpc]<2.0.0dev,>=1.23.0->google-cloud-bigquery) (2019.3)\n",
      "Collecting google-auth<2.0dev,>=1.21.1\n",
      "  Downloading google_auth-1.24.0-py2.py3-none-any.whl (114 kB)\n",
      "\u001b[K     |████████████████████████████████| 114 kB 2.1 MB/s eta 0:00:01\n",
      "\u001b[?25hRequirement already satisfied: requests<3.0.0dev,>=2.18.0 in /opt/anaconda3/lib/python3.7/site-packages (from google-api-core[grpc]<2.0.0dev,>=1.23.0->google-cloud-bigquery) (2.22.0)\n",
      "Requirement already satisfied: setuptools>=40.3.0 in /opt/anaconda3/lib/python3.7/site-packages (from google-api-core[grpc]<2.0.0dev,>=1.23.0->google-cloud-bigquery) (46.0.0.post20200309)\n",
      "Collecting googleapis-common-protos<2.0dev,>=1.6.0\n",
      "  Downloading googleapis_common_protos-1.52.0-py2.py3-none-any.whl (100 kB)\n",
      "\u001b[K     |████████████████████████████████| 100 kB 3.1 MB/s ta 0:00:01\n",
      "\u001b[?25hCollecting grpcio<2.0dev,>=1.29.0; extra == \"grpc\"\n",
      "  Downloading grpcio-1.35.0-cp37-cp37m-macosx_10_10_x86_64.whl (3.7 MB)\n",
      "\u001b[K     |████████████████████████████████| 3.7 MB 2.8 MB/s eta 0:00:01     |████████████▊                   | 1.5 MB 2.8 MB/s eta 0:00:01\n",
      "\u001b[?25hRequirement already satisfied: cffi>=1.0.0 in /opt/anaconda3/lib/python3.7/site-packages (from google-crc32c<2.0dev,>=1.0; python_version >= \"3.5\"->google-resumable-media<2.0dev,>=0.6.0->google-cloud-bigquery) (1.14.0)\n",
      "Collecting cachetools<5.0,>=2.0.0\n",
      "  Downloading cachetools-4.2.1-py3-none-any.whl (12 kB)\n",
      "Requirement already satisfied: pyasn1-modules>=0.2.1 in /opt/anaconda3/lib/python3.7/site-packages (from google-auth<2.0dev,>=1.21.1->google-api-core[grpc]<2.0.0dev,>=1.23.0->google-cloud-bigquery) (0.2.8)\n",
      "Collecting rsa<5,>=3.1.4; python_version >= \"3.6\"\n",
      "  Downloading rsa-4.7-py3-none-any.whl (34 kB)\n",
      "Requirement already satisfied: chardet<3.1.0,>=3.0.2 in /opt/anaconda3/lib/python3.7/site-packages (from requests<3.0.0dev,>=2.18.0->google-api-core[grpc]<2.0.0dev,>=1.23.0->google-cloud-bigquery) (3.0.4)\n",
      "Requirement already satisfied: urllib3!=1.25.0,!=1.25.1,<1.26,>=1.21.1 in /opt/anaconda3/lib/python3.7/site-packages (from requests<3.0.0dev,>=2.18.0->google-api-core[grpc]<2.0.0dev,>=1.23.0->google-cloud-bigquery) (1.25.8)\n",
      "Requirement already satisfied: idna<2.9,>=2.5 in /opt/anaconda3/lib/python3.7/site-packages (from requests<3.0.0dev,>=2.18.0->google-api-core[grpc]<2.0.0dev,>=1.23.0->google-cloud-bigquery) (2.8)\n",
      "Requirement already satisfied: certifi>=2017.4.17 in /opt/anaconda3/lib/python3.7/site-packages (from requests<3.0.0dev,>=2.18.0->google-api-core[grpc]<2.0.0dev,>=1.23.0->google-cloud-bigquery) (2019.11.28)\n",
      "Requirement already satisfied: pycparser in /opt/anaconda3/lib/python3.7/site-packages (from cffi>=1.0.0->google-crc32c<2.0dev,>=1.0; python_version >= \"3.5\"->google-resumable-media<2.0dev,>=0.6.0->google-cloud-bigquery) (2.19)\n",
      "Requirement already satisfied: pyasn1<0.5.0,>=0.4.6 in /opt/anaconda3/lib/python3.7/site-packages (from pyasn1-modules>=0.2.1->google-auth<2.0dev,>=1.21.1->google-api-core[grpc]<2.0.0dev,>=1.23.0->google-cloud-bigquery) (0.4.8)\n",
      "Building wheels for collected packages: proto-plus, google-crc32c\n",
      "  Building wheel for proto-plus (setup.py) ... \u001b[?25ldone\n",
      "\u001b[?25h  Created wheel for proto-plus: filename=proto_plus-1.13.0-py3-none-any.whl size=41591 sha256=25c00be8b259f674a5fa95826bdb0a1596f5ad40fe2ab9a12545f04f2a9addd6\n",
      "  Stored in directory: /Users/victoriasofia93/Library/Caches/pip/wheels/7e/5d/3e/a097fe0793f1b35b798804db8187bbe1589b77439a39375f9e\n",
      "  Building wheel for google-crc32c (PEP 517) ... \u001b[?25ldone\n",
      "\u001b[?25h  Created wheel for google-crc32c: filename=google_crc32c-1.1.2-py3-none-any.whl size=13180 sha256=c6fb59222cad35507cde0ddb7e2acfeee9fa7f57834e100c647ec66df64ef8fd\n",
      "  Stored in directory: /Users/victoriasofia93/Library/Caches/pip/wheels/b9/ad/6c/86e27bce4da73265f59aee70ca6194177c9dd76bbcd1a1388f\n",
      "Successfully built proto-plus google-crc32c\n",
      "Installing collected packages: protobuf, proto-plus, cachetools, rsa, google-auth, googleapis-common-protos, grpcio, google-api-core, google-cloud-core, google-crc32c, google-resumable-media, google-cloud-bigquery\n",
      "Successfully installed cachetools-4.2.1 google-api-core-1.25.1 google-auth-1.24.0 google-cloud-bigquery-2.7.0 google-cloud-core-1.5.0 google-crc32c-1.1.2 google-resumable-media-1.2.0 googleapis-common-protos-1.52.0 grpcio-1.35.0 proto-plus-1.13.0 protobuf-3.14.0 rsa-4.7\n"
     ]
    }
   ],
   "source": [
    "!pip install google-cloud-bigquery"
   ]
  },
  {
   "cell_type": "code",
   "execution_count": 3,
   "metadata": {},
   "outputs": [],
   "source": [
    "from google.cloud import bigquery"
   ]
  },
  {
   "cell_type": "code",
   "execution_count": 4,
   "metadata": {},
   "outputs": [],
   "source": [
    "from google.oauth2 import service_account"
   ]
  },
  {
   "cell_type": "code",
   "execution_count": 5,
   "metadata": {},
   "outputs": [],
   "source": [
    "# Creamos la carpeta oculata donde almacenamos el fichero.json del account service de GCP\n",
    "!mkdir ~/.creds"
   ]
  },
  {
   "cell_type": "code",
   "execution_count": 6,
   "metadata": {},
   "outputs": [
    {
     "name": "stdout",
     "output_type": "stream",
     "text": [
      "trim-heaven-301811-7b40bce8b0f8.json\r\n"
     ]
    }
   ],
   "source": [
    "!ls ~/.creds"
   ]
  },
  {
   "cell_type": "code",
   "execution_count": 7,
   "metadata": {},
   "outputs": [],
   "source": [
    "# creamos las variables de entorno\n",
    "creds = service_account.Credentials.from_service_account_file(\"/Users/victoriasofia93/.creds/trim-heaven-301811-7b40bce8b0f8.json\")"
   ]
  },
  {
   "cell_type": "code",
   "execution_count": 8,
   "metadata": {},
   "outputs": [],
   "source": [
    "proj_id = \"trim-heaven-301811\""
   ]
  },
  {
   "cell_type": "code",
   "execution_count": 9,
   "metadata": {},
   "outputs": [],
   "source": [
    "# Llamamos la función Client\n",
    "client = bigquery.Client(project=proj_id, credentials=creds)"
   ]
  },
  {
   "cell_type": "code",
   "execution_count": 14,
   "metadata": {},
   "outputs": [],
   "source": [
    "# Testing\n",
    "query = (\n",
    "    'SELECT name FROM `bigquery-public-data.usa_names.usa_1910_2013` '\n",
    "    'WHERE state = \"NY\" '\n",
    "    'LIMIT 50'\n",
    "        )\n"
   ]
  },
  {
   "cell_type": "code",
   "execution_count": 15,
   "metadata": {},
   "outputs": [
    {
     "data": {
      "text/plain": [
       "'SELECT name FROM `bigquery-public-data.usa_names.usa_1910_2013` WHERE state = \"NY\" LIMIT 50'"
      ]
     },
     "execution_count": 15,
     "metadata": {},
     "output_type": "execute_result"
    }
   ],
   "source": [
    "query"
   ]
  },
  {
   "cell_type": "code",
   "execution_count": 16,
   "metadata": {},
   "outputs": [],
   "source": [
    "query_job = client.query(query)"
   ]
  },
  {
   "cell_type": "code",
   "execution_count": 17,
   "metadata": {},
   "outputs": [
    {
     "data": {
      "text/plain": [
       "'RUNNING'"
      ]
     },
     "execution_count": 17,
     "metadata": {},
     "output_type": "execute_result"
    }
   ],
   "source": [
    "# para visualizar el estado de ejecución: query_job.state\n",
    "query_job.state"
   ]
  },
  {
   "cell_type": "code",
   "execution_count": 18,
   "metadata": {},
   "outputs": [
    {
     "data": {
      "text/plain": [
       "<google.cloud.bigquery.table.RowIterator at 0x12520d710>"
      ]
     },
     "execution_count": 18,
     "metadata": {},
     "output_type": "execute_result"
    }
   ],
   "source": [
    "# its waiting for query to finish\n",
    "query_job.result()"
   ]
  },
  {
   "cell_type": "code",
   "execution_count": 19,
   "metadata": {},
   "outputs": [
    {
     "name": "stdout",
     "output_type": "stream",
     "text": [
      "Mildred\n",
      "Irene\n",
      "Bertha\n",
      "Elsie\n",
      "Mabel\n",
      "Harriet\n",
      "Rita\n",
      "Claire\n",
      "Angela\n",
      "Cecelia\n",
      "Helene\n",
      "Selma\n",
      "Rachel\n",
      "Leah\n",
      "Wanda\n",
      "Isabella\n",
      "Elinor\n",
      "Daisy\n",
      "Eve\n",
      "Velma\n",
      "Anastasia\n",
      "Clarice\n",
      "Libby\n",
      "Domenica\n",
      "Mathilda\n",
      "Sydell\n",
      "Eda\n",
      "Beth\n",
      "Leila\n",
      "Lorena\n",
      "Phoebe\n",
      "Elva\n",
      "Lela\n",
      "Pasqualina\n",
      "Raffaela\n",
      "Cathryn\n",
      "Eugenie\n",
      "Kathrine\n",
      "Libbie\n",
      "Lula\n",
      "Rea\n",
      "Josephine\n",
      "Edna\n",
      "Sylvia\n",
      "Gladys\n",
      "Betty\n",
      "Marguerite\n",
      "Kathleen\n",
      "Barbara\n",
      "Adele\n"
     ]
    }
   ],
   "source": [
    "# Iteramos\n",
    "rows = query_job.result()\n",
    "for row in rows:\n",
    "    print(row.name)"
   ]
  },
  {
   "cell_type": "code",
   "execution_count": null,
   "metadata": {},
   "outputs": [],
   "source": [
    "# En Bloque\n",
    "# Iteramos\n",
    "#rows = query_job.result()\n",
    "#for row in rows:\n",
    " #   print(row.name)"
   ]
  },
  {
   "cell_type": "code",
   "execution_count": 22,
   "metadata": {},
   "outputs": [
    {
     "name": "stdout",
     "output_type": "stream",
     "text": [
      "Row((1501570398, 'Fun | Accessories | Google Merchandise Store'), {'visitId': 0, 'pageTitle': 1})\n",
      "Row((1501570398, 'Home'), {'visitId': 0, 'pageTitle': 1})\n",
      "Row((1501570398, 'Shop by Brand | Google Merchandise Store'), {'visitId': 0, 'pageTitle': 1})\n",
      "Row((1501570398, 'Office | Google Merchandise Store'), {'visitId': 0, 'pageTitle': 1})\n",
      "Row((1501570398, 'Other | Office | Google Merchandise Store'), {'visitId': 0, 'pageTitle': 1})\n",
      "Row((1501570398, 'Writing Instruments | Office | Google Merchandise Store'), {'visitId': 0, 'pageTitle': 1})\n",
      "Row((1501570398, 'Accessories | Google Merchandise Store'), {'visitId': 0, 'pageTitle': 1})\n",
      "Row((1501570398, 'Electronics | Google Merchandise Store'), {'visitId': 0, 'pageTitle': 1})\n",
      "Row((1501570398, 'Apparel | Google Merchandise Store'), {'visitId': 0, 'pageTitle': 1})\n"
     ]
    }
   ],
   "source": [
    "# Prueba con Google Analytics de la tienda oficial de Google (merchandising store de Google)\n",
    "query_2 = (\n",
    "    'SELECT DISTINCT visitId, h.page.pageTitle FROM `bigquery-public-data.google_analytics_sample.ga_sessions_20170801`, '\n",
    "    'UNNEST(hits) as h WHERE visitId = 1501570398')\n",
    "query_job_2 = client.query(query_2)\n",
    "rows_2 = query_job_2.result()\n",
    "\n",
    "for row in rows_2:\n",
    "    print(row)"
   ]
  },
  {
   "cell_type": "code",
   "execution_count": 24,
   "metadata": {},
   "outputs": [
    {
     "name": "stderr",
     "output_type": "stream",
     "text": [
      "/opt/anaconda3/lib/python3.7/site-packages/google/cloud/bigquery/client.py:448: UserWarning: Cannot create BigQuery Storage client, the dependency google-cloud-bigquery-storage is not installed.\n",
      "  \"Cannot create BigQuery Storage client, the dependency \"\n"
     ]
    },
    {
     "data": {
      "text/html": [
       "<div>\n",
       "<style scoped>\n",
       "    .dataframe tbody tr th:only-of-type {\n",
       "        vertical-align: middle;\n",
       "    }\n",
       "\n",
       "    .dataframe tbody tr th {\n",
       "        vertical-align: top;\n",
       "    }\n",
       "\n",
       "    .dataframe thead th {\n",
       "        text-align: right;\n",
       "    }\n",
       "</style>\n",
       "<table border=\"1\" class=\"dataframe\">\n",
       "  <thead>\n",
       "    <tr style=\"text-align: right;\">\n",
       "      <th></th>\n",
       "      <th>visitId</th>\n",
       "      <th>pageTitle</th>\n",
       "    </tr>\n",
       "  </thead>\n",
       "  <tbody>\n",
       "    <tr>\n",
       "      <th>0</th>\n",
       "      <td>1501570398</td>\n",
       "      <td>Fun | Accessories | Google Merchandise Store</td>\n",
       "    </tr>\n",
       "    <tr>\n",
       "      <th>1</th>\n",
       "      <td>1501570398</td>\n",
       "      <td>Home</td>\n",
       "    </tr>\n",
       "    <tr>\n",
       "      <th>2</th>\n",
       "      <td>1501570398</td>\n",
       "      <td>Shop by Brand | Google Merchandise Store</td>\n",
       "    </tr>\n",
       "    <tr>\n",
       "      <th>3</th>\n",
       "      <td>1501570398</td>\n",
       "      <td>Office | Google Merchandise Store</td>\n",
       "    </tr>\n",
       "    <tr>\n",
       "      <th>4</th>\n",
       "      <td>1501570398</td>\n",
       "      <td>Other | Office | Google Merchandise Store</td>\n",
       "    </tr>\n",
       "    <tr>\n",
       "      <th>5</th>\n",
       "      <td>1501570398</td>\n",
       "      <td>Writing Instruments | Office | Google Merchand...</td>\n",
       "    </tr>\n",
       "    <tr>\n",
       "      <th>6</th>\n",
       "      <td>1501570398</td>\n",
       "      <td>Accessories | Google Merchandise Store</td>\n",
       "    </tr>\n",
       "    <tr>\n",
       "      <th>7</th>\n",
       "      <td>1501570398</td>\n",
       "      <td>Electronics | Google Merchandise Store</td>\n",
       "    </tr>\n",
       "    <tr>\n",
       "      <th>8</th>\n",
       "      <td>1501570398</td>\n",
       "      <td>Apparel | Google Merchandise Store</td>\n",
       "    </tr>\n",
       "  </tbody>\n",
       "</table>\n",
       "</div>"
      ],
      "text/plain": [
       "      visitId                                          pageTitle\n",
       "0  1501570398       Fun | Accessories | Google Merchandise Store\n",
       "1  1501570398                                               Home\n",
       "2  1501570398           Shop by Brand | Google Merchandise Store\n",
       "3  1501570398                  Office | Google Merchandise Store\n",
       "4  1501570398          Other | Office | Google Merchandise Store\n",
       "5  1501570398  Writing Instruments | Office | Google Merchand...\n",
       "6  1501570398             Accessories | Google Merchandise Store\n",
       "7  1501570398             Electronics | Google Merchandise Store\n",
       "8  1501570398                 Apparel | Google Merchandise Store"
      ]
     },
     "execution_count": 24,
     "metadata": {},
     "output_type": "execute_result"
    }
   ],
   "source": [
    "# Convertimos los datos de filas a dataframe\n",
    "df = query_job_2.to_dataframe()\n",
    "df"
   ]
  },
  {
   "cell_type": "code",
   "execution_count": 25,
   "metadata": {},
   "outputs": [
    {
     "data": {
      "text/plain": [
       "pandas.core.frame.DataFrame"
      ]
     },
     "execution_count": 25,
     "metadata": {},
     "output_type": "execute_result"
    }
   ],
   "source": [
    "type(df)"
   ]
  },
  {
   "cell_type": "code",
   "execution_count": 26,
   "metadata": {},
   "outputs": [],
   "source": [
    "# desde este punto jugar con Análisis de datos con Pandas"
   ]
  },
  {
   "cell_type": "code",
   "execution_count": null,
   "metadata": {},
   "outputs": [],
   "source": [
    "# Alternativa con el comando de pandas.read_gbq\n",
    "#import pandas as pd\n",
    "#pd.read_gbq()"
   ]
  },
  {
   "cell_type": "code",
   "execution_count": 27,
   "metadata": {},
   "outputs": [
    {
     "name": "stderr",
     "output_type": "stream",
     "text": [
      "/opt/anaconda3/lib/python3.7/site-packages/google/cloud/bigquery/client.py:448: UserWarning: Cannot create BigQuery Storage client, the dependency google-cloud-bigquery-storage is not installed.\n",
      "  \"Cannot create BigQuery Storage client, the dependency \"\n"
     ]
    },
    {
     "data": {
      "text/html": [
       "<div>\n",
       "<style scoped>\n",
       "    .dataframe tbody tr th:only-of-type {\n",
       "        vertical-align: middle;\n",
       "    }\n",
       "\n",
       "    .dataframe tbody tr th {\n",
       "        vertical-align: top;\n",
       "    }\n",
       "\n",
       "    .dataframe thead th {\n",
       "        text-align: right;\n",
       "    }\n",
       "</style>\n",
       "<table border=\"1\" class=\"dataframe\">\n",
       "  <thead>\n",
       "    <tr style=\"text-align: right;\">\n",
       "      <th></th>\n",
       "      <th>name</th>\n",
       "      <th>tot</th>\n",
       "      <th>ocur</th>\n",
       "    </tr>\n",
       "  </thead>\n",
       "  <tbody>\n",
       "    <tr>\n",
       "      <th>0</th>\n",
       "      <td>James</td>\n",
       "      <td>7301</td>\n",
       "      <td>5029035</td>\n",
       "    </tr>\n",
       "    <tr>\n",
       "      <th>1</th>\n",
       "      <td>John</td>\n",
       "      <td>7120</td>\n",
       "      <td>4894381</td>\n",
       "    </tr>\n",
       "    <tr>\n",
       "      <th>2</th>\n",
       "      <td>Robert</td>\n",
       "      <td>7074</td>\n",
       "      <td>4754178</td>\n",
       "    </tr>\n",
       "    <tr>\n",
       "      <th>3</th>\n",
       "      <td>Michael</td>\n",
       "      <td>6656</td>\n",
       "      <td>4377398</td>\n",
       "    </tr>\n",
       "    <tr>\n",
       "      <th>4</th>\n",
       "      <td>William</td>\n",
       "      <td>6778</td>\n",
       "      <td>3914954</td>\n",
       "    </tr>\n",
       "    <tr>\n",
       "      <th>5</th>\n",
       "      <td>Mary</td>\n",
       "      <td>6606</td>\n",
       "      <td>3753203</td>\n",
       "    </tr>\n",
       "    <tr>\n",
       "      <th>6</th>\n",
       "      <td>David</td>\n",
       "      <td>6404</td>\n",
       "      <td>3615136</td>\n",
       "    </tr>\n",
       "    <tr>\n",
       "      <th>7</th>\n",
       "      <td>Richard</td>\n",
       "      <td>6128</td>\n",
       "      <td>2546952</td>\n",
       "    </tr>\n",
       "    <tr>\n",
       "      <th>8</th>\n",
       "      <td>Joseph</td>\n",
       "      <td>6234</td>\n",
       "      <td>2537788</td>\n",
       "    </tr>\n",
       "    <tr>\n",
       "      <th>9</th>\n",
       "      <td>Charles</td>\n",
       "      <td>6524</td>\n",
       "      <td>2287121</td>\n",
       "    </tr>\n",
       "  </tbody>\n",
       "</table>\n",
       "</div>"
      ],
      "text/plain": [
       "      name   tot     ocur\n",
       "0    James  7301  5029035\n",
       "1     John  7120  4894381\n",
       "2   Robert  7074  4754178\n",
       "3  Michael  6656  4377398\n",
       "4  William  6778  3914954\n",
       "5     Mary  6606  3753203\n",
       "6    David  6404  3615136\n",
       "7  Richard  6128  2546952\n",
       "8   Joseph  6234  2537788\n",
       "9  Charles  6524  2287121"
      ]
     },
     "execution_count": 27,
     "metadata": {},
     "output_type": "execute_result"
    }
   ],
   "source": [
    "# Testing usa_names_1910_current\n",
    "# Quiero Obtener una tabla con la columna de nombres y sumar las cantidades que aparece,\n",
    "# sacando el top 10 \n",
    "# bigquery-public-data.usa_names.usa_1910_current\n",
    "query_3 = \"\"\"\n",
    "    SELECT name, count(*) as tot, sum(number) as ocur\n",
    "    FROM `bigquery-public-data.usa_names.usa_1910_current`\n",
    "    GROUP BY name\n",
    "    ORDER BY ocur DESC\n",
    "    LIMIT 10\n",
    "\"\"\"\n",
    "#query_job_3 = client.query(query_3)\n",
    "df_3 = client.query(query_3).to_dataframe() # alternativa linea anterior\n",
    "df_3"
   ]
  },
  {
   "cell_type": "code",
   "execution_count": 29,
   "metadata": {},
   "outputs": [],
   "source": [
    "# Performar una tabla en BigQuery\n",
    "# creamos la referencia al dataset\n",
    "dataset_ref = client.dataset(\"samples\", project=\"bigquery-public-data\")"
   ]
  },
  {
   "cell_type": "code",
   "execution_count": 30,
   "metadata": {},
   "outputs": [],
   "source": [
    "# creamos la referencia a la tabla del dataset anterior\n",
    "table_ref = dataset_ref.table(\"shakespeare\")"
   ]
  },
  {
   "cell_type": "code",
   "execution_count": 31,
   "metadata": {},
   "outputs": [
    {
     "data": {
      "text/plain": [
       "Table(TableReference(DatasetReference('bigquery-public-data', 'samples'), 'shakespeare'))"
      ]
     },
     "execution_count": 31,
     "metadata": {},
     "output_type": "execute_result"
    }
   ],
   "source": [
    "# Obtenemos la tabla con la funcion get_table\n",
    "table = client.get_table(table_ref)\n",
    "table"
   ]
  },
  {
   "cell_type": "code",
   "execution_count": 32,
   "metadata": {},
   "outputs": [
    {
     "name": "stderr",
     "output_type": "stream",
     "text": [
      "/opt/anaconda3/lib/python3.7/site-packages/google/cloud/bigquery/client.py:448: UserWarning: Cannot create BigQuery Storage client, the dependency google-cloud-bigquery-storage is not installed.\n",
      "  \"Cannot create BigQuery Storage client, the dependency \"\n"
     ]
    },
    {
     "data": {
      "text/html": [
       "<div>\n",
       "<style scoped>\n",
       "    .dataframe tbody tr th:only-of-type {\n",
       "        vertical-align: middle;\n",
       "    }\n",
       "\n",
       "    .dataframe tbody tr th {\n",
       "        vertical-align: top;\n",
       "    }\n",
       "\n",
       "    .dataframe thead th {\n",
       "        text-align: right;\n",
       "    }\n",
       "</style>\n",
       "<table border=\"1\" class=\"dataframe\">\n",
       "  <thead>\n",
       "    <tr style=\"text-align: right;\">\n",
       "      <th></th>\n",
       "      <th>word</th>\n",
       "      <th>word_count</th>\n",
       "      <th>corpus</th>\n",
       "      <th>corpus_date</th>\n",
       "    </tr>\n",
       "  </thead>\n",
       "  <tbody>\n",
       "    <tr>\n",
       "      <th>0</th>\n",
       "      <td>LVII</td>\n",
       "      <td>1</td>\n",
       "      <td>sonnets</td>\n",
       "      <td>0</td>\n",
       "    </tr>\n",
       "    <tr>\n",
       "      <th>1</th>\n",
       "      <td>augurs</td>\n",
       "      <td>1</td>\n",
       "      <td>sonnets</td>\n",
       "      <td>0</td>\n",
       "    </tr>\n",
       "    <tr>\n",
       "      <th>2</th>\n",
       "      <td>dimm'd</td>\n",
       "      <td>1</td>\n",
       "      <td>sonnets</td>\n",
       "      <td>0</td>\n",
       "    </tr>\n",
       "    <tr>\n",
       "      <th>3</th>\n",
       "      <td>plagues</td>\n",
       "      <td>1</td>\n",
       "      <td>sonnets</td>\n",
       "      <td>0</td>\n",
       "    </tr>\n",
       "    <tr>\n",
       "      <th>4</th>\n",
       "      <td>treason</td>\n",
       "      <td>1</td>\n",
       "      <td>sonnets</td>\n",
       "      <td>0</td>\n",
       "    </tr>\n",
       "    <tr>\n",
       "      <th>...</th>\n",
       "      <td>...</td>\n",
       "      <td>...</td>\n",
       "      <td>...</td>\n",
       "      <td>...</td>\n",
       "    </tr>\n",
       "    <tr>\n",
       "      <th>164651</th>\n",
       "      <td>that</td>\n",
       "      <td>232</td>\n",
       "      <td>kinghenryviii</td>\n",
       "      <td>1612</td>\n",
       "    </tr>\n",
       "    <tr>\n",
       "      <th>164652</th>\n",
       "      <td>his</td>\n",
       "      <td>234</td>\n",
       "      <td>kinghenryviii</td>\n",
       "      <td>1612</td>\n",
       "    </tr>\n",
       "    <tr>\n",
       "      <th>164653</th>\n",
       "      <td>me</td>\n",
       "      <td>235</td>\n",
       "      <td>kinghenryviii</td>\n",
       "      <td>1612</td>\n",
       "    </tr>\n",
       "    <tr>\n",
       "      <th>164654</th>\n",
       "      <td>your</td>\n",
       "      <td>242</td>\n",
       "      <td>kinghenryviii</td>\n",
       "      <td>1612</td>\n",
       "    </tr>\n",
       "    <tr>\n",
       "      <th>164655</th>\n",
       "      <td>in</td>\n",
       "      <td>255</td>\n",
       "      <td>kinghenryviii</td>\n",
       "      <td>1612</td>\n",
       "    </tr>\n",
       "  </tbody>\n",
       "</table>\n",
       "<p>164656 rows × 4 columns</p>\n",
       "</div>"
      ],
      "text/plain": [
       "           word  word_count         corpus  corpus_date\n",
       "0          LVII           1        sonnets            0\n",
       "1        augurs           1        sonnets            0\n",
       "2        dimm'd           1        sonnets            0\n",
       "3       plagues           1        sonnets            0\n",
       "4       treason           1        sonnets            0\n",
       "...         ...         ...            ...          ...\n",
       "164651     that         232  kinghenryviii         1612\n",
       "164652      his         234  kinghenryviii         1612\n",
       "164653       me         235  kinghenryviii         1612\n",
       "164654     your         242  kinghenryviii         1612\n",
       "164655       in         255  kinghenryviii         1612\n",
       "\n",
       "[164656 rows x 4 columns]"
      ]
     },
     "execution_count": 32,
     "metadata": {},
     "output_type": "execute_result"
    }
   ],
   "source": [
    "# construimos el dataframe\n",
    "df_shake = client.list_rows(table).to_dataframe()\n",
    "df_shake"
   ]
  },
  {
   "cell_type": "code",
   "execution_count": 33,
   "metadata": {},
   "outputs": [
    {
     "data": {
      "text/plain": [
       "pandas.core.frame.DataFrame"
      ]
     },
     "execution_count": 33,
     "metadata": {},
     "output_type": "execute_result"
    }
   ],
   "source": [
    "type(df_shake)"
   ]
  },
  {
   "cell_type": "code",
   "execution_count": null,
   "metadata": {},
   "outputs": [],
   "source": []
  }
 ],
 "metadata": {
  "kernelspec": {
   "display_name": "Python 3",
   "language": "python",
   "name": "python3"
  },
  "language_info": {
   "codemirror_mode": {
    "name": "ipython",
    "version": 3
   },
   "file_extension": ".py",
   "mimetype": "text/x-python",
   "name": "python",
   "nbconvert_exporter": "python",
   "pygments_lexer": "ipython3",
   "version": "3.8.5"
  }
 },
 "nbformat": 4,
 "nbformat_minor": 4
}
