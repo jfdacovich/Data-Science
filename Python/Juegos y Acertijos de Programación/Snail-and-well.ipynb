{
 "cells": [
  {
   "cell_type": "markdown",
   "metadata": {},
   "source": [
    "# El Caracol y el pozo\n",
    "\n",
    "Un caracol cae en el fondo de un pozo de 125 cm. Cada día el caracol sube 30 cm. pero por la noche, mientras duerme, resbala 20 cm debido a que las paredes son húmedas. ¿Cuantos días tarda en escapar del pozo?\n",
    "\n",
    "[Tip Info](https://www.vix.com/es/btg/curiosidades/59215/acertijos-matematicos-el-caracol-en-el-pozo-facil)"
   ]
  },
  {
   "cell_type": "markdown",
   "metadata": {},
   "source": [
    "## Objetivos\n",
    "\n",
    "1. Tratamiento de variables\n",
    "2. Uso de bucle **while**\n",
    "3. Uso de condicionales **if-else**\n",
    "4. Imprimir por consola"
   ]
  },
  {
   "cell_type": "code",
   "execution_count": 8,
   "metadata": {},
   "outputs": [
    {
     "name": "stdout",
     "output_type": "stream",
     "text": [
      "El caracol ha tardado en escapar del pozo '11' días\n"
     ]
    }
   ],
   "source": [
    "# Datos\n",
    "altura_pozo = 125\n",
    "avance_diario= 30\n",
    "retroceso_nocturno = 20\n",
    "distancia_acumulada = 0\n",
    "# ¿Cuántos días tarda en escapar del pozo?\n",
    "dias = 0\n",
    "\n",
    "# Utilizamos un bucle \"while\"\n",
    "# Mientras la distancia acumulada no alcance la altura del pozo, 125 cm, la variable sumara 30 cm que representa el \n",
    "# recorrido o lo que sube el caracol en el día, asi mismo iniciamos un contador de \"días\", adicionalmente\n",
    "# si la distancia acumulada sigue siendo menor a la altura del pozo, entonces, restaremos 20 cm que representan la distancia que \n",
    "# resbala el caracaol en la noche\n",
    "\n",
    "while distancia_acumulada <= altura_pozo:\n",
    "    distancia_acumulada = distancia_acumulada+avance_diario\n",
    "    dias += 1\n",
    "    if distancia_acumulada < altura_pozo:\n",
    "        distancia_acumulada = distancia_acumulada-retroceso_nocturno\n",
    "print(\"El caracol ha tardado en escapar del pozo '{}' días\".format(dias))        "
   ]
  },
  {
   "cell_type": "markdown",
   "metadata": {},
   "source": [
    "## Bonus\n",
    "La distancia recorrida por el caracol viene ahora definida por una lista.\n",
    "```\n",
    "avance_cm = [30, 21, 33, 77, 44, 45, 23, 45, 12, 34, 55]\n",
    "```\n",
    "¿Cuánto tarda en subir el pozo? ¿Cuál es su máximo de desplazamiento en un día? ¿Y su mínimo? ¿Cuál es su media de velocidad durante el día? ¿Cuál es la desviación típica de su desplazamiento durante el día?"
   ]
  },
  {
   "cell_type": "code",
   "execution_count": 66,
   "metadata": {},
   "outputs": [
    {
     "name": "stdout",
     "output_type": "stream",
     "text": [
      "El caracol ha tardado en subir el pozo '5' días\n",
      "-------------------------------------------------\n",
      "Maximo desplazamiento en un dia: 77\n",
      "Minimo desplazamiento en un dia: 21\n",
      "-------------------------------------------------\n",
      "La velocidad media durante el día fue de 41 dias \n",
      "-------------------------------------------------\n",
      "La desviación típica de su desplazamiento durante el dia fue de 19.44 cms\n"
     ]
    }
   ],
   "source": [
    "# Datos\n",
    "altura_pozo = 125\n",
    "avance_cm = [30, 21, 33, 77, 44, 45, 23, 45, 12, 34, 55]\n",
    "retroceso_nocturno = 20\n",
    "distancia_acumulada = 0\n",
    "# ¿Cuántos días tarda en escapar del pozo?\n",
    "dias = 0\n",
    "\n",
    "# Utilizamos un bucle while\n",
    "# Mienstras la distancia acumulada no alcance la altura del pozo, se inicializará un contador de días y \n",
    "# en este caso particular iremos evaluando los avances contenidos en una lista y restando los retrocesos nocturnos\n",
    "# para obtener en cuantos días sube el pozo\n",
    "\n",
    "while distancia_acumulada <= altura_pozo:\n",
    "    dias +=1\n",
    "    if distancia_acumulada + avance_cm[dias - 1] < altura_pozo:\n",
    "        distancia_acumulada = distancia_acumulada + avance_cm[dias - 1]\n",
    "        if distancia_acumulada - retroceso_nocturno < altura_pozo:\n",
    "            distancia_acumulada = distancia_acumulada - retroceso_nocturno\n",
    "        else:\n",
    "            print(\"El caracol ha tardado en subir el pozo '{}' días\".format(dias)) \n",
    "            break\n",
    "    else:\n",
    "        print(\"El caracol ha tardado en subir el pozo '{}' días\".format(dias)) \n",
    "        break\n",
    "        \n",
    "print(\"-------------------------------------------------\")\n",
    "# Obtenemos los desplazamientos maximos y minimos utilizando las funciones \"max\" y \"min\" en función a los avances\n",
    "# hasta el quinto día\n",
    "maximo_desplazamiento = max(avance_cm[0:dias])\n",
    "minimo_desplazamiento = min(avance_cm[0:dias])\n",
    "print(\"Maximo desplazamiento en un dia: {}\".format(maximo_desplazamiento))\n",
    "print(\"Minimo desplazamiento en un dia: {}\".format(minimo_desplazamiento))\n",
    "print(\"-------------------------------------------------\")\n",
    "\n",
    "# Recorresmos los avances diarios y los vamos adicionando y almacenando en la variable \"avances\", la cual posteriormente\n",
    "# dividiremos entre la longitud de los avances diarios \n",
    "avances = 0\n",
    "for i in avance_cm[0:dias]:\n",
    "    avances += i    \n",
    "media_velocidad = avances/len(avance_cm[0:dias])\n",
    "print(\"La velocidad media durante el día fue de {} dias \".format(int(media_velocidad)))\n",
    "print(\"-------------------------------------------------\")\n",
    "\n",
    "# importamos la libreria numpy para calcular la desviacion tipica\n",
    "import numpy as np\n",
    "desviacion_tipica = round(np.std(avance_cm[0:dias]),2)\n",
    "print(\"La desviación típica de su desplazamiento durante el dia fue de {} cms\".format(desviacion_tipica))\n"
   ]
  }
 ],
 "metadata": {
  "kernelspec": {
   "display_name": "Python 3",
   "language": "python",
   "name": "python3"
  },
  "language_info": {
   "codemirror_mode": {
    "name": "ipython",
    "version": 3
   },
   "file_extension": ".py",
   "mimetype": "text/x-python",
   "name": "python",
   "nbconvert_exporter": "python",
   "pygments_lexer": "ipython3",
   "version": "3.8.5"
  }
 },
 "nbformat": 4,
 "nbformat_minor": 4
}
