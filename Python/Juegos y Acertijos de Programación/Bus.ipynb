{
 "cells": [
  {
   "cell_type": "markdown",
   "metadata": {},
   "source": [
    "# Bus"
   ]
  },
  {
   "cell_type": "markdown",
   "metadata": {},
   "source": [
    "Este bus tiene un sistema de control de subida y bajada de pasajeros para monitorizar el número de ocupantes que lleva y así detectar cuando hay un aforo demasiado alto.\n",
    "\n",
    "En cada parada la subida y bajada de pasajeros se representa por una tupla compuesta por dos números enteros.\n",
    "\n",
    "bus_stop = (in, out)\n",
    "La sucesión de paradas se representa con una lista estas tuplas.\n",
    "\n",
    "stops = [(in1, out1), (in2, out2), (in3, out3), (in4, out4)]\n",
    "\n",
    "### Tareas\n",
    "- Calcula el número de paradas.\n",
    "- Asigna a una variable una lista cuyos elementos sean el número de pasajeros en cada parada (in-out),\n",
    "- Halla el máximo de ocupación del autobús.\n",
    "- Calcula la media de la ocupación. Y la desviación estandard."
   ]
  },
  {
   "cell_type": "code",
   "execution_count": 30,
   "metadata": {},
   "outputs": [
    {
     "name": "stdout",
     "output_type": "stream",
     "text": [
      "El bus se detuvo 9 veces\n",
      "--------------------------------------\n",
      "La ocupación del bus fue la siguiente:\n",
      " [10, 13, 11, 10, 14, 10, 7, 5, 4]\n",
      "--------------------------------------\n",
      "El Máximo de ocupación fue de 14 pasajeros\n",
      "--------------------------------------\n",
      "La Ocupacion media se mantuvo alrededor de 9 pasajeros\n",
      "--------------------------------------\n",
      "La desviacion estandar fue de 3.197\n"
     ]
    }
   ],
   "source": [
    "import numpy as np\n",
    "\n",
    "# Calculamos el numero total de paradas que realizo el bus\n",
    "stops = [(10, 0), (4, 1), (3, 5), (3, 4), (5, 1), (1, 5), (5, 8), (4, 6), (2, 3)]\n",
    "number_stops = len(stops)\n",
    "print(f\"El bus se detuvo {number_stops} veces\")\n",
    "print(\"--------------------------------------\")\n",
    "\n",
    "# Para obtener el maximo de ocupacion, el promedio y la desviacion estandard inicializaremos una variable donde se contenga\n",
    "# el total de pasajeros luego de realizar la parada y que los mismos subieran o bajaran del bus\n",
    "\n",
    "ocupacion = [] # lista vacia donde agregaremos las ocupaciones \"netas\"\n",
    "contando_ocupacion = 0 # variable donde se iran restando o sumando el total de ocupaciones\n",
    "i = 0\n",
    "while i < number_stops:\n",
    "    contando_ocupacion += stops[i][0]\n",
    "    contando_ocupacion -= stops[i][1]\n",
    "    i +=1\n",
    "    ocupacion.append(contando_ocupacion)\n",
    "print(\"La ocupación del bus fue la siguiente:\\n {}\".format(ocupacion))\n",
    "print(\"--------------------------------------\")\n",
    "print(\"El Máximo de ocupación fue de {} pasajeros\".format(max(ocupacion)))\n",
    "print(\"--------------------------------------\")\n",
    "print(\"La Ocupacion media se mantuvo alrededor de {} pasajeros\".format(round(np.mean(ocupacion))))\n",
    "print(\"--------------------------------------\")\n",
    "print(\"La desviacion estandar fue de {}\".format(round(np.std(ocupacion),3)))\n"
   ]
  }
 ],
 "metadata": {
  "kernelspec": {
   "display_name": "Python 3",
   "language": "python",
   "name": "python3"
  },
  "language_info": {
   "codemirror_mode": {
    "name": "ipython",
    "version": 3
   },
   "file_extension": ".py",
   "mimetype": "text/x-python",
   "name": "python",
   "nbconvert_exporter": "python",
   "pygments_lexer": "ipython3",
   "version": "3.8.5"
  }
 },
 "nbformat": 4,
 "nbformat_minor": 4
}
