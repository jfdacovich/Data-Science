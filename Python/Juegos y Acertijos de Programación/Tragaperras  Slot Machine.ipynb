{
 "cells": [
  {
   "cell_type": "markdown",
   "metadata": {},
   "source": [
    "# Tragaperras | Tragamonedas | Slot Machine"
   ]
  },
  {
   "cell_type": "code",
   "execution_count": 1,
   "metadata": {},
   "outputs": [
    {
     "name": "stdout",
     "output_type": "stream",
     "text": [
      "Cuantos monedas quieres jugar: 10\n",
      "<class 'int'>\n"
     ]
    }
   ],
   "source": [
    "import numpy as np\n",
    "\n",
    "# 0 = 0 monedas\n",
    "# 1 = 1 moneda\n",
    "# 2 = 2 monedas \n",
    "# 3 = 5 monedas\n",
    "\n",
    "m = int(input(\"Cuantos monedas quieres jugar: \"))\n",
    "print(type(m))"
   ]
  },
  {
   "cell_type": "code",
   "execution_count": 2,
   "metadata": {},
   "outputs": [
    {
     "name": "stdout",
     "output_type": "stream",
     "text": [
      "Resultado : [4, 4, 4] Igualdad 2 Ganas 5 monedas. Tienes 14 monedas\n",
      "Tienes 14 monedas ¿Quieres seguir jugando? y/n: y\n",
      "Resultado : [6, 5, 8] Igualdad: 0 Ganas 0 monedas. Tienes 13 monedas\n",
      "Tienes 13 monedas ¿Quieres seguir jugando? y/n: y\n",
      "Resultado : [5, 3, 2] Igualdad: 0 Ganas 0 monedas. Tienes 12 monedas\n",
      "Tienes 12 monedas ¿Quieres seguir jugando? y/n: y\n",
      "Resultado : [1, 2, 3] Igualdad: 0 Ganas 0 monedas. Tienes 11 monedas\n",
      "Tienes 11 monedas ¿Quieres seguir jugando? y/n: y\n",
      "Resultado : [3, 5, 7] Igualdad: 0 Ganas 0 monedas. Tienes 10 monedas\n",
      "Tienes 10 monedas ¿Quieres seguir jugando? y/n: y\n",
      "Resultado : [1, 4, 4] Igualdad: 1 Ganas 2 monedas. Tienes 11 monedas\n",
      "Tienes 11 monedas ¿Quieres seguir jugando? y/n: y\n",
      "Resultado : [9, 6, 5] Igualdad: 0 Ganas 0 monedas. Tienes 10 monedas\n",
      "Tienes 10 monedas ¿Quieres seguir jugando? y/n: y\n",
      "Resultado : [6, 10, 4] Igualdad: 0 Ganas 0 monedas. Tienes 9 monedas\n",
      "Tienes 9 monedas ¿Quieres seguir jugando? y/n: y\n",
      "Resultado : [10, 4, 2] Igualdad: 0 Ganas 0 monedas. Tienes 8 monedas\n",
      "Tienes 8 monedas ¿Quieres seguir jugando? y/n: y\n",
      "Resultado : [5, 7, 10] Igualdad: 0 Ganas 0 monedas. Tienes 7 monedas\n",
      "Tienes 7 monedas ¿Quieres seguir jugando? y/n: y\n",
      "Resultado : [2, 4, 7] Igualdad: 0 Ganas 0 monedas. Tienes 6 monedas\n",
      "Tienes 6 monedas ¿Quieres seguir jugando? y/n: y\n",
      "Resultado : [7, 9, 3] Igualdad: 0 Ganas 0 monedas. Tienes 5 monedas\n",
      "Tienes 5 monedas ¿Quieres seguir jugando? y/n: y\n",
      "Resultado : [10, 6, 1] Igualdad: 0 Ganas 0 monedas. Tienes 4 monedas\n",
      "Tienes 4 monedas ¿Quieres seguir jugando? y/n: y\n",
      "Resultado : [3, 10, 4] Igualdad: 0 Ganas 0 monedas. Tienes 3 monedas\n",
      "Tienes 3 monedas ¿Quieres seguir jugando? y/n: y\n",
      "Resultado : [1, 6, 10] Igualdad: 0 Ganas 0 monedas. Tienes 2 monedas\n",
      "Tienes 2 monedas ¿Quieres seguir jugando? y/n: y\n",
      "Resultado : [10, 9, 9] Igualdad: 1 Ganas 2 monedas. Tienes 3 monedas\n",
      "Tienes 3 monedas ¿Quieres seguir jugando? y/n: y\n",
      "Resultado : [2, 8, 2] Igualdad: 1 Ganas 2 monedas. Tienes 4 monedas\n",
      "Tienes 4 monedas ¿Quieres seguir jugando? y/n: y\n",
      "Resultado : [7, 5, 2] Igualdad: 0 Ganas 0 monedas. Tienes 3 monedas\n",
      "Tienes 3 monedas ¿Quieres seguir jugando? y/n: y\n",
      "Resultado : [8, 5, 4] Igualdad: 0 Ganas 0 monedas. Tienes 2 monedas\n",
      "Tienes 2 monedas ¿Quieres seguir jugando? y/n: y\n",
      "Resultado : [1, 5, 1] Igualdad: 1 Ganas 2 monedas. Tienes 3 monedas\n",
      "Tienes 3 monedas ¿Quieres seguir jugando? y/n: y\n",
      "Resultado : [5, 1, 1] Igualdad: 1 Ganas 2 monedas. Tienes 4 monedas\n",
      "Tienes 4 monedas ¿Quieres seguir jugando? y/n: y\n",
      "Resultado : [1, 3, 7] Igualdad: 0 Ganas 0 monedas. Tienes 3 monedas\n",
      "Tienes 3 monedas ¿Quieres seguir jugando? y/n: y\n",
      "Resultado : [10, 5, 9] Igualdad: 0 Ganas 0 monedas. Tienes 2 monedas\n",
      "Tienes 2 monedas ¿Quieres seguir jugando? y/n: y\n",
      "Resultado : [6, 9, 10] Igualdad: 0 Ganas 0 monedas. Tienes 1 monedas\n",
      "Tienes 1 monedas ¿Quieres seguir jugando? y/n: n\n"
     ]
    }
   ],
   "source": [
    "Monedas = True\n",
    "Seg = 0\n",
    "while Monedas:\n",
    "    m =m-1\n",
    "    if m ==0: Monedas = False\n",
    "    Seg = Seg+ 1\n",
    "    if Seg >1000: break\n",
    "    X = np.random.randint(1,11)\n",
    "    Y = np.random.randint(1,11)\n",
    "    Z = np.random.randint(1,11)\n",
    "\n",
    "    Iguales= 3-len(set({X,Y,Z}))+1\n",
    "   \n",
    "    if Iguales == 0:\n",
    "        pass\n",
    "        print(\"Resultado : {} Igualdad: {} Ganas 0 monedas. Tienes {} monedas\".format([X,Y,Z],Iguales-1,m))\n",
    "    elif Iguales ==1:\n",
    "        pass\n",
    "        print(\"Resultado : {} Igualdad: {} Ganas 0 monedas. Tienes {} monedas\".format([X,Y,Z],Iguales-1,m))\n",
    "    elif Iguales ==2:\n",
    "        m += 2\n",
    "        print(\"Resultado : {} Igualdad: {} Ganas 2 monedas. Tienes {} monedas\".format([X,Y,Z],Iguales-1,m))\n",
    "    elif Iguales ==3:\n",
    "        m += 5\n",
    "        print(\"Resultado : {} Igualdad {} Ganas 5 monedas. Tienes {} monedas\".format([X,Y,Z],Iguales-1,m))\n",
    "        \n",
    "    if input(\"Tienes {} monedas ¿Quieres seguir jugando? y/n: \".format(m))=='n': break\n"
   ]
  }
 ],
 "metadata": {
  "kernelspec": {
   "display_name": "Python 3",
   "language": "python",
   "name": "python3"
  },
  "language_info": {
   "codemirror_mode": {
    "name": "ipython",
    "version": 3
   },
   "file_extension": ".py",
   "mimetype": "text/x-python",
   "name": "python",
   "nbconvert_exporter": "python",
   "pygments_lexer": "ipython3",
   "version": "3.7.6"
  }
 },
 "nbformat": 4,
 "nbformat_minor": 4
}
