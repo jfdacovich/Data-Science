{
 "cells": [
  {
   "cell_type": "markdown",
   "metadata": {},
   "source": [
    "# Ejercicios de Programación"
   ]
  },
  {
   "cell_type": "markdown",
   "metadata": {},
   "source": [
    "## Ejercicio 1"
   ]
  },
  {
   "cell_type": "markdown",
   "metadata": {},
   "source": [
    "Calcule una función que determine si un año es bisiesto o no.\n",
    "Recuerde que un año es bisiesto si es multiplo de 4 o es multiplo de 400.\n",
    "Es decir, los años 1700, 1800 o 1900 son divisbles por 4 divisibles pero no divisbles por 400.\n",
    "En cambio, los años 1600 o 2000 son divisbles por 4 divisibles y divisbles por 400."
   ]
  },
  {
   "cell_type": "code",
   "execution_count": 1,
   "metadata": {},
   "outputs": [
    {
     "name": "stdout",
     "output_type": "stream",
     "text": [
      "Es bisiesto\n"
     ]
    }
   ],
   "source": [
    "def leap_year(year):\n",
    "    if (year % 4) == 0:\n",
    "        if (year % 100) == 0:\n",
    "            if (year % 400) == 0:\n",
    "                print(\"Es bisiesto\")\n",
    "            else:\n",
    "                print(\"No es bisiesto\")\n",
    "        else: \n",
    "            print(\"Es bisiesto\")\n",
    "    else:\n",
    "        print(\"No es bisiesto\")\n",
    "\n",
    "leap_year(2020)"
   ]
  },
  {
   "cell_type": "code",
   "execution_count": 2,
   "metadata": {},
   "outputs": [
    {
     "name": "stdout",
     "output_type": "stream",
     "text": [
      "No es bisiesto\n",
      "No es bisiesto\n",
      "No es bisiesto\n",
      "Es bisiesto\n"
     ]
    }
   ],
   "source": [
    "# Años:\n",
    "leap_year(1700)\n",
    "leap_year(1800)\n",
    "leap_year(1900)\n",
    "leap_year(2000)"
   ]
  },
  {
   "cell_type": "markdown",
   "metadata": {},
   "source": [
    "   [Informacion sobre años bisiestos](https://docs.microsoft.com/es-es/office/troubleshoot/excel/determine-a-leap-year)"
   ]
  },
  {
   "cell_type": "markdown",
   "metadata": {},
   "source": [
    "*Para determinar si un año es `bisiesto`, siga estos pasos:*\n",
    "\n",
    "   - 1. Si el año es uniformemente divisible por 4, vaya al paso 2. De lo contrario, vaya al paso 5.\n",
    "   - 2. Si el año es uniformemente divisible por 100, vaya al paso 3. De lo contrario, vaya al paso 4.\n",
    "   - 3. Si el año es uniformemente divisible por 400, vaya al paso 4. De lo contrario, vaya al paso 5.\n",
    "   - 4. El año es un año bisiesto (tiene 366 días).\n",
    "   - 5. El año no es un año bisiesto (tiene 365 días)."
   ]
  },
  {
   "cell_type": "markdown",
   "metadata": {},
   "source": [
    "## Ejercicio 2"
   ]
  },
  {
   "cell_type": "markdown",
   "metadata": {},
   "source": [
    "Escriba la función que dada una cantidad de dinero calcule el desglose en billetes y monedas, empezando por el billete mayor al menor y contemabldo solo las monedas de 2€ y 1€. Por ejemplo, para la cantidad de dinero, 1378€\n",
    "* 2 billetes de 500€\n",
    "* 1 billete  de 200€\n",
    "* 1 billete  de 100€\n",
    "* 1 billete  de  50€\n",
    "* 1 billete  de  20€\n",
    "* 1 billete  de   5€\n",
    "* 1 moneda   de   2€\n",
    "* 1 moneda   de   1€"
   ]
  },
  {
   "cell_type": "code",
   "execution_count": 3,
   "metadata": {},
   "outputs": [
    {
     "name": "stdout",
     "output_type": "stream",
     "text": [
      "Introduzca la cantidad de dinero: 1378\n",
      "2 billetes de 500 euros\n",
      "1 billetes de 200 euros\n",
      "1 billetes de 100 euros\n",
      "1 billetes de 50 euros\n",
      "1 billetes de 20 euros\n",
      "1 billetes de 5 euros\n",
      "1 moneda de 2 euros\n",
      "1 moneda de 1 euros\n"
     ]
    }
   ],
   "source": [
    "dinero = int(input(\"Introduzca la cantidad de dinero: \"))\n",
    "lista = [500,200,100,50,20,5,2,1] # Genero una lista con los billetes y/o monedas que podrá obtener el cliente\n",
    "\n",
    "\n",
    "for i in lista: # recorro con un loop for las diferentes denominaciones,\n",
    "    if dinero >= i: # si el monto introducido es mayor o igual a los billetes  y/o monedas procederá:\n",
    "        n = dinero // i # n será la cantidad resultante de dividir de manera entera el dinero requerido por la denominación\n",
    "        print(str(n) + (\" billetes\" if dinero >= 5 else \" moneda\") + \" de \" + str(i)+ \" euros\") # si la cantidad de dinero es superior o igual a cinco el obtendremos billetes, en caso contrario monedas\n",
    "        dinero = dinero % i\n"
   ]
  },
  {
   "cell_type": "code",
   "execution_count": 4,
   "metadata": {},
   "outputs": [
    {
     "name": "stdout",
     "output_type": "stream",
     "text": [
      "2 billetes de 500 euros\n",
      "1 billetes de 200 euros\n",
      "1 billetes de 100 euros\n",
      "1 billetes de 50 euros\n",
      "1 billetes de 20 euros\n",
      "1 moneda de 5 euros\n",
      "1 moneda de 2 euros\n",
      "1 moneda de 1 euros\n"
     ]
    }
   ],
   "source": [
    "# Otra manera\n",
    "def moneycount(dinero):\n",
    "    lista = [500,200,100,50,20,5,2,1]\n",
    "\n",
    "    for i in lista:\n",
    "        if dinero >= i:\n",
    "            n = dinero // i\n",
    "            print(str(n) + (\" billetes\" if dinero >= 10 else \" moneda\") + \" de \" + str(i)+ \" euros\")\n",
    "            dinero = dinero % i\n",
    "\n",
    "moneycount(1378)"
   ]
  },
  {
   "cell_type": "markdown",
   "metadata": {},
   "source": [
    "## Ejercicio 3"
   ]
  },
  {
   "cell_type": "markdown",
   "metadata": {},
   "source": [
    "Un banco está intersado en llevar el registro de clientes que solicitan una extracción de dinero de un cajero, para ello el cliente debe introducir la cantidad de dinero a extraer del cajero y éste le devolverá el desglose de dicha cantidad en billetede de 200 a 10 euros. \n",
    "\n",
    "Al finalizar la operación, se debe quedar en un fichero de registro una traza de los billetes dispensado al cliente junto con su nombre, sus apellidos y la *hora local* en el que se realizó dicha operacion. Guarda el fichero en el formato que más comodo te resulte.\n",
    "\n",
    "Por ejemplo, para la cantidad de dinero, 370€\n",
    "* 1 billete  de 200€\n",
    "* 1 billete  de 100€\n",
    "* 1 billete  de  50€\n",
    "* 1 billete  de  20€\n"
   ]
  },
  {
   "cell_type": "code",
   "execution_count": 5,
   "metadata": {},
   "outputs": [],
   "source": [
    "# Librerías:\n",
    "import os\n",
    "from datetime import datetime"
   ]
  },
  {
   "cell_type": "code",
   "execution_count": 6,
   "metadata": {},
   "outputs": [],
   "source": [
    "# necesito: billetes dispensados, nombre y apellido del cliente y hora local\n",
    "\n",
    "def ATM_Record(cantidad):\n",
    "    #Variables que serán almacenadas en el registro: \n",
    "    nombre_cliente = input(\"Introduce tu nombre: \")\n",
    "    apellido_cliente = input(\"Introduce tu apellido: \")\n",
    "    moment = datetime.now()\n",
    "    cantidad = int(input(\"Indique por favor el monto a retirar: \"))\n",
    "    # Abrimos el fichero que almacenara los datos:\n",
    "    customer_record = open(\"Atm_customer_record.txt\", \"w\")\n",
    "    # Escribimos sobre el fichero:\n",
    "    customer_record.writelines([\"Cliente: {} , {} \\n Hora local : {} \\n Monto extraido: {}\".format(apellido_cliente,\n",
    "                                                                                                  nombre_cliente,\n",
    "                                                                                                  moment,\n",
    "                                                                                                  cantidad)])\n",
    "    lista = [500,200,100,50,20,5,2,1]\n",
    "\n",
    "    for i in lista:\n",
    "        if cantidad >= i:\n",
    "            n = cantidad // i\n",
    "            print(str(n) + (\" billetes\" if cantidad >= 10 else \" moneda\") + \" de \" + str(i)+ \" euros\")\n",
    "            cantidad = cantidad % i\n",
    "    # Cierro el fichero.\n",
    "    customer_record.close()"
   ]
  },
  {
   "cell_type": "code",
   "execution_count": 7,
   "metadata": {},
   "outputs": [
    {
     "name": "stdout",
     "output_type": "stream",
     "text": [
      "Introduce tu nombre: Faieta\n",
      "Introduce tu apellido: Jorge\n",
      "Indique por favor el monto a retirar: 370\n",
      "1 billetes de 200 euros\n",
      "1 billetes de 100 euros\n",
      "1 billetes de 50 euros\n",
      "1 billetes de 20 euros\n"
     ]
    }
   ],
   "source": [
    "ATM_Record(370)"
   ]
  }
 ],
 "metadata": {
  "kernelspec": {
   "display_name": "Python 3",
   "language": "python",
   "name": "python3"
  },
  "language_info": {
   "codemirror_mode": {
    "name": "ipython",
    "version": 3
   },
   "file_extension": ".py",
   "mimetype": "text/x-python",
   "name": "python",
   "nbconvert_exporter": "python",
   "pygments_lexer": "ipython3",
   "version": "3.7.6"
  }
 },
 "nbformat": 4,
 "nbformat_minor": 2
}
