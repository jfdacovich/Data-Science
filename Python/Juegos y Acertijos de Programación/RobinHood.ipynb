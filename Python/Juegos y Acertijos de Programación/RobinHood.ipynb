{
 "cells": [
  {
   "cell_type": "markdown",
   "metadata": {},
   "source": [
    "# Robin Hood: \n",
    "Estamos en plena competición para ganar el concurso de tiro con arco en Sherwood. Con nuestro arco y flechas disparamos sobre una diana e intentamos acertar lo más cerca posible del centro. \n",
    "\n",
    "El centro de la diana viene representado por los valores (0, 0) en los ejes de coordenadas. \n",
    "\n",
    "## Objetivos: \n",
    "* estructuras de datos: listas, conjuntos, tuplas\n",
    "* operadores lógicos: if-elif-else\n",
    "* bucle: while/for\n",
    "* cálculo de mínimo (sorting opcional)\n",
    "\n",
    "## Descripción: \n",
    "En el espacio de 2 dimensiones un punto se puede definir por un par de valores que corresponden a la coordenada horizontal (x) y a la vertical (y). El espacio puede quedar dividido en 4 zonas (cuadrantes): Q1, Q2, Q3, Q4. Cuyo punto de unión único es el punto (0, 0). \n",
    "\n",
    "Si un punto se encuentra en Q1 tanto su coordenada x como la y son positivas. Te dejo un enlace a wikipedia para que te familiarices con estos cuadrantes. \n",
    "\n",
    "https://es.wikipedia.org/wiki/Coordenadas_cartesianas\n",
    "\n",
    "https://es.wikipedia.org/wiki/Distancia_euclidiana\n",
    "\n",
    "## Tareas\n",
    "1. Robin Hood es famoso por acertar a una flecha con otra flecha. ¿Lo ha conseguido? \n",
    "2. Calcula cuántos flechazos han caido en cada cuadrante. \n",
    "3. Halla el punto más cercano al centro. Calcula su distancia al centro\n",
    "4. Si la diana tiene un radio de 9, calcula el número de flechas que hay que recoger al bosque. "
   ]
  },
  {
   "cell_type": "code",
   "execution_count": 38,
   "metadata": {},
   "outputs": [
    {
     "name": "stdout",
     "output_type": "stream",
     "text": [
      "Robin Hood ha conseguido acertar a una flecha con otra flecha en 6 oportunidades\n",
      "--------------------------------------------------------------------------------\n",
      "En el Q1 han caido: 10\n",
      "En el Q2 han caido: 6\n",
      "En el Q3 han caido: 3\n",
      "En el Q4 han caido: 2\n",
      "--------------------------------------------------------------------------------\n",
      "El punto mas cercano es (0, 2)\n",
      "--------------------------------------------------------------------------------\n",
      "Si la diana tiene un radio de 9, habrá que recoger 2 flechas en el bosque.\n"
     ]
    }
   ],
   "source": [
    "puntos = [(4,5), (-0,2), (4,7), (1,-3), (3,-2), (4,5), \n",
    "          (3,2), (5,7), (-5,7), (2,2), (-4,5), (0,-2), \n",
    "          (-4,7), (-1,3), (-3,2), (-4,-5), (-3,2), \n",
    "          (5,7), (5,7), (2,2), (9, 9), (-8, -9)]\n",
    "\n",
    "flecha_sobre_flecha = 0\n",
    "# Debemos comparar ambos puntos, si ambos fueran iguales entonces la variable flecha sobre flecha aumentaría uno.\n",
    "for a in range(21):\n",
    "    for b in range(a + 1,21):\n",
    "        if puntos[a] == puntos[b]:\n",
    "            flecha_sobre_flecha +=1\n",
    "print(f\"Robin Hood ha conseguido acertar a una flecha con otra flecha en {flecha_sobre_flecha} oportunidades\")\n",
    "print(\"--------------------------------------------------------------------------------\")\n",
    "\n",
    "# Procederemos a ubicar en que cuadrantes han caido las flechas\n",
    "# Q1 = (+,+) Q2 = (-,+). Q3 = (-,-). Q4 = (+,-)\n",
    "\n",
    "# Creamos las variables en la que se irán añadiendo las flechas\n",
    "Q1 = 0\n",
    "Q2 = 0\n",
    "Q3 = 0\n",
    "Q4 = 0\n",
    "\n",
    "for x, y in puntos:\n",
    "    if x> 0 and y >0:\n",
    "        Q1 += 1\n",
    "    elif x<0 and y >0:\n",
    "        Q2 += 1\n",
    "    elif x<=0 and y <0:\n",
    "        Q3 += 1\n",
    "    elif x>0 and y <0:\n",
    "        Q4 += 1\n",
    "        \n",
    "print (\"En el Q1 han caido: {}\".format(Q1))\n",
    "print (\"En el Q2 han caido: {}\".format(Q2))\n",
    "print (\"En el Q3 han caido: {}\".format(Q3))\n",
    "print (\"En el Q4 han caido: {}\".format(Q4))\n",
    "print(\"--------------------------------------------------------------------------------\")\n",
    "\n",
    "# Creamos una funcion que nos devuelva los valores absolutos de nuestros puntos\n",
    "\n",
    "def distancia_centro(x):\n",
    "    dist =(abs(x[0]),abs(x[1]))\n",
    "    return dist\n",
    "\n",
    "# Creamos una lista vacia donde añadiremos los valores para luego ser ordenados y mostrar el menor\n",
    "pto_mas_cercano = []\n",
    "\n",
    "for xs in puntos:\n",
    "    distancia = distancia_centro(xs)\n",
    "    pto_mas_cercano.append(distancia)\n",
    "print(\"El punto mas cercano es {}\".format(sorted(pto_mas_cercano)[0]))\n",
    "print(\"--------------------------------------------------------------------------------\")\n",
    "\n",
    "#Si la diana tiene un radio de 9, calcula el número de flechas que hay que recoger al bosque.\n",
    "\n",
    "flechas_bosque= 0\n",
    "for i in puntos:\n",
    "    if abs(i[0])>= 9 or abs(i[1])>= 9:\n",
    "        flechas_bosque+=1\n",
    "print(\"Si la diana tiene un radio de 9, habrá que recoger {} flechas en el bosque.\".format(flechas_bosque))"
   ]
  },
  {
   "cell_type": "code",
   "execution_count": null,
   "metadata": {},
   "outputs": [],
   "source": []
  }
 ],
 "metadata": {
  "kernelspec": {
   "display_name": "Python 3",
   "language": "python",
   "name": "python3"
  },
  "language_info": {
   "codemirror_mode": {
    "name": "ipython",
    "version": 3
   },
   "file_extension": ".py",
   "mimetype": "text/x-python",
   "name": "python",
   "nbconvert_exporter": "python",
   "pygments_lexer": "ipython3",
   "version": "3.8.5"
  }
 },
 "nbformat": 4,
 "nbformat_minor": 4
}
