{
 "cells": [
  {
   "cell_type": "markdown",
   "metadata": {},
   "source": [
    "# Duelo de magos\n",
    "\n",
    "---------------------------------\n",
    "\n",
    "Estás presenciando una batalla épica entre dos poderosos magos: **Gandalf y Saruman**. Cada mago tiene **10** hechizos de potencia variable en su mente y los van a lanzar uno tras otro. El ganador del duelo será el que gane más de esos choques entre hechizos. Los hechizos se representan como una lista de 10 números enteros cuyo valor equivale a la potencia del hechizo. \n",
    "```\n",
    "gandalf = [10, 11, 13, 30, 22, 11, 10, 33, 22, 22]\n",
    "saruman = [23, 66, 12, 43, 12, 10, 44, 23, 12, 17]\n",
    "```\n",
    "Por ejemplo: \n",
    "1. El primer choque lo gana Saruman: 10 contra 23, gana el 23\n",
    "2. El segundo choque gana Saruman: 11 contra 66, gana el 66\n",
    "3. etc.\n",
    "\n",
    "\n",
    "Vas a crear dos variables, una por cada mago, donde se almacenarán la suma de choques de hechizos ganados. En función de qué variable sea mayor al final del duelo, mostrarás por pantalla uno de los tres siguientes resultados: \n",
    " -  Gandalf gana\n",
    " -  Saruman gana\n",
    " -  Empate\n",
    "\n",
    "## Objetivos\n",
    "\n",
    "1. Tratamiento de listas\n",
    "2. Uso de bucle **for**\n",
    "3. Uso de condicionales **if-elif-else**\n",
    "4. Uso de las funciones **range(), len()**\n",
    "5. Imprimir por consola"
   ]
  },
  {
   "cell_type": "code",
   "execution_count": 7,
   "metadata": {},
   "outputs": [
    {
     "name": "stdout",
     "output_type": "stream",
     "text": [
      "Gandalf ha ganado 6 veces y Saruman ganó 4 veces\n",
      "--------------------------------------------------------\n",
      "El ganador de este duelo ha sido Gandalf con 6 victorias\n",
      "--------------------------------------------------------\n",
      "En el combate los magos han quedado 0 veces igualados\n"
     ]
    }
   ],
   "source": [
    "# Asignamos las listas de hechizos a variables\n",
    "gandalf = [10, 11, 13, 30, 22, 11, 10, 33, 22, 22]\n",
    "saruman = [23, 66, 12, 43, 12, 10, 44, 23, 12, 17]\n",
    "\n",
    "# Asignamos 0 a cada variable que almacena las victorias\n",
    "gandalf_vence = 0\n",
    "saruman_vence = 0\n",
    "empatan = 0\n",
    "\n",
    "# Ejecución de los choques de hechizos\n",
    "\n",
    "# Con el \"range\" se crea una lista inmutable que inicia en 0 \n",
    "# y con el \"len\" obtendremos el número de elementos de una lista\n",
    "# con el bucle for evaluaremos cada uno de los hechizos de los magos, el mago con mayor \"valor\" obtendrá una victoria que \n",
    "# será asignada a la variable \"gandalf_vence\" o \"saruman_vence\", si se produce un empate, el valor se almacenará en la variable\n",
    "# \"empatan\"\n",
    "\n",
    "for i in range(len(gandalf)):\n",
    "    if gandalf[i] > saruman [i]:\n",
    "        gandalf_vence += 1 \n",
    "    elif saruman [i] > gandalf[i]:\n",
    "        saruman_vence += 1\n",
    "    else:\n",
    "        empatan += 1\n",
    "# Comprobamos cuantas veces a vencido cada mago\n",
    "print (f\"Gandalf ha ganado {gandalf_vence} veces y Saruman ganó {saruman_vence} veces\")\n",
    "print(\"--------------------------------------------------------\")\n",
    "# Indicamos el ganador del duelo\n",
    "print(f\"El ganador de este duelo ha sido Gandalf con {gandalf_vence} victorias\")\n",
    "print(\"--------------------------------------------------------\")\n",
    "# De añadirse elementos en las listas que dieran lugar a empates:\n",
    "print (f\"En el combate los magos han quedado {empatan} veces igualados\")"
   ]
  },
  {
   "cell_type": "markdown",
   "metadata": {},
   "source": [
    "--------------------\n",
    "\n",
    "**En caso de querer observar el ganador por cada combate realizado:**\n"
   ]
  },
  {
   "cell_type": "code",
   "execution_count": 9,
   "metadata": {},
   "outputs": [
    {
     "name": "stdout",
     "output_type": "stream",
     "text": [
      "En el choque 1 Gana Saruman \n",
      " -----------------------\n",
      "En el choque 2 Gana Saruman \n",
      " -----------------------\n",
      "En el choque 3 Gana Gandalf \n",
      " -----------------------\n",
      "En el choque 4 Gana Saruman \n",
      " -----------------------\n",
      "En el choque 5 Gana Gandalf \n",
      " -----------------------\n",
      "En el choque 6 Gana Gandalf \n",
      " -----------------------\n",
      "En el choque 7 Gana Saruman \n",
      " -----------------------\n",
      "En el choque 8 Gana Gandalf \n",
      " -----------------------\n",
      "En el choque 9 Gana Gandalf \n",
      " -----------------------\n",
      "En el choque 10 Gana Gandalf \n",
      " -----------------------\n",
      "Gandalf ha ganado 6 veces y Saruman ganó 4 veces\n",
      "--------------------------------------------------------\n",
      "El ganador de este duelo ha sido Gandalf con 6 victorias\n",
      "--------------------------------------------------------\n",
      "En el combate los magos han quedado 0 veces igualados\n"
     ]
    }
   ],
   "source": [
    "# Asignamos las listas de hechizos a variables\n",
    "gandalf = [10, 11, 13, 30, 22, 11, 10, 33, 22, 22]\n",
    "saruman = [23, 66, 12, 43, 12, 10, 44, 23, 12, 17]\n",
    "\n",
    "# Asignamos 0 a cada variable que almacena las victorias\n",
    "gandalf_vence = 0\n",
    "saruman_vence = 0\n",
    "empatan = 0\n",
    "# Ejecución de los choques de hechizos\n",
    "for i in range(len(gandalf)):\n",
    "    if gandalf[i] > saruman [i]:\n",
    "        gandalf_vence += 1 \n",
    "        print(f\"En el choque {i+1} Gana Gandalf \\n -----------------------\")\n",
    "    elif saruman [i] > gandalf[i]:\n",
    "        saruman_vence += 1\n",
    "        print(f\"En el choque {i+1} Gana Saruman \\n -----------------------\")\n",
    "    else:\n",
    "        empatan += 1\n",
    "# Comprobamos cuantas veces a vencido cada mago\n",
    "print (f\"Gandalf ha ganado {gandalf_vence} veces y Saruman ganó {saruman_vence} veces\")\n",
    "print(\"--------------------------------------------------------\")\n",
    "# Indicamos el ganador del duelo\n",
    "print(f\"El ganador de este duelo ha sido Gandalf con {gandalf_vence} victorias\")\n",
    "print(\"--------------------------------------------------------\")\n",
    "# De añadirse elementos en las listas que dieran lugar a empates:\n",
    "print (f\"En el combate los magos han quedado {empatan} veces igualados\")"
   ]
  }
 ],
 "metadata": {
  "kernelspec": {
   "display_name": "Python 3",
   "language": "python",
   "name": "python3"
  },
  "language_info": {
   "codemirror_mode": {
    "name": "ipython",
    "version": 3
   },
   "file_extension": ".py",
   "mimetype": "text/x-python",
   "name": "python",
   "nbconvert_exporter": "python",
   "pygments_lexer": "ipython3",
   "version": "3.8.5"
  }
 },
 "nbformat": 4,
 "nbformat_minor": 4
}
