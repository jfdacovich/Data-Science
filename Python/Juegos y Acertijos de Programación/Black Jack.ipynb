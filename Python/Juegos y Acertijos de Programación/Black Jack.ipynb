{
 "cells": [
  {
   "cell_type": "markdown",
   "metadata": {},
   "source": [
    "## Black Jack"
   ]
  },
  {
   "cell_type": "code",
   "execution_count": 2,
   "metadata": {},
   "outputs": [],
   "source": [
    "import numpy as np"
   ]
  },
  {
   "cell_type": "code",
   "execution_count": 11,
   "metadata": {},
   "outputs": [],
   "source": [
    "cartas = [1,2,3,4,5,6,7,8,9,10,10,10,10]\n",
    "def blackjack(cartas):\n",
    "    croupier = np.random.randint(1,21)\n",
    "    suma = 0\n",
    "    jugar = True\n",
    "    while jugar:\n",
    "        x = np.random.choice(cartas)\n",
    "        print(x)\n",
    "        suma += x\n",
    "        if suma > 21:\n",
    "            print(\"has perdido, tu resultado es: \", suma)\n",
    "            jugar = False\n",
    "        elif suma == 21:\n",
    "            print(\"blackjack! has ganado! tu resultado es: \", suma)\n",
    "            jugar = False\n",
    "        else:\n",
    "            continuar = input(\"Quieres otra carta?: si/no: \")\n",
    "            if continuar ==\"si\":\n",
    "                jugar = True\n",
    "            elif continuar ==\"no\":\n",
    "                jugar = False\n",
    "                if suma > croupier:\n",
    "                    print(\"has ganado a la casa! tu resultado es: \", suma, \"y el de la casa es: \",croupier)\n",
    "                else:\n",
    "                    print(\"la casa gana!, tu resultado es: \",suma,\" y el de la casa es: \",croupier )\n",
    "                    break\n",
    "            else:\n",
    "                continuar = input(\"Por favor, quieres otra carta?: si/no: \")"
   ]
  },
  {
   "cell_type": "code",
   "execution_count": 13,
   "metadata": {},
   "outputs": [
    {
     "name": "stdout",
     "output_type": "stream",
     "text": [
      "2\n",
      "Quieres otra carta?: si/no: si\n",
      "6\n",
      "Quieres otra carta?: si/no: si\n",
      "10\n",
      "Quieres otra carta?: si/no: no\n",
      "has ganado a la casa! tu resultado es:  18 y el de la casa es:  13\n"
     ]
    }
   ],
   "source": [
    "blackjack(cartas)"
   ]
  }
 ],
 "metadata": {
  "kernelspec": {
   "display_name": "Python 3",
   "language": "python",
   "name": "python3"
  },
  "language_info": {
   "codemirror_mode": {
    "name": "ipython",
    "version": 3
   },
   "file_extension": ".py",
   "mimetype": "text/x-python",
   "name": "python",
   "nbconvert_exporter": "python",
   "pygments_lexer": "ipython3",
   "version": "3.7.6"
  }
 },
 "nbformat": 4,
 "nbformat_minor": 4
}
